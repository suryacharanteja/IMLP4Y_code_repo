{
 "cells": [
  {
   "cell_type": "markdown",
   "id": "0e5a2f7c",
   "metadata": {},
   "source": [
    "# z - score method"
   ]
  },
  {
   "cell_type": "markdown",
   "id": "2adea981",
   "metadata": {},
   "source": [
    "### higher z-score indicates a data point that is further away from the mean and is potenitally more likely to be an outlier"
   ]
  },
  {
   "cell_type": "markdown",
   "id": "661d6109",
   "metadata": {},
   "source": [
    "## Data points with z-scores beyond the thresold value are considered outliers"
   ]
  },
  {
   "cell_type": "markdown",
   "id": "54066e18",
   "metadata": {},
   "source": [
    "##### common thresold values \n",
    "+ or - 2\n",
    "+ or - 3"
   ]
  },
  {
   "cell_type": "code",
   "execution_count": 8,
   "id": "fdb5eb41",
   "metadata": {},
   "outputs": [],
   "source": [
    "import pandas as pd"
   ]
  },
  {
   "cell_type": "code",
   "execution_count": 9,
   "id": "a4ad28c0",
   "metadata": {},
   "outputs": [],
   "source": [
    "from scipy.stats import zscore"
   ]
  },
  {
   "cell_type": "code",
   "execution_count": 10,
   "id": "54111ed3",
   "metadata": {},
   "outputs": [],
   "source": [
    "import numpy as np"
   ]
  },
  {
   "cell_type": "code",
   "execution_count": 11,
   "id": "6a8e41ad",
   "metadata": {},
   "outputs": [],
   "source": [
    "# generate a data set or random dataset\n",
    "data = np.random.normal(loc=0, scale=1, size=100)"
   ]
  },
  {
   "cell_type": "code",
   "execution_count": 12,
   "id": "5739be1a",
   "metadata": {},
   "outputs": [
    {
     "data": {
      "text/plain": [
       "array([ 0.46325072,  0.27399555, -0.04832019,  0.70292602,  0.05153739,\n",
       "        0.88639404,  0.22793383, -1.88022306,  0.62680132,  2.46333207,\n",
       "       -1.14510459,  1.18936599,  0.61704378, -0.58734678,  0.90537524,\n",
       "        0.05008877, -1.34125486,  0.71985627,  0.49916478, -0.08138202,\n",
       "       -0.70116854,  0.5235323 ,  0.1203025 ,  0.35858152,  0.96066741,\n",
       "       -0.96021997,  0.77498422, -0.88960339, -0.14146707,  0.6397332 ,\n",
       "       -1.39186294,  0.00445541, -0.83645594, -0.18061594, -0.35385816,\n",
       "       -0.09211754, -2.76436665, -0.64124235, -2.6552746 ,  0.20236574,\n",
       "        1.24736949, -0.12255776, -0.89792812,  0.34246299, -1.08892077,\n",
       "       -0.10344428, -0.92611075,  0.4049973 ,  1.1390449 ,  0.81226251,\n",
       "       -1.01078469, -0.88101189,  0.46774857,  0.3295322 , -0.47634057,\n",
       "       -3.01533887,  1.57382046, -0.55484348, -1.66243198,  0.77833409,\n",
       "        2.18355531, -0.20006816,  1.89015942,  0.71808044, -0.21501535,\n",
       "       -0.88945215,  0.77994181,  0.44083705,  0.63725191,  2.1384115 ,\n",
       "        0.3502244 , -0.39337528,  0.48111998,  2.0864425 , -0.91891132,\n",
       "       -0.66667877,  0.83088329, -0.16807191, -1.40822608, -0.97813751,\n",
       "        0.76199093,  0.49486311, -1.34154443, -1.00771044, -0.45443752,\n",
       "        0.4265691 , -0.07562735, -1.26152577, -0.74608449, -0.06400326,\n",
       "        0.34734294, -0.65987794, -1.42261101, -0.63511063, -1.70096569,\n",
       "        0.06871535, -1.98443507, -0.75540572,  0.15111927,  0.57246983])"
      ]
     },
     "execution_count": 12,
     "metadata": {},
     "output_type": "execute_result"
    }
   ],
   "source": [
    "data"
   ]
  },
  {
   "cell_type": "code",
   "execution_count": 13,
   "id": "1a7049e2",
   "metadata": {},
   "outputs": [],
   "source": [
    "# calculate z-scores\n",
    "z_scores = zscore(data)"
   ]
  },
  {
   "cell_type": "code",
   "execution_count": 7,
   "id": "9bab88ce",
   "metadata": {},
   "outputs": [
    {
     "data": {
      "text/plain": [
       "array([-0.10273775,  1.79161336, -0.58153703,  1.58834658,  0.15187521,\n",
       "       -0.82643924, -0.06092877,  2.10092598,  0.05476958,  0.74156317,\n",
       "        0.06259018,  1.11155902,  0.08892086, -0.8898939 , -0.15273801,\n",
       "        0.15737112,  2.26901026, -0.28535426,  2.63311932,  0.36983088,\n",
       "        2.71457783,  0.89721886, -0.14032669, -0.29834847,  1.62491576,\n",
       "       -0.08494912,  1.63347526,  0.10440736,  0.21676978, -0.79978417,\n",
       "       -0.31250363,  0.68583909,  0.90259352, -1.30750006, -1.37185788,\n",
       "        0.9208436 , -1.24385244, -0.25736316, -0.79830946, -0.13094971,\n",
       "       -0.36829016,  1.89165552,  1.55674894, -2.38847198, -0.94420477,\n",
       "        0.26324842, -0.87751243, -0.40296986, -0.78337768, -0.81750129,\n",
       "        0.26908105, -0.44820251,  0.01633019, -0.37509582,  0.30163558,\n",
       "       -2.53857945, -0.10759447, -0.57170492, -0.41950266,  1.22415423,\n",
       "       -0.08125202, -0.59202477, -0.36551642, -0.4318066 , -0.62677908,\n",
       "       -0.4386965 ,  0.62303353, -0.9401992 , -0.78809142, -0.7052919 ,\n",
       "       -0.04440424, -0.12376087, -1.61222162,  0.0998564 , -0.98203456,\n",
       "       -0.4904456 ,  0.74687694, -0.3592644 ,  0.00624048,  0.32710748,\n",
       "        0.32532606, -0.54461192, -1.000949  , -0.31271933,  0.96823498,\n",
       "        1.88369854, -0.50184625, -0.77711468, -0.44897818, -1.7981865 ,\n",
       "        1.41973959,  0.58517206,  1.3033583 , -0.30318037,  1.00962261,\n",
       "       -1.45101321, -1.14735826, -0.03379043,  0.38486974, -0.43820814])"
      ]
     },
     "execution_count": 7,
     "metadata": {},
     "output_type": "execute_result"
    }
   ],
   "source": [
    "z_scores"
   ]
  },
  {
   "cell_type": "code",
   "execution_count": 8,
   "id": "3600c75b",
   "metadata": {},
   "outputs": [],
   "source": [
    "# set a thresold for identifying outliers\n",
    "thresold = 2"
   ]
  },
  {
   "cell_type": "code",
   "execution_count": 9,
   "id": "f9c1dc03",
   "metadata": {},
   "outputs": [],
   "source": [
    "# identify outliers\n",
    "outliers = data[np.abs(z_scores) > thresold]"
   ]
  },
  {
   "cell_type": "code",
   "execution_count": 10,
   "id": "6e72d933",
   "metadata": {},
   "outputs": [
    {
     "data": {
      "text/plain": [
       "array([ 1.96989069,  2.13532557,  2.49369542,  2.57386996, -2.44874398,\n",
       "       -2.59648541])"
      ]
     },
     "execution_count": 10,
     "metadata": {},
     "output_type": "execute_result"
    }
   ],
   "source": [
    "outliers"
   ]
  },
  {
   "cell_type": "code",
   "execution_count": 16,
   "id": "6b34395a",
   "metadata": {},
   "outputs": [],
   "source": [
    "vol = pd.read_excel(\"./FE_volvo.xlsx\")"
   ]
  },
  {
   "cell_type": "code",
   "execution_count": 17,
   "id": "7de19499",
   "metadata": {},
   "outputs": [
    {
     "name": "stdout",
     "output_type": "stream",
     "text": [
      "     Vehicle Total time (h)  Total distance (km)  Total fuel (l)  \\\n",
      "0     959483       21:03:00               319.44          425.25   \n",
      "1     959619       21:18:00               339.66          444.32   \n",
      "2     959959       20:48:00               346.57          444.42   \n",
      "3     960330       21:31:00               200.30          318.52   \n",
      "4     963913       21:14:00               200.68          278.55   \n",
      "..       ...            ...                  ...             ...   \n",
      "184   966290       20:06:00               514.41          394.76   \n",
      "185   966291       22:00:00               593.26          441.42   \n",
      "186   966292       21:36:00               554.04          428.40   \n",
      "187   966295       21:58:00               563.09          435.15   \n",
      "188   966296       22:16:00               592.34          465.97   \n",
      "\n",
      "     Average fuel (l/100km)  Average AdBlue (l/100km)  \\\n",
      "0                    133.12                      0.00   \n",
      "1                    130.81                      0.00   \n",
      "2                    128.23                      0.00   \n",
      "3                    159.02                      0.00   \n",
      "4                    138.80                     13.64   \n",
      "..                      ...                       ...   \n",
      "184                   76.74                      6.62   \n",
      "185                   74.41                      6.40   \n",
      "186                   77.32                      7.22   \n",
      "187                   77.28                      6.87   \n",
      "188                   78.67                      6.63   \n",
      "\n",
      "     Average speed driving (km/h)  Average brake counter (amount/100km)  \\\n",
      "0                           23.07                                   435   \n",
      "1                           22.87                                   498   \n",
      "2                           23.85                                   441   \n",
      "3                           15.32                                   579   \n",
      "4                           17.65                                   652   \n",
      "..                            ...                                   ...   \n",
      "184                         32.89                                   189   \n",
      "185                         35.33                                   187   \n",
      "186                         32.69                                   201   \n",
      "187                         34.08                                   177   \n",
      "188                         35.08                                   244   \n",
      "\n",
      "     Average stop counter (amount/100km)  PTO time  ...  Top gear time  \\\n",
      "0                                    212     0.046  ...          0.055   \n",
      "1                                    203     0.056  ...          0.057   \n",
      "2                                    177     0.047  ...          0.059   \n",
      "3                                    359     0.062  ...          0.001   \n",
      "4                                    322     0.053  ...          0.046   \n",
      "..                                   ...       ...  ...            ...   \n",
      "184                                   69     0.026  ...          0.207   \n",
      "185                                   67     0.020  ...          0.286   \n",
      "186                                   75     0.028  ...          0.218   \n",
      "187                                   68     0.026  ...          0.256   \n",
      "188                                   65     0.022  ...          0.259   \n",
      "\n",
      "     Engine load time  Engine overrev time  Automatic time  Manual time  \\\n",
      "0               0.153                    0           0.580        0.420   \n",
      "1               0.157                    0           0.810        0.190   \n",
      "2               0.171                    0           0.715        0.285   \n",
      "3               0.050                    0           0.483        0.517   \n",
      "4               0.059                    0           0.001        0.994   \n",
      "..                ...                  ...             ...          ...   \n",
      "184             0.133                    0           0.916        0.084   \n",
      "185             0.156                    0           0.901        0.096   \n",
      "186             0.135                    0           0.968        0.032   \n",
      "187             0.148                    0           0.869        0.110   \n",
      "188             0.164                    0           0.859        0.053   \n",
      "\n",
      "     Power time  Low dist.  Medium dist.  Full dist.       Date  \n",
      "0         0.000      0.001         0.329       0.670 2021-03-02  \n",
      "1         0.000      0.000         0.451       0.549 2021-03-02  \n",
      "2         0.000      0.000         0.000       1.000 2021-03-02  \n",
      "3         0.000      0.024         0.529       0.447 2021-03-02  \n",
      "4         0.004      0.006         0.571       0.423 2021-03-02  \n",
      "..          ...        ...           ...         ...        ...  \n",
      "184       0.000      0.027         0.478       0.495 2021-03-04  \n",
      "185       0.004      0.015         0.488       0.497 2021-03-04  \n",
      "186       0.000      0.000         0.494       0.506 2021-03-04  \n",
      "187       0.021      0.000         0.494       0.506 2021-03-04  \n",
      "188       0.088      0.015         0.478       0.507 2021-03-04  \n",
      "\n",
      "[189 rows x 26 columns]\n"
     ]
    }
   ],
   "source": [
    "print(vol)"
   ]
  },
  {
   "cell_type": "code",
   "execution_count": 34,
   "id": "1435a1c0",
   "metadata": {},
   "outputs": [
    {
     "name": "stdout",
     "output_type": "stream",
     "text": [
      "0     -0.204985\n",
      "1     -0.020951\n",
      "2      0.041942\n",
      "3     -1.289349\n",
      "4     -1.285891\n",
      "         ...   \n",
      "184    1.569554\n",
      "185    2.287215\n",
      "186    1.930250\n",
      "187    2.012619\n",
      "188    2.278841\n",
      "Name: Total distance (km), Length: 189, dtype: float64\n",
      "outliers:      Vehicle Total time (h)  Total distance (km)  Total fuel (l)  \\\n",
      "36    966283       22:11:00               592.98          492.13   \n",
      "38    966285       22:25:00               586.46          483.42   \n",
      "40    966287       22:01:00               595.37          496.10   \n",
      "44    966292       21:39:00               603.62          503.11   \n",
      "131   966283       22:07:00               594.46          458.31   \n",
      "138   966291       22:03:00               601.16          455.45   \n",
      "141   966296       22:20:00               607.73          478.48   \n",
      "182   966287       21:58:00               589.37          450.07   \n",
      "185   966291       22:00:00               593.26          441.42   \n",
      "188   966296       22:16:00               592.34          465.97   \n",
      "\n",
      "     Average fuel (l/100km)  Average AdBlue (l/100km)  \\\n",
      "36                    82.99                      7.06   \n",
      "38                    82.43                      6.97   \n",
      "40                    83.33                      7.40   \n",
      "44                    83.35                      7.37   \n",
      "131                   77.10                      6.85   \n",
      "138                   75.76                      6.57   \n",
      "141                   78.73                      6.50   \n",
      "182                   76.36                      6.82   \n",
      "185                   74.41                      6.40   \n",
      "188                   78.67                      6.63   \n",
      "\n",
      "     Average speed driving (km/h)  Average brake counter (amount/100km)  \\\n",
      "36                          34.28                                   232   \n",
      "38                          32.76                                   193   \n",
      "40                          33.31                                   234   \n",
      "44                          33.85                                   181   \n",
      "131                         35.13                                   217   \n",
      "138                         35.19                                   185   \n",
      "141                         35.38                                   238   \n",
      "182                         34.58                                   236   \n",
      "185                         35.33                                   187   \n",
      "188                         35.08                                   244   \n",
      "\n",
      "     Average stop counter (amount/100km)  PTO time  ...  Top gear time  \\\n",
      "36                                    75     0.022  ...          0.259   \n",
      "38                                    75     0.025  ...          0.316   \n",
      "40                                    70     0.021  ...          0.257   \n",
      "44                                    68     0.022  ...          0.303   \n",
      "131                                   70     0.022  ...          0.259   \n",
      "138                                   73     0.022  ...          0.312   \n",
      "141                                   66     0.022  ...          0.298   \n",
      "182                                   74     0.023  ...          0.274   \n",
      "185                                   67     0.020  ...          0.286   \n",
      "188                                   65     0.022  ...          0.259   \n",
      "\n",
      "     Engine load time  Engine overrev time  Automatic time  Manual time  \\\n",
      "36              0.169                    0           0.885        0.115   \n",
      "38              0.159                    0           0.417        0.583   \n",
      "40              0.163                    0           0.822        0.178   \n",
      "44              0.176                    0           0.837        0.163   \n",
      "131             0.150                    0           0.855        0.145   \n",
      "138             0.155                    0           0.903        0.097   \n",
      "141             0.172                    0           0.872        0.076   \n",
      "182             0.154                    0           0.879        0.121   \n",
      "185             0.156                    0           0.901        0.096   \n",
      "188             0.164                    0           0.859        0.053   \n",
      "\n",
      "     Power time  Low dist.  Medium dist.  Full dist.       Date  \n",
      "36        0.000      0.010         0.488       0.501 2021-03-02  \n",
      "38        0.000      0.050         0.445       0.506 2021-03-02  \n",
      "40        0.000      0.018         0.483       0.499 2021-03-02  \n",
      "44        0.000      0.006         0.496       0.498 2021-03-02  \n",
      "131       0.000      0.009         0.493       0.498 2021-03-03  \n",
      "138       0.000      0.041         0.463       0.496 2021-03-03  \n",
      "141       0.052      0.021         0.472       0.507 2021-03-03  \n",
      "182       0.000      0.000         0.507       0.493 2021-03-04  \n",
      "185       0.004      0.015         0.488       0.497 2021-03-04  \n",
      "188       0.088      0.015         0.478       0.507 2021-03-04  \n",
      "\n",
      "[10 rows x 26 columns]\n"
     ]
    },
    {
     "data": {
      "image/png": "[encoded data removed]",
      "text/plain": [
       "<Figure size 640x480 with 1 Axes>"
      ]
     },
     "metadata": {},
     "output_type": "display_data"
    }
   ],
   "source": [
    "import matplotlib.pyplot as plt\n",
    "plt.hist(vol[\"Total distance (km)\"])\n",
    "z_scores_km = zscore(vol[\"Total distance (km)\"])\n",
    "print(z_scores_km)\n",
    "thresold = 2.2\n",
    "# identify outliers\n",
    "outliers = vol[np.abs(z_scores_km) > thresold]\n",
    "print('outliers:', outliers)"
   ]
  },
  {
   "cell_type": "code",
   "execution_count": 20,
   "id": "93da95a0",
   "metadata": {},
   "outputs": [
    {
     "data": {
      "text/plain": [
       "Index(['Vehicle', 'Total time (h)', 'Total distance (km)', 'Total fuel (l)',\n",
       "       'Average fuel (l/100km)', 'Average AdBlue (l/100km)',\n",
       "       'Average speed driving (km/h)', 'Average brake counter (amount/100km)',\n",
       "       'Average stop counter (amount/100km)', 'PTO time', 'Idling time',\n",
       "       'Within economy time', 'Above economy time', 'Coasting time',\n",
       "       'Cruise control time', 'Vehicle overspeed (Fleet Limit)',\n",
       "       'Top gear time', 'Engine load time', 'Engine overrev time',\n",
       "       'Automatic time', 'Manual time', 'Power time', 'Low dist.',\n",
       "       'Medium dist.', 'Full dist.', 'Date'],\n",
       "      dtype='object')"
      ]
     },
     "execution_count": 20,
     "metadata": {},
     "output_type": "execute_result"
    }
   ],
   "source": [
    "vol.columns"
   ]
  },
  {
   "cell_type": "code",
   "execution_count": 21,
   "id": "9c5f2f56",
   "metadata": {},
   "outputs": [
    {
     "data": {
      "text/plain": [
       "(array([ 2.,  1.,  1.,  5., 20., 56., 41., 28., 22., 13.]),\n",
       " array([110.95 , 150.166, 189.382, 228.598, 267.814, 307.03 , 346.246,\n",
       "        385.462, 424.678, 463.894, 503.11 ]),\n",
       " <BarContainer object of 10 artists>)"
      ]
     },
     "execution_count": 21,
     "metadata": {},
     "output_type": "execute_result"
    },
    {
     "data": {
      "image/png": "[encoded data removed]",
      "text/plain": [
       "<Figure size 640x480 with 1 Axes>"
      ]
     },
     "metadata": {},
     "output_type": "display_data"
    }
   ],
   "source": [
    "plt.hist(vol[\"Total fuel (l)\"])"
   ]
  },
  {
   "cell_type": "code",
   "execution_count": 22,
   "id": "524f4363",
   "metadata": {},
   "outputs": [
    {
     "data": {
      "text/plain": [
       "(array([26.,  9.,  6., 20., 63., 43.,  8.,  8.,  4.,  2.]),\n",
       " array([ 74.41 ,  82.917,  91.424,  99.931, 108.438, 116.945, 125.452,\n",
       "        133.959, 142.466, 150.973, 159.48 ]),\n",
       " <BarContainer object of 10 artists>)"
      ]
     },
     "execution_count": 22,
     "metadata": {},
     "output_type": "execute_result"
    },
    {
     "data": {
      "image/png": "[encoded data removed]",
      "text/plain": [
       "<Figure size 640x480 with 1 Axes>"
      ]
     },
     "metadata": {},
     "output_type": "display_data"
    }
   ],
   "source": [
    "plt.hist(vol[\"Average fuel (l/100km)\"])"
   ]
  },
  {
   "cell_type": "code",
   "execution_count": 31,
   "id": "db09cf77",
   "metadata": {},
   "outputs": [
    {
     "data": {
      "text/plain": [
       "(array([16., 18.,  6., 25., 62., 29., 20., 11.,  1.,  1.]),\n",
       " array([143., 211., 279., 347., 415., 483., 551., 619., 687., 755., 823.]),\n",
       " <BarContainer object of 10 artists>)"
      ]
     },
     "execution_count": 31,
     "metadata": {},
     "output_type": "execute_result"
    },
    {
     "data": {
      "image/png": "[encoded data removed]",
      "text/plain": [
       "<Figure size 640x480 with 1 Axes>"
      ]
     },
     "metadata": {},
     "output_type": "display_data"
    }
   ],
   "source": [
    "plt.hist(vol[\"Average brake counter (amount/100km)\"])"
   ]
  },
  {
   "cell_type": "code",
   "execution_count": 32,
   "id": "4998d5f4",
   "metadata": {},
   "outputs": [
    {
     "data": {
      "text/plain": [
       "(array([ 6., 20., 13., 20., 32., 34., 40., 14.,  8.,  2.]),\n",
       " array([0.155, 0.187, 0.219, 0.251, 0.283, 0.315, 0.347, 0.379, 0.411,\n",
       "        0.443, 0.475]),\n",
       " <BarContainer object of 10 artists>)"
      ]
     },
     "execution_count": 32,
     "metadata": {},
     "output_type": "execute_result"
    },
    {
     "data": {
      "image/png": "[encoded data removed]",
      "text/plain": [
       "<Figure size 640x480 with 1 Axes>"
      ]
     },
     "metadata": {},
     "output_type": "display_data"
    }
   ],
   "source": [
    "plt.hist(vol[\"Idling time\"])"
   ]
  },
  {
   "cell_type": "markdown",
   "id": "f410945b",
   "metadata": {},
   "source": [
    "# IQR method"
   ]
  },
  {
   "cell_type": "markdown",
   "id": "e3c2717e",
   "metadata": {},
   "source": [
    "##### data points that fall outside of this IQR range are considered potential outliers"
   ]
  },
  {
   "cell_type": "code",
   "execution_count": null,
   "id": "a86ec7f1",
   "metadata": {},
   "outputs": [],
   "source": [
    "thresold  = multiple of IQR\n",
    "thresold = 1.5 or 3 times of the IQR"
   ]
  },
  {
   "cell_type": "markdown",
   "id": "d678d538",
   "metadata": {},
   "source": [
    "## any point that falls above or below of this thresold are considered as outliers"
   ]
  },
  {
   "cell_type": "code",
   "execution_count": 9,
   "id": "61dddc2e",
   "metadata": {},
   "outputs": [],
   "source": [
    "import numpy as np"
   ]
  },
  {
   "cell_type": "code",
   "execution_count": 10,
   "id": "4e9f2545",
   "metadata": {},
   "outputs": [],
   "source": [
    "data = np.random.normal(loc=0, scale=1, size=100)"
   ]
  },
  {
   "cell_type": "code",
   "execution_count": 11,
   "id": "f3049ddc",
   "metadata": {},
   "outputs": [
    {
     "data": {
      "text/plain": [
       "array([ 1.31241859e+00, -4.45313914e-01,  1.25660397e+00,  2.61130419e-01,\n",
       "       -2.69079313e+00,  6.09270200e-01,  3.54485699e-01, -6.85779299e-01,\n",
       "        3.52626945e-01,  9.33639218e-01, -1.07141139e+00, -2.51886275e-01,\n",
       "        5.06552444e-01,  5.71077107e-01, -1.23041687e+00, -7.69299553e-01,\n",
       "        5.72209643e-01, -9.63173158e-01,  5.45566914e-01, -5.08994771e-01,\n",
       "       -9.90880533e-01,  9.53987143e-02, -9.13850800e-01, -6.36723184e-02,\n",
       "        1.60302859e+00,  1.13229026e+00, -5.24634975e-01, -2.94179180e-01,\n",
       "       -4.54003975e-01, -8.38806537e-01, -1.07676106e+00,  1.90789267e+00,\n",
       "        3.43020917e-01,  7.16422754e-01,  4.81312682e-01,  5.34845290e-01,\n",
       "        6.29291641e-02,  1.17594846e-01, -2.20962740e-01, -1.22753227e+00,\n",
       "       -1.85422696e+00,  8.16088717e-01, -8.60127479e-01, -1.28291766e+00,\n",
       "       -1.51086968e+00,  1.95815597e+00, -4.25778550e-01,  2.00958627e+00,\n",
       "       -1.17021741e-01, -1.80313311e+00, -6.81901225e-01, -1.02655244e+00,\n",
       "       -7.10332117e-02, -3.66214708e-01, -5.21802111e-01, -7.15008796e-01,\n",
       "        2.66936613e-03,  3.58167597e-01, -6.68868655e-01,  2.95032618e+00,\n",
       "        2.88985778e-01, -1.31577619e-01, -1.21535805e-02, -1.13393201e-01,\n",
       "        6.31216929e-01, -8.16407941e-02, -3.01341094e-01, -1.85368777e+00,\n",
       "        8.16115346e-01,  2.98162757e-01, -3.34748828e-01,  1.38765368e+00,\n",
       "       -3.07516020e-01,  2.32843217e-01, -9.54942494e-01, -1.13865091e-01,\n",
       "        6.92091635e-01,  3.80498241e-02,  4.80239840e-01,  1.10085923e-01,\n",
       "        7.69843479e-01, -1.90876223e-01,  1.23703643e+00, -1.32994123e-01,\n",
       "       -2.48941136e-01, -9.17194640e-01,  1.65667404e+00,  5.97012815e-01,\n",
       "        1.07775558e+00, -1.29497386e+00,  1.73903074e+00,  1.53054602e-01,\n",
       "       -5.92454360e-01, -4.86187901e-01, -1.67969639e+00, -1.21765307e+00,\n",
       "       -1.84052475e+00, -1.88534258e-01,  6.71988568e-01, -1.81085779e+00])"
      ]
     },
     "execution_count": 11,
     "metadata": {},
     "output_type": "execute_result"
    }
   ],
   "source": [
    "data"
   ]
  },
  {
   "cell_type": "code",
   "execution_count": 8,
   "id": "a596d522",
   "metadata": {},
   "outputs": [
    {
     "name": "stdout",
     "output_type": "stream",
     "text": [
      "82.0 83.5 86.0 88.5\n"
     ]
    }
   ],
   "source": [
    "import numpy as np\n",
    "marks = np.arange(81, 92, 1)\n",
    "ten = np.percentile(marks, 10)\n",
    "twenfif = np.percentile(marks, 25)\n",
    "fif = np.percentile(marks, 50)\n",
    "nin = np.percentile(marks, 75)\n",
    "print(ten, twenfif, fif, nin)\n"
   ]
  },
  {
   "cell_type": "code",
   "execution_count": 14,
   "id": "d174a62f",
   "metadata": {},
   "outputs": [],
   "source": [
    "# calculate the 25th percentile (Q1)\n",
    "Q1 = np.percentile(data, 25)"
   ]
  },
  {
   "cell_type": "code",
   "execution_count": 15,
   "id": "e0119e2a",
   "metadata": {},
   "outputs": [
    {
     "data": {
      "text/plain": [
       "-0.6930866731082354"
      ]
     },
     "execution_count": 15,
     "metadata": {},
     "output_type": "execute_result"
    }
   ],
   "source": [
    "Q1"
   ]
  },
  {
   "cell_type": "code",
   "execution_count": 16,
   "id": "ab8eac04",
   "metadata": {},
   "outputs": [],
   "source": [
    "# calculate the 75th percentile (Q3)\n",
    "Q3 = np.percentile(data, 75)"
   ]
  },
  {
   "cell_type": "code",
   "execution_count": 17,
   "id": "4bf7f5fa",
   "metadata": {},
   "outputs": [
    {
     "data": {
      "text/plain": [
       "0.5519444620702574"
      ]
     },
     "execution_count": 17,
     "metadata": {},
     "output_type": "execute_result"
    }
   ],
   "source": [
    "Q3"
   ]
  },
  {
   "cell_type": "code",
   "execution_count": 18,
   "id": "4bab5234",
   "metadata": {},
   "outputs": [],
   "source": [
    "# calculate the IQR\n",
    "IQR = Q3 - Q1"
   ]
  },
  {
   "cell_type": "code",
   "execution_count": 19,
   "id": "03e773fb",
   "metadata": {},
   "outputs": [
    {
     "data": {
      "text/plain": [
       "1.2450311351784928"
      ]
     },
     "execution_count": 19,
     "metadata": {},
     "output_type": "execute_result"
    }
   ],
   "source": [
    "IQR"
   ]
  },
  {
   "cell_type": "code",
   "execution_count": 20,
   "id": "a6ac54e9",
   "metadata": {},
   "outputs": [],
   "source": [
    "# set a thresold for identifying outliers\n",
    "thresold = 1.5 * IQR"
   ]
  },
  {
   "cell_type": "code",
   "execution_count": 21,
   "id": "e220ec49",
   "metadata": {},
   "outputs": [
    {
     "data": {
      "text/plain": [
       "1.9725733550556177"
      ]
     },
     "execution_count": 21,
     "metadata": {},
     "output_type": "execute_result"
    }
   ],
   "source": [
    "thresold"
   ]
  },
  {
   "cell_type": "code",
   "execution_count": 26,
   "id": "f8c89ba3",
   "metadata": {},
   "outputs": [],
   "source": [
    "# Identify outliers\n",
    "outliers = data[(data < (Q1 - thresold)) | (data > (Q3 + thresold))]"
   ]
  },
  {
   "cell_type": "code",
   "execution_count": 27,
   "id": "d5516b5b",
   "metadata": {},
   "outputs": [
    {
     "data": {
      "text/plain": [
       "array([3.09769093])"
      ]
     },
     "execution_count": 27,
     "metadata": {},
     "output_type": "execute_result"
    }
   ],
   "source": [
    "outliers"
   ]
  },
  {
   "cell_type": "code",
   "execution_count": 46,
   "id": "d8a75787",
   "metadata": {},
   "outputs": [
    {
     "name": "stdout",
     "output_type": "stream",
     "text": [
      "79.37 102.15 112.96 118.6 16.44999999999999\n"
     ]
    }
   ],
   "source": [
    "import pandas as pd\n",
    "data = pd.read_excel(\"./FE_volvo.xlsx\")\n",
    "arr = np.array(data[\"Average fuel (l/100km)\"])\n",
    "per10 = np.percentile(arr, 10)\n",
    "per25 = np.percentile(arr, 25)\n",
    "per50 = np.percentile(arr, 50)\n",
    "per75 = np.percentile(arr, 75)\n",
    "IQR = per75 - per25\n",
    "thresold = 1.5*IQR\n",
    "\n",
    "print(per10, per25, per50, per75, IQR)"
   ]
  },
  {
   "cell_type": "code",
   "execution_count": 59,
   "id": "0a5ca65f",
   "metadata": {},
   "outputs": [
    {
     "name": "stdout",
     "output_type": "stream",
     "text": [
      "[159.02  76.04 145.45 148.38  77.1   75.76  77.03 159.48 143.91  76.55\n",
      "  77.2   76.36  76.74  74.41  77.32  77.28]\n"
     ]
    },
    {
     "data": {
      "image/png": "[encoded data removed]",
      "text/plain": [
       "<Figure size 640x480 with 1 Axes>"
      ]
     },
     "metadata": {},
     "output_type": "display_data"
    },
    {
     "name": "stdout",
     "output_type": "stream",
     "text": [
      "109.84169312169313\n"
     ]
    }
   ],
   "source": [
    "# Identify outliers\n",
    "outliers = arr[(arr < (per25 - thresold)) | (arr > (per75 + thresold))]\n",
    "print(outliers)\n",
    "\n",
    "import matplotlib.pyplot as plt\n",
    "plt.boxplot(data[\"Average fuel (l/100km)\"])\n",
    "plt.show()\n",
    "print(arr.mean())"
   ]
  },
  {
   "cell_type": "code",
   "execution_count": 58,
   "id": "ac20585e",
   "metadata": {},
   "outputs": [
    {
     "data": {
      "image/png": "[encoded data removed]",
      "text/plain": [
       "<Figure size 640x480 with 1 Axes>"
      ]
     },
     "metadata": {},
     "output_type": "display_data"
    }
   ],
   "source": [
    "import matplotlib.pyplot as plt\n",
    "plt.boxplot(data[\"Idling time\"])\n",
    "plt.show()\n"
   ]
  },
  {
   "cell_type": "markdown",
   "id": "72c15c14",
   "metadata": {},
   "source": [
    "# Box-plot"
   ]
  },
  {
   "cell_type": "code",
   "execution_count": 28,
   "id": "42dd1ca5",
   "metadata": {},
   "outputs": [],
   "source": [
    "import matplotlib.pyplot as plt"
   ]
  },
  {
   "cell_type": "code",
   "execution_count": 35,
   "id": "2f8b19aa",
   "metadata": {},
   "outputs": [],
   "source": [
    "# generate a random dataset\n",
    "data = [-334, 10, 15, 20, 25, 30, 35, 40, 45, 50, 55, 60, 70, 80, 90, 100, 200, 300, 400, 500]"
   ]
  },
  {
   "cell_type": "code",
   "execution_count": 33,
   "id": "4a21eca4",
   "metadata": {},
   "outputs": [
    {
     "data": {
      "text/plain": [
       "[-33434,\n",
       " 10,\n",
       " 15,\n",
       " 20,\n",
       " 25,\n",
       " 30,\n",
       " 35,\n",
       " 40,\n",
       " 45,\n",
       " 50,\n",
       " 55,\n",
       " 60,\n",
       " 70,\n",
       " 80,\n",
       " 90,\n",
       " 100,\n",
       " 200,\n",
       " 300,\n",
       " 400,\n",
       " 500]"
      ]
     },
     "execution_count": 33,
     "metadata": {},
     "output_type": "execute_result"
    }
   ],
   "source": [
    "data"
   ]
  },
  {
   "cell_type": "code",
   "execution_count": 37,
   "id": "54d6e7ab",
   "metadata": {},
   "outputs": [
    {
     "data": {
      "image/png": "[encoded data removed]",
      "text/plain": [
       "<Figure size 640x480 with 1 Axes>"
      ]
     },
     "metadata": {},
     "output_type": "display_data"
    }
   ],
   "source": [
    "# create a box plot for this data\n",
    "plt.boxplot(data)\n",
    "\n",
    "plt.xlabel('Dataset')\n",
    "plt.ylabel('Values')\n",
    "plt.title('Box Whisker plot to detect outliers')\n",
    "\n",
    "plt.show()"
   ]
  },
  {
   "cell_type": "code",
   "execution_count": 38,
   "id": "f8b07dbb",
   "metadata": {},
   "outputs": [],
   "source": [
    "# create a sample dataset\n",
    "np.random.seed(0)"
   ]
  },
  {
   "cell_type": "code",
   "execution_count": 40,
   "id": "26d80cc6",
   "metadata": {},
   "outputs": [],
   "source": [
    "data1 = np.random.normal(loc=0, scale=1, size=(100,))"
   ]
  },
  {
   "cell_type": "code",
   "execution_count": 41,
   "id": "813713c1",
   "metadata": {},
   "outputs": [
    {
     "data": {
      "text/plain": [
       "array([ 1.76405235,  0.40015721,  0.97873798,  2.2408932 ,  1.86755799,\n",
       "       -0.97727788,  0.95008842, -0.15135721, -0.10321885,  0.4105985 ,\n",
       "        0.14404357,  1.45427351,  0.76103773,  0.12167502,  0.44386323,\n",
       "        0.33367433,  1.49407907, -0.20515826,  0.3130677 , -0.85409574,\n",
       "       -2.55298982,  0.6536186 ,  0.8644362 , -0.74216502,  2.26975462,\n",
       "       -1.45436567,  0.04575852, -0.18718385,  1.53277921,  1.46935877,\n",
       "        0.15494743,  0.37816252, -0.88778575, -1.98079647, -0.34791215,\n",
       "        0.15634897,  1.23029068,  1.20237985, -0.38732682, -0.30230275,\n",
       "       -1.04855297, -1.42001794, -1.70627019,  1.9507754 , -0.50965218,\n",
       "       -0.4380743 , -1.25279536,  0.77749036, -1.61389785, -0.21274028,\n",
       "       -0.89546656,  0.3869025 , -0.51080514, -1.18063218, -0.02818223,\n",
       "        0.42833187,  0.06651722,  0.3024719 , -0.63432209, -0.36274117,\n",
       "       -0.67246045, -0.35955316, -0.81314628, -1.7262826 ,  0.17742614,\n",
       "       -0.40178094, -1.63019835,  0.46278226, -0.90729836,  0.0519454 ,\n",
       "        0.72909056,  0.12898291,  1.13940068, -1.23482582,  0.40234164,\n",
       "       -0.68481009, -0.87079715, -0.57884966, -0.31155253,  0.05616534,\n",
       "       -1.16514984,  0.90082649,  0.46566244, -1.53624369,  1.48825219,\n",
       "        1.89588918,  1.17877957, -0.17992484, -1.07075262,  1.05445173,\n",
       "       -0.40317695,  1.22244507,  0.20827498,  0.97663904,  0.3563664 ,\n",
       "        0.70657317,  0.01050002,  1.78587049,  0.12691209,  0.40198936])"
      ]
     },
     "execution_count": 41,
     "metadata": {},
     "output_type": "execute_result"
    }
   ],
   "source": [
    "data1"
   ]
  },
  {
   "cell_type": "code",
   "execution_count": 43,
   "id": "b161344e",
   "metadata": {},
   "outputs": [
    {
     "data": {
      "text/plain": [
       "{'whiskers': [<matplotlib.lines.Line2D at 0x1b2096d5750>,\n",
       "  <matplotlib.lines.Line2D at 0x1b2096d6110>],\n",
       " 'caps': [<matplotlib.lines.Line2D at 0x1b2096d69d0>,\n",
       "  <matplotlib.lines.Line2D at 0x1b2096d71d0>],\n",
       " 'boxes': [<matplotlib.lines.Line2D at 0x1b2075c1a90>],\n",
       " 'medians': [<matplotlib.lines.Line2D at 0x1b2096d7a10>],\n",
       " 'fliers': [<matplotlib.lines.Line2D at 0x1b2096e4290>],\n",
       " 'means': []}"
      ]
     },
     "execution_count": 43,
     "metadata": {},
     "output_type": "execute_result"
    },
    {
     "data": {
      "image/png": "[encoded data removed]",
      "text/plain": [
       "<Figure size 640x480 with 1 Axes>"
      ]
     },
     "metadata": {},
     "output_type": "display_data"
    }
   ],
   "source": [
    "# create a box plot\n",
    "plt.boxplot(data1)"
   ]
  },
  {
   "cell_type": "code",
   "execution_count": 44,
   "id": "4f96747e",
   "metadata": {},
   "outputs": [],
   "source": [
    "players = pd.read_csv(\"./Soccer_players_data1.csv\")"
   ]
  },
  {
   "cell_type": "code",
   "execution_count": 45,
   "id": "8b3b1b23",
   "metadata": {},
   "outputs": [
    {
     "data": {
      "text/plain": [
       "Index(['Second name', 'First name', 'Gender', 'Height(cm)', 'Weight(kg)',\n",
       "       'Country/Team'],\n",
       "      dtype='object')"
      ]
     },
     "execution_count": 45,
     "metadata": {},
     "output_type": "execute_result"
    }
   ],
   "source": [
    "players.columns"
   ]
  },
  {
   "cell_type": "code",
   "execution_count": 46,
   "id": "1a3e7d51",
   "metadata": {},
   "outputs": [
    {
     "data": {
      "text/plain": [
       "{'whiskers': [<matplotlib.lines.Line2D at 0x1b20985bd10>,\n",
       "  <matplotlib.lines.Line2D at 0x1b209858810>],\n",
       " 'caps': [<matplotlib.lines.Line2D at 0x1b209859c50>,\n",
       "  <matplotlib.lines.Line2D at 0x1b20984c8d0>],\n",
       " 'boxes': [<matplotlib.lines.Line2D at 0x1b2099ed650>],\n",
       " 'medians': [<matplotlib.lines.Line2D at 0x1b20984e8d0>],\n",
       " 'fliers': [<matplotlib.lines.Line2D at 0x1b20984fdd0>],\n",
       " 'means': []}"
      ]
     },
     "execution_count": 46,
     "metadata": {},
     "output_type": "execute_result"
    },
    {
     "data": {
      "image/png": "[encoded data removed]",
      "text/plain": [
       "<Figure size 640x480 with 1 Axes>"
      ]
     },
     "metadata": {},
     "output_type": "display_data"
    }
   ],
   "source": [
    "plt.boxplot(players[\"Height(cm)\"])"
   ]
  },
  {
   "cell_type": "code",
   "execution_count": 47,
   "id": "d4672321",
   "metadata": {},
   "outputs": [
    {
     "data": {
      "text/plain": [
       "{'whiskers': [<matplotlib.lines.Line2D at 0x1b2098a4bd0>,\n",
       "  <matplotlib.lines.Line2D at 0x1b2098a6810>],\n",
       " 'caps': [<matplotlib.lines.Line2D at 0x1b2098a6d90>,\n",
       "  <matplotlib.lines.Line2D at 0x1b205625790>],\n",
       " 'boxes': [<matplotlib.lines.Line2D at 0x1b2098a61d0>],\n",
       " 'medians': [<matplotlib.lines.Line2D at 0x1b20b915b10>],\n",
       " 'fliers': [<matplotlib.lines.Line2D at 0x1b209808450>],\n",
       " 'means': []}"
      ]
     },
     "execution_count": 47,
     "metadata": {},
     "output_type": "execute_result"
    },
    {
     "data": {
      "image/png": "[encoded data removed]",
      "text/plain": [
       "<Figure size 640x480 with 1 Axes>"
      ]
     },
     "metadata": {},
     "output_type": "display_data"
    }
   ],
   "source": [
    "plt.boxplot(players[\"Weight(kg)\"])"
   ]
  },
  {
   "cell_type": "code",
   "execution_count": 48,
   "id": "186b9f52",
   "metadata": {},
   "outputs": [],
   "source": [
    "customers = pd.read_csv(\"./customer_shopping_data.csv\")"
   ]
  },
  {
   "cell_type": "code",
   "execution_count": 49,
   "id": "e5a63342",
   "metadata": {
    "scrolled": true
   },
   "outputs": [
    {
     "data": {
      "text/html": [
       "<div>\n",
       "<style scoped>\n",
       "    .dataframe tbody tr th:only-of-type {\n",
       "        vertical-align: middle;\n",
       "    }\n",
       "\n",
       "    .dataframe tbody tr th {\n",
       "        vertical-align: top;\n",
       "    }\n",
       "\n",
       "    .dataframe thead th {\n",
       "        text-align: right;\n",
       "    }\n",
       "</style>\n",
       "<table border=\"1\" class=\"dataframe\">\n",
       "  <thead>\n",
       "    <tr style=\"text-align: right;\">\n",
       "      <th></th>\n",
       "      <th>invoice_no</th>\n",
       "      <th>customer_id</th>\n",
       "      <th>gender</th>\n",
       "      <th>age</th>\n",
       "      <th>category</th>\n",
       "      <th>quantity</th>\n",
       "      <th>price</th>\n",
       "      <th>payment_method</th>\n",
       "      <th>invoice_date</th>\n",
       "      <th>shopping_mall</th>\n",
       "    </tr>\n",
       "  </thead>\n",
       "  <tbody>\n",
       "    <tr>\n",
       "      <th>0</th>\n",
       "      <td>I138884</td>\n",
       "      <td>C241288</td>\n",
       "      <td>Female</td>\n",
       "      <td>28</td>\n",
       "      <td>Clothing</td>\n",
       "      <td>5</td>\n",
       "      <td>1500.40</td>\n",
       "      <td>Credit Card</td>\n",
       "      <td>05-08-2022</td>\n",
       "      <td>Kanyon</td>\n",
       "    </tr>\n",
       "    <tr>\n",
       "      <th>1</th>\n",
       "      <td>I317333</td>\n",
       "      <td>C111565</td>\n",
       "      <td>Male</td>\n",
       "      <td>21</td>\n",
       "      <td>Shoes</td>\n",
       "      <td>3</td>\n",
       "      <td>1800.51</td>\n",
       "      <td>Debit Card</td>\n",
       "      <td>12-12-2021</td>\n",
       "      <td>Forum Istanbul</td>\n",
       "    </tr>\n",
       "    <tr>\n",
       "      <th>2</th>\n",
       "      <td>I127801</td>\n",
       "      <td>C266599</td>\n",
       "      <td>Male</td>\n",
       "      <td>20</td>\n",
       "      <td>Clothing</td>\n",
       "      <td>1</td>\n",
       "      <td>300.08</td>\n",
       "      <td>Cash</td>\n",
       "      <td>09-11-2021</td>\n",
       "      <td>Metrocity</td>\n",
       "    </tr>\n",
       "    <tr>\n",
       "      <th>3</th>\n",
       "      <td>I173702</td>\n",
       "      <td>C988172</td>\n",
       "      <td>Female</td>\n",
       "      <td>66</td>\n",
       "      <td>Shoes</td>\n",
       "      <td>5</td>\n",
       "      <td>3000.85</td>\n",
       "      <td>Credit Card</td>\n",
       "      <td>16-05-2021</td>\n",
       "      <td>Metropol AVM</td>\n",
       "    </tr>\n",
       "    <tr>\n",
       "      <th>4</th>\n",
       "      <td>I337046</td>\n",
       "      <td>C189076</td>\n",
       "      <td>Female</td>\n",
       "      <td>53</td>\n",
       "      <td>Books</td>\n",
       "      <td>4</td>\n",
       "      <td>60.60</td>\n",
       "      <td>Cash</td>\n",
       "      <td>24-10-2021</td>\n",
       "      <td>Kanyon</td>\n",
       "    </tr>\n",
       "    <tr>\n",
       "      <th>...</th>\n",
       "      <td>...</td>\n",
       "      <td>...</td>\n",
       "      <td>...</td>\n",
       "      <td>...</td>\n",
       "      <td>...</td>\n",
       "      <td>...</td>\n",
       "      <td>...</td>\n",
       "      <td>...</td>\n",
       "      <td>...</td>\n",
       "      <td>...</td>\n",
       "    </tr>\n",
       "    <tr>\n",
       "      <th>99452</th>\n",
       "      <td>I219422</td>\n",
       "      <td>C441542</td>\n",
       "      <td>Female</td>\n",
       "      <td>45</td>\n",
       "      <td>Souvenir</td>\n",
       "      <td>5</td>\n",
       "      <td>58.65</td>\n",
       "      <td>Credit Card</td>\n",
       "      <td>21-09-2022</td>\n",
       "      <td>Kanyon</td>\n",
       "    </tr>\n",
       "    <tr>\n",
       "      <th>99453</th>\n",
       "      <td>I325143</td>\n",
       "      <td>C569580</td>\n",
       "      <td>Male</td>\n",
       "      <td>27</td>\n",
       "      <td>Food &amp; Beverage</td>\n",
       "      <td>2</td>\n",
       "      <td>10.46</td>\n",
       "      <td>Cash</td>\n",
       "      <td>22-09-2021</td>\n",
       "      <td>Forum Istanbul</td>\n",
       "    </tr>\n",
       "    <tr>\n",
       "      <th>99454</th>\n",
       "      <td>I824010</td>\n",
       "      <td>C103292</td>\n",
       "      <td>Male</td>\n",
       "      <td>63</td>\n",
       "      <td>Food &amp; Beverage</td>\n",
       "      <td>2</td>\n",
       "      <td>10.46</td>\n",
       "      <td>Debit Card</td>\n",
       "      <td>28-03-2021</td>\n",
       "      <td>Metrocity</td>\n",
       "    </tr>\n",
       "    <tr>\n",
       "      <th>99455</th>\n",
       "      <td>I702964</td>\n",
       "      <td>C800631</td>\n",
       "      <td>Male</td>\n",
       "      <td>56</td>\n",
       "      <td>Technology</td>\n",
       "      <td>4</td>\n",
       "      <td>4200.00</td>\n",
       "      <td>Cash</td>\n",
       "      <td>16-03-2021</td>\n",
       "      <td>Istinye Park</td>\n",
       "    </tr>\n",
       "    <tr>\n",
       "      <th>99456</th>\n",
       "      <td>I232867</td>\n",
       "      <td>C273973</td>\n",
       "      <td>Female</td>\n",
       "      <td>36</td>\n",
       "      <td>Souvenir</td>\n",
       "      <td>3</td>\n",
       "      <td>35.19</td>\n",
       "      <td>Credit Card</td>\n",
       "      <td>15-10-2022</td>\n",
       "      <td>Mall of Istanbul</td>\n",
       "    </tr>\n",
       "  </tbody>\n",
       "</table>\n",
       "<p>99457 rows × 10 columns</p>\n",
       "</div>"
      ],
      "text/plain": [
       "      invoice_no customer_id  gender  age         category  quantity    price  \\\n",
       "0        I138884     C241288  Female   28         Clothing         5  1500.40   \n",
       "1        I317333     C111565    Male   21            Shoes         3  1800.51   \n",
       "2        I127801     C266599    Male   20         Clothing         1   300.08   \n",
       "3        I173702     C988172  Female   66            Shoes         5  3000.85   \n",
       "4        I337046     C189076  Female   53            Books         4    60.60   \n",
       "...          ...         ...     ...  ...              ...       ...      ...   \n",
       "99452    I219422     C441542  Female   45         Souvenir         5    58.65   \n",
       "99453    I325143     C569580    Male   27  Food & Beverage         2    10.46   \n",
       "99454    I824010     C103292    Male   63  Food & Beverage         2    10.46   \n",
       "99455    I702964     C800631    Male   56       Technology         4  4200.00   \n",
       "99456    I232867     C273973  Female   36         Souvenir         3    35.19   \n",
       "\n",
       "      payment_method invoice_date     shopping_mall  \n",
       "0        Credit Card   05-08-2022            Kanyon  \n",
       "1         Debit Card   12-12-2021    Forum Istanbul  \n",
       "2               Cash   09-11-2021         Metrocity  \n",
       "3        Credit Card   16-05-2021      Metropol AVM  \n",
       "4               Cash   24-10-2021            Kanyon  \n",
       "...              ...          ...               ...  \n",
       "99452    Credit Card   21-09-2022            Kanyon  \n",
       "99453           Cash   22-09-2021    Forum Istanbul  \n",
       "99454     Debit Card   28-03-2021         Metrocity  \n",
       "99455           Cash   16-03-2021      Istinye Park  \n",
       "99456    Credit Card   15-10-2022  Mall of Istanbul  \n",
       "\n",
       "[99457 rows x 10 columns]"
      ]
     },
     "execution_count": 49,
     "metadata": {},
     "output_type": "execute_result"
    }
   ],
   "source": [
    "customers"
   ]
  },
  {
   "cell_type": "code",
   "execution_count": 50,
   "id": "e9f23953",
   "metadata": {},
   "outputs": [
    {
     "data": {
      "text/plain": [
       "{'whiskers': [<matplotlib.lines.Line2D at 0x1b209748750>,\n",
       "  <matplotlib.lines.Line2D at 0x1b209747810>],\n",
       " 'caps': [<matplotlib.lines.Line2D at 0x1b209744410>,\n",
       "  <matplotlib.lines.Line2D at 0x1b209746c50>],\n",
       " 'boxes': [<matplotlib.lines.Line2D at 0x1b20974b8d0>],\n",
       " 'medians': [<matplotlib.lines.Line2D at 0x1b209740cd0>],\n",
       " 'fliers': [<matplotlib.lines.Line2D at 0x1b209741790>],\n",
       " 'means': []}"
      ]
     },
     "execution_count": 50,
     "metadata": {},
     "output_type": "execute_result"
    },
    {
     "data": {
      "image/png": "[encoded data removed]",
      "text/plain": [
       "<Figure size 640x480 with 1 Axes>"
      ]
     },
     "metadata": {},
     "output_type": "display_data"
    }
   ],
   "source": [
    "plt.boxplot(customers[\"age\"])"
   ]
  },
  {
   "cell_type": "code",
   "execution_count": 51,
   "id": "385251bb",
   "metadata": {},
   "outputs": [
    {
     "data": {
      "text/plain": [
       "{'whiskers': [<matplotlib.lines.Line2D at 0x1b20cf00310>,\n",
       "  <matplotlib.lines.Line2D at 0x1b20cf00d50>],\n",
       " 'caps': [<matplotlib.lines.Line2D at 0x1b20cf015d0>,\n",
       "  <matplotlib.lines.Line2D at 0x1b20cf01dd0>],\n",
       " 'boxes': [<matplotlib.lines.Line2D at 0x1b20cec3710>],\n",
       " 'medians': [<matplotlib.lines.Line2D at 0x1b20cf02590>],\n",
       " 'fliers': [<matplotlib.lines.Line2D at 0x1b2097899d0>],\n",
       " 'means': []}"
      ]
     },
     "execution_count": 51,
     "metadata": {},
     "output_type": "execute_result"
    },
    {
     "data": {
      "image/png": "[encoded data removed]",
      "text/plain": [
       "<Figure size 640x480 with 1 Axes>"
      ]
     },
     "metadata": {},
     "output_type": "display_data"
    }
   ],
   "source": [
    "plt.boxplot(customers[\"price\"])"
   ]
  },
  {
   "cell_type": "markdown",
   "id": "04595b13",
   "metadata": {},
   "source": [
    "# mahalanobis distance "
   ]
  },
  {
   "cell_type": "code",
   "execution_count": 61,
   "id": "ce8f63c3",
   "metadata": {},
   "outputs": [
    {
     "ename": "NameError",
     "evalue": "name 'players' is not defined",
     "output_type": "error",
     "traceback": [
      "\u001b[1;31m---------------------------------------------------------------------------\u001b[0m",
      "\u001b[1;31mNameError\u001b[0m                                 Traceback (most recent call last)",
      "Cell \u001b[1;32mIn[61], line 1\u001b[0m\n\u001b[1;32m----> 1\u001b[0m \u001b[43mplayers\u001b[49m\n",
      "\u001b[1;31mNameError\u001b[0m: name 'players' is not defined"
     ]
    }
   ],
   "source": [
    "players"
   ]
  },
  {
   "cell_type": "markdown",
   "id": "3573aaac",
   "metadata": {},
   "source": [
    "### step1: calculate the mean and covariance of the dataset: for height and weight variables in this data set"
   ]
  },
  {
   "cell_type": "markdown",
   "id": "51bdbaad",
   "metadata": {},
   "source": [
    "### step2: compute the mahalanobis distance for each data point"
   ]
  },
  {
   "cell_type": "markdown",
   "id": "3d2c1923",
   "metadata": {},
   "source": [
    "### step3: compare the mahalanobis distance to a thresold"
   ]
  },
  {
   "cell_type": "markdown",
   "id": "7dd0726f",
   "metadata": {},
   "source": [
    "### step4: identify potenital outliers"
   ]
  },
  {
   "cell_type": "markdown",
   "id": "ace2a7bd",
   "metadata": {},
   "source": [
    "## detect the outliers from the soccer players data set"
   ]
  },
  {
   "cell_type": "markdown",
   "id": "5a4b1416",
   "metadata": {},
   "source": [
    "##### step1: Calculate the mean and covariance of the dataset"
   ]
  },
  {
   "cell_type": "code",
   "execution_count": 60,
   "id": "d45b2bd5",
   "metadata": {},
   "outputs": [
    {
     "ename": "NameError",
     "evalue": "name 'players' is not defined",
     "output_type": "error",
     "traceback": [
      "\u001b[1;31m---------------------------------------------------------------------------\u001b[0m",
      "\u001b[1;31mNameError\u001b[0m                                 Traceback (most recent call last)",
      "Cell \u001b[1;32mIn[60], line 3\u001b[0m\n\u001b[0;32m      1\u001b[0m \u001b[38;5;28;01mimport\u001b[39;00m \u001b[38;5;21;01mnumpy\u001b[39;00m \u001b[38;5;28;01mas\u001b[39;00m \u001b[38;5;21;01mnp\u001b[39;00m\n\u001b[1;32m----> 3\u001b[0m height \u001b[38;5;241m=\u001b[39m \u001b[43mplayers\u001b[49m[\u001b[38;5;124m\"\u001b[39m\u001b[38;5;124mHeight(cm)\u001b[39m\u001b[38;5;124m\"\u001b[39m]\n\u001b[0;32m      4\u001b[0m weight \u001b[38;5;241m=\u001b[39m players[\u001b[38;5;124m\"\u001b[39m\u001b[38;5;124mWeight(kg)\u001b[39m\u001b[38;5;124m\"\u001b[39m]\n\u001b[0;32m      6\u001b[0m \u001b[38;5;66;03m# calculate the mean of height and weight\u001b[39;00m\n",
      "\u001b[1;31mNameError\u001b[0m: name 'players' is not defined"
     ]
    }
   ],
   "source": [
    "import numpy as np\n",
    "\n",
    "height = players[\"Height(cm)\"]\n",
    "weight = players[\"Weight(kg)\"]\n",
    "\n",
    "# calculate the mean of height and weight\n",
    "mean_height = np.mean(height)\n",
    "mean_weight = np.mean(weight)\n",
    "\n",
    "# calculate the covariance matrix of height and weight\n",
    "covariance = np.cov(np.vstack((height, weight)), rowvar=True)\n",
    "\n"
   ]
  },
  {
   "cell_type": "markdown",
   "id": "90bfec2b",
   "metadata": {},
   "source": [
    "##### step2: compute the mahalanobis distance for each data point"
   ]
  },
  {
   "cell_type": "code",
   "execution_count": 68,
   "id": "f21d0bd7",
   "metadata": {},
   "outputs": [],
   "source": [
    "# compute the Mahalanobis distance for each data point\n",
    "data = np.vstack((height, weight)).T\n",
    "\n",
    "mean = np.array([mean_height, mean_weight])\n",
    "\n",
    "inverse_covariance = np.linalg.inv(covariance)\n",
    "\n",
    "mahalanobis_distance = np.sqrt(np.sum(np.dot((data - mean), inverse_covariance) * (data - mean), axis=1))"
   ]
  },
  {
   "cell_type": "markdown",
   "id": "fbc6bbfb",
   "metadata": {},
   "source": [
    "##### step3: compare the mahalanobis distance to a thresold"
   ]
  },
  {
   "cell_type": "code",
   "execution_count": 71,
   "id": "255d75b9",
   "metadata": {},
   "outputs": [
    {
     "name": "stdout",
     "output_type": "stream",
     "text": [
      "Potential outliers: \n",
      "[[212 102]\n",
      " [212 115]\n",
      " [188 120]\n",
      " [165  91]\n",
      " [185 218]\n",
      " [211 114]\n",
      " [211 115]\n",
      " [198 123]\n",
      " [192 125]\n",
      " [189 120]\n",
      " [195  65]\n",
      " [190 120]\n",
      " [175 108]\n",
      " [180 125]\n",
      " [155  71]\n",
      " [184 116]\n",
      " [211 114]\n",
      " [140  62]\n",
      " [174 118]\n",
      " [204 142]\n",
      " [180 120]\n",
      " [166 105]\n",
      " [208 160]\n",
      " [175 105]\n",
      " [198 130]\n",
      " [197 129]\n",
      " [183 145]\n",
      " [194 140]\n",
      " [190 120]\n",
      " [194 135]\n",
      " [165 103]\n",
      " [183 115]\n",
      " [136  30]\n",
      " [141  34]\n",
      " [153  68]\n",
      " [152  65]\n",
      " [186 160]\n",
      " [165  89]\n",
      " [192 130]\n",
      " [186 120]\n",
      " [219 110]]\n"
     ]
    }
   ],
   "source": [
    "# set a thresold for mahalanobis distance\n",
    "thresold = 3\n",
    "\n",
    "# identify potential outliers\n",
    "\n",
    "outliers = data[mahalanobis_distance > thresold]\n",
    "\n",
    "# print potential outliers\n",
    "print(\"Potential outliers: \")\n",
    "print(outliers)"
   ]
  },
  {
   "cell_type": "code",
   "execution_count": 61,
   "id": "e00248de",
   "metadata": {},
   "outputs": [
    {
     "data": {
      "text/plain": [
       "177.4511657214871"
      ]
     },
     "execution_count": 61,
     "metadata": {},
     "output_type": "execute_result"
    }
   ],
   "source": [
    "mean_height"
   ]
  },
  {
   "cell_type": "code",
   "execution_count": 62,
   "id": "c76fc69f",
   "metadata": {},
   "outputs": [
    {
     "data": {
      "text/plain": [
       "72.65343415248897"
      ]
     },
     "execution_count": 62,
     "metadata": {},
     "output_type": "execute_result"
    }
   ],
   "source": [
    "mean_weight"
   ]
  },
  {
   "cell_type": "code",
   "execution_count": 63,
   "id": "08aba5af",
   "metadata": {},
   "outputs": [
    {
     "data": {
      "text/plain": [
       "array([[127.41170577, 139.9855871 ],\n",
       "       [139.9855871 , 256.31487313]])"
      ]
     },
     "execution_count": 63,
     "metadata": {},
     "output_type": "execute_result"
    }
   ],
   "source": [
    "covariance"
   ]
  },
  {
   "cell_type": "code",
   "execution_count": 64,
   "id": "77c71813",
   "metadata": {},
   "outputs": [
    {
     "data": {
      "text/plain": [
       "array([[170,  69],\n",
       "       [171,  64],\n",
       "       [167,  52],\n",
       "       ...,\n",
       "       [173,  63],\n",
       "       [179,  73],\n",
       "       [177,  84]], dtype=int64)"
      ]
     },
     "execution_count": 64,
     "metadata": {},
     "output_type": "execute_result"
    }
   ],
   "source": [
    "data"
   ]
  },
  {
   "cell_type": "code",
   "execution_count": 67,
   "id": "7380e15e",
   "metadata": {},
   "outputs": [
    {
     "data": {
      "text/plain": [
       "array([[ 0.01962362, -0.01071738],\n",
       "       [-0.01071738,  0.00975472]])"
      ]
     },
     "execution_count": 67,
     "metadata": {},
     "output_type": "execute_result"
    }
   ],
   "source": [
    "inverse_covariance"
   ]
  },
  {
   "cell_type": "code",
   "execution_count": 69,
   "id": "95f7f709",
   "metadata": {},
   "outputs": [
    {
     "data": {
      "text/plain": [
       "array([0.79762035, 0.59207158, 1.29525851, ..., 0.61384001, 0.19167908,\n",
       "       1.17029453])"
      ]
     },
     "execution_count": 69,
     "metadata": {},
     "output_type": "execute_result"
    }
   ],
   "source": [
    "mahalanobis_distance"
   ]
  },
  {
   "cell_type": "code",
   "execution_count": null,
   "id": "84a3bfe1",
   "metadata": {},
   "outputs": [],
   "source": []
  }
 ],
 "metadata": {
  "kernelspec": {
   "display_name": "Python 3 (ipykernel)",
   "language": "python",
   "name": "python3"
  },
  "language_info": {
   "codemirror_mode": {
    "name": "ipython",
    "version": 3
   },
   "file_extension": ".py",
   "mimetype": "text/x-python",
   "name": "python",
   "nbconvert_exporter": "python",
   "pygments_lexer": "ipython3",
   "version": "3.11.4"
  }
 },
 "nbformat": 4,
 "nbformat_minor": 5
}
