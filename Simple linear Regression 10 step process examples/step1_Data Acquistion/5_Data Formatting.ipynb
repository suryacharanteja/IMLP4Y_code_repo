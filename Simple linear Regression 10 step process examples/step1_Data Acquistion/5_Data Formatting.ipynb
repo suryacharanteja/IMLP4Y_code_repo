{
 "cells": [
  {
   "cell_type": "markdown",
   "id": "e389f4ad",
   "metadata": {},
   "source": [
    "### 1. converting data types"
   ]
  },
  {
   "cell_type": "code",
   "execution_count": 11,
   "id": "89a0def0",
   "metadata": {},
   "outputs": [
    {
     "name": "stdout",
     "output_type": "stream",
     "text": [
      "Date       object\n",
      "Product    object\n",
      "Sales       int64\n",
      "dtype: object\n",
      "Index(['Date', 'Product', 'Sales'], dtype='object')\n",
      "Date       datetime64[ns]\n",
      "Product            object\n",
      "Sales               int64\n",
      "dtype: object\n",
      "         Date Product  Sales\n",
      "0  2022-01-01       A     10\n",
      "1  2022-01-02       B     15\n",
      "2  2022-01-03       C     20\n",
      "3  2022-01-04       D     25\n",
      "4  2022-01-05       A     30\n",
      "..        ...     ...    ...\n",
      "60 2027-01-01       C     35\n",
      "61 2027-01-02       D     40\n",
      "62 2027-01-03       A     45\n",
      "63 2027-01-04       B     50\n",
      "64 2027-01-05       C     50\n",
      "\n",
      "[65 rows x 3 columns]\n"
     ]
    }
   ],
   "source": [
    "import pandas as pd\n",
    "\n",
    "data = pd.read_csv(\"./data_format.csv\")\n",
    "\n",
    "print(data.dtypes)\n",
    "print(data.columns)\n",
    "\n",
    "data[\"Sales\"] = pd.to_numeric(data[\"Sales\"])\n",
    "data[\"Date\"] = pd.to_datetime(data[\"Date\"])\n",
    "print(data.dtypes)\n",
    "\n",
    "print(data)"
   ]
  },
  {
   "cell_type": "code",
   "execution_count": 22,
   "id": "b3e74f0c",
   "metadata": {},
   "outputs": [
    {
     "name": "stdout",
     "output_type": "stream",
     "text": [
      "          Date Product  Sales\n",
      "0   01-01-2022       A     10\n",
      "1   01-02-2022       B     15\n",
      "2   01-03-2022       C     20\n",
      "3   01-04-2022       D     25\n",
      "4   01-05-2022       A     30\n",
      "..         ...     ...    ...\n",
      "60  01-01-2027       C     35\n",
      "61  01-02-2027       D     40\n",
      "62  01-03-2027       A     45\n",
      "63  01-04-2027       B     50\n",
      "64  01-05-2027       C     50\n",
      "\n",
      "[65 rows x 3 columns]\n",
      "         Date Product  Sales   date_stan\n",
      "0  2022-01-01       A     10  2022-01-01\n",
      "1  2022-01-02       B     15  2022-01-02\n",
      "2  2022-01-03       C     20  2022-01-03\n",
      "3  2022-01-04       D     25  2022-01-04\n",
      "4  2022-01-05       A     30  2022-01-05\n",
      "..        ...     ...    ...         ...\n",
      "60 2027-01-01       C     35  2027-01-01\n",
      "61 2027-01-02       D     40  2027-01-02\n",
      "62 2027-01-03       A     45  2027-01-03\n",
      "63 2027-01-04       B     50  2027-01-04\n",
      "64 2027-01-05       C     50  2027-01-05\n",
      "\n",
      "[65 rows x 4 columns]\n"
     ]
    }
   ],
   "source": [
    "import pandas as pd\n",
    "\n",
    "data = pd.read_csv(\"./data_format.csv\")\n",
    "print(data)\n",
    "data[\"Sales\"] = pd.to_numeric(data[\"Sales\"])\n",
    "\n",
    "# convert a column from text to datetime\n",
    "data[\"Date\"] = pd.to_datetime(data[\"Date\"])\n",
    "\n",
    "# convert a datatime  to a standardized format\n",
    "data[\"date_stan\"] = data[\"Date\"].dt.strftime('%Y-%m-%d')\n",
    "\n",
    "print(data)"
   ]
  },
  {
   "cell_type": "markdown",
   "id": "dce8ea52",
   "metadata": {},
   "source": [
    "### 2. addressing incosistent data"
   ]
  },
  {
   "cell_type": "code",
   "execution_count": 28,
   "id": "154e3ca2",
   "metadata": {},
   "outputs": [
    {
     "name": "stdout",
     "output_type": "stream",
     "text": [
      "Name         object\n",
      "Weight       object\n",
      "units        object\n",
      "Weight_kg     int32\n",
      "units_new    object\n",
      "categorey    object\n",
      "dtype: object\n",
      "   Name Weight    units  Weight_kg units_new   categorey\n",
      "0     A   10kg   Text           10      text  Category A\n",
      "1     B   20kg    tExt          20      text  Category B\n",
      "2     A   30kg     tExT         30      text  Category A\n",
      "3     A   20kg   Text           20      text  Category A\n",
      "4     B   30kg    tExt          30      text  Category B\n",
      "5     A   20kg     tExT         20      text  Category A\n",
      "6     A   30kg   Text           30      text  Category A\n",
      "7     B   20kg    tExt          20      text  Category B\n",
      "8     A   30kg     tExT         30      text  Category A\n",
      "9     A   20kg   Text           20      text  Category A\n",
      "10    B   30kg    tExt          30      text  Category B\n",
      "11    A   20kg     tExT         20      text  Category A\n",
      "12    A   30kg   Text           30      text  Category A\n",
      "13    B   10kg    tExt          10      text  Category B\n",
      "14    A   20kg     tExT         20      text  Category A\n",
      "15    A   30kg   Text           30      text  Category A\n",
      "16    B   10kg    tExt          10      text  Category B\n",
      "17    A   20kg     tExT         20      text  Category A\n",
      "18    A   30kg   Text           30      text  Category A\n",
      "19    B   10kg    tExt          10      text  Category B\n",
      "20    A   10kg     tExT         10      text  Category A\n",
      "21    A   20kg   Text           20      text  Category A\n"
     ]
    }
   ],
   "source": [
    "data1 = pd.read_csv(\"./data_formatting_2.csv\")\n",
    "\n",
    "data1[\"Weight_kg\"] = data1[\"Weight\"].str.replace('kg', '').astype(int)\n",
    "data1[\"units_new\"] = data1[\"units\"].str.strip().str.lower()\n",
    "data1[\"categorey\"] = data1[\"Name\"].replace({'A': \"Category A\", 'B': \"Category B\"})\n",
    "print(data1.dtypes)\n",
    "print(data1)\n",
    "consistent_data = data1.iloc[:, 3:]\n"
   ]
  },
  {
   "cell_type": "code",
   "execution_count": 29,
   "id": "2d114f50",
   "metadata": {},
   "outputs": [
    {
     "name": "stdout",
     "output_type": "stream",
     "text": [
      "    Weight_kg units_new   categorey\n",
      "0          10      text  Category A\n",
      "1          20      text  Category B\n",
      "2          30      text  Category A\n",
      "3          20      text  Category A\n",
      "4          30      text  Category B\n",
      "5          20      text  Category A\n",
      "6          30      text  Category A\n",
      "7          20      text  Category B\n",
      "8          30      text  Category A\n",
      "9          20      text  Category A\n",
      "10         30      text  Category B\n",
      "11         20      text  Category A\n",
      "12         30      text  Category A\n",
      "13         10      text  Category B\n",
      "14         20      text  Category A\n",
      "15         30      text  Category A\n",
      "16         10      text  Category B\n",
      "17         20      text  Category A\n",
      "18         30      text  Category A\n",
      "19         10      text  Category B\n",
      "20         10      text  Category A\n",
      "21         20      text  Category A\n"
     ]
    }
   ],
   "source": [
    "print(consistent_data)"
   ]
  },
  {
   "cell_type": "code",
   "execution_count": 29,
   "id": "e5a226a0",
   "metadata": {},
   "outputs": [
    {
     "name": "stdout",
     "output_type": "stream",
     "text": [
      "   Name Weight    units\n",
      "0     A   10kg   Text  \n",
      "1     B   20kg    tExt \n",
      "2     A   30kg     tExT\n",
      "3     A   20kg   Text  \n",
      "4     B   30kg    tExt \n",
      "5     A   20kg     tExT\n",
      "6     A   30kg   Text  \n",
      "7     B   20kg    tExt \n",
      "8     A   30kg     tExT\n",
      "9     A   20kg   Text  \n",
      "10    B   30kg    tExt \n",
      "11    A   20kg     tExT\n",
      "12    A   30kg   Text  \n",
      "13    B   10kg    tExt \n",
      "14    A   20kg     tExT\n",
      "15    A   30kg   Text  \n",
      "16    B   10kg    tExt \n",
      "17    A   20kg     tExT\n",
      "18    A   30kg   Text  \n",
      "19    B   10kg    tExt \n",
      "20    A   10kg     tExT\n",
      "21    A   20kg   Text  \n",
      "   Name Weight    units  Weight_in_kg units_formatted    Name_cat\n",
      "0     A   10kg   Text              10            text  Category A\n",
      "1     B   20kg    tExt             20            text  Category B\n",
      "2     A   30kg     tExT            30            text  Category A\n",
      "3     A   20kg   Text              20            text  Category A\n",
      "4     B   30kg    tExt             30            text  Category B\n",
      "5     A   20kg     tExT            20            text  Category A\n",
      "6     A   30kg   Text              30            text  Category A\n",
      "7     B   20kg    tExt             20            text  Category B\n",
      "8     A   30kg     tExT            30            text  Category A\n",
      "9     A   20kg   Text              20            text  Category A\n",
      "10    B   30kg    tExt             30            text  Category B\n",
      "11    A   20kg     tExT            20            text  Category A\n",
      "12    A   30kg   Text              30            text  Category A\n",
      "13    B   10kg    tExt             10            text  Category B\n",
      "14    A   20kg     tExT            20            text  Category A\n",
      "15    A   30kg   Text              30            text  Category A\n",
      "16    B   10kg    tExt             10            text  Category B\n",
      "17    A   20kg     tExT            20            text  Category A\n",
      "18    A   30kg   Text              30            text  Category A\n",
      "19    B   10kg    tExt             10            text  Category B\n",
      "20    A   10kg     tExT            10            text  Category A\n",
      "21    A   20kg   Text              20            text  Category A\n"
     ]
    }
   ],
   "source": [
    "data1 = pd.read_csv(\"./data_formatting_2.csv\")\n",
    "print(data1)\n",
    "\n",
    "# clean incosistent units in a column\n",
    "data1[\"Weight_in_kg\"] = data1[\"Weight\"].str.replace('kg', '').astype(int)\n",
    "\n",
    "# clean  incosistent formats in a column\n",
    "data1[\"units_formatted\"] = data1[\"units\"].str.strip().str.lower()\n",
    "\n",
    "# clean incosistent coding conventions in a column\n",
    "data1[\"Name_cat\"] = data1[\"Name\"].replace({\"A\": \"Category A\", 'B': \"Category B\"})\n",
    "\n",
    "\n",
    "# print the cleaned data set\n",
    "print(data1)"
   ]
  },
  {
   "cell_type": "code",
   "execution_count": null,
   "id": "09979b3e",
   "metadata": {},
   "outputs": [],
   "source": []
  },
  {
   "cell_type": "code",
   "execution_count": null,
   "id": "7825aca7",
   "metadata": {},
   "outputs": [],
   "source": []
  }
 ],
 "metadata": {
  "kernelspec": {
   "display_name": "Python 3 (ipykernel)",
   "language": "python",
   "name": "python3"
  },
  "language_info": {
   "codemirror_mode": {
    "name": "ipython",
    "version": 3
   },
   "file_extension": ".py",
   "mimetype": "text/x-python",
   "name": "python",
   "nbconvert_exporter": "python",
   "pygments_lexer": "ipython3",
   "version": "3.11.2"
  }
 },
 "nbformat": 4,
 "nbformat_minor": 5
}
