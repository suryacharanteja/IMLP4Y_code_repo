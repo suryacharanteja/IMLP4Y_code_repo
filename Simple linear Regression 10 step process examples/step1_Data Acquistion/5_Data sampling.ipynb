{
 "cells": [
  {
   "cell_type": "markdown",
   "id": "c46efd8a",
   "metadata": {},
   "source": [
    "### 1. Random sampling"
   ]
  },
  {
   "cell_type": "code",
   "execution_count": 18,
   "id": "4881e78b",
   "metadata": {},
   "outputs": [
    {
     "name": "stdout",
     "output_type": "stream",
     "text": [
      "   temperature humidity  growth_rate\n",
      "2          low      low          2.1\n",
      "24        high     high          4.9\n",
      "14      medium   medium          3.2\n",
      "17      medium     high          3.7\n",
      "5          low   medium          2.4\n",
      "11      medium      low          2.9\n",
      "23        high   medium          4.4\n",
      "13      medium   medium          3.3\n",
      "19        high      low          4.3\n",
      "20        high      low          4.1\n",
      "16      medium     high          3.9\n",
      "1          low      low          2.4\n",
      "10      medium      low          3.0\n",
      "26        high     high          4.7\n",
      "25        high     high          4.8\n",
      "8          low     high          2.9\n",
      "6          low     high          2.8\n"
     ]
    }
   ],
   "source": [
    "import pandas as pd\n",
    "\n",
    "data = pd.read_csv(\"./plants.csv\")\n",
    "\n",
    "\n",
    "sample = data.sample(n=17, random_state=0)\n",
    "print(sample)"
   ]
  },
  {
   "cell_type": "code",
   "execution_count": 1,
   "id": "2b613161",
   "metadata": {},
   "outputs": [
    {
     "name": "stdout",
     "output_type": "stream",
     "text": [
      "   temperature humidity  growth_rate\n",
      "0          low      low          2.3\n",
      "1          low      low          2.4\n",
      "2          low      low          2.1\n",
      "3          low   medium          2.6\n",
      "4          low   medium          2.5\n",
      "5          low   medium          2.4\n",
      "6          low     high          2.8\n",
      "7          low     high          2.7\n",
      "8          low     high          2.9\n",
      "9       medium      low          3.1\n",
      "10      medium      low          3.0\n",
      "11      medium      low          2.9\n",
      "12      medium   medium          3.5\n",
      "13      medium   medium          3.3\n",
      "14      medium   medium          3.2\n",
      "15      medium     high          3.8\n",
      "16      medium     high          3.9\n",
      "17      medium     high          3.7\n",
      "18        high      low          4.2\n",
      "19        high      low          4.3\n",
      "20        high      low          4.1\n",
      "21        high   medium          4.6\n",
      "22        high   medium          4.5\n",
      "23        high   medium          4.4\n",
      "24        high     high          4.9\n",
      "25        high     high          4.8\n",
      "26        high     high          4.7\n",
      "Training dataset using random sampling\n",
      "   temperature humidity  growth_rate\n",
      "8          low     high          2.9\n",
      "13      medium   medium          3.3\n",
      "9       medium      low          3.1\n",
      "21        high   medium          4.6\n",
      "0          low      low          2.3\n",
      "11      medium      low          2.9\n",
      "16      medium     high          3.9\n",
      "17      medium     high          3.7\n",
      "12      medium   medium          3.5\n",
      "24        high     high          4.9\n",
      "1          low      low          2.4\n",
      "4          low   medium          2.5\n",
      "5          low   medium          2.4\n",
      "2          low      low          2.1\n"
     ]
    }
   ],
   "source": [
    "import pandas as pd\n",
    "\n",
    "data = pd.read_csv(\"./plants.csv\")\n",
    "\n",
    "print(data)\n",
    "# perform random sampling\n",
    "sample = data.sample(n=14, random_state=42)\n",
    "\n",
    "# print the sampled data\n",
    "print(\"Training dataset using random sampling\")\n",
    "print(sample)"
   ]
  },
  {
   "cell_type": "markdown",
   "id": "270147b6",
   "metadata": {},
   "source": [
    "### 2. Stratified random sampling"
   ]
  },
  {
   "cell_type": "code",
   "execution_count": 19,
   "id": "b8016d26",
   "metadata": {},
   "outputs": [],
   "source": [
    "strat_sample = data.groupby('humidity', group_keys=False).apply(lambda x: x.sample(2, random_state=42))"
   ]
  },
  {
   "cell_type": "code",
   "execution_count": 20,
   "id": "d52f0858",
   "metadata": {},
   "outputs": [
    {
     "name": "stdout",
     "output_type": "stream",
     "text": [
      "Original dataset: \n",
      "   temperature humidity  growth_rate\n",
      "0          low      low          2.3\n",
      "1          low      low          2.4\n",
      "2          low      low          2.1\n",
      "3          low   medium          2.6\n",
      "4          low   medium          2.5\n",
      "5          low   medium          2.4\n",
      "6          low     high          2.8\n",
      "7          low     high          2.7\n",
      "8          low     high          2.9\n",
      "9       medium      low          3.1\n",
      "10      medium      low          3.0\n",
      "11      medium      low          2.9\n",
      "12      medium   medium          3.5\n",
      "13      medium   medium          3.3\n",
      "14      medium   medium          3.2\n",
      "15      medium     high          3.8\n",
      "16      medium     high          3.9\n",
      "17      medium     high          3.7\n",
      "18        high      low          4.2\n",
      "19        high      low          4.3\n",
      "20        high      low          4.1\n",
      "21        high   medium          4.6\n",
      "22        high   medium          4.5\n",
      "23        high   medium          4.4\n",
      "24        high     high          4.9\n",
      "25        high     high          4.8\n",
      "26        high     high          4.7\n",
      "Stratified sample:\n",
      "   temperature humidity  growth_rate\n",
      "25        high     high          4.8\n",
      "7          low     high          2.7\n",
      "19        high      low          4.3\n",
      "1          low      low          2.4\n",
      "22        high   medium          4.5\n",
      "4          low   medium          2.5\n"
     ]
    }
   ],
   "source": [
    "\n",
    "# perform stratified sampling\n",
    "stratified_sample = data.groupby('humidity', group_keys=False).apply(lambda x: x.sample(2, random_state=42))\n",
    "\n",
    "print(\"Original dataset: \")\n",
    "print(data)\n",
    "\n",
    "print(\"Stratified sample:\")\n",
    "print(stratified_sample)"
   ]
  },
  {
   "cell_type": "code",
   "execution_count": null,
   "id": "bd01a59a",
   "metadata": {},
   "outputs": [],
   "source": []
  }
 ],
 "metadata": {
  "kernelspec": {
   "display_name": "Python 3 (ipykernel)",
   "language": "python",
   "name": "python3"
  },
  "language_info": {
   "codemirror_mode": {
    "name": "ipython",
    "version": 3
   },
   "file_extension": ".py",
   "mimetype": "text/x-python",
   "name": "python",
   "nbconvert_exporter": "python",
   "pygments_lexer": "ipython3",
   "version": "3.11.2"
  }
 },
 "nbformat": 4,
 "nbformat_minor": 5
}
