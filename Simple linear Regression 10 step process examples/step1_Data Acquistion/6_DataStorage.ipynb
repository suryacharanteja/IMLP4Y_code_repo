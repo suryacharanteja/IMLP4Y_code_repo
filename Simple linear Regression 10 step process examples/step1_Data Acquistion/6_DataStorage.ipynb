{
 "cells": [
  {
   "cell_type": "markdown",
   "id": "90c0591f",
   "metadata": {},
   "source": [
    "### 1. Storing data in csv format"
   ]
  },
  {
   "cell_type": "code",
   "execution_count": 9,
   "id": "cde0208a",
   "metadata": {},
   "outputs": [
    {
     "name": "stdout",
     "output_type": "stream",
     "text": [
      "<class 'pandas.core.frame.DataFrame'>\n"
     ]
    }
   ],
   "source": [
    "import pandas as pd\n",
    "# create a dictonary\n",
    "data = {'Col1': [1, 2, 3], 'Col2': ['A', 'B', 'C']}\n",
    "\n",
    "\n",
    "df = pd.DataFrame(data)\n",
    "print(type(df))\n",
    "\n",
    "df.to_csv(\"dict_df.csv\", index=False)"
   ]
  },
  {
   "cell_type": "code",
   "execution_count": 8,
   "id": "26bedf8e",
   "metadata": {},
   "outputs": [
    {
     "data": {
      "text/html": [
       "<div>\n",
       "<style scoped>\n",
       "    .dataframe tbody tr th:only-of-type {\n",
       "        vertical-align: middle;\n",
       "    }\n",
       "\n",
       "    .dataframe tbody tr th {\n",
       "        vertical-align: top;\n",
       "    }\n",
       "\n",
       "    .dataframe thead th {\n",
       "        text-align: right;\n",
       "    }\n",
       "</style>\n",
       "<table border=\"1\" class=\"dataframe\">\n",
       "  <thead>\n",
       "    <tr style=\"text-align: right;\">\n",
       "      <th></th>\n",
       "      <th>Col1</th>\n",
       "      <th>Col2</th>\n",
       "    </tr>\n",
       "  </thead>\n",
       "  <tbody>\n",
       "    <tr>\n",
       "      <th>0</th>\n",
       "      <td>1</td>\n",
       "      <td>A</td>\n",
       "    </tr>\n",
       "    <tr>\n",
       "      <th>1</th>\n",
       "      <td>2</td>\n",
       "      <td>B</td>\n",
       "    </tr>\n",
       "    <tr>\n",
       "      <th>2</th>\n",
       "      <td>3</td>\n",
       "      <td>C</td>\n",
       "    </tr>\n",
       "  </tbody>\n",
       "</table>\n",
       "</div>"
      ],
      "text/plain": [
       "   Col1 Col2\n",
       "0     1    A\n",
       "1     2    B\n",
       "2     3    C"
      ]
     },
     "execution_count": 8,
     "metadata": {},
     "output_type": "execute_result"
    }
   ],
   "source": [
    "df"
   ]
  },
  {
   "cell_type": "code",
   "execution_count": 6,
   "id": "8527a5f1",
   "metadata": {},
   "outputs": [
    {
     "name": "stdout",
     "output_type": "stream",
     "text": [
      "   Col1 Col2\n",
      "0     1    A\n",
      "1     2    B\n",
      "2     3    C\n"
     ]
    }
   ],
   "source": [
    "import pandas as pd\n",
    "\n",
    "# create a dictonary\n",
    "data = {'Col1': [1, 2, 3], 'Col2': ['A', 'B', 'C']}\n",
    "\n",
    "df = pd.DataFrame(data)\n",
    "print(df)\n",
    "\n",
    "# save the DataFrame to a csv file\n",
    "df.to_csv('data.csv', index=False)"
   ]
  },
  {
   "cell_type": "markdown",
   "id": "2946a428",
   "metadata": {},
   "source": [
    "### 2. Storing data in  Excel format"
   ]
  },
  {
   "cell_type": "code",
   "execution_count": 12,
   "id": "28637d98",
   "metadata": {},
   "outputs": [
    {
     "name": "stdout",
     "output_type": "stream",
     "text": [
      "   Col1 Col2\n",
      "0     1    A\n",
      "1     2    B\n",
      "2     3    C\n"
     ]
    }
   ],
   "source": [
    "import pandas as pd\n",
    "\n",
    "# create a dictonary\n",
    "data = {'Col1': [1, 2, 3], 'Col2': ['A', 'B', 'C']}\n",
    "df = pd.DataFrame(data)\n",
    "print(df)\n",
    "\n",
    "df.to_excel(\"df_excel.xlsx\", index=True)"
   ]
  },
  {
   "cell_type": "code",
   "execution_count": 7,
   "id": "6c544215",
   "metadata": {},
   "outputs": [
    {
     "name": "stdout",
     "output_type": "stream",
     "text": [
      "   Col1 Col2\n",
      "0     1    A\n",
      "1     2    B\n",
      "2     3    C\n"
     ]
    }
   ],
   "source": [
    "import pandas as pd\n",
    "\n",
    "# create a dictonary\n",
    "data = {'Col1': [1, 2, 3], 'Col2': ['A', 'B', 'C']}\n",
    "\n",
    "df = pd.DataFrame(data)\n",
    "print(df)\n",
    "\n",
    "# save the DataFrame to a Excel file\n",
    "df.to_excel('data1.xlsx', index=False)"
   ]
  },
  {
   "cell_type": "markdown",
   "id": "a0376a6b",
   "metadata": {},
   "source": [
    "### 3. Storing Data in JSON Format"
   ]
  },
  {
   "cell_type": "code",
   "execution_count": 17,
   "id": "d060e734",
   "metadata": {},
   "outputs": [
    {
     "name": "stdout",
     "output_type": "stream",
     "text": [
      "<class 'str'>\n"
     ]
    }
   ],
   "source": [
    "import json\n",
    "\n",
    "# create a dictonary\n",
    "data = {'Col1': [1, 2, 3], 'Col2': ['A', 'B', 'C']}\n",
    "\n",
    "json_data = json.dumps(data)\n",
    "\n",
    "print(type(json_data))\n",
    "with open('df_json.json', 'w') as file:\n",
    "    file.write(json_data)"
   ]
  },
  {
   "cell_type": "code",
   "execution_count": 9,
   "id": "4efb68dd",
   "metadata": {},
   "outputs": [],
   "source": [
    "import json\n",
    "\n",
    "# create a dictonary\n",
    "data = {'Col1': [1, 2, 3], 'Col2': ['A', 'B', 'C']}\n",
    "\n",
    "# convert dictionary to json\n",
    "json_data = json.dumps(data)\n",
    "\n",
    "# Save the JSON data to a file\n",
    "with open('dataj.json', 'w') as file:\n",
    "    file.write(json_data)"
   ]
  },
  {
   "cell_type": "markdown",
   "id": "354dbe39",
   "metadata": {},
   "source": [
    "### 4. Storing Data in Databases (SQLite example)"
   ]
  },
  {
   "cell_type": "code",
   "execution_count": null,
   "id": "2fe8c570",
   "metadata": {},
   "outputs": [],
   "source": [
    "import sqlite3\n",
    "import pandas as pd\n",
    "\n",
    "# create a dictonary\n",
    "data = {'Col1': [1, 2, 3], 'Col2': ['A', 'B', 'C']}\n",
    "\n",
    "df = pd.DataFrame(data)\n",
    "print(df)\n",
    "\n",
    "# connect to the database\n",
    "conn = sqlite3.connect('mydatabase.db')\n",
    "\n",
    "# save the dataframe to a SQLite table\n",
    "df.to_sql('mytable', conn, if_exists='replace', index=False)\n",
    "\n",
    "# close the connection\n",
    "conn.close()"
   ]
  }
 ],
 "metadata": {
  "kernelspec": {
   "display_name": "Python 3 (ipykernel)",
   "language": "python",
   "name": "python3"
  },
  "language_info": {
   "codemirror_mode": {
    "name": "ipython",
    "version": 3
   },
   "file_extension": ".py",
   "mimetype": "text/x-python",
   "name": "python",
   "nbconvert_exporter": "python",
   "pygments_lexer": "ipython3",
   "version": "3.11.4"
  }
 },
 "nbformat": 4,
 "nbformat_minor": 5
}
