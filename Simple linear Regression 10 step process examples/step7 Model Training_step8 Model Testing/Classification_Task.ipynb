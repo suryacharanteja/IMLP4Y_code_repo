{
 "cells": [
  {
   "cell_type": "markdown",
   "id": "efa218d2",
   "metadata": {},
   "source": [
    "# 1. Logistic Regression"
   ]
  },
  {
   "cell_type": "code",
   "execution_count": 9,
   "id": "4d1bfc5e",
   "metadata": {},
   "outputs": [
    {
     "name": "stdout",
     "output_type": "stream",
     "text": [
      "Predictions for X_test: ['Hatchback' 'SUV']\n",
      "Actual y_test values: ['Hatchback' 'SUV']\n"
     ]
    }
   ],
   "source": [
    "import numpy as np\n",
    "import pandas as pd\n",
    "from sklearn.linear_model import LogisticRegression\n",
    "from sklearn.model_selection import train_test_split\n",
    "\n",
    "\n",
    "# Sample data for demonstration\n",
    "data = {\n",
    "    'Car': ['Sedan', 'SUV', 'Hatchback', 'Sedan', 'Hatchback', 'SUV', 'Sedan', 'SUV', 'Hatchback', 'SUV'],\n",
    "    'Horsepower': [150, 200, 120, 170, 130, 210, 180, 190, 140, 220]\n",
    "}\n",
    "\n",
    "df = pd.DataFrame(data)\n",
    "\n",
    "# Separate features (X) and target variable (y)\n",
    "X = df['Horsepower'].values.reshape(-1, 1)\n",
    "y = df['Car']\n",
    "\n",
    "# Split the data into training and testing sets\n",
    "X_train, X_test, y_train, y_test = train_test_split(X, y, test_size=0.2, random_state=42)\n",
    "\n",
    "# Create Logistic Regression instance\n",
    "model = LogisticRegression()\n",
    "\n",
    "# Fit the model to the training data\n",
    "model.fit(X_train, y_train)\n",
    "\n",
    "# Make predictions on the test set\n",
    "predictions = model.predict(X_test)\n",
    "\n",
    "print(\"Predictions for X_test:\", predictions)\n",
    "print(\"Actual y_test values:\", y_test.values)\n"
   ]
  },
  {
   "cell_type": "markdown",
   "id": "a5c5f14b",
   "metadata": {},
   "source": [
    "# 2. k-Nearest Neighbors (k-NN) Classification"
   ]
  },
  {
   "cell_type": "code",
   "execution_count": 5,
   "id": "65db428e",
   "metadata": {},
   "outputs": [
    {
     "name": "stdout",
     "output_type": "stream",
     "text": [
      "Predictions for X_test: ['Hatchback' 'SUV']\n",
      "Actual y_test values: ['Hatchback' 'SUV']\n"
     ]
    }
   ],
   "source": [
    "import numpy as np\n",
    "import pandas as pd\n",
    "from sklearn.neighbors import KNeighborsClassifier\n",
    "from sklearn.model_selection import train_test_split\n",
    "\n",
    "\n",
    "# Sample data for demonstration (Replace this with your real-world dataset)\n",
    "data = {\n",
    "    'Car': ['Sedan', 'SUV', 'Hatchback', 'Sedan', 'Hatchback', 'SUV', 'Sedan', 'SUV', 'Hatchback', 'SUV'],\n",
    "    'Horsepower': [150, 200, 120, 170, 130, 210, 180, 190, 140, 220]\n",
    "}\n",
    "\n",
    "df = pd.DataFrame(data)\n",
    "\n",
    "# Separate features (X) and target variable (y)\n",
    "X = df['Horsepower'].values.reshape(-1, 1)\n",
    "y = df['Car']\n",
    "\n",
    "# Split the data into training and testing sets\n",
    "X_train, X_test, y_train, y_test = train_test_split(X, y, test_size=0.2, random_state=42)\n",
    "\n",
    "# Create k-Nearest Neighbors Classifier instance with k=3\n",
    "model = KNeighborsClassifier(n_neighbors=3)\n",
    "\n",
    "# Fit the model to the training data\n",
    "model.fit(X_train, y_train)\n",
    "\n",
    "# Make predictions on the test set\n",
    "predictions = model.predict(X_test)\n",
    "\n",
    "print(\"Predictions for X_test:\", predictions)\n",
    "print(\"Actual y_test values:\", y_test.values)\n"
   ]
  },
  {
   "cell_type": "markdown",
   "id": "23cfe929",
   "metadata": {},
   "source": [
    "# 3. Decision Trees Classification"
   ]
  },
  {
   "cell_type": "code",
   "execution_count": 12,
   "id": "1e41579d",
   "metadata": {},
   "outputs": [
    {
     "name": "stdout",
     "output_type": "stream",
     "text": [
      "Predictions for X_test: ['Hatchback' 'SUV']\n",
      "Actual y_test values: ['Hatchback' 'SUV']\n"
     ]
    }
   ],
   "source": [
    "import numpy as np\n",
    "import pandas as pd\n",
    "from sklearn.tree import DecisionTreeClassifier\n",
    "from sklearn.model_selection import train_test_split\n",
    "\n",
    "# Sample data for demonstration (Replace this with your real-world dataset)\n",
    "data = {\n",
    "    'Car': ['Sedan', 'SUV', 'Hatchback', 'Sedan', 'Hatchback', 'SUV', 'Sedan', 'SUV', 'Hatchback', 'SUV'],\n",
    "    'Horsepower': [150, 200, 120, 170, 130, 210, 180, 190, 140, 220]\n",
    "}\n",
    "\n",
    "df = pd.DataFrame(data)\n",
    "\n",
    "# Separate features (X) and target variable (y)\n",
    "X = df['Horsepower'].values.reshape(-1, 1)\n",
    "y = df['Car']\n",
    "\n",
    "# Split the data into training and testing sets\n",
    "X_train, X_test, y_train, y_test = train_test_split(X, y, test_size=0.2, random_state=42)\n",
    "\n",
    "# Create Decision Tree Classifier instance\n",
    "model = DecisionTreeClassifier()\n",
    "\n",
    "# Fit the model to the training data\n",
    "model.fit(X_train, y_train)\n",
    "\n",
    "# Make predictions on the test set\n",
    "predictions = model.predict(X_test)\n",
    "\n",
    "\n",
    "print(\"Predictions for X_test:\", predictions)\n",
    "print(\"Actual y_test values:\", y_test.values)\n"
   ]
  },
  {
   "cell_type": "markdown",
   "id": "4b95bb6e",
   "metadata": {},
   "source": [
    "# 4. Naive Bayes"
   ]
  },
  {
   "cell_type": "code",
   "execution_count": 8,
   "id": "8dc2845a",
   "metadata": {},
   "outputs": [
    {
     "name": "stdout",
     "output_type": "stream",
     "text": [
      "Predictions for X_test: ['Sedan' 'SUV']\n",
      "Actual y_test values: ['Hatchback' 'SUV']\n"
     ]
    }
   ],
   "source": [
    "import numpy as np\n",
    "import pandas as pd\n",
    "from sklearn.naive_bayes import GaussianNB\n",
    "from sklearn.model_selection import train_test_split\n",
    "\n",
    "# Sample data for demonstration (Replace this with your real-world dataset)\n",
    "data = {\n",
    "    'Car': ['Sedan', 'SUV', 'Hatchback', 'Sedan', 'Hatchback', 'SUV', 'Sedan', 'SUV', 'Hatchback', 'SUV'],\n",
    "    'Horsepower': [150, 200, 120, 170, 130, 210, 180, 190, 140, 220]\n",
    "}\n",
    "\n",
    "df = pd.DataFrame(data)\n",
    "\n",
    "# Separate features (X) and target variable (y)\n",
    "X = df['Horsepower'].values.reshape(-1, 1)\n",
    "y = df['Car']\n",
    "\n",
    "# Split the data into training and testing sets\n",
    "X_train, X_test, y_train, y_test = train_test_split(X, y, test_size=0.2, random_state=42)\n",
    "\n",
    "# Create Gaussian Naive Bayes Classifier instance\n",
    "model = GaussianNB()\n",
    "\n",
    "# Fit the model to the training data\n",
    "model.fit(X_train, y_train)\n",
    "\n",
    "# Make predictions on the test set\n",
    "predictions = model.predict(X_test)\n",
    "\n",
    "print(\"Predictions for X_test:\", predictions)\n",
    "print(\"Actual y_test values:\", y_test.values)\n"
   ]
  },
  {
   "cell_type": "markdown",
   "id": "c4a0e53b",
   "metadata": {},
   "source": [
    "# 5. Support Vector Machines (SVM) Classification"
   ]
  },
  {
   "cell_type": "code",
   "execution_count": 14,
   "id": "4e850095",
   "metadata": {},
   "outputs": [
    {
     "name": "stdout",
     "output_type": "stream",
     "text": [
      "Predictions for X_test: ['Sedan' 'SUV']\n",
      "Actual y_test values: ['Hatchback' 'SUV']\n"
     ]
    }
   ],
   "source": [
    "import numpy as np\n",
    "import pandas as pd\n",
    "from sklearn.svm import SVC\n",
    "from sklearn.model_selection import train_test_split\n",
    "\n",
    "# Sample data for demonstration (Replace this with your real-world dataset)\n",
    "data = {\n",
    "    'Car': ['Sedan', 'SUV', 'Hatchback', 'Sedan', 'Hatchback', 'SUV', 'Sedan', 'SUV', 'Hatchback', 'SUV'],\n",
    "    'Horsepower': [150, 200, 120, 170, 130, 210, 180, 190, 140, 220]\n",
    "}\n",
    "\n",
    "df = pd.DataFrame(data)\n",
    "\n",
    "# Separate features (X) and target variable (y)\n",
    "X = df['Horsepower'].values.reshape(-1, 1)\n",
    "y = df['Car']\n",
    "\n",
    "# Split the data into training and testing sets\n",
    "X_train, X_test, y_train, y_test = train_test_split(X, y, test_size=0.2, random_state=42)\n",
    "\n",
    "# Create Support Vector Machine Classifier instance with linear kernel\n",
    "model = SVC(kernel='linear')  # 'liner', 'poly', 'rbf', 'sigmoid'\n",
    "\n",
    "# Fit the model to the training data\n",
    "model.fit(X_train, y_train)\n",
    "\n",
    "# Make predictions on the test set\n",
    "predictions = model.predict(X_test)\n",
    "\n",
    "\n",
    "print(\"Predictions for X_test:\", predictions)\n",
    "print(\"Actual y_test values:\", y_test.values)\n"
   ]
  },
  {
   "cell_type": "markdown",
   "id": "7f58e968",
   "metadata": {},
   "source": [
    "# 6. Random Forest Classification"
   ]
  },
  {
   "cell_type": "code",
   "execution_count": 10,
   "id": "68be04be",
   "metadata": {},
   "outputs": [
    {
     "name": "stdout",
     "output_type": "stream",
     "text": [
      "Predictions for X_test: ['Hatchback' 'SUV']\n",
      "Actual y_test values: ['Hatchback' 'SUV']\n"
     ]
    }
   ],
   "source": [
    "import numpy as np\n",
    "import pandas as pd\n",
    "from sklearn.ensemble import RandomForestClassifier\n",
    "from sklearn.model_selection import train_test_split\n",
    "\n",
    "# Sample data for demonstration (Replace this with your real-world dataset)\n",
    "data = {\n",
    "    'Car': ['Sedan', 'SUV', 'Hatchback', 'Sedan', 'Hatchback', 'SUV', 'Sedan', 'SUV', 'Hatchback', 'SUV'],\n",
    "    'Horsepower': [150, 200, 120, 170, 130, 210, 180, 190, 140, 220]\n",
    "}\n",
    "\n",
    "df = pd.DataFrame(data)\n",
    "\n",
    "# Separate features (X) and target variable (y)\n",
    "X = df['Horsepower'].values.reshape(-1, 1)\n",
    "y = df['Car']\n",
    "\n",
    "# Split the data into training and testing sets\n",
    "X_train, X_test, y_train, y_test = train_test_split(X, y, test_size=0.2, random_state=42)\n",
    "\n",
    "# Create Random Forest Classifier instance\n",
    "model = RandomForestClassifier(n_estimators=100, random_state=42)\n",
    "\n",
    "# Fit the model to the training data\n",
    "model.fit(X_train, y_train)\n",
    "\n",
    "# Make predictions on the test set\n",
    "predictions = model.predict(X_test)\n",
    "\n",
    "print(\"Predictions for X_test:\", predictions)\n",
    "print(\"Actual y_test values:\", y_test.values)\n"
   ]
  },
  {
   "cell_type": "markdown",
   "id": "971a810c",
   "metadata": {},
   "source": [
    "# 7. Gradient Boosting Classification"
   ]
  },
  {
   "cell_type": "code",
   "execution_count": 17,
   "id": "f19de82a",
   "metadata": {},
   "outputs": [
    {
     "name": "stdout",
     "output_type": "stream",
     "text": [
      "Predictions for X_test: ['Hatchback' 'SUV']\n",
      "Actual y_test values: ['Hatchback' 'SUV']\n"
     ]
    }
   ],
   "source": [
    "import numpy as np\n",
    "import pandas as pd\n",
    "from sklearn.ensemble import GradientBoostingClassifier\n",
    "from sklearn.model_selection import train_test_split\n",
    "\n",
    "# Sample data for demonstration (Replace this with your real-world dataset)\n",
    "data = {\n",
    "    'Car': ['Sedan', 'SUV', 'Hatchback', 'Sedan', 'Hatchback', 'SUV', 'Sedan', 'SUV', 'Hatchback', 'SUV'],\n",
    "    'Horsepower': [150, 200, 120, 170, 130, 210, 180, 190, 140, 220]\n",
    "}\n",
    "\n",
    "df = pd.DataFrame(data)\n",
    "\n",
    "# Separate features (X) and target variable (y)\n",
    "X = df['Horsepower'].values.reshape(-1, 1)\n",
    "y = df['Car']\n",
    "\n",
    "# Split the data into training and testing sets\n",
    "X_train, X_test, y_train, y_test = train_test_split(X, y, test_size=0.2, random_state=42)\n",
    "\n",
    "# Create Gradient Boosting Classifier instance\n",
    "model = GradientBoostingClassifier()    # loss = deviance,learning_rate = 0.1, n_estimators = 100 \n",
    "\n",
    "# Fit the model to the training data\n",
    "model.fit(X_train, y_train)\n",
    "\n",
    "# Make predictions on the test set\n",
    "predictions = model.predict(X_test)\n",
    "\n",
    "print(\"Predictions for X_test:\", predictions)\n",
    "print(\"Actual y_test values:\", y_test.values)\n"
   ]
  },
  {
   "cell_type": "markdown",
   "id": "14c44ca0",
   "metadata": {},
   "source": [
    "# 8. AdaBoost Classification"
   ]
  },
  {
   "cell_type": "code",
   "execution_count": 20,
   "id": "b06f516a",
   "metadata": {},
   "outputs": [
    {
     "name": "stdout",
     "output_type": "stream",
     "text": [
      "Predictions for X_test: ['Hatchback' 'SUV']\n",
      "Actual y_test values: ['Hatchback' 'SUV']\n"
     ]
    }
   ],
   "source": [
    "import numpy as np\n",
    "import pandas as pd\n",
    "from sklearn.ensemble import AdaBoostClassifier\n",
    "from sklearn.tree import DecisionTreeClassifier\n",
    "from sklearn.model_selection import train_test_split\n",
    "\n",
    "# Sample data for demonstration (Replace this with your real-world dataset)\n",
    "data = {\n",
    "    'Car': ['Sedan', 'SUV', 'Hatchback', 'Sedan', 'Hatchback', 'SUV', 'Sedan', 'SUV', 'Hatchback', 'SUV'],\n",
    "    'Horsepower': [150, 200, 120, 170, 130, 210, 180, 190, 140, 220]\n",
    "}\n",
    "\n",
    "df = pd.DataFrame(data)\n",
    "\n",
    "# Separate features (X) and target variable (y)\n",
    "X = df['Horsepower'].values.reshape(-1, 1)\n",
    "y = df['Car']\n",
    "\n",
    "# Split the data into training and testing sets\n",
    "X_train, X_test, y_train, y_test = train_test_split(X, y, test_size=0.2, random_state=42)\n",
    "\n",
    "# Create base estimator (weak learner)\n",
    "base_estimator = DecisionTreeClassifier(max_depth=1)\n",
    "\n",
    "# Create AdaBoost Classifier instance\n",
    "model = AdaBoostClassifier(estimator=base_estimator, n_estimators=100)\n",
    "\n",
    "# Fit the model to the training data\n",
    "model.fit(X_train, y_train)\n",
    "\n",
    "# Make predictions on the test set\n",
    "predictions = model.predict(X_test)\n",
    "\n",
    "print(\"Predictions for X_test:\", predictions)\n",
    "print(\"Actual y_test values:\", y_test.values)\n"
   ]
  },
  {
   "cell_type": "markdown",
   "id": "699a45c3",
   "metadata": {},
   "source": [
    "# 9. Bagging Classification"
   ]
  },
  {
   "cell_type": "code",
   "execution_count": 23,
   "id": "ee296410",
   "metadata": {},
   "outputs": [
    {
     "name": "stdout",
     "output_type": "stream",
     "text": [
      "Predictions for X_test: ['Hatchback' 'SUV']\n",
      "Actual y_test values: ['Hatchback' 'SUV']\n"
     ]
    }
   ],
   "source": [
    "import numpy as np\n",
    "import pandas as pd\n",
    "from sklearn.ensemble import BaggingClassifier\n",
    "from sklearn.tree import DecisionTreeClassifier\n",
    "from sklearn.model_selection import train_test_split\n",
    "\n",
    "\n",
    "# Sample data for demonstration (Replace this with your real-world dataset)\n",
    "data = {\n",
    "    'Car': ['Sedan', 'SUV', 'Hatchback', 'Sedan', 'Hatchback', 'SUV', 'Sedan', 'SUV', 'Hatchback', 'SUV'],\n",
    "    'Horsepower': [150, 200, 120, 170, 130, 210, 180, 190, 140, 220]\n",
    "}\n",
    "\n",
    "df = pd.DataFrame(data)\n",
    "\n",
    "# Separate features (X) and target variable (y)\n",
    "X = df['Horsepower'].values.reshape(-1, 1)\n",
    "y = df['Car']\n",
    "\n",
    "# Split the data into training and testing sets\n",
    "X_train, X_test, y_train, y_test = train_test_split(X, y, test_size=0.2, random_state=42)\n",
    "\n",
    "# Create base estimator (weak learner)\n",
    "base_estimator = DecisionTreeClassifier()\n",
    "\n",
    "# Create Bagging Classifier instance\n",
    "model = BaggingClassifier(estimator=base_estimator, n_estimators=100)\n",
    "\n",
    "# Fit the model to the training data\n",
    "model.fit(X_train, y_train)\n",
    "\n",
    "# Make predictions on the test set\n",
    "predictions = model.predict(X_test)\n",
    "\n",
    "print(\"Predictions for X_test:\", predictions)\n",
    "print(\"Actual y_test values:\", y_test.values)\n"
   ]
  },
  {
   "cell_type": "code",
   "execution_count": 24,
   "id": "3ee0f0d4",
   "metadata": {},
   "outputs": [
    {
     "name": "stdout",
     "output_type": "stream",
     "text": [
      "Predictions for X_test: ['Sedan' 'SUV']\n",
      "Actual y_test values: ['Hatchback' 'SUV']\n"
     ]
    },
    {
     "name": "stderr",
     "output_type": "stream",
     "text": [
      "C:\\Users\\Surya Charan Teja\\AppData\\Local\\Programs\\Python\\Python310\\lib\\site-packages\\sklearn\\naive_bayes.py:509: RuntimeWarning: divide by zero encountered in log\n",
      "  jointi = np.log(self.class_prior_[i])\n",
      "C:\\Users\\Surya Charan Teja\\AppData\\Local\\Programs\\Python\\Python310\\lib\\site-packages\\sklearn\\naive_bayes.py:509: RuntimeWarning: divide by zero encountered in log\n",
      "  jointi = np.log(self.class_prior_[i])\n",
      "C:\\Users\\Surya Charan Teja\\AppData\\Local\\Programs\\Python\\Python310\\lib\\site-packages\\sklearn\\naive_bayes.py:509: RuntimeWarning: divide by zero encountered in log\n",
      "  jointi = np.log(self.class_prior_[i])\n",
      "C:\\Users\\Surya Charan Teja\\AppData\\Local\\Programs\\Python\\Python310\\lib\\site-packages\\sklearn\\naive_bayes.py:509: RuntimeWarning: divide by zero encountered in log\n",
      "  jointi = np.log(self.class_prior_[i])\n",
      "C:\\Users\\Surya Charan Teja\\AppData\\Local\\Programs\\Python\\Python310\\lib\\site-packages\\sklearn\\naive_bayes.py:509: RuntimeWarning: divide by zero encountered in log\n",
      "  jointi = np.log(self.class_prior_[i])\n",
      "C:\\Users\\Surya Charan Teja\\AppData\\Local\\Programs\\Python\\Python310\\lib\\site-packages\\sklearn\\naive_bayes.py:509: RuntimeWarning: divide by zero encountered in log\n",
      "  jointi = np.log(self.class_prior_[i])\n",
      "C:\\Users\\Surya Charan Teja\\AppData\\Local\\Programs\\Python\\Python310\\lib\\site-packages\\sklearn\\naive_bayes.py:509: RuntimeWarning: divide by zero encountered in log\n",
      "  jointi = np.log(self.class_prior_[i])\n",
      "C:\\Users\\Surya Charan Teja\\AppData\\Local\\Programs\\Python\\Python310\\lib\\site-packages\\sklearn\\naive_bayes.py:509: RuntimeWarning: divide by zero encountered in log\n",
      "  jointi = np.log(self.class_prior_[i])\n",
      "C:\\Users\\Surya Charan Teja\\AppData\\Local\\Programs\\Python\\Python310\\lib\\site-packages\\sklearn\\naive_bayes.py:509: RuntimeWarning: divide by zero encountered in log\n",
      "  jointi = np.log(self.class_prior_[i])\n",
      "C:\\Users\\Surya Charan Teja\\AppData\\Local\\Programs\\Python\\Python310\\lib\\site-packages\\sklearn\\naive_bayes.py:509: RuntimeWarning: divide by zero encountered in log\n",
      "  jointi = np.log(self.class_prior_[i])\n",
      "C:\\Users\\Surya Charan Teja\\AppData\\Local\\Programs\\Python\\Python310\\lib\\site-packages\\sklearn\\naive_bayes.py:509: RuntimeWarning: divide by zero encountered in log\n",
      "  jointi = np.log(self.class_prior_[i])\n",
      "C:\\Users\\Surya Charan Teja\\AppData\\Local\\Programs\\Python\\Python310\\lib\\site-packages\\sklearn\\naive_bayes.py:509: RuntimeWarning: divide by zero encountered in log\n",
      "  jointi = np.log(self.class_prior_[i])\n",
      "C:\\Users\\Surya Charan Teja\\AppData\\Local\\Programs\\Python\\Python310\\lib\\site-packages\\sklearn\\naive_bayes.py:509: RuntimeWarning: divide by zero encountered in log\n",
      "  jointi = np.log(self.class_prior_[i])\n",
      "C:\\Users\\Surya Charan Teja\\AppData\\Local\\Programs\\Python\\Python310\\lib\\site-packages\\sklearn\\naive_bayes.py:509: RuntimeWarning: divide by zero encountered in log\n",
      "  jointi = np.log(self.class_prior_[i])\n",
      "C:\\Users\\Surya Charan Teja\\AppData\\Local\\Programs\\Python\\Python310\\lib\\site-packages\\sklearn\\naive_bayes.py:509: RuntimeWarning: divide by zero encountered in log\n",
      "  jointi = np.log(self.class_prior_[i])\n",
      "C:\\Users\\Surya Charan Teja\\AppData\\Local\\Programs\\Python\\Python310\\lib\\site-packages\\sklearn\\naive_bayes.py:509: RuntimeWarning: divide by zero encountered in log\n",
      "  jointi = np.log(self.class_prior_[i])\n"
     ]
    }
   ],
   "source": [
    "import numpy as np\n",
    "import pandas as pd\n",
    "from sklearn.ensemble import BaggingClassifier\n",
    "from sklearn.naive_bayes import GaussianNB\n",
    "from sklearn.model_selection import train_test_split\n",
    "\n",
    "\n",
    "# Sample data for demonstration (Replace this with your real-world dataset)\n",
    "data = {\n",
    "    'Car': ['Sedan', 'SUV', 'Hatchback', 'Sedan', 'Hatchback', 'SUV', 'Sedan', 'SUV', 'Hatchback', 'SUV'],\n",
    "    'Horsepower': [150, 200, 120, 170, 130, 210, 180, 190, 140, 220]\n",
    "}\n",
    "\n",
    "df = pd.DataFrame(data)\n",
    "\n",
    "# Separate features (X) and target variable (y)\n",
    "X = df['Horsepower'].values.reshape(-1, 1)\n",
    "y = df['Car']\n",
    "\n",
    "# Split the data into training and testing sets\n",
    "X_train, X_test, y_train, y_test = train_test_split(X, y, test_size=0.2, random_state=42)\n",
    "\n",
    "# Create base estimator (weak learner)\n",
    "# Create Gaussian Naive Bayes Classifier instance\n",
    "base_estimator = GaussianNB()\n",
    "\n",
    "# Create Bagging Classifier instance\n",
    "model = BaggingClassifier(estimator=base_estimator, n_estimators=100)\n",
    "\n",
    "# Fit the model to the training data\n",
    "model.fit(X_train, y_train)\n",
    "\n",
    "# Make predictions on the test set\n",
    "predictions = model.predict(X_test)\n",
    "\n",
    "print(\"Predictions for X_test:\", predictions)\n",
    "print(\"Actual y_test values:\", y_test.values)\n"
   ]
  },
  {
   "cell_type": "code",
   "execution_count": null,
   "id": "74a1eacb",
   "metadata": {},
   "outputs": [],
   "source": []
  }
 ],
 "metadata": {
  "kernelspec": {
   "display_name": "Python 3 (ipykernel)",
   "language": "python",
   "name": "python3"
  },
  "language_info": {
   "codemirror_mode": {
    "name": "ipython",
    "version": 3
   },
   "file_extension": ".py",
   "mimetype": "text/x-python",
   "name": "python",
   "nbconvert_exporter": "python",
   "pygments_lexer": "ipython3",
   "version": "3.10.2"
  }
 },
 "nbformat": 4,
 "nbformat_minor": 5
}
