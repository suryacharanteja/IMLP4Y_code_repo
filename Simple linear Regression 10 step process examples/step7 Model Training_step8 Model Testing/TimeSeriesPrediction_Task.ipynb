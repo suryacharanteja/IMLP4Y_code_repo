{
 "cells": [
  {
   "cell_type": "code",
   "execution_count": 12,
   "id": "8de2978d",
   "metadata": {},
   "outputs": [
    {
     "name": "stdout",
     "output_type": "stream",
     "text": [
      "         Date  Sales\n",
      "0  2022-01-31    602\n",
      "1  2022-02-28    935\n",
      "2  2022-03-31   1360\n",
      "3  2022-04-30    770\n",
      "4  2022-05-31    606\n",
      "5  2022-06-30    571\n",
      "6  2022-07-31   1200\n",
      "7  2022-08-31    520\n",
      "8  2022-09-30   1114\n",
      "9  2022-10-31    621\n",
      "10 2022-11-30    966\n",
      "11 2022-12-31    714\n",
      "12 2023-01-31    830\n",
      "13 2023-02-28    958\n",
      "14 2023-03-31    587\n",
      "15 2023-04-30    872\n",
      "16 2023-05-31    599\n",
      "17 2023-06-30   1371\n",
      "18 2023-07-31   1163\n",
      "19 2023-08-31    630\n",
      "20 2023-09-30   1161\n",
      "21 2023-10-31    808\n",
      "22 2023-11-30   1269\n",
      "23 2023-12-31    843\n"
     ]
    }
   ],
   "source": [
    "import pandas as pd\n",
    "import numpy as np\n",
    "import datetime\n",
    "\n",
    "# Generate synthetic time series data for automobile sales\n",
    "start_date = datetime.date(2022, 1, 1)\n",
    "end_date = datetime.date(2023, 12, 31)\n",
    "dates = pd.date_range(start=start_date, end=end_date, freq='M')\n",
    "\n",
    "# Generate synthetic sales data for the time period\n",
    "np.random.seed(42)\n",
    "sales_data = np.random.randint(500, 1500, size=len(dates))\n",
    "\n",
    "# Create a DataFrame to store the sales data\n",
    "sales_df = pd.DataFrame({'Date': dates, 'Sales': sales_data})\n",
    "\n",
    "# Display the time series automobile sales data\n",
    "print(sales_df)\n"
   ]
  },
  {
   "cell_type": "code",
   "execution_count": null,
   "id": "864b5155",
   "metadata": {},
   "outputs": [],
   "source": []
  },
  {
   "cell_type": "code",
   "execution_count": null,
   "id": "9e81395a",
   "metadata": {},
   "outputs": [],
   "source": []
  }
 ],
 "metadata": {
  "kernelspec": {
   "display_name": "Python 3 (ipykernel)",
   "language": "python",
   "name": "python3"
  },
  "language_info": {
   "codemirror_mode": {
    "name": "ipython",
    "version": 3
   },
   "file_extension": ".py",
   "mimetype": "text/x-python",
   "name": "python",
   "nbconvert_exporter": "python",
   "pygments_lexer": "ipython3",
   "version": "3.10.2"
  }
 },
 "nbformat": 4,
 "nbformat_minor": 5
}
