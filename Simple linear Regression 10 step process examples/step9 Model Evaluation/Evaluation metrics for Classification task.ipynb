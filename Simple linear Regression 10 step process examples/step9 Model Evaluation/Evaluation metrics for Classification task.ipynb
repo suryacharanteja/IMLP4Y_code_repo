{
 "cells": [
  {
   "cell_type": "code",
   "execution_count": 1,
   "id": "9e96b365",
   "metadata": {},
   "outputs": [],
   "source": [
    "import pandas as pd\n",
    "import numpy as np\n",
    "\n",
    "# load the dataset\n",
    "df = pd.read_csv(\"automobile_dataset.csv\")\n"
   ]
  },
  {
   "cell_type": "code",
   "execution_count": 2,
   "id": "a27f09f5",
   "metadata": {},
   "outputs": [
    {
     "data": {
      "text/html": [
       "<div>\n",
       "<style scoped>\n",
       "    .dataframe tbody tr th:only-of-type {\n",
       "        vertical-align: middle;\n",
       "    }\n",
       "\n",
       "    .dataframe tbody tr th {\n",
       "        vertical-align: top;\n",
       "    }\n",
       "\n",
       "    .dataframe thead th {\n",
       "        text-align: right;\n",
       "    }\n",
       "</style>\n",
       "<table border=\"1\" class=\"dataframe\">\n",
       "  <thead>\n",
       "    <tr style=\"text-align: right;\">\n",
       "      <th></th>\n",
       "      <th>Car</th>\n",
       "      <th>Horsepower</th>\n",
       "    </tr>\n",
       "  </thead>\n",
       "  <tbody>\n",
       "    <tr>\n",
       "      <th>0</th>\n",
       "      <td>Audi</td>\n",
       "      <td>210</td>\n",
       "    </tr>\n",
       "    <tr>\n",
       "      <th>1</th>\n",
       "      <td>Chevrolet</td>\n",
       "      <td>203</td>\n",
       "    </tr>\n",
       "    <tr>\n",
       "      <th>2</th>\n",
       "      <td>Lexus</td>\n",
       "      <td>270</td>\n",
       "    </tr>\n",
       "    <tr>\n",
       "      <th>3</th>\n",
       "      <td>BMW</td>\n",
       "      <td>232</td>\n",
       "    </tr>\n",
       "    <tr>\n",
       "      <th>4</th>\n",
       "      <td>Audi</td>\n",
       "      <td>392</td>\n",
       "    </tr>\n",
       "    <tr>\n",
       "      <th>...</th>\n",
       "      <td>...</td>\n",
       "      <td>...</td>\n",
       "    </tr>\n",
       "    <tr>\n",
       "      <th>995</th>\n",
       "      <td>Kia</td>\n",
       "      <td>111</td>\n",
       "    </tr>\n",
       "    <tr>\n",
       "      <th>996</th>\n",
       "      <td>Kia</td>\n",
       "      <td>338</td>\n",
       "    </tr>\n",
       "    <tr>\n",
       "      <th>997</th>\n",
       "      <td>Lexus</td>\n",
       "      <td>148</td>\n",
       "    </tr>\n",
       "    <tr>\n",
       "      <th>998</th>\n",
       "      <td>Honda</td>\n",
       "      <td>141</td>\n",
       "    </tr>\n",
       "    <tr>\n",
       "      <th>999</th>\n",
       "      <td>Nissan</td>\n",
       "      <td>265</td>\n",
       "    </tr>\n",
       "  </tbody>\n",
       "</table>\n",
       "<p>1000 rows × 2 columns</p>\n",
       "</div>"
      ],
      "text/plain": [
       "           Car  Horsepower\n",
       "0         Audi         210\n",
       "1    Chevrolet         203\n",
       "2        Lexus         270\n",
       "3          BMW         232\n",
       "4         Audi         392\n",
       "..         ...         ...\n",
       "995        Kia         111\n",
       "996        Kia         338\n",
       "997      Lexus         148\n",
       "998      Honda         141\n",
       "999     Nissan         265\n",
       "\n",
       "[1000 rows x 2 columns]"
      ]
     },
     "execution_count": 2,
     "metadata": {},
     "output_type": "execute_result"
    }
   ],
   "source": [
    "df"
   ]
  },
  {
   "cell_type": "markdown",
   "id": "b367bcb4",
   "metadata": {},
   "source": [
    "### Logistic regression"
   ]
  },
  {
   "cell_type": "code",
   "execution_count": 3,
   "id": "87f0ca3f",
   "metadata": {},
   "outputs": [
    {
     "name": "stdout",
     "output_type": "stream",
     "text": [
      "Predictions for new Horse poser (test set) y_pred:\n",
      "Actual y_test values: 521          BMW\n",
      "737        Lexus\n",
      "740    Chevrolet\n",
      "660          BMW\n",
      "411       Nissan\n",
      "         ...    \n",
      "408         Ford\n",
      "332          Kia\n",
      "208          Kia\n",
      "613    Chevrolet\n",
      "78        Toyota\n",
      "Name: Car, Length: 200, dtype: object\n"
     ]
    }
   ],
   "source": [
    "import pandas as pd\n",
    "from sklearn.model_selection import train_test_split\n",
    "from sklearn.preprocessing import StandardScaler\n",
    "from sklearn.linear_model import LogisticRegression\n",
    "from sklearn.metrics import accuracy_score, classification_report, confusion_matrix\n",
    "import matplotlib.pyplot as plt\n",
    "\n",
    "# Step 1: Load the dataset\n",
    "df = pd.read_csv(\"automobile_dataset.csv\")\n",
    "\n",
    "# Step 2: Prepare the data for modeling\n",
    "X = df.drop(\"Car\", axis=1)\n",
    "y = df[\"Car\"]\n",
    "\n",
    "# Step 3: Split the data into training and testing sets\n",
    "X_train, X_test, y_train, y_test = train_test_split(X, y, test_size=0.2, random_state=42)\n",
    "\n",
    "# Step 4: Feature Scaling\n",
    "scaler = StandardScaler()\n",
    "X_train_scaled = scaler.fit_transform(X_train)\n",
    "X_test_scaled = scaler.transform(X_test)\n",
    "\n",
    "# Step 5: Build the Logistic Regression model\n",
    "model = LogisticRegression()\n",
    "\n",
    "# Step 6: Train the model\n",
    "model.fit(X_train_scaled, y_train)\n",
    "\n",
    "# Step 7: Make predictions\n",
    "y_pred = model.predict(X_test_scaled)\n",
    "\n",
    "print(\"Predictions for new Horse poser (test set) y_pred:\", )\n",
    "print(\"Actual y_test values:\", y_test)"
   ]
  },
  {
   "cell_type": "markdown",
   "id": "4d138251",
   "metadata": {},
   "source": [
    "# Step 9: Evaluate the model"
   ]
  },
  {
   "cell_type": "markdown",
   "id": "7566625d",
   "metadata": {},
   "source": [
    "# 1. accuracy"
   ]
  },
  {
   "cell_type": "code",
   "execution_count": 4,
   "id": "d8a54acc",
   "metadata": {},
   "outputs": [
    {
     "name": "stdout",
     "output_type": "stream",
     "text": [
      "Accuracy: 0.11\n"
     ]
    }
   ],
   "source": [
    "from sklearn.metrics import accuracy_score\n",
    "\n",
    "# Assuming y_pred and y_test are the predicted and true target labels, respectively\n",
    "accuracy = accuracy_score(y_test, y_pred)\n",
    "print(\"Accuracy:\", accuracy)\n"
   ]
  },
  {
   "cell_type": "markdown",
   "id": "7cb6dbe8",
   "metadata": {},
   "source": [
    "# 2. precision"
   ]
  },
  {
   "cell_type": "code",
   "execution_count": 5,
   "id": "418dae24",
   "metadata": {},
   "outputs": [
    {
     "name": "stdout",
     "output_type": "stream",
     "text": [
      "Precision: 0.11\n"
     ]
    }
   ],
   "source": [
    "from sklearn.metrics import precision_score\n",
    "\n",
    "# Assuming y_pred and y_test are the predicted and true target labels, respectively\n",
    "precision = precision_score(y_test, y_pred, average='micro')\n",
    "print(\"Precision:\", precision)\n"
   ]
  },
  {
   "cell_type": "markdown",
   "id": "6200b7a8",
   "metadata": {},
   "source": [
    "# 3. recall score"
   ]
  },
  {
   "cell_type": "code",
   "execution_count": 6,
   "id": "171bc788",
   "metadata": {},
   "outputs": [
    {
     "name": "stdout",
     "output_type": "stream",
     "text": [
      "Recall: 0.11\n"
     ]
    }
   ],
   "source": [
    "from sklearn.metrics import recall_score\n",
    "\n",
    "# Assuming y_pred and y_test are the predicted and true target labels, respectively\n",
    "recall = recall_score(y_test, y_pred, average='weighted')\n",
    "print(\"Recall:\", recall)\n"
   ]
  },
  {
   "cell_type": "markdown",
   "id": "384dc3a0",
   "metadata": {},
   "source": [
    "### Cancer detection"
   ]
  },
  {
   "cell_type": "code",
   "execution_count": 7,
   "id": "4210c8b8",
   "metadata": {},
   "outputs": [
    {
     "data": {
      "text/html": [
       "<div>\n",
       "<style scoped>\n",
       "    .dataframe tbody tr th:only-of-type {\n",
       "        vertical-align: middle;\n",
       "    }\n",
       "\n",
       "    .dataframe tbody tr th {\n",
       "        vertical-align: top;\n",
       "    }\n",
       "\n",
       "    .dataframe thead th {\n",
       "        text-align: right;\n",
       "    }\n",
       "</style>\n",
       "<table border=\"1\" class=\"dataframe\">\n",
       "  <thead>\n",
       "    <tr style=\"text-align: right;\">\n",
       "      <th></th>\n",
       "      <th>Age</th>\n",
       "      <th>Tumor Size</th>\n",
       "      <th>Genetic Marker 1</th>\n",
       "      <th>Genetic Marker 2</th>\n",
       "      <th>Genetic Marker 3</th>\n",
       "      <th>Blood Test 1</th>\n",
       "      <th>Blood Test 2</th>\n",
       "      <th>Blood Test 3</th>\n",
       "      <th>Cancer</th>\n",
       "    </tr>\n",
       "  </thead>\n",
       "  <tbody>\n",
       "    <tr>\n",
       "      <th>0</th>\n",
       "      <td>68</td>\n",
       "      <td>9.403226</td>\n",
       "      <td>1</td>\n",
       "      <td>0</td>\n",
       "      <td>1</td>\n",
       "      <td>10.082792</td>\n",
       "      <td>3.840426</td>\n",
       "      <td>2.251384</td>\n",
       "      <td>0</td>\n",
       "    </tr>\n",
       "    <tr>\n",
       "      <th>1</th>\n",
       "      <td>58</td>\n",
       "      <td>1.067809</td>\n",
       "      <td>0</td>\n",
       "      <td>0</td>\n",
       "      <td>0</td>\n",
       "      <td>7.891594</td>\n",
       "      <td>6.662679</td>\n",
       "      <td>1.262652</td>\n",
       "      <td>0</td>\n",
       "    </tr>\n",
       "    <tr>\n",
       "      <th>2</th>\n",
       "      <td>44</td>\n",
       "      <td>3.027995</td>\n",
       "      <td>0</td>\n",
       "      <td>1</td>\n",
       "      <td>0</td>\n",
       "      <td>8.634307</td>\n",
       "      <td>9.888355</td>\n",
       "      <td>2.214147</td>\n",
       "      <td>0</td>\n",
       "    </tr>\n",
       "    <tr>\n",
       "      <th>3</th>\n",
       "      <td>72</td>\n",
       "      <td>4.288211</td>\n",
       "      <td>1</td>\n",
       "      <td>0</td>\n",
       "      <td>0</td>\n",
       "      <td>3.339735</td>\n",
       "      <td>2.257277</td>\n",
       "      <td>4.236347</td>\n",
       "      <td>1</td>\n",
       "    </tr>\n",
       "    <tr>\n",
       "      <th>4</th>\n",
       "      <td>37</td>\n",
       "      <td>5.390288</td>\n",
       "      <td>1</td>\n",
       "      <td>1</td>\n",
       "      <td>0</td>\n",
       "      <td>5.520352</td>\n",
       "      <td>3.898997</td>\n",
       "      <td>1.030028</td>\n",
       "      <td>1</td>\n",
       "    </tr>\n",
       "    <tr>\n",
       "      <th>...</th>\n",
       "      <td>...</td>\n",
       "      <td>...</td>\n",
       "      <td>...</td>\n",
       "      <td>...</td>\n",
       "      <td>...</td>\n",
       "      <td>...</td>\n",
       "      <td>...</td>\n",
       "      <td>...</td>\n",
       "      <td>...</td>\n",
       "    </tr>\n",
       "    <tr>\n",
       "      <th>995</th>\n",
       "      <td>55</td>\n",
       "      <td>8.427575</td>\n",
       "      <td>0</td>\n",
       "      <td>0</td>\n",
       "      <td>0</td>\n",
       "      <td>13.732853</td>\n",
       "      <td>3.729998</td>\n",
       "      <td>4.978095</td>\n",
       "      <td>1</td>\n",
       "    </tr>\n",
       "    <tr>\n",
       "      <th>996</th>\n",
       "      <td>63</td>\n",
       "      <td>3.517332</td>\n",
       "      <td>0</td>\n",
       "      <td>1</td>\n",
       "      <td>1</td>\n",
       "      <td>12.883277</td>\n",
       "      <td>2.090370</td>\n",
       "      <td>3.328253</td>\n",
       "      <td>1</td>\n",
       "    </tr>\n",
       "    <tr>\n",
       "      <th>997</th>\n",
       "      <td>74</td>\n",
       "      <td>9.481483</td>\n",
       "      <td>1</td>\n",
       "      <td>1</td>\n",
       "      <td>0</td>\n",
       "      <td>13.785455</td>\n",
       "      <td>6.957950</td>\n",
       "      <td>2.467400</td>\n",
       "      <td>0</td>\n",
       "    </tr>\n",
       "    <tr>\n",
       "      <th>998</th>\n",
       "      <td>35</td>\n",
       "      <td>8.860030</td>\n",
       "      <td>1</td>\n",
       "      <td>1</td>\n",
       "      <td>0</td>\n",
       "      <td>9.637344</td>\n",
       "      <td>9.442088</td>\n",
       "      <td>4.615870</td>\n",
       "      <td>0</td>\n",
       "    </tr>\n",
       "    <tr>\n",
       "      <th>999</th>\n",
       "      <td>66</td>\n",
       "      <td>2.455878</td>\n",
       "      <td>1</td>\n",
       "      <td>0</td>\n",
       "      <td>1</td>\n",
       "      <td>12.747097</td>\n",
       "      <td>9.955110</td>\n",
       "      <td>0.079259</td>\n",
       "      <td>1</td>\n",
       "    </tr>\n",
       "  </tbody>\n",
       "</table>\n",
       "<p>1000 rows × 9 columns</p>\n",
       "</div>"
      ],
      "text/plain": [
       "     Age  Tumor Size  Genetic Marker 1  Genetic Marker 2  Genetic Marker 3  \\\n",
       "0     68    9.403226                 1                 0                 1   \n",
       "1     58    1.067809                 0                 0                 0   \n",
       "2     44    3.027995                 0                 1                 0   \n",
       "3     72    4.288211                 1                 0                 0   \n",
       "4     37    5.390288                 1                 1                 0   \n",
       "..   ...         ...               ...               ...               ...   \n",
       "995   55    8.427575                 0                 0                 0   \n",
       "996   63    3.517332                 0                 1                 1   \n",
       "997   74    9.481483                 1                 1                 0   \n",
       "998   35    8.860030                 1                 1                 0   \n",
       "999   66    2.455878                 1                 0                 1   \n",
       "\n",
       "     Blood Test 1  Blood Test 2  Blood Test 3  Cancer  \n",
       "0       10.082792      3.840426      2.251384       0  \n",
       "1        7.891594      6.662679      1.262652       0  \n",
       "2        8.634307      9.888355      2.214147       0  \n",
       "3        3.339735      2.257277      4.236347       1  \n",
       "4        5.520352      3.898997      1.030028       1  \n",
       "..            ...           ...           ...     ...  \n",
       "995     13.732853      3.729998      4.978095       1  \n",
       "996     12.883277      2.090370      3.328253       1  \n",
       "997     13.785455      6.957950      2.467400       0  \n",
       "998      9.637344      9.442088      4.615870       0  \n",
       "999     12.747097      9.955110      0.079259       1  \n",
       "\n",
       "[1000 rows x 9 columns]"
      ]
     },
     "execution_count": 7,
     "metadata": {},
     "output_type": "execute_result"
    }
   ],
   "source": [
    "import pandas as pd\n",
    "df = pd.read_csv(\"./cancer_detection_dataset.csv\")\n",
    "df"
   ]
  },
  {
   "cell_type": "code",
   "execution_count": 16,
   "id": "ecb7a21a",
   "metadata": {},
   "outputs": [
    {
     "name": "stdout",
     "output_type": "stream",
     "text": [
      "Predictions for new patients  (test set) y_pred: [1 0 0 1 1 1 1 1 0 1 1 1 0 1 1 1 1 0 1 0 0 1 1 1 1 0 1 1 0 1 1 1 1 1 0 1 0\n",
      " 1 1 1 1 0 1 1 0 0 1 0 0 1 0 0 0 0 1 0 0 1 1 1 1 1 1 0 0 1 1 1 1 1 1 1 1 1\n",
      " 1 1 1 1 1 1 0 1 0 1 0 0 0 1 1 1 0 0 0 1 0 1 1 0 1 1 1 0 0 1 0 1 1 1 0 1 1\n",
      " 1 1 1 0 0 1 0 1 1 1 1 0 1 0 1 0 0 1 0 1 0 1 0 1 0 1 0 1 1 1 1 0 0 1 1 1 1\n",
      " 1 1 1 1 0 1 1 1 1 1 1 1 0 1 0 0 1 1 0 1 1 1 1 0 1 1 0 0 1 0 0 0 1 0 0 0 0\n",
      " 0 1 1 1 0 1 1 1 1 0 1 0 1 1 0]\n",
      "Actual y_test values: 521    1\n",
      "737    1\n",
      "740    1\n",
      "660    0\n",
      "411    0\n",
      "      ..\n",
      "408    0\n",
      "332    1\n",
      "208    1\n",
      "613    1\n",
      "78     0\n",
      "Name: Cancer, Length: 200, dtype: int64\n"
     ]
    }
   ],
   "source": [
    "import pandas as pd\n",
    "from sklearn.model_selection import train_test_split\n",
    "from sklearn.preprocessing import StandardScaler\n",
    "from sklearn.linear_model import LogisticRegression\n",
    "from sklearn.metrics import accuracy_score, classification_report, confusion_matrix\n",
    "\n",
    "# Load the dataset\n",
    "data = pd.read_csv('cancer_detection_dataset.csv')\n",
    "\n",
    "# Split the dataset into features (X) and target variable (y)\n",
    "X = data.drop('Cancer', axis=1)\n",
    "y = data['Cancer']\n",
    "\n",
    "# Standardize the features\n",
    "scaler = StandardScaler()\n",
    "X_scaled = scaler.fit_transform(X)\n",
    "\n",
    "# Split the data into training and testing sets\n",
    "X_train, X_test, y_train, y_test = train_test_split(X_scaled, y, test_size=0.2, random_state=42)\n",
    "\n",
    "# Build the logistic regression model\n",
    "logistic_reg = LogisticRegression()\n",
    "logistic_reg.fit(X_train, y_train)\n",
    "\n",
    "# Make predictions on the test set\n",
    "y_pred = logistic_reg.predict(X_test)\n",
    "\n",
    "print(\"Predictions for new patients  (test set) y_pred:\", y_pred)\n",
    "print(\"Actual y_test values:\", y_test)"
   ]
  },
  {
   "cell_type": "markdown",
   "id": "f4b70aba",
   "metadata": {},
   "source": [
    "# 1. accuracy"
   ]
  },
  {
   "cell_type": "code",
   "execution_count": 9,
   "id": "8c2a05b1",
   "metadata": {},
   "outputs": [
    {
     "name": "stdout",
     "output_type": "stream",
     "text": [
      "Accuracy: 0.46\n"
     ]
    }
   ],
   "source": [
    "from sklearn.metrics import accuracy_score\n",
    "\n",
    "# Assuming y_pred and y_test are the predicted and true target labels, respectively\n",
    "accuracy = accuracy_score(y_test, y_pred)\n",
    "print(\"Accuracy:\", accuracy)\n"
   ]
  },
  {
   "cell_type": "markdown",
   "id": "0fcc019d",
   "metadata": {},
   "source": [
    "# 2. precision"
   ]
  },
  {
   "cell_type": "code",
   "execution_count": 10,
   "id": "fa7e2c7f",
   "metadata": {},
   "outputs": [
    {
     "name": "stdout",
     "output_type": "stream",
     "text": [
      "Precision: 0.46\n"
     ]
    }
   ],
   "source": [
    "from sklearn.metrics import precision_score\n",
    "\n",
    "precision = precision_score(y_test, y_pred, average='micro')\n",
    "print(\"Precision:\", precision)\n"
   ]
  },
  {
   "cell_type": "markdown",
   "id": "995ff1d2",
   "metadata": {},
   "source": [
    "# 3. recall score"
   ]
  },
  {
   "cell_type": "code",
   "execution_count": 11,
   "id": "43c150aa",
   "metadata": {},
   "outputs": [
    {
     "name": "stdout",
     "output_type": "stream",
     "text": [
      "Recall: 0.46\n"
     ]
    }
   ],
   "source": [
    "from sklearn.metrics import recall_score\n",
    "\n",
    "recall = recall_score(y_test, y_pred, average='weighted')\n",
    "print(\"Recall:\", recall)\n"
   ]
  },
  {
   "cell_type": "markdown",
   "id": "b7a0d774",
   "metadata": {},
   "source": [
    "# 4. F1-score"
   ]
  },
  {
   "cell_type": "code",
   "execution_count": 12,
   "id": "046c8393",
   "metadata": {},
   "outputs": [
    {
     "name": "stdout",
     "output_type": "stream",
     "text": [
      "F1-Score: 0.5178571428571429\n"
     ]
    }
   ],
   "source": [
    "from sklearn.metrics import f1_score\n",
    "\n",
    "f1 = f1_score(y_test, y_pred)\n",
    "print(\"F1-Score:\", f1)\n"
   ]
  },
  {
   "cell_type": "markdown",
   "id": "7b23e4f1",
   "metadata": {},
   "source": [
    "# 5. area under the ROC curve (AUC-ROC)"
   ]
  },
  {
   "cell_type": "code",
   "execution_count": 13,
   "id": "81806641",
   "metadata": {},
   "outputs": [
    {
     "name": "stdout",
     "output_type": "stream",
     "text": [
      "AUC-ROC Score: 0.4655448717948717\n"
     ]
    }
   ],
   "source": [
    "from sklearn.metrics import roc_auc_score\n",
    "\n",
    "auc_roc = roc_auc_score(y_test, y_pred)\n",
    "print(\"AUC-ROC Score:\", auc_roc)\n"
   ]
  },
  {
   "cell_type": "markdown",
   "id": "737b788b",
   "metadata": {},
   "source": [
    "# 6. confusion matrix"
   ]
  },
  {
   "cell_type": "code",
   "execution_count": 17,
   "id": "d767d14c",
   "metadata": {},
   "outputs": [
    {
     "name": "stdout",
     "output_type": "stream",
     "text": [
      "Confusion Matrix:\n",
      " [[34 70]\n",
      " [38 58]]\n"
     ]
    }
   ],
   "source": [
    "from sklearn.metrics import confusion_matrix\n",
    "\n",
    "cm = confusion_matrix(y_test, y_pred)\n",
    "print(\"Confusion Matrix:\\n\", cm)\n"
   ]
  },
  {
   "cell_type": "code",
   "execution_count": null,
   "id": "2707c6d6",
   "metadata": {},
   "outputs": [],
   "source": []
  },
  {
   "cell_type": "code",
   "execution_count": null,
   "id": "7e97657e",
   "metadata": {},
   "outputs": [],
   "source": []
  }
 ],
 "metadata": {
  "kernelspec": {
   "display_name": "Python 3 (ipykernel)",
   "language": "python",
   "name": "python3"
  },
  "language_info": {
   "codemirror_mode": {
    "name": "ipython",
    "version": 3
   },
   "file_extension": ".py",
   "mimetype": "text/x-python",
   "name": "python",
   "nbconvert_exporter": "python",
   "pygments_lexer": "ipython3",
   "version": "3.11.4"
  }
 },
 "nbformat": 4,
 "nbformat_minor": 5
}
