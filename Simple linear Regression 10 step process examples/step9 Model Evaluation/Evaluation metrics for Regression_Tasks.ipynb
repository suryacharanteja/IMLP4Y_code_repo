{
 "cells": [
  {
   "cell_type": "code",
   "execution_count": 11,
   "id": "5085ca69",
   "metadata": {},
   "outputs": [
    {
     "name": "stdout",
     "output_type": "stream",
     "text": [
      "Predictions for new bedrooms (test set) y_pred: [6.42857143]\n",
      "Actual y_test values: [5]\n"
     ]
    }
   ],
   "source": [
    "import numpy as np\n",
    "from sklearn.model_selection import train_test_split\n",
    "from sklearn.linear_model import LinearRegression\n",
    "\n",
    "# sample Input data\n",
    "X = np.array([1, 2, 3, 4, 5, ]).reshape(-1, 1)  # Independent variable (bedrooms) or feature\n",
    "y = np.array([2, 5, 10, 17, 26])  # Dependent variable or target\n",
    "\n",
    "# step5: Split the data into training and testing sets\n",
    "X_train, X_test, y_train, y_test = train_test_split(X, y, test_size=0.2, random_state=42)\n",
    "\n",
    "# step6: Create LinearRegression instance\n",
    "model = LinearRegression()\n",
    "\n",
    "# step7: Fit the model to the training data\n",
    "model.fit(X_train, y_train)\n",
    "# y = 5.85714286X - 5.285714285714285\n",
    "\n",
    "# step8: Make predictions for test data points (test set)\n",
    "predictions = model.predict(X_test)\n",
    "\n",
    "y_pred = predictions\n",
    "\n",
    "\n",
    "print(\"Predictions for new bedrooms (test set) y_pred:\", predictions)\n",
    "print(\"Actual y_test values:\", y_test)\n",
    "\n"
   ]
  },
  {
   "cell_type": "code",
   "execution_count": 12,
   "id": "3f3cb43f",
   "metadata": {},
   "outputs": [
    {
     "data": {
      "text/plain": [
       "array([[5],\n",
       "       [3],\n",
       "       [1],\n",
       "       [4]])"
      ]
     },
     "execution_count": 12,
     "metadata": {},
     "output_type": "execute_result"
    }
   ],
   "source": [
    "X_train"
   ]
  },
  {
   "cell_type": "code",
   "execution_count": 13,
   "id": "a8f710fb",
   "metadata": {},
   "outputs": [
    {
     "data": {
      "text/plain": [
       "array([[2]])"
      ]
     },
     "execution_count": 13,
     "metadata": {},
     "output_type": "execute_result"
    }
   ],
   "source": [
    "X_test"
   ]
  },
  {
   "cell_type": "markdown",
   "id": "c04b7402",
   "metadata": {},
   "source": [
    "# 1. Mean Squared Error (MSE)"
   ]
  },
  {
   "cell_type": "code",
   "execution_count": 14,
   "id": "d37e9b94",
   "metadata": {},
   "outputs": [
    {
     "name": "stdout",
     "output_type": "stream",
     "text": [
      "Mean Squared Error (MSE): 2.040816326530613\n"
     ]
    }
   ],
   "source": [
    "from sklearn.metrics import mean_squared_error\n",
    "\n",
    "\n",
    "mse = mean_squared_error(y_test, y_pred)\n",
    "\n",
    "print(\"Mean Squared Error (MSE):\", mse)"
   ]
  },
  {
   "cell_type": "markdown",
   "id": "95f7784d",
   "metadata": {},
   "source": [
    "# 2. Mean Absolute Error (MAE)"
   ]
  },
  {
   "cell_type": "code",
   "execution_count": 19,
   "id": "1d3d5cdc",
   "metadata": {},
   "outputs": [
    {
     "name": "stdout",
     "output_type": "stream",
     "text": [
      "Mean Absolute Error (MAE): 1.4285714285714288\n"
     ]
    }
   ],
   "source": [
    "from sklearn.metrics import mean_absolute_error\n",
    "\n",
    "\n",
    "mae = mean_absolute_error(y_test, y_pred)\n",
    "print(\"Mean Absolute Error (MAE):\", mae)\n"
   ]
  },
  {
   "cell_type": "markdown",
   "id": "7704c46f",
   "metadata": {},
   "source": [
    "# 3. Root Mean Squared Error (RMSE)"
   ]
  },
  {
   "cell_type": "code",
   "execution_count": 21,
   "id": "3d8c31b4",
   "metadata": {},
   "outputs": [
    {
     "name": "stdout",
     "output_type": "stream",
     "text": [
      "Root Mean Squared Error (RMSE): 1.4285714285714288\n"
     ]
    }
   ],
   "source": [
    "from sklearn.metrics import mean_squared_error\n",
    "import numpy as np\n",
    "\n",
    "mse = mean_squared_error(y_test, y_pred)\n",
    "rmse = np.sqrt(mse)\n",
    "print(\"Root Mean Squared Error (RMSE):\", rmse)\n"
   ]
  },
  {
   "cell_type": "markdown",
   "id": "52fd000b",
   "metadata": {},
   "source": [
    "# 4. R-squared score"
   ]
  },
  {
   "cell_type": "code",
   "execution_count": 7,
   "id": "bdb36a64",
   "metadata": {},
   "outputs": [
    {
     "name": "stdout",
     "output_type": "stream",
     "text": [
      "Predictions for new bedrooms (test set) y_pred: [-0.63694268 11.85987261 -0.63694268  5.61146497]\n",
      "Actual y_test values: [ 2 10  2  5]\n"
     ]
    }
   ],
   "source": [
    "import numpy as np\n",
    "from sklearn.model_selection import train_test_split\n",
    "from sklearn.linear_model import LinearRegression\n",
    "\n",
    "# sample Input data\n",
    "X = np.array([1, 2, 3, 4, 5, 1, 2, 3, 4, 5, 1, 2, 3, 4, 5, 1, 2, 3, 4, 5]).reshape(-1, 1)  # Independent variable (bedrooms) or feature\n",
    "y = np.array([2, 5, 10, 17, 26, 2, 5, 10, 17, 26, 2, 5, 10, 17, 26, 2, 5, 10, 17, 26])  # Dependent variable or target\n",
    "\n",
    "# step5: Split the data into training and testing sets\n",
    "X_train, X_test, y_train, y_test = train_test_split(X, y, test_size=0.2, random_state=42)\n",
    "\n",
    "# step6: Create LinearRegression instance\n",
    "model = LinearRegression()\n",
    "\n",
    "# step7: Fit the model to the training data\n",
    "model.fit(X_train, y_train)\n",
    "# y = 5.85714286X - 5.285714285714285\n",
    "\n",
    "# step8: Make predictions for test data points (test set)\n",
    "predictions = model.predict(X_test)\n",
    "\n",
    "y_pred = predictions\n",
    "\n",
    "\n",
    "print(\"Predictions for new bedrooms (test set) y_pred:\", predictions)\n",
    "print(\"Actual y_test values:\", y_test)\n",
    "\n"
   ]
  },
  {
   "cell_type": "code",
   "execution_count": 8,
   "id": "53941d93",
   "metadata": {},
   "outputs": [
    {
     "name": "stdout",
     "output_type": "stream",
     "text": [
      "R-squared (R2) Score: 0.585030435501577\n"
     ]
    }
   ],
   "source": [
    "from sklearn.metrics import r2_score\n",
    "\n",
    "r2 = r2_score(y_test, y_pred)\n",
    "print(\"R-squared (R2) Score:\", r2)\n"
   ]
  },
  {
   "cell_type": "markdown",
   "id": "2676caa4",
   "metadata": {},
   "source": [
    "# 5. explained_variance_score"
   ]
  },
  {
   "cell_type": "code",
   "execution_count": 10,
   "id": "c45b118a",
   "metadata": {},
   "outputs": [
    {
     "name": "stdout",
     "output_type": "stream",
     "text": [
      "Explained Variance Score: 0.630961862443443\n"
     ]
    }
   ],
   "source": [
    "from sklearn.metrics import explained_variance_score\n",
    "\n",
    "# Assuming y_pred and y_test are the predicted and true target values, respectively\n",
    "explained_variance = explained_variance_score(y_test, y_pred)\n",
    "print(\"Explained Variance Score:\", explained_variance)\n"
   ]
  },
  {
   "cell_type": "code",
   "execution_count": null,
   "id": "e4e9ef7c",
   "metadata": {},
   "outputs": [],
   "source": []
  }
 ],
 "metadata": {
  "kernelspec": {
   "display_name": "Python 3 (ipykernel)",
   "language": "python",
   "name": "python3"
  },
  "language_info": {
   "codemirror_mode": {
    "name": "ipython",
    "version": 3
   },
   "file_extension": ".py",
   "mimetype": "text/x-python",
   "name": "python",
   "nbconvert_exporter": "python",
   "pygments_lexer": "ipython3",
   "version": "3.11.4"
  }
 },
 "nbformat": 4,
 "nbformat_minor": 5
}
