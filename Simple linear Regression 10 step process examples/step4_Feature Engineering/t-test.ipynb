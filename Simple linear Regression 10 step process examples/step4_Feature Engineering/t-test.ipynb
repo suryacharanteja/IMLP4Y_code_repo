{
 "cells": [
  {
   "cell_type": "markdown",
   "id": "849c67c5",
   "metadata": {},
   "source": [
    "# indepdent sample t-test"
   ]
  },
  {
   "cell_type": "code",
   "execution_count": 14,
   "id": "5cb588ff",
   "metadata": {},
   "outputs": [
    {
     "name": "stdout",
     "output_type": "stream",
     "text": [
      "10.493313600010808\n",
      "so, we reject the null hypothesis, the relation 'monthly charges' target variable and predictor is statistically significant \n"
     ]
    }
   ],
   "source": [
    "import numpy as np\n",
    "from scipy import stats\n",
    "\n",
    "\n",
    "# generate the data\n",
    "np.random.seed(0)\n",
    "\n",
    "# Monthly charges for churned customers (group 1)\n",
    "churned_charges = np.random.normal(70, 10, 100)\n",
    "\n",
    "# monthly charges for non-churned customers (group2)\n",
    "non_churned_charges = np.random.normal(60, 8, 150)\n",
    "\n",
    "x1 = churned_charges.mean()\n",
    "x2 = non_churned_charges.mean()\n",
    "\n",
    "s1 = churned_charges.std()\n",
    "s2 = non_churned_charges.std()\n",
    "n1 = len(churned_charges)\n",
    "n2 = len(non_churned_charges)\n",
    "group_mean_diff = x1 - x2\n",
    "print(group_mean_diff)\n",
    "H0 = 0\n",
    "\n",
    "# perform the t-test\n",
    "t_statistic, p_value = stats.ttest_ind(churned_charges, non_churned_charges)\n",
    "\n",
    "# level of significance as 5%\n",
    "significant_level = 0.05\n",
    "\n",
    "if p_value < significant_level:\n",
    "    print(\"so, we reject the null hypothesis, the relation 'monthly charges' target variable and predictor is statistically significant \")\n",
    "else:\n",
    "    print(\"so, we fail to reject the null hypothesis,the relation 'monthly charges' target variable and predictor is not statistically significant \")"
   ]
  },
  {
   "cell_type": "code",
   "execution_count": 4,
   "id": "3e11724f",
   "metadata": {},
   "outputs": [
    {
     "name": "stdout",
     "output_type": "stream",
     "text": [
      "[87.64052346 74.00157208 79.78737984 92.40893199 88.6755799  60.2272212\n",
      " 79.50088418 68.48642792 68.96781148 74.10598502 71.44043571 84.54273507\n",
      " 77.61037725 71.21675016 74.43863233 73.33674327 84.94079073 67.94841736\n",
      " 73.13067702 61.45904261 44.47010184 76.53618595 78.64436199 62.5783498\n",
      " 92.69754624 55.45634325 70.45758517 68.1281615  85.32779214 84.6935877\n",
      " 71.54947426 73.7816252  61.12214252 50.19203532 66.52087851 71.56348969\n",
      " 82.30290681 82.02379849 66.12673183 66.97697249 59.51447035 55.79982063\n",
      " 52.93729809 89.50775395 64.90347818 65.61925698 57.4720464  77.77490356\n",
      " 53.86102152 67.8725972  61.04533439 73.86902498 64.89194862 58.19367816\n",
      " 69.71817772 74.28331871 70.66517222 73.02471898 63.65677906 66.37258834\n",
      " 63.27539552 66.40446838 61.86853718 52.73717398 71.77426142 65.98219064\n",
      " 53.69801653 74.62782256 60.92701636 70.51945396 77.29090562 71.28982911\n",
      " 81.39400685 57.6517418  74.02341641 63.15189909 61.29202851 64.21150335\n",
      " 66.88447468 70.56165342 58.34850159 79.00826487 74.6566244  54.63756314\n",
      " 84.88252194 88.95889176 81.78779571 68.20075164 59.29247378 80.54451727\n",
      " 65.96823053 82.2244507  72.08274978 79.76639036 73.56366397 77.06573168\n",
      " 70.10500021 87.85870494 71.26912093 74.01989363] [75.06520558 49.21792751 49.83612001 67.75517367 50.61501276 75.54896949\n",
      " 56.69104815 54.02036151 75.38353621 71.84411833 74.94047168 67.24835727\n",
      " 53.11019452 75.28051962 57.85597303 66.41965117 67.57801574 58.75991926\n",
      " 64.91263496 67.37765337 63.01140425 51.20479368 62.38590539 70.61108717\n",
      " 54.44345712 58.80292368 56.51877159 74.79410983 65.37835806 63.25969469\n",
      " 53.8406714  64.31399353 54.60533871 60.25464447 54.91323137 65.41146636\n",
      " 64.61272653 58.33360996 63.1680537  51.25550793 48.06993926 63.51513361\n",
      " 61.33338796 65.0802515  79.0651582  67.5558359  52.6974222  68.9361303\n",
      " 49.47274072 56.30732316 59.45406716 73.70674177 54.04196142 53.38849169\n",
      " 59.2123798  54.69217371 69.01308738 51.36054793 50.82025078 56.49743964\n",
      " 56.01574039 75.43625643 67.59536646 60.70040993 50.19651585 66.75490381\n",
      " 51.99827722 47.64183123 69.50423834 62.5355409  67.36687059 62.54982122\n",
      " 66.8546449  54.79179525 51.72605727 65.45275615 53.57272269 54.48360178\n",
      " 56.35573997 60.13983327 57.16804871 49.00038965 54.85105278 42.21277478\n",
      " 65.00185161 47.18353876 51.16493328 60.41732063 54.08349603 72.34411676\n",
      " 49.65714472 62.13640695 59.68573745 50.65525202 64.18621328 58.62762935\n",
      " 66.17432441 66.58803323 77.30588759 70.6922236  57.0465453  58.08496658\n",
      " 68.79727677 65.24210985 65.12105221 47.06435165 59.805391   54.09575273\n",
      " 62.23939679 59.21479688 67.28143126 62.53774572 66.2906237  56.26864723\n",
      " 52.44442995 56.71960245 59.86383669 63.03321388 78.07447161 59.66194279\n",
      " 52.35244    57.23214579 56.2912322  63.85185179 47.67362388 60.50609595\n",
      " 61.2520523  61.85744829 55.22147145 58.09662616 48.60751273 56.05344093\n",
      " 55.65710819 63.32840037 50.75054055 66.24958481 71.95587636 43.4401198\n",
      " 63.41006985 65.41526428 54.9005038  56.82182549 58.93695538 57.61767296\n",
      " 57.52789625 46.59196955 69.21865252 68.63694874 53.49308593 48.26860538]\n"
     ]
    }
   ],
   "source": [
    "print(churned_charges,non_churned_charges)"
   ]
  },
  {
   "cell_type": "code",
   "execution_count": 17,
   "id": "4d345ea6",
   "metadata": {},
   "outputs": [
    {
     "data": {
      "text/plain": [
       "9.160708960126113"
      ]
     },
     "execution_count": 17,
     "metadata": {},
     "output_type": "execute_result"
    }
   ],
   "source": [
    "t_statistic"
   ]
  },
  {
   "cell_type": "code",
   "execution_count": 18,
   "id": "a10c1cf7",
   "metadata": {},
   "outputs": [
    {
     "data": {
      "text/plain": [
       "2.0043093212093106e-17"
      ]
     },
     "execution_count": 18,
     "metadata": {},
     "output_type": "execute_result"
    }
   ],
   "source": [
    "p_value"
   ]
  },
  {
   "cell_type": "code",
   "execution_count": null,
   "id": "7c5644a8",
   "metadata": {},
   "outputs": [],
   "source": []
  }
 ],
 "metadata": {
  "kernelspec": {
   "display_name": "Python 3 (ipykernel)",
   "language": "python",
   "name": "python3"
  },
  "language_info": {
   "codemirror_mode": {
    "name": "ipython",
    "version": 3
   },
   "file_extension": ".py",
   "mimetype": "text/x-python",
   "name": "python",
   "nbconvert_exporter": "python",
   "pygments_lexer": "ipython3",
   "version": "3.11.4"
  }
 },
 "nbformat": 4,
 "nbformat_minor": 5
}
