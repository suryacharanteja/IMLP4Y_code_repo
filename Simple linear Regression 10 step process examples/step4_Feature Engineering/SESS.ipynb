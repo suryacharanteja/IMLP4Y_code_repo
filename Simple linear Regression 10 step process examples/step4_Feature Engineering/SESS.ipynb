{
 "cells": [
  {
   "cell_type": "markdown",
   "id": "22cf8ea1",
   "metadata": {},
   "source": [
    "# classical statistical inference pipeline to a research question related to Newton's law of motion"
   ]
  },
  {
   "cell_type": "markdown",
   "id": "448c1217",
   "metadata": {},
   "source": [
    "### Research question: Does the force applied to an object affect its acceleration?"
   ]
  },
  {
   "cell_type": "markdown",
   "id": "60754185",
   "metadata": {},
   "source": [
    "### step1: Formulate a research question or hypothesis: \n",
    "        Hypothesis: the force applied to an object is directly proportional to its acceleration"
   ]
  },
  {
   "cell_type": "markdown",
   "id": "6b380c90",
   "metadata": {},
   "source": [
    "### step2: Design a study:\n",
    "        a simple experiment can be designed where an object of known mass is attached to a string and pulled iwth varying amounts of force. \n",
    "        the acceleration of the object is measured using a motion sensor"
   ]
  },
  {
   "cell_type": "markdown",
   "id": "a1d76492",
   "metadata": {},
   "source": [
    "### step3: collect data:\n",
    "        data is collected by measuring the force applied to the object and the resulting acceleration"
   ]
  },
  {
   "cell_type": "markdown",
   "id": "390f5115",
   "metadata": {},
   "source": [
    "### step4: explore the data:\n",
    "        the data is plotted on a graph to look for a linear relationship between the force and acceleration"
   ]
  },
  {
   "cell_type": "markdown",
   "id": "d41dbb4b",
   "metadata": {},
   "source": [
    "### step5: Choose a statistical model:\n",
    "        A linear regression model can be chosen to model the slope and intercept, relationship between the force and acceleration"
   ]
  },
  {
   "cell_type": "markdown",
   "id": "dc3290c5",
   "metadata": {},
   "source": [
    "### step6: Estimate the model parameters:\n",
    "        slope and intercept, are estimated using the collected data"
   ]
  },
  {
   "cell_type": "markdown",
   "id": "9c863870",
   "metadata": {},
   "source": [
    "### step7: Test the Hypothesis:\n",
    "        if the estimated slope of the linear regression model is significantly different from zero"
   ]
  },
  {
   "cell_type": "markdown",
   "id": "734d471e",
   "metadata": {},
   "source": [
    "### step8: Draw conclusions:\n",
    "        hypothesis test indicates theat the estimated slope is significantly different from zero, \n",
    "        it can be conluded that there is a significant linear relationship between the force and acceleration"
   ]
  },
  {
   "cell_type": "markdown",
   "id": "8342d624",
   "metadata": {},
   "source": [
    "### step9: Communicate results:\n",
    "        the findings of the study can be summarized in a research paper or report, which can be shared with others in scientific community"
   ]
  },
  {
   "cell_type": "code",
   "execution_count": null,
   "id": "66411da4",
   "metadata": {},
   "outputs": [],
   "source": []
  },
  {
   "cell_type": "markdown",
   "id": "a4be9a8d",
   "metadata": {},
   "source": [
    "# A/B testing"
   ]
  },
  {
   "cell_type": "markdown",
   "id": "b10dcd58",
   "metadata": {},
   "source": [
    "###### 1. Testing two soit treatments to determine which produces better seed germination\n"
   ]
  },
  {
   "cell_type": "markdown",
   "id": "aadb9bda",
   "metadata": {},
   "source": [
    "###### 2. Testing two therapies to determine which suppresses cancer more effectively "
   ]
  },
  {
   "cell_type": "markdown",
   "id": "7845430d",
   "metadata": {},
   "source": [
    "###### 3. Testing two prices to determine which yields more net profit"
   ]
  },
  {
   "cell_type": "markdown",
   "id": "7ccff241",
   "metadata": {},
   "source": [
    "###### 4. Testing two web designs or headlines to determine which produces more clicks"
   ]
  },
  {
   "cell_type": "markdown",
   "id": "7dbfbf43",
   "metadata": {},
   "source": [
    "###### 5. Testing two web ads to determine which generates more conversions"
   ]
  },
  {
   "cell_type": "markdown",
   "id": "fcc2c137",
   "metadata": {},
   "source": [
    "##### Subject: \n",
    "    person, plant seed, web visitor"
   ]
  },
  {
   "cell_type": "markdown",
   "id": "7e086573",
   "metadata": {},
   "source": [
    "###### Test statistic:\n",
    "    binary variable\n",
    "    click or no-click, buy or don't buy, fraud or no fraud,\n",
    "    \n",
    "    ecommerce experiment results:\n",
    "        outcome  |  PriceA   | price B\n",
    "        conversion  200        182\n",
    "        No conversion 23,539   22406"
   ]
  },
  {
   "cell_type": "markdown",
   "id": "8400e996",
   "metadata": {},
   "source": [
    "###### Revenue/page view with price A: mean = 3.87, SD = 51.10\n",
    "Revenue/page view with price B; mean = 4.11, SD = 62.98"
   ]
  },
  {
   "cell_type": "markdown",
   "id": "1eee2336",
   "metadata": {},
   "source": [
    "###### multi-arm bandit algorithm"
   ]
  },
  {
   "cell_type": "code",
   "execution_count": 2,
   "id": "46d8ddc9",
   "metadata": {},
   "outputs": [
    {
     "name": "stdout",
     "output_type": "stream",
     "text": [
      "The redesigned product page leads to a significantly higher conversion rate (p-value = 0.0000).\n"
     ]
    }
   ],
   "source": [
    "import numpy as np\n",
    "from scipy.stats import ttest_ind\n",
    "\n",
    "# Generate simulated data\n",
    "np.random.seed(123)\n",
    "original_conversion_rates = np.random.rand(1000)\n",
    "redesigned_conversion_rates = np.random.normal(0.05, 0.01, size=1000)\n",
    "\n",
    "# Conduct a two-sample t-test\n",
    "t_statistic, p_value = ttest_ind(original_conversion_rates, redesigned_conversion_rates, equal_var=False)\n",
    "\n",
    "# Print the results of the hypothesis test\n",
    "if p_value < 0.05:\n",
    "    print(\"The redesigned product page leads to a significantly higher conversion rate (p-value = {:.4f}).\".format(p_value))\n",
    "else:\n",
    "    print(\"There is no significant difference in conversion rates between the original and redesigned product pages (p-value = {:.4f}).\".format(p_value))\n"
   ]
  },
  {
   "cell_type": "markdown",
   "id": "a206b6fe",
   "metadata": {},
   "source": [
    "# Hypothesis testing"
   ]
  },
  {
   "cell_type": "markdown",
   "id": "8a5b6438",
   "metadata": {},
   "source": [
    "### Misinterpreting randomness:\n",
    "    task1: ask several friends to invent a series of 50 coin flips: write down a series of random Hs and Ts.\n",
    "    \n",
    "    task2: actually flip a coin 50 times and write down the results.\n",
    "        \n",
    "    task3: have them put the real coin flip results in one pile, and the made up results in another.\n",
    "        \n",
    "        \n",
    "        result: it is not at all unusual to see five or six Hs or Ts in a row"
   ]
  },
  {
   "cell_type": "markdown",
   "id": "5b018c31",
   "metadata": {},
   "source": [
    "### A statistical hypothesis test is further analysis of an A/B rest, or any randomize experiment.:\n",
    "    to assess whether ranodm chance is a reasonable explanation for the observed difference between groups A and groups B\n"
   ]
  },
  {
   "cell_type": "markdown",
   "id": "12badc3a",
   "metadata": {},
   "source": [
    "### Null hypothesis:involves a baseline assumption that the treatments or groups are equivalent, and any difference between the groups is due to chance. represented as H0\n",
    "    1. there is no significant difference in mean test scores between male and female students\n",
    "    2. the average salary of employees in a company is not affected by their years of experience\n",
    "    3. there is no significant correlation between the amount of time spent exercising and the level of blood pressure in adults\n",
    "    4. the propotion of defective products produced by a manufacturing process does not exceed a certain thresold\n",
    "    5. the mean wight of apples grown on two different farms is not significantly different from each other"
   ]
  },
  {
   "cell_type": "markdown",
   "id": "a27f31dd",
   "metadata": {},
   "source": [
    "### Alternate Hypothesis: Ha\n",
    "    1. the mean test scores of male and female students in a particular school are significantly different\n",
    "    2. the average salary of employees in a company is affected by their years of experience\n",
    "    3. there is a significant correlation between the amount of time spent exercising and the level of blood pressure in adults\n",
    "    4. the proportion of defective products produced by a process exceeds a cetain thresold\n",
    "    5. the mean weight of apples grown on two different farms is significantly different from each other."
   ]
  },
  {
   "cell_type": "markdown",
   "id": "d48a8fbd",
   "metadata": {},
   "source": [
    "### one-way test: researcher interested in whether a particular variable has a significant effect in a specific direction, + or -\n",
    "    example: whether a new medication decreases the average blood pressure of patients\n",
    "        H0: the medication has no effect on the blood pressure\n",
    "        Ha: medication decreases the blood pressure3"
   ]
  },
  {
   "cell_type": "markdown",
   "id": "0e06e052",
   "metadata": {},
   "source": [
    "### two-way test: researcher is interested in whether a particular variable has a significant effect, regardles3s of whether the effect is + or -\n",
    "    example: whether a new advertising campaign increase the average sales of a product.\n",
    "        H0: the advertising campaign has no effect on sales\n",
    "        Ha: the advertising campaign has significant effect on sales,, either positive or negative."
   ]
  },
  {
   "cell_type": "markdown",
   "id": "4e02ee96",
   "metadata": {},
   "source": [
    "# Permutation test"
   ]
  },
  {
   "cell_type": "markdown",
   "id": "2fd34953",
   "metadata": {},
   "source": [
    "### example: a researcher wants to test whether there is a significant difference in the average weight between two different breeds of dogs,\n",
    "    breed A \n",
    "    breed B"
   ]
  },
  {
   "cell_type": "markdown",
   "id": "adc87ded",
   "metadata": {},
   "source": [
    "### H0: there is no significant difference between the average weights of the two breeds, \n"
   ]
  },
  {
   "cell_type": "markdown",
   "id": "407c98f2",
   "metadata": {},
   "source": [
    "### Ha: there is a significant difference"
   ]
  },
  {
   "cell_type": "markdown",
   "id": "a1ee92b5",
   "metadata": {},
   "source": [
    "### step1: researcher collects a sample of 20 dogs from breed A and 20 dogs from breed B\n",
    "    and measures their weights in pounds\n",
    "    "
   ]
  },
  {
   "cell_type": "markdown",
   "id": "19080f29",
   "metadata": {},
   "source": [
    "### step2: the observed difference in means between the two breeds is \n",
    "    4.5 pounds,\n",
    "    \n",
    "    with breed A having an average weight of 45 pounds, and breed B having an average weight of 49.5 pounds"
   ]
  },
  {
   "cell_type": "markdown",
   "id": "f7b0a976",
   "metadata": {},
   "source": [
    "### step3: conducting a permuation test\n",
    "    researcher randomly assigns the 40 observations to two groups of 20,\n",
    "    simulating the null hypothesis of no difference between the two breeds.\n",
    "    \n",
    "    "
   ]
  },
  {
   "cell_type": "markdown",
   "id": "7a9a1cd4",
   "metadata": {},
   "source": [
    "### step4: researcher calculates the difference in means between two groups, and record this value. this process is repeated many times. \n",
    "    creating a distribution of differences in means under the null hypothesis"
   ]
  },
  {
   "cell_type": "markdown",
   "id": "43cbe6c8",
   "metadata": {},
   "source": [
    "### step5: After creating the distribution of differences in means, the researcher comopares the observed difference in means of 4.5 pounds to this distribution\n",
    "    \n",
    "    if the observed difference is outside the range of values in the null distribution or distribution of differences in mean. \n",
    "    \n",
    "    researcher can reject the null hypothesis and conclude that there is a significant difference between the weights of the two breeds"
   ]
  },
  {
   "cell_type": "code",
   "execution_count": null,
   "id": "f15d0148",
   "metadata": {},
   "outputs": [],
   "source": []
  },
  {
   "cell_type": "markdown",
   "id": "e9541edb",
   "metadata": {},
   "source": [
    "# Statistical significance and p-value"
   ]
  },
  {
   "cell_type": "markdown",
   "id": "57260923",
   "metadata": {},
   "source": [
    "### Statistical significance is a measure of likelihood that an observed effect is not due to chance\n",
    "the p-value  is used as a thresold to determine the statistical significance;\n",
    "\n",
    "    p-value < or = specified significance level (0.05) --> stastically significant\n",
    "        [ indicating that the observed effect is unlikely to have occured by chance]"
   ]
  },
  {
   "cell_type": "markdown",
   "id": "27f34a81",
   "metadata": {},
   "source": [
    "### Example: we want to test whether a neew drug is effective in reducing blood pressure. "
   ]
  },
  {
   "cell_type": "markdown",
   "id": "68446f7c",
   "metadata": {},
   "source": [
    "### step1: randomly assign 100 participants to receive thenew drug or a placebo for a period of 4 weeks, and measure their blood pressure\n",
    "    berfor e and after treatment."
   ]
  },
  {
   "cell_type": "markdown",
   "id": "97424b91",
   "metadata": {},
   "source": [
    "### step2: performed two-sample t-test,\n",
    "    observed test statstics:\n",
    "        treatment groups: \n",
    "       and  control group: is -2.45\n",
    "        and the corresponding p-value -s 0.016"
   ]
  },
  {
   "cell_type": "markdown",
   "id": "15413522",
   "metadata": {},
   "source": [
    "### step3: p-values < 0.05 (sl)\n",
    "    the observed effect is statistically significant."
   ]
  },
  {
   "cell_type": "markdown",
   "id": "d88023c1",
   "metadata": {},
   "source": [
    "# Type1 error or false positive:occures when we reject the null hypothesis when it is actually true\n",
    "    significance level _ alpha = 0.05 -->5% chance of rejecting null hypthesis\n",
    "    \n",
    "    the probability of making type1 error is denoted by alpha and typically set at 0.05 or 0.01\n",
    "    \n",
    "    "
   ]
  },
  {
   "cell_type": "markdown",
   "id": "b0c59474",
   "metadata": {},
   "source": [
    "# Type2 error or false negative, occurs when we fail to reject the null hypothesis when it actually false.\n",
    "    the probability of making type2 error is denoted by beta and is influenced by the sample size, effect size and alpha level"
   ]
  },
  {
   "cell_type": "markdown",
   "id": "c0e36dc0",
   "metadata": {},
   "source": [
    "### alpha --> reduce it \n",
    "--> the probability of making a type1 error but can increase the probability of making type2 error.\n",
    "\n",
    "alpha --> increase it\n",
    "--> probabiity of making type1 error increases anfd type2 decreses\n",
    "\n",
    "alpha = 10 = 0.10\n"
   ]
  },
  {
   "cell_type": "markdown",
   "id": "97c71cac",
   "metadata": {},
   "source": [
    "### example: hypothesis = new teaching method improves student's performance in math:\n",
    "    \n",
    "    H0 = there is no difference in performance between the new teaching method and the traditional method.\n",
    "    Ha = there is a difference"
   ]
  },
  {
   "cell_type": "markdown",
   "id": "5a4e4d52",
   "metadata": {},
   "source": [
    "### step1: researcher randomly selects 100 students and randomly assigns them to either the new or traditional teaching method.\n",
    "    1. the mean math test score for the new teaching method group is 85 with a SD = 10\n",
    "    2. the = 80 and SD =8 using old teaching method."
   ]
  },
  {
   "cell_type": "markdown",
   "id": "85f5fb7d",
   "metadata": {},
   "source": [
    "### step2: performs a two-sample t-test with a signficance level \n",
    "    alpha = 0.05\n",
    "    "
   ]
  },
  {
   "cell_type": "markdown",
   "id": "67670cb4",
   "metadata": {},
   "source": [
    "### step3: the t-test value in \n",
    "    p-value = 0.02, \n",
    "    "
   ]
  },
  {
   "cell_type": "markdown",
   "id": "de5ec2ba",
   "metadata": {},
   "source": [
    "### step4: p-value is lesser than the alpha=0.05\n",
    "    "
   ]
  },
  {
   "cell_type": "markdown",
   "id": "41f2c011",
   "metadata": {},
   "source": [
    "### step5: the observed differnce in mean test scores between the two groups is statistically significant.\n",
    "    reject null hypothesis "
   ]
  },
  {
   "cell_type": "markdown",
   "id": "969c2896",
   "metadata": {},
   "source": [
    "### step6: conclusion:\n",
    "        new teaching method improves student's performance in math."
   ]
  },
  {
   "cell_type": "markdown",
   "id": "d23ba20f",
   "metadata": {},
   "source": [
    "### step7: possibilites of type1 and type2 errors\n",
    "    type1 error = 0.05\n",
    "    "
   ]
  },
  {
   "cell_type": "markdown",
   "id": "de8d2320",
   "metadata": {},
   "source": [
    "### to reduce the risk of Type1 and Type2 erros:\n",
    "    1. increase the sample size\n",
    "    2. use a different statstical test\n",
    "    3. adjust the alpha level\n",
    "    "
   ]
  },
  {
   "cell_type": "code",
   "execution_count": 7,
   "id": "8e388ad0",
   "metadata": {},
   "outputs": [
    {
     "name": "stdout",
     "output_type": "stream",
     "text": [
      "T-statistic: 3.94\n",
      "P-value: 0.00\n",
      "The observed difference in mean test scores is statistically significant .reject the null hypothesis\n"
     ]
    }
   ],
   "source": [
    "import numpy as np\n",
    "from scipy.stats import ttest_ind\n",
    "\n",
    "# Generate simulated data\n",
    "np.random.seed(123)\n",
    "new_method_scores = np.random.normal(loc=85, scale=10, size=100)\n",
    "trad_method_scores = np.random.normal(loc=80, scale=8, size=100)\n",
    "\n",
    "# Conduct a two-sample t-test\n",
    "t_stat, p_val = ttest_ind(new_method_scores, trad_method_scores, equal_var=False)\n",
    "\n",
    "# print the results\n",
    "print(f\"T-statistic: {t_stat:.2f}\")\n",
    "print(f\"P-value: {p_val:.2f}\")\n",
    "\n",
    "# set significance level\n",
    "alpha = 0.5\n",
    "\n",
    "# Print the results of the hypothesis test\n",
    "if p_value < alpha:\n",
    "    print(\"The observed difference in mean test scores is statistically significant .reject the null hypothesis\")\n",
    "else:\n",
    "    print(\"The observed difference in mean test scores is not statistically significant .Fail to reject the null hypothesis\")"
   ]
  },
  {
   "cell_type": "code",
   "execution_count": null,
   "id": "48fee10e",
   "metadata": {},
   "outputs": [],
   "source": []
  },
  {
   "cell_type": "markdown",
   "id": "f36e6c73",
   "metadata": {},
   "source": [
    "### p-values for data scientists"
   ]
  },
  {
   "cell_type": "code",
   "execution_count": null,
   "id": "5ba6d37e",
   "metadata": {},
   "outputs": [],
   "source": [
    "example: a linear regression model to predict house prices based on various features such as\n",
    "    dependent variable or response or target = house prices\n",
    "    independent variable or predictors or features \n",
    "    1. square footage\n",
    "    2. number of bedrooms\n",
    "    3. location\n",
    "    4. presence of swimming pool\n",
    "    \n",
    "case1: dataset with 100 houses records\n",
    "    50 have swimming pools\n",
    "    50 do not\n",
    "    \n",
    "    after running the regression analysis for \n",
    "    p-value = 0.02\n",
    "    indicating the statistical significance level at 0.05\n",
    "    \n",
    "    conclusion: there is a significant association between  the presence of pool and house prices.\n",
    "        swimming pool feature is more likely to be included in the model.\n",
    "\n",
    "case2: dataset = 100 records\n",
    "    10 have a pool rest do not\n",
    "    p-value = 0.25 > 0.05\n",
    "    conclusion: there no significant association between  the presence of pool and house prices.\n",
    "        swimming pool feature is more likely to be excluded in the model."
   ]
  },
  {
   "cell_type": "code",
   "execution_count": null,
   "id": "907011f4",
   "metadata": {},
   "outputs": [],
   "source": []
  },
  {
   "cell_type": "markdown",
   "id": "9d9b4764",
   "metadata": {},
   "source": [
    "# Multiple testing"
   ]
  },
  {
   "cell_type": "markdown",
   "id": "5ea7e645",
   "metadata": {},
   "source": [
    "### Alfa inflation:\n",
    "    predictor variables = 20\n",
    "    out come variable = 1\n",
    "    \n",
    "    \n",
    "    when we do a series of 20 significance tests at the alpha=0.05 level, the odds are pretty fodd that \n",
    "    at least one predictor will give a Type1 error - false positive\n",
    "    \n",
    "    \n",
    "    0.95^20 = 0.36\n",
    "    \n",
    "    -->the probability that atleast one predictor will (falsely) test significant is the flip isde of this proability\n",
    "    = 1 - (probability that all will be nonsignificant)\n",
    "    = 1- 0.36\n",
    "    = 0.64\n",
    "    is known as alpha inflation"
   ]
  },
  {
   "cell_type": "markdown",
   "id": "bb4b2d8d",
   "metadata": {},
   "source": [
    "### 1. Bonferroni correction: adjust the alpha for each individual test by dividing it by the number of tests being conducted"
   ]
  },
  {
   "cell_type": "code",
   "execution_count": 9,
   "id": "6cf11672",
   "metadata": {},
   "outputs": [
    {
     "name": "stdout",
     "output_type": "stream",
     "text": [
      "corrected alpha:  0.0025\n"
     ]
    }
   ],
   "source": [
    "tests = 20\n",
    "alpha = 0.05\n",
    "\n",
    "corrected_alpha = alpha/tests\n",
    "\n",
    "print(\"corrected alpha: \", corrected_alpha)"
   ]
  },
  {
   "cell_type": "code",
   "execution_count": null,
   "id": "00352fde",
   "metadata": {},
   "outputs": [],
   "source": []
  },
  {
   "cell_type": "markdown",
   "id": "dd6ee39a",
   "metadata": {},
   "source": [
    "# Degrees of freedom (df): number of values free to vary\n",
    "    example: a sample with 10 values\n",
    "        we know the mean of 10 values = 60, \n",
    "        there are 9 degrees of freedom\n",
    "        n = 10\n",
    "        df = n - 1\n",
    "        df = 10 - 1\n",
    "        df = 9\n",
    "        \n",
    "        ----> 9 df means (once you know 9 values of the sample, the 10th can be calculated and is not freee to vary.)"
   ]
  },
  {
   "cell_type": "markdown",
   "id": "62bd1b3a",
   "metadata": {},
   "source": [
    "### we use n-1 in the denominator to estimate the sample variance :\n",
    "    to make the estimate free from the bias , we use n-1 in the denominator"
   ]
  },
  {
   "cell_type": "markdown",
   "id": "f1d18481",
   "metadata": {},
   "source": [
    "### Df in ANOVA:\n",
    "    df for between groups = number of groups - 1\n",
    "    df for within groups = total sample size - total number of groups"
   ]
  },
  {
   "cell_type": "code",
   "execution_count": 11,
   "id": "aa7cf38b",
   "metadata": {},
   "outputs": [],
   "source": [
    "import scipy.stats as stats\n",
    "\n",
    "# Sample data for three types of fertilizer\n",
    "fertilizer1 = [4, 5, 6, 4, 5, 5]\n",
    "fertilizer2 = [5, 6, 7, 6, 5, 7]\n",
    "fertilizer3 = [7, 8, 6, 7, 9, 8]\n",
    "\n"
   ]
  },
  {
   "cell_type": "markdown",
   "id": "d75692f6",
   "metadata": {},
   "source": [
    "### example: comparing the effectiveness of three different types of fertilizers on plant growth.\n",
    "    "
   ]
  },
  {
   "cell_type": "markdown",
   "id": "b81a72f3",
   "metadata": {},
   "source": [
    "### step1:\n",
    "    H0: there is no difference in plant growth between the three types of fertilizer.\n",
    "    Ha: there is a significant difference"
   ]
  },
  {
   "cell_type": "markdown",
   "id": "aafc8da2",
   "metadata": {},
   "source": [
    "### step2: the mean and variance of the plant heights would be calculated for each  group (fertilizer type)"
   ]
  },
  {
   "cell_type": "markdown",
   "id": "471c90d6",
   "metadata": {},
   "source": [
    "### step3: SSb - between the groups , SSW - with in the group\n",
    "    SSb = sum of the squared differences between the group means and the overall mean of all plants.\n",
    "    SSw = sum of the squared differences between each plant's height and the mean height of its respective group.\n",
    "    SSt = sum of the squared differences between each plant's height and the overall mean height."
   ]
  },
  {
   "cell_type": "markdown",
   "id": "f453d744",
   "metadata": {},
   "source": [
    "### step4: calculate F-stastic \n",
    "    F-statistic = SSb / SSw"
   ]
  },
  {
   "cell_type": "markdown",
   "id": "d86a3e25",
   "metadata": {},
   "source": [
    "### step5: determine the p-values\n",
    "    p-value associated with the F-statistic would be determined using a table  or statistical software"
   ]
  },
  {
   "cell_type": "markdown",
   "id": "2ae5ac66",
   "metadata": {},
   "source": [
    "### step6: inferences\n",
    "    if the p-value < alpha (0.05)\n",
    "    --> the null hypothesis would be rejected and it would be concluded that there is asignificant difference in plant growth between the three types of fertilizers"
   ]
  },
  {
   "cell_type": "code",
   "execution_count": 12,
   "id": "52a62dca",
   "metadata": {},
   "outputs": [
    {
     "name": "stdout",
     "output_type": "stream",
     "text": [
      "F-value:  13.040540540540542\n",
      "P-value:  0.0005228419958633013\n"
     ]
    }
   ],
   "source": [
    "import scipy.stats as stats\n",
    "\n",
    "# Sample data for three types of fertilizer\n",
    "fertilizer1 = [4, 5, 6, 4, 5, 5]\n",
    "fertilizer2 = [5, 6, 7, 6, 5, 7]\n",
    "fertilizer3 = [7, 8, 6, 7, 9, 8]\n",
    "\n",
    "# Calculate the ANOVA\n",
    "f_value, p_value = stats.f_oneway(fertilizer1, fertilizer2, fertilizer3)\n",
    "\n",
    "# print the results\n",
    "print(\"F-value: \", f_value)\n",
    "print(\"P-value: \", p_value)"
   ]
  },
  {
   "cell_type": "code",
   "execution_count": 13,
   "id": "6d14402c",
   "metadata": {},
   "outputs": [
    {
     "data": {
      "text/plain": [
       "True"
      ]
     },
     "execution_count": 13,
     "metadata": {},
     "output_type": "execute_result"
    }
   ],
   "source": [
    "p_value < 0.05\n"
   ]
  },
  {
   "cell_type": "markdown",
   "id": "09c263c5",
   "metadata": {},
   "source": [
    "### conclusion: the null hypothesis would be rejected and it would be concluded that there is asignificant difference in plant growth between the three types of fertilizers"
   ]
  },
  {
   "cell_type": "code",
   "execution_count": null,
   "id": "954ed51e",
   "metadata": {},
   "outputs": [],
   "source": []
  },
  {
   "cell_type": "code",
   "execution_count": 27,
   "id": "bdd698a3",
   "metadata": {},
   "outputs": [],
   "source": [
    "plant_data = pd.read_csv(\"./plants.csv\")\n"
   ]
  },
  {
   "cell_type": "code",
   "execution_count": 28,
   "id": "a4804238",
   "metadata": {},
   "outputs": [
    {
     "data": {
      "text/html": [
       "<div>\n",
       "<style scoped>\n",
       "    .dataframe tbody tr th:only-of-type {\n",
       "        vertical-align: middle;\n",
       "    }\n",
       "\n",
       "    .dataframe tbody tr th {\n",
       "        vertical-align: top;\n",
       "    }\n",
       "\n",
       "    .dataframe thead th {\n",
       "        text-align: right;\n",
       "    }\n",
       "</style>\n",
       "<table border=\"1\" class=\"dataframe\">\n",
       "  <thead>\n",
       "    <tr style=\"text-align: right;\">\n",
       "      <th></th>\n",
       "      <th>temperature</th>\n",
       "      <th>humidity</th>\n",
       "      <th>growth_rate</th>\n",
       "    </tr>\n",
       "  </thead>\n",
       "  <tbody>\n",
       "    <tr>\n",
       "      <th>0</th>\n",
       "      <td>low</td>\n",
       "      <td>low</td>\n",
       "      <td>2.3</td>\n",
       "    </tr>\n",
       "    <tr>\n",
       "      <th>1</th>\n",
       "      <td>low</td>\n",
       "      <td>low</td>\n",
       "      <td>2.4</td>\n",
       "    </tr>\n",
       "    <tr>\n",
       "      <th>2</th>\n",
       "      <td>low</td>\n",
       "      <td>low</td>\n",
       "      <td>2.1</td>\n",
       "    </tr>\n",
       "    <tr>\n",
       "      <th>3</th>\n",
       "      <td>low</td>\n",
       "      <td>medium</td>\n",
       "      <td>2.6</td>\n",
       "    </tr>\n",
       "    <tr>\n",
       "      <th>4</th>\n",
       "      <td>low</td>\n",
       "      <td>medium</td>\n",
       "      <td>2.5</td>\n",
       "    </tr>\n",
       "    <tr>\n",
       "      <th>5</th>\n",
       "      <td>low</td>\n",
       "      <td>medium</td>\n",
       "      <td>2.4</td>\n",
       "    </tr>\n",
       "    <tr>\n",
       "      <th>6</th>\n",
       "      <td>low</td>\n",
       "      <td>high</td>\n",
       "      <td>2.8</td>\n",
       "    </tr>\n",
       "    <tr>\n",
       "      <th>7</th>\n",
       "      <td>low</td>\n",
       "      <td>high</td>\n",
       "      <td>2.7</td>\n",
       "    </tr>\n",
       "    <tr>\n",
       "      <th>8</th>\n",
       "      <td>low</td>\n",
       "      <td>high</td>\n",
       "      <td>2.9</td>\n",
       "    </tr>\n",
       "    <tr>\n",
       "      <th>9</th>\n",
       "      <td>medium</td>\n",
       "      <td>low</td>\n",
       "      <td>3.1</td>\n",
       "    </tr>\n",
       "    <tr>\n",
       "      <th>10</th>\n",
       "      <td>medium</td>\n",
       "      <td>low</td>\n",
       "      <td>3.0</td>\n",
       "    </tr>\n",
       "    <tr>\n",
       "      <th>11</th>\n",
       "      <td>medium</td>\n",
       "      <td>low</td>\n",
       "      <td>2.9</td>\n",
       "    </tr>\n",
       "    <tr>\n",
       "      <th>12</th>\n",
       "      <td>medium</td>\n",
       "      <td>medium</td>\n",
       "      <td>3.5</td>\n",
       "    </tr>\n",
       "    <tr>\n",
       "      <th>13</th>\n",
       "      <td>medium</td>\n",
       "      <td>medium</td>\n",
       "      <td>3.3</td>\n",
       "    </tr>\n",
       "    <tr>\n",
       "      <th>14</th>\n",
       "      <td>medium</td>\n",
       "      <td>medium</td>\n",
       "      <td>3.2</td>\n",
       "    </tr>\n",
       "    <tr>\n",
       "      <th>15</th>\n",
       "      <td>medium</td>\n",
       "      <td>high</td>\n",
       "      <td>3.8</td>\n",
       "    </tr>\n",
       "    <tr>\n",
       "      <th>16</th>\n",
       "      <td>medium</td>\n",
       "      <td>high</td>\n",
       "      <td>3.9</td>\n",
       "    </tr>\n",
       "    <tr>\n",
       "      <th>17</th>\n",
       "      <td>medium</td>\n",
       "      <td>high</td>\n",
       "      <td>3.7</td>\n",
       "    </tr>\n",
       "    <tr>\n",
       "      <th>18</th>\n",
       "      <td>high</td>\n",
       "      <td>low</td>\n",
       "      <td>4.2</td>\n",
       "    </tr>\n",
       "    <tr>\n",
       "      <th>19</th>\n",
       "      <td>high</td>\n",
       "      <td>low</td>\n",
       "      <td>4.3</td>\n",
       "    </tr>\n",
       "    <tr>\n",
       "      <th>20</th>\n",
       "      <td>high</td>\n",
       "      <td>low</td>\n",
       "      <td>4.1</td>\n",
       "    </tr>\n",
       "    <tr>\n",
       "      <th>21</th>\n",
       "      <td>high</td>\n",
       "      <td>medium</td>\n",
       "      <td>4.6</td>\n",
       "    </tr>\n",
       "    <tr>\n",
       "      <th>22</th>\n",
       "      <td>high</td>\n",
       "      <td>medium</td>\n",
       "      <td>4.5</td>\n",
       "    </tr>\n",
       "    <tr>\n",
       "      <th>23</th>\n",
       "      <td>high</td>\n",
       "      <td>medium</td>\n",
       "      <td>4.4</td>\n",
       "    </tr>\n",
       "    <tr>\n",
       "      <th>24</th>\n",
       "      <td>high</td>\n",
       "      <td>high</td>\n",
       "      <td>4.9</td>\n",
       "    </tr>\n",
       "    <tr>\n",
       "      <th>25</th>\n",
       "      <td>high</td>\n",
       "      <td>high</td>\n",
       "      <td>4.8</td>\n",
       "    </tr>\n",
       "    <tr>\n",
       "      <th>26</th>\n",
       "      <td>high</td>\n",
       "      <td>high</td>\n",
       "      <td>4.7</td>\n",
       "    </tr>\n",
       "  </tbody>\n",
       "</table>\n",
       "</div>"
      ],
      "text/plain": [
       "   temperature humidity  growth_rate\n",
       "0          low      low          2.3\n",
       "1          low      low          2.4\n",
       "2          low      low          2.1\n",
       "3          low   medium          2.6\n",
       "4          low   medium          2.5\n",
       "5          low   medium          2.4\n",
       "6          low     high          2.8\n",
       "7          low     high          2.7\n",
       "8          low     high          2.9\n",
       "9       medium      low          3.1\n",
       "10      medium      low          3.0\n",
       "11      medium      low          2.9\n",
       "12      medium   medium          3.5\n",
       "13      medium   medium          3.3\n",
       "14      medium   medium          3.2\n",
       "15      medium     high          3.8\n",
       "16      medium     high          3.9\n",
       "17      medium     high          3.7\n",
       "18        high      low          4.2\n",
       "19        high      low          4.3\n",
       "20        high      low          4.1\n",
       "21        high   medium          4.6\n",
       "22        high   medium          4.5\n",
       "23        high   medium          4.4\n",
       "24        high     high          4.9\n",
       "25        high     high          4.8\n",
       "26        high     high          4.7"
      ]
     },
     "execution_count": 28,
     "metadata": {},
     "output_type": "execute_result"
    }
   ],
   "source": [
    "plant_data"
   ]
  },
  {
   "cell_type": "code",
   "execution_count": null,
   "id": "fca1cc88",
   "metadata": {},
   "outputs": [],
   "source": [
    "example: we want to investigate the effect of two factors, \n",
    "    1. temperature and   ---> ind var ----> low, medium, high\n",
    "    2. humidity,         ---> ind vara  --> low, medium, high\n",
    "    \n",
    "    on the \n",
    "    growth rate of a plant species. --> dep var"
   ]
  },
  {
   "cell_type": "code",
   "execution_count": 31,
   "id": "69e54ad8",
   "metadata": {},
   "outputs": [
    {
     "data": {
      "text/html": [
       "<div>\n",
       "<style scoped>\n",
       "    .dataframe tbody tr th:only-of-type {\n",
       "        vertical-align: middle;\n",
       "    }\n",
       "\n",
       "    .dataframe tbody tr th {\n",
       "        vertical-align: top;\n",
       "    }\n",
       "\n",
       "    .dataframe thead th {\n",
       "        text-align: right;\n",
       "    }\n",
       "</style>\n",
       "<table border=\"1\" class=\"dataframe\">\n",
       "  <thead>\n",
       "    <tr style=\"text-align: right;\">\n",
       "      <th></th>\n",
       "      <th>temperature</th>\n",
       "      <th>humidity</th>\n",
       "      <th>growth_rate</th>\n",
       "    </tr>\n",
       "  </thead>\n",
       "  <tbody>\n",
       "    <tr>\n",
       "      <th>0</th>\n",
       "      <td>low</td>\n",
       "      <td>low</td>\n",
       "      <td>2.3</td>\n",
       "    </tr>\n",
       "    <tr>\n",
       "      <th>1</th>\n",
       "      <td>low</td>\n",
       "      <td>low</td>\n",
       "      <td>2.4</td>\n",
       "    </tr>\n",
       "    <tr>\n",
       "      <th>2</th>\n",
       "      <td>low</td>\n",
       "      <td>low</td>\n",
       "      <td>2.1</td>\n",
       "    </tr>\n",
       "    <tr>\n",
       "      <th>3</th>\n",
       "      <td>low</td>\n",
       "      <td>medium</td>\n",
       "      <td>2.6</td>\n",
       "    </tr>\n",
       "    <tr>\n",
       "      <th>4</th>\n",
       "      <td>low</td>\n",
       "      <td>medium</td>\n",
       "      <td>2.5</td>\n",
       "    </tr>\n",
       "    <tr>\n",
       "      <th>5</th>\n",
       "      <td>low</td>\n",
       "      <td>medium</td>\n",
       "      <td>2.4</td>\n",
       "    </tr>\n",
       "    <tr>\n",
       "      <th>6</th>\n",
       "      <td>low</td>\n",
       "      <td>high</td>\n",
       "      <td>2.8</td>\n",
       "    </tr>\n",
       "    <tr>\n",
       "      <th>7</th>\n",
       "      <td>low</td>\n",
       "      <td>high</td>\n",
       "      <td>2.7</td>\n",
       "    </tr>\n",
       "    <tr>\n",
       "      <th>8</th>\n",
       "      <td>low</td>\n",
       "      <td>high</td>\n",
       "      <td>2.9</td>\n",
       "    </tr>\n",
       "    <tr>\n",
       "      <th>9</th>\n",
       "      <td>medium</td>\n",
       "      <td>low</td>\n",
       "      <td>3.1</td>\n",
       "    </tr>\n",
       "    <tr>\n",
       "      <th>10</th>\n",
       "      <td>medium</td>\n",
       "      <td>low</td>\n",
       "      <td>3.0</td>\n",
       "    </tr>\n",
       "    <tr>\n",
       "      <th>11</th>\n",
       "      <td>medium</td>\n",
       "      <td>low</td>\n",
       "      <td>2.9</td>\n",
       "    </tr>\n",
       "    <tr>\n",
       "      <th>12</th>\n",
       "      <td>medium</td>\n",
       "      <td>medium</td>\n",
       "      <td>3.5</td>\n",
       "    </tr>\n",
       "    <tr>\n",
       "      <th>13</th>\n",
       "      <td>medium</td>\n",
       "      <td>medium</td>\n",
       "      <td>3.3</td>\n",
       "    </tr>\n",
       "    <tr>\n",
       "      <th>14</th>\n",
       "      <td>medium</td>\n",
       "      <td>medium</td>\n",
       "      <td>3.2</td>\n",
       "    </tr>\n",
       "    <tr>\n",
       "      <th>15</th>\n",
       "      <td>medium</td>\n",
       "      <td>high</td>\n",
       "      <td>3.8</td>\n",
       "    </tr>\n",
       "    <tr>\n",
       "      <th>16</th>\n",
       "      <td>medium</td>\n",
       "      <td>high</td>\n",
       "      <td>3.9</td>\n",
       "    </tr>\n",
       "    <tr>\n",
       "      <th>17</th>\n",
       "      <td>medium</td>\n",
       "      <td>high</td>\n",
       "      <td>3.7</td>\n",
       "    </tr>\n",
       "    <tr>\n",
       "      <th>18</th>\n",
       "      <td>high</td>\n",
       "      <td>low</td>\n",
       "      <td>4.2</td>\n",
       "    </tr>\n",
       "    <tr>\n",
       "      <th>19</th>\n",
       "      <td>high</td>\n",
       "      <td>low</td>\n",
       "      <td>4.3</td>\n",
       "    </tr>\n",
       "    <tr>\n",
       "      <th>20</th>\n",
       "      <td>high</td>\n",
       "      <td>low</td>\n",
       "      <td>4.1</td>\n",
       "    </tr>\n",
       "    <tr>\n",
       "      <th>21</th>\n",
       "      <td>high</td>\n",
       "      <td>medium</td>\n",
       "      <td>4.6</td>\n",
       "    </tr>\n",
       "    <tr>\n",
       "      <th>22</th>\n",
       "      <td>high</td>\n",
       "      <td>medium</td>\n",
       "      <td>4.5</td>\n",
       "    </tr>\n",
       "    <tr>\n",
       "      <th>23</th>\n",
       "      <td>high</td>\n",
       "      <td>medium</td>\n",
       "      <td>4.4</td>\n",
       "    </tr>\n",
       "    <tr>\n",
       "      <th>24</th>\n",
       "      <td>high</td>\n",
       "      <td>high</td>\n",
       "      <td>4.9</td>\n",
       "    </tr>\n",
       "    <tr>\n",
       "      <th>25</th>\n",
       "      <td>high</td>\n",
       "      <td>high</td>\n",
       "      <td>4.8</td>\n",
       "    </tr>\n",
       "    <tr>\n",
       "      <th>26</th>\n",
       "      <td>high</td>\n",
       "      <td>high</td>\n",
       "      <td>4.7</td>\n",
       "    </tr>\n",
       "  </tbody>\n",
       "</table>\n",
       "</div>"
      ],
      "text/plain": [
       "   temperature humidity  growth_rate\n",
       "0          low      low          2.3\n",
       "1          low      low          2.4\n",
       "2          low      low          2.1\n",
       "3          low   medium          2.6\n",
       "4          low   medium          2.5\n",
       "5          low   medium          2.4\n",
       "6          low     high          2.8\n",
       "7          low     high          2.7\n",
       "8          low     high          2.9\n",
       "9       medium      low          3.1\n",
       "10      medium      low          3.0\n",
       "11      medium      low          2.9\n",
       "12      medium   medium          3.5\n",
       "13      medium   medium          3.3\n",
       "14      medium   medium          3.2\n",
       "15      medium     high          3.8\n",
       "16      medium     high          3.9\n",
       "17      medium     high          3.7\n",
       "18        high      low          4.2\n",
       "19        high      low          4.3\n",
       "20        high      low          4.1\n",
       "21        high   medium          4.6\n",
       "22        high   medium          4.5\n",
       "23        high   medium          4.4\n",
       "24        high     high          4.9\n",
       "25        high     high          4.8\n",
       "26        high     high          4.7"
      ]
     },
     "execution_count": 31,
     "metadata": {},
     "output_type": "execute_result"
    }
   ],
   "source": [
    "plant_data"
   ]
  },
  {
   "cell_type": "code",
   "execution_count": 40,
   "id": "6e973b63",
   "metadata": {},
   "outputs": [
    {
     "name": "stdout",
     "output_type": "stream",
     "text": [
      "                               sum_sq    df           F        PR(>F)\n",
      "C(temperature)              17.708889   2.0  683.057143  1.063910e-17\n",
      "C(humidity)                  1.875556   2.0   72.342857  2.484893e-09\n",
      "C(temperature):C(humidity)   0.062222   4.0    1.200000  3.448641e-01\n",
      "Residual                     0.233333  18.0         NaN           NaN\n"
     ]
    }
   ],
   "source": [
    "import statsmodels.api as sm\n",
    "from statsmodels.formula.api import ols\n",
    "\n",
    "# load the data\n",
    "data = pd.read_csv(\"./plants.csv\")\n",
    "\n",
    "# Fit the model\n",
    "model = ols('growth_rate ~ C(temperature) + C(humidity) + C(temperature):C(humidity)', data=data).fit()\n",
    "\n",
    "# print the ANOVA table\n",
    "print(sm.stats.anova_lm(model, typ=2))"
   ]
  },
  {
   "cell_type": "markdown",
   "id": "4853e66f",
   "metadata": {},
   "source": [
    "### Tukey's HSD test \n"
   ]
  },
  {
   "cell_type": "code",
   "execution_count": 47,
   "id": "7a94036d",
   "metadata": {},
   "outputs": [
    {
     "name": "stdout",
     "output_type": "stream",
     "text": [
      "Multiple Comparison of Means - Tukey HSD, FWER=0.05\n",
      "===================================================\n",
      "group1 group2 meandiff p-adj  lower   upper  reject\n",
      "---------------------------------------------------\n",
      "  high    low  -1.9778   0.0 -2.3319 -1.6237   True\n",
      "  high medium  -1.1222   0.0 -1.4763 -0.7681   True\n",
      "   low medium   0.8556   0.0  0.5015  1.2096   True\n",
      "---------------------------------------------------\n",
      "Multiple Comparison of Means - Tukey HSD, FWER=0.05\n",
      "===================================================\n",
      "group1 group2 meandiff p-adj   lower  upper  reject\n",
      "---------------------------------------------------\n",
      "  high    low  -0.6444 0.2741 -1.6641 0.3752  False\n",
      "  high medium  -0.3556 0.6635 -1.3752 0.6641  False\n",
      "   low medium   0.2889 0.7614 -0.7308 1.3085  False\n",
      "---------------------------------------------------\n"
     ]
    }
   ],
   "source": [
    "import statsmodels.api as sm\n",
    "from statsmodels.formula.api import ols\n",
    "\n",
    "# Load the data\n",
    "data = pd.read_csv('plants.csv')\n",
    "\n",
    "# Fit the model\n",
    "model = ols('growth_rate ~ C(temperature) + C(humidity) + C(temperature):C(humidity)', data=data).fit()\n",
    "\n",
    "# Perform Tukey's HSD test for temperature\n",
    "tukey_results_temp = sm.stats.multicomp.pairwise_tukeyhsd(data['growth_rate'], data['temperature'])\n",
    "print(tukey_results_temp)\n",
    "\n",
    "# Perform Tukey's HSD test for humidity\n",
    "tukey_results_hum = sm.stats.multicomp.pairwise_tukeyhsd(data['growth_rate'], data['humidity'])\n",
    "print(tukey_results_hum)\n"
   ]
  },
  {
   "cell_type": "code",
   "execution_count": null,
   "id": "633d19b9",
   "metadata": {},
   "outputs": [],
   "source": []
  },
  {
   "cell_type": "markdown",
   "id": "2a63128a",
   "metadata": {},
   "source": [
    "# Parametric vs non parametric"
   ]
  },
  {
   "cell_type": "markdown",
   "id": "e92ff66c",
   "metadata": {},
   "source": [
    "### non-parametric: means that it does not assume any specific distribution of the data"
   ]
  },
  {
   "cell_type": "markdown",
   "id": "25acf692",
   "metadata": {},
   "source": [
    "# Chi-square test"
   ]
  },
  {
   "cell_type": "markdown",
   "id": "e083714b",
   "metadata": {},
   "source": [
    "### example: significant association between the gender and smoking status\n",
    "    H0: there is no association between gender and smoking status, \n",
    "    Ha: there is a significant association between the gender and smoking status\n",
    "    "
   ]
  },
  {
   "cell_type": "code",
   "execution_count": null,
   "id": "6afe4877",
   "metadata": {},
   "outputs": [],
   "source": [
    "step2: collect the data:\n",
    "        contigency table:\n",
    "                      Smokingf  |  nonsmoking | weed_ganja_cigar\n",
    "            Male   |\n",
    "            Female |"
   ]
  },
  {
   "cell_type": "code",
   "execution_count": 52,
   "id": "dc8c1fd1",
   "metadata": {},
   "outputs": [
    {
     "name": "stdout",
     "output_type": "stream",
     "text": [
      "Chi-square statistic:  0.0\n",
      "p-value:  1.0\n",
      "Degrees of Freedom:  2\n",
      "expected values:  [[100. 150.  50.]\n",
      " [200. 300. 100.]]\n"
     ]
    }
   ],
   "source": [
    "import numpy as np\n",
    "from scipy.stats import chi2_contingency\n",
    "\n",
    "# define the contingency table\n",
    "observed = np.array([[100, 150, 50], [200, 300, 100]])\n",
    "\n",
    "# perform the chi-square test\n",
    "chi2, p, dof, expected = chi2_contingency(observed)\n",
    "\n",
    "\n",
    "# print the results\n",
    "print(\"Chi-square statistic: \", chi2)\n",
    "print(\"p-value: \", p)\n",
    "print(\"Degrees of Freedom: \", dof)\n",
    "print(\"expected values: \", expected)"
   ]
  },
  {
   "cell_type": "code",
   "execution_count": 50,
   "id": "3cf0e249",
   "metadata": {},
   "outputs": [
    {
     "data": {
      "text/plain": [
       "array([[100, 150,  50],\n",
       "       [200, 300, 100]])"
      ]
     },
     "execution_count": 50,
     "metadata": {},
     "output_type": "execute_result"
    }
   ],
   "source": [
    "observed"
   ]
  },
  {
   "cell_type": "markdown",
   "id": "84ed5493",
   "metadata": {},
   "source": [
    "### conclusion: p-values < 0.05 (chosen significance level)\n",
    "    p-value = 1.0\n",
    "    alpha = 0.05\n",
    "    p-value is not lesser than alpha\n",
    "    we failed to reject the null hypothesis and conclude that there is a evidence of a no significance association."
   ]
  },
  {
   "cell_type": "code",
   "execution_count": null,
   "id": "096a8d9b",
   "metadata": {},
   "outputs": [],
   "source": []
  },
  {
   "cell_type": "markdown",
   "id": "adeb25f2",
   "metadata": {},
   "source": [
    "# Fisher's Exact test"
   ]
  },
  {
   "cell_type": "code",
   "execution_count": 55,
   "id": "02c59d3b",
   "metadata": {},
   "outputs": [
    {
     "name": "stdout",
     "output_type": "stream",
     "text": [
      "Odds ratio:  1.75\n",
      "p-value:  0.7103816512796233\n"
     ]
    }
   ],
   "source": [
    "import scipy.stats as stats\n",
    "\n",
    "# create contingency table\n",
    "contingency_table = [[10, 5], [8, 7]]\n",
    "\n",
    "# perform Fisher's exact test\n",
    "odds_ratio, p_value = stats.fisher_exact(contingency_table)\n",
    "\n",
    "\n",
    "# print the results\n",
    "print(\"Odds ratio: \", odds_ratio)\n",
    "print(\"p-value: \", p_value)"
   ]
  },
  {
   "cell_type": "markdown",
   "id": "b4c78201",
   "metadata": {},
   "source": [
    "### the odds ratio tells us that, the odds of having a cetain outcome in one gorup is 1.75 times higher than the odds of having the smae outcome in the other group."
   ]
  },
  {
   "cell_type": "markdown",
   "id": "c96a375c",
   "metadata": {},
   "source": [
    "### p-value tells us that there is no significant association between the two variable, as the p-value is greatere than commonly used singinficance level of 0.05"
   ]
  },
  {
   "cell_type": "code",
   "execution_count": null,
   "id": "b58286af",
   "metadata": {},
   "outputs": [],
   "source": []
  },
  {
   "cell_type": "markdown",
   "id": "2b0ebfbd",
   "metadata": {},
   "source": [
    "# Multi-Arm Bandit algorithm"
   ]
  },
  {
   "cell_type": "markdown",
   "id": "e817cd93",
   "metadata": {},
   "source": [
    "### problem: there is a set of $k$ arms, each associated with a random reard distribution with an unknown mean.\n",
    "    at each step $t$ , the algoritm selects an arm to play, observes a reawrd from the chose arm, and updates its \n",
    "    belief about the mean of the reward distriubtion of that arm.\n",
    "    "
   ]
  },
  {
   "cell_type": "markdown",
   "id": "8d0e6db7",
   "metadata": {},
   "source": [
    "### goal: to maximize the cumulative reward obtained over a fixed time horizon"
   ]
  },
  {
   "cell_type": "markdown",
   "id": "ae60f2a4",
   "metadata": {},
   "source": [
    "### 1. $\\epsilon$-greedy algorithm.\n",
    "    it selects the arm with the highest empirical mean reward with probaibiliry $1-\\epsilon$, and selects a random arm with \n",
    "    probabilithy $\\epsilon$\n",
    "2. UCB ( Upper confidence Bound):\n",
    "    selects the arm with the highest upper confidence Bound. balances the empirical mean reward and uncertainity of the reward distribution"
   ]
  },
  {
   "cell_type": "markdown",
   "id": "22c9f30e",
   "metadata": {},
   "source": [
    "### Example: a company wants to determine which of two differnet ad designs to use for a new product launch.\n",
    "    agend: use the MAB algorithm to allocate the traffic to each ad design,\n",
    "    goal: maximizing click-through rate (CTR)"
   ]
  },
  {
   "cell_type": "markdown",
   "id": "42f6d725",
   "metadata": {},
   "source": [
    "### step1: setup algorithms with two arms, or ad designs, \n",
    "    and randomly allocate traffic to each arm at the beginning, \n",
    "    As users interact with the ads, the algorithm begins to learn which ad is performing better in terms of CTR"
   ]
  },
  {
   "cell_type": "markdown",
   "id": "581b11ae",
   "metadata": {},
   "source": [
    "### step2: as the algorithm collects more data, it adjusts the allocation of traffic to each addesign in real-time to maximize CTR.\n",
    "    \n",
    "    if one  ad desing consistently performs better than the other, the algortim will allocate more traffic to that addesign."
   ]
  },
  {
   "cell_type": "markdown",
   "id": "9dcc45a8",
   "metadata": {},
   "source": [
    "### result: over time, the algorithm converges to the ad design thathas the highest CTR, allowing the company to confidencly choose the best ad design for their product launch"
   ]
  },
  {
   "cell_type": "code",
   "execution_count": null,
   "id": "298f37bd",
   "metadata": {},
   "outputs": [],
   "source": []
  }
 ],
 "metadata": {
  "kernelspec": {
   "display_name": "Python 3 (ipykernel)",
   "language": "python",
   "name": "python3"
  },
  "language_info": {
   "codemirror_mode": {
    "name": "ipython",
    "version": 3
   },
   "file_extension": ".py",
   "mimetype": "text/x-python",
   "name": "python",
   "nbconvert_exporter": "python",
   "pygments_lexer": "ipython3",
   "version": "3.11.2"
  }
 },
 "nbformat": 4,
 "nbformat_minor": 5
}
