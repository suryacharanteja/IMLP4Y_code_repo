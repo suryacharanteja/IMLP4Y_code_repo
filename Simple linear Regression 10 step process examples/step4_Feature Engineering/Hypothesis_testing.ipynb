{
 "cells": [
  {
   "cell_type": "markdown",
   "id": "d5b6e416",
   "metadata": {},
   "source": [
    "# 1. two-tailed test"
   ]
  },
  {
   "cell_type": "markdown",
   "id": "b838506f",
   "metadata": {},
   "source": [
    "### a. 5% Level of Significance"
   ]
  },
  {
   "cell_type": "code",
   "execution_count": 9,
   "id": "b52981f4",
   "metadata": {},
   "outputs": [
    {
     "name": "stdout",
     "output_type": "stream",
     "text": [
      "Reject the null hypothesis at the 0..05 level of significance\n"
     ]
    }
   ],
   "source": [
    "import scipy.stats as stats\n",
    "import numpy as np\n",
    "# define the null and alternative hypotheses\n",
    "null_hypothesis_mean_hr = 1570\n",
    "# alternative_hypothesis_mean_hr != 1570\n",
    "\n",
    "# details about the problem\n",
    "sample_mean = 1600\n",
    "sample_size = 100\n",
    "\n",
    "sample_std = 120\n",
    "\n",
    "# calculate z-score\n",
    "z_score = (sample_mean - null_hypothesis_mean_hr) / (sample_std / np.sqrt(sample_size))\n",
    "\n",
    "# calculate p-value\n",
    "p_value = 2 * (1 - stats.norm.cdf(abs(z_score)))\n",
    "\n",
    "# define the significance level\n",
    "significance_level_1 = 0.05\n",
    "\n",
    "# let us take a decision based on the p-value\n",
    "if p_value < significance_level_1:\n",
    "    print(\"Reject the null hypothesis at the 0.05 level of significance\")\n",
    "else:\n",
    "    print(\"Fail to reject the null hypothesis at the 0.01 level of significance\")\n"
   ]
  },
  {
   "cell_type": "code",
   "execution_count": 5,
   "id": "2ad4d8c0",
   "metadata": {},
   "outputs": [
    {
     "name": "stdout",
     "output_type": "stream",
     "text": [
      "2.5\n"
     ]
    }
   ],
   "source": [
    "print(z_score)"
   ]
  },
  {
   "cell_type": "code",
   "execution_count": 7,
   "id": "6eed34c3",
   "metadata": {},
   "outputs": [
    {
     "name": "stdout",
     "output_type": "stream",
     "text": [
      "0.012419330651552318\n"
     ]
    }
   ],
   "source": [
    "print(p_value)"
   ]
  },
  {
   "cell_type": "markdown",
   "id": "13c8e1e4",
   "metadata": {},
   "source": [
    "### b. 1% level of significance"
   ]
  },
  {
   "cell_type": "code",
   "execution_count": 10,
   "id": "e60b6d69",
   "metadata": {},
   "outputs": [
    {
     "name": "stdout",
     "output_type": "stream",
     "text": [
      "Fail to reject the null hypothesis at the 0.01 level of significance\n"
     ]
    }
   ],
   "source": [
    "# define the significance level\n",
    "significance_level_2 = 0.01\n",
    "\n",
    "# let us take a decision based on thea p-value\n",
    "if p_value < significance_level_2:\n",
    "    print(\"Reject the null hypothesis at the 0.01 level of significance\")\n",
    "else:\n",
    "    print(\"Fail to reject the null hypothesis at the 0.01 level of significance\")\n"
   ]
  },
  {
   "cell_type": "markdown",
   "id": "2521b772",
   "metadata": {},
   "source": [
    "# 2. one tailed or one sided right -tailed test"
   ]
  },
  {
   "cell_type": "code",
   "execution_count": 5,
   "id": "0375ad67",
   "metadata": {},
   "outputs": [],
   "source": [
    "import scipy.stats as stats\n",
    "import numpy as np\n",
    "# define the null and alternative hypotheses\n",
    "null_hypothesis_mean_hr = 1570\n",
    "# alternative_hypothesis_mean_hr > 1570\n",
    "\n",
    "# details about the problem\n",
    "sample_mean = 1600\n",
    "sample_size = 100\n",
    "\n",
    "sample_std = 120\n",
    "\n",
    "# calculate z-score\n",
    "z_score = (sample_mean - null_hypothesis_mean_hr) / (sample_std / np.sqrt(sample_size))\n",
    "\n",
    "# calculate p-value\n",
    "p_value = (1 - stats.norm.cdf(abs(z_score)))\n",
    "\n"
   ]
  },
  {
   "cell_type": "markdown",
   "id": "d5bf065d",
   "metadata": {},
   "source": [
    "### a. 5% Level of Significance"
   ]
  },
  {
   "cell_type": "code",
   "execution_count": 8,
   "id": "eae49179",
   "metadata": {},
   "outputs": [
    {
     "name": "stdout",
     "output_type": "stream",
     "text": [
      "Reject H0 (null hypothesis) at the 0.05 level of significance. the mean lifetime is greater than 1570 hrs\n"
     ]
    }
   ],
   "source": [
    "alpha_1 = 0.05\n",
    "# perform the hypothesis test\n",
    "if p_value < alpha_1:\n",
    "    print(\"Reject H0 (null hypothesis) at the 0.05 level of significance. the mean lifetime is greater than 1570 hrs\")\n",
    "else:\n",
    "    print(\" Fail to Reject H0 (null hypothesis) at the 0.05 level of significance. \")\n",
    "    "
   ]
  },
  {
   "cell_type": "markdown",
   "id": "0b3c693f",
   "metadata": {},
   "source": [
    "### b. 1% Level of Significance"
   ]
  },
  {
   "cell_type": "code",
   "execution_count": 10,
   "id": "233bd147",
   "metadata": {},
   "outputs": [
    {
     "name": "stdout",
     "output_type": "stream",
     "text": [
      "Reject H0 (null hypothesis) at the 0.01 level of significance. the mean lifetime is greater than 1570 hrs\n"
     ]
    }
   ],
   "source": [
    "alpha_2 = 0.01\n",
    "# perform the hypothesis test\n",
    "if p_value < alpha_2:\n",
    "    print(\"Reject H0 (null hypothesis) at the 0.01 level of significance. the mean lifetime is greater than 1570 hrs\")\n",
    "else:\n",
    "    print(\" Fail to Reject H0 (null hypothesis) at the 0.05 level of significance. \")\n",
    "    "
   ]
  },
  {
   "cell_type": "code",
   "execution_count": 4,
   "id": "60b10b9d",
   "metadata": {},
   "outputs": [
    {
     "name": "stdout",
     "output_type": "stream",
     "text": [
      "2.5\n"
     ]
    }
   ],
   "source": [
    "print(z_score)"
   ]
  },
  {
   "cell_type": "code",
   "execution_count": 6,
   "id": "a273752b",
   "metadata": {},
   "outputs": [
    {
     "name": "stdout",
     "output_type": "stream",
     "text": [
      "0.006209665325776159\n"
     ]
    }
   ],
   "source": [
    "print(p_value)"
   ]
  },
  {
   "cell_type": "markdown",
   "id": "da905e17",
   "metadata": {},
   "source": [
    "# 3. one sided left tailed test"
   ]
  },
  {
   "cell_type": "code",
   "execution_count": 47,
   "id": "f6e750db",
   "metadata": {},
   "outputs": [
    {
     "name": "stdout",
     "output_type": "stream",
     "text": [
      "Reject null hypothesis at the 0.05 level of significance, the manufacturer's claim is false\n"
     ]
    }
   ],
   "source": [
    "import numpy as np\n",
    "from scipy.stats import norm\n",
    "\n",
    "# given data\n",
    "sample_successes = 160\n",
    "sample_size = 200\n",
    "population_success_rate = 0.9\n",
    "\n",
    "# H0 : p = 0.9\n",
    "# Ha or H1: p < 0.9\n",
    "\n",
    "# calculate the observed success probability\n",
    "sample_success_rate = sample_successes / sample_size\n",
    "\n",
    "# calculate the standard error\n",
    "standard_error = np.sqrt((population_success_rate * (1 - population_success_rate)) / sample_size)\n",
    "\n",
    "# calculate the z-score\n",
    "z_score = (sample_success_rate - population_success_rate) / standard_error\n",
    "\n",
    "\n",
    "# define the significance level\n",
    "alpha = 0.05\n",
    "\n",
    "critical_value = norm.ppf(alpha)\n",
    "\n",
    "# perform the hypothesis test w.r.t z-score and critical value\n",
    "if z_score < critical_value:\n",
    "    print(\"Reject null hypothesis at the 0.05 level of significance, the manufacturer's claim is false\")\n",
    "else:\n",
    "    print(\"Fail to Reject the null hypothesis at the 0.05 level of significance, the manufacturer's claim is legitimate\")\n"
   ]
  },
  {
   "cell_type": "code",
   "execution_count": 43,
   "id": "c413982d",
   "metadata": {},
   "outputs": [
    {
     "name": "stdout",
     "output_type": "stream",
     "text": [
      "0.8\n"
     ]
    }
   ],
   "source": [
    "print(sample_success_rate)"
   ]
  },
  {
   "cell_type": "code",
   "execution_count": 44,
   "id": "62ed58a1",
   "metadata": {},
   "outputs": [
    {
     "name": "stdout",
     "output_type": "stream",
     "text": [
      "0.021213203435596423\n"
     ]
    }
   ],
   "source": [
    "print(standard_error)"
   ]
  },
  {
   "cell_type": "code",
   "execution_count": 45,
   "id": "a6eea4b6",
   "metadata": {},
   "outputs": [
    {
     "name": "stdout",
     "output_type": "stream",
     "text": [
      "-4.714045207910316\n"
     ]
    }
   ],
   "source": [
    "print(z_score)"
   ]
  },
  {
   "cell_type": "code",
   "execution_count": 46,
   "id": "b521a9e1",
   "metadata": {},
   "outputs": [
    {
     "name": "stdout",
     "output_type": "stream",
     "text": [
      "-1.6448536269514729\n"
     ]
    }
   ],
   "source": [
    "print(critical_value)"
   ]
  },
  {
   "cell_type": "code",
   "execution_count": 50,
   "id": "82899776",
   "metadata": {},
   "outputs": [
    {
     "name": "stdout",
     "output_type": "stream",
     "text": [
      "Reject null hypothesis at the 0.05 level of significance, the manufacturer's claim is false\n"
     ]
    }
   ],
   "source": [
    "# define the significance level\n",
    "alpha = 0.05\n",
    "\n",
    "# p-value \n",
    "p_value = (1 - norm.cdf(abs(z_score)))\n",
    "\n",
    "\n",
    "# perform the hypothesis test w.r.t p-value and level of significance\n",
    "if p_value < alpha:\n",
    "    print(\"Reject null hypothesis at the 0.05 level of significance, the manufacturer's claim is false\")\n",
    "else:\n",
    "    print(\"Fail to Reject the null hypothesis at the 0.05 level of significance, the manufacturer's claim is legitimate\")\n"
   ]
  },
  {
   "cell_type": "code",
   "execution_count": 49,
   "id": "f3ed3935",
   "metadata": {},
   "outputs": [
    {
     "name": "stdout",
     "output_type": "stream",
     "text": [
      "1.2142337364462463e-06\n"
     ]
    }
   ],
   "source": [
    "print(p_value)"
   ]
  },
  {
   "cell_type": "markdown",
   "id": "624cd310",
   "metadata": {},
   "source": [
    "### b. 1% level of significance"
   ]
  },
  {
   "cell_type": "code",
   "execution_count": 53,
   "id": "3d2af3ed",
   "metadata": {},
   "outputs": [
    {
     "name": "stdout",
     "output_type": "stream",
     "text": [
      "-2.3263478740408408\n",
      "Reject null hypothesis at the 0.01 level of significance, the manufacturer's claim is false\n"
     ]
    }
   ],
   "source": [
    "# define the significance level\n",
    "alpha = 0.01\n",
    "\n",
    "critical_value = norm.ppf(alpha)\n",
    "print(critical_value)\n",
    "# perform the hypothesis test w.r.t z-score and critical value\n",
    "if z_score < critical_value:\n",
    "    print(\"Reject null hypothesis at the 0.01 level of significance, the manufacturer's claim is false\")\n",
    "else:\n",
    "    print(\"Fail to Reject the null hypothesis at the 0.01 level of significance, the manufacturer's claim is legitimate\")\n"
   ]
  },
  {
   "cell_type": "code",
   "execution_count": 54,
   "id": "736b8c23",
   "metadata": {},
   "outputs": [
    {
     "name": "stdout",
     "output_type": "stream",
     "text": [
      "Reject null hypothesis at the 0.05 level of significance, the manufacturer's claim is false\n"
     ]
    }
   ],
   "source": [
    "# define the significance level\n",
    "alpha = 0.01\n",
    "\n",
    "# p-value \n",
    "p_value = (1 - norm.cdf(abs(z_score)))\n",
    "\n",
    "\n",
    "# perform the hypothesis test w.r.t p-value and level of significance\n",
    "if p_value < alpha:\n",
    "    print(\"Reject null hypothesis at the 0.05 level of significance, the manufacturer's claim is false\")\n",
    "else:\n",
    "    print(\"Fail to Reject the null hypothesis at the 0.05 level of significance, the manufacturer's claim is legitimate\")\n"
   ]
  },
  {
   "cell_type": "code",
   "execution_count": null,
   "id": "58f855f4",
   "metadata": {},
   "outputs": [],
   "source": []
  }
 ],
 "metadata": {
  "kernelspec": {
   "display_name": "Python 3 (ipykernel)",
   "language": "python",
   "name": "python3"
  },
  "language_info": {
   "codemirror_mode": {
    "name": "ipython",
    "version": 3
   },
   "file_extension": ".py",
   "mimetype": "text/x-python",
   "name": "python",
   "nbconvert_exporter": "python",
   "pygments_lexer": "ipython3",
   "version": "3.11.4"
  }
 },
 "nbformat": 4,
 "nbformat_minor": 5
}
