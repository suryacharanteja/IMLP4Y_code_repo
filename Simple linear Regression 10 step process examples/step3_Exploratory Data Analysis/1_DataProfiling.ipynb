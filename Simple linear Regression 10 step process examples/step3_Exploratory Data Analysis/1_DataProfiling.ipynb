{
 "cells": [
  {
   "cell_type": "markdown",
   "id": "0719b2c8",
   "metadata": {},
   "source": [
    "### 1. names"
   ]
  },
  {
   "cell_type": "code",
   "execution_count": 4,
   "id": "2be94eb5",
   "metadata": {},
   "outputs": [
    {
     "data": {
      "text/html": [
       "<div>\n",
       "<style scoped>\n",
       "    .dataframe tbody tr th:only-of-type {\n",
       "        vertical-align: middle;\n",
       "    }\n",
       "\n",
       "    .dataframe tbody tr th {\n",
       "        vertical-align: top;\n",
       "    }\n",
       "\n",
       "    .dataframe thead th {\n",
       "        text-align: right;\n",
       "    }\n",
       "</style>\n",
       "<table border=\"1\" class=\"dataframe\">\n",
       "  <thead>\n",
       "    <tr style=\"text-align: right;\">\n",
       "      <th></th>\n",
       "      <th>Vehicle</th>\n",
       "      <th>Total time (h)</th>\n",
       "      <th>Total distance (km)</th>\n",
       "      <th>Total fuel (l)</th>\n",
       "      <th>Average fuel (l/100km)</th>\n",
       "      <th>Average AdBlue (l/100km)</th>\n",
       "      <th>Average speed driving (km/h)</th>\n",
       "      <th>Average brake counter (amount/100km)</th>\n",
       "      <th>Average stop counter (amount/100km)</th>\n",
       "      <th>PTO time</th>\n",
       "      <th>Idling time</th>\n",
       "      <th>Within economy time</th>\n",
       "      <th>Above economy time</th>\n",
       "      <th>Coasting time</th>\n",
       "      <th>Cruise control time</th>\n",
       "      <th>Vehicle overspeed (Fleet Limit)</th>\n",
       "      <th>Top gear time</th>\n",
       "      <th>Engine load time</th>\n",
       "      <th>Engine overrev time</th>\n",
       "      <th>Automatic time</th>\n",
       "      <th>Manual time</th>\n",
       "      <th>Power time</th>\n",
       "      <th>Low dist.</th>\n",
       "      <th>Medium dist.</th>\n",
       "      <th>Full dist.</th>\n",
       "      <th>Date</th>\n",
       "    </tr>\n",
       "  </thead>\n",
       "  <tbody>\n",
       "    <tr>\n",
       "      <th>0</th>\n",
       "      <td>959483</td>\n",
       "      <td>21:03:00</td>\n",
       "      <td>319.44</td>\n",
       "      <td>425.25</td>\n",
       "      <td>133.12</td>\n",
       "      <td>0.00</td>\n",
       "      <td>23.07</td>\n",
       "      <td>435</td>\n",
       "      <td>212</td>\n",
       "      <td>0.046</td>\n",
       "      <td>0.296</td>\n",
       "      <td>0.312</td>\n",
       "      <td>0.120</td>\n",
       "      <td>0.039</td>\n",
       "      <td>0.000</td>\n",
       "      <td>0.0</td>\n",
       "      <td>0.055</td>\n",
       "      <td>0.153</td>\n",
       "      <td>0</td>\n",
       "      <td>0.580</td>\n",
       "      <td>0.420</td>\n",
       "      <td>0.000</td>\n",
       "      <td>0.001</td>\n",
       "      <td>0.329</td>\n",
       "      <td>0.670</td>\n",
       "      <td>2021-03-02</td>\n",
       "    </tr>\n",
       "    <tr>\n",
       "      <th>1</th>\n",
       "      <td>959619</td>\n",
       "      <td>21:18:00</td>\n",
       "      <td>339.66</td>\n",
       "      <td>444.32</td>\n",
       "      <td>130.81</td>\n",
       "      <td>0.00</td>\n",
       "      <td>22.87</td>\n",
       "      <td>498</td>\n",
       "      <td>203</td>\n",
       "      <td>0.056</td>\n",
       "      <td>0.247</td>\n",
       "      <td>0.333</td>\n",
       "      <td>0.110</td>\n",
       "      <td>0.046</td>\n",
       "      <td>0.006</td>\n",
       "      <td>0.0</td>\n",
       "      <td>0.057</td>\n",
       "      <td>0.157</td>\n",
       "      <td>0</td>\n",
       "      <td>0.810</td>\n",
       "      <td>0.190</td>\n",
       "      <td>0.000</td>\n",
       "      <td>0.000</td>\n",
       "      <td>0.451</td>\n",
       "      <td>0.549</td>\n",
       "      <td>2021-03-02</td>\n",
       "    </tr>\n",
       "    <tr>\n",
       "      <th>2</th>\n",
       "      <td>959959</td>\n",
       "      <td>20:48:00</td>\n",
       "      <td>346.57</td>\n",
       "      <td>444.42</td>\n",
       "      <td>128.23</td>\n",
       "      <td>0.00</td>\n",
       "      <td>23.85</td>\n",
       "      <td>441</td>\n",
       "      <td>177</td>\n",
       "      <td>0.047</td>\n",
       "      <td>0.254</td>\n",
       "      <td>0.314</td>\n",
       "      <td>0.137</td>\n",
       "      <td>0.000</td>\n",
       "      <td>0.000</td>\n",
       "      <td>0.0</td>\n",
       "      <td>0.059</td>\n",
       "      <td>0.171</td>\n",
       "      <td>0</td>\n",
       "      <td>0.715</td>\n",
       "      <td>0.285</td>\n",
       "      <td>0.000</td>\n",
       "      <td>0.000</td>\n",
       "      <td>0.000</td>\n",
       "      <td>1.000</td>\n",
       "      <td>2021-03-02</td>\n",
       "    </tr>\n",
       "    <tr>\n",
       "      <th>3</th>\n",
       "      <td>960330</td>\n",
       "      <td>21:31:00</td>\n",
       "      <td>200.30</td>\n",
       "      <td>318.52</td>\n",
       "      <td>159.02</td>\n",
       "      <td>0.00</td>\n",
       "      <td>15.32</td>\n",
       "      <td>579</td>\n",
       "      <td>359</td>\n",
       "      <td>0.062</td>\n",
       "      <td>0.331</td>\n",
       "      <td>0.305</td>\n",
       "      <td>0.077</td>\n",
       "      <td>0.035</td>\n",
       "      <td>0.000</td>\n",
       "      <td>0.0</td>\n",
       "      <td>0.001</td>\n",
       "      <td>0.050</td>\n",
       "      <td>0</td>\n",
       "      <td>0.483</td>\n",
       "      <td>0.517</td>\n",
       "      <td>0.000</td>\n",
       "      <td>0.024</td>\n",
       "      <td>0.529</td>\n",
       "      <td>0.447</td>\n",
       "      <td>2021-03-02</td>\n",
       "    </tr>\n",
       "    <tr>\n",
       "      <th>4</th>\n",
       "      <td>963913</td>\n",
       "      <td>21:14:00</td>\n",
       "      <td>200.68</td>\n",
       "      <td>278.55</td>\n",
       "      <td>138.80</td>\n",
       "      <td>13.64</td>\n",
       "      <td>17.65</td>\n",
       "      <td>652</td>\n",
       "      <td>322</td>\n",
       "      <td>0.053</td>\n",
       "      <td>0.411</td>\n",
       "      <td>0.358</td>\n",
       "      <td>0.107</td>\n",
       "      <td>0.051</td>\n",
       "      <td>0.000</td>\n",
       "      <td>0.0</td>\n",
       "      <td>0.046</td>\n",
       "      <td>0.059</td>\n",
       "      <td>0</td>\n",
       "      <td>0.001</td>\n",
       "      <td>0.994</td>\n",
       "      <td>0.004</td>\n",
       "      <td>0.006</td>\n",
       "      <td>0.571</td>\n",
       "      <td>0.423</td>\n",
       "      <td>2021-03-02</td>\n",
       "    </tr>\n",
       "  </tbody>\n",
       "</table>\n",
       "</div>"
      ],
      "text/plain": [
       "   Vehicle Total time (h)  Total distance (km)  Total fuel (l)  ...  Low dist.  Medium dist.  Full dist.       Date\n",
       "0   959483       21:03:00               319.44          425.25  ...      0.001         0.329       0.670 2021-03-02\n",
       "1   959619       21:18:00               339.66          444.32  ...      0.000         0.451       0.549 2021-03-02\n",
       "2   959959       20:48:00               346.57          444.42  ...      0.000         0.000       1.000 2021-03-02\n",
       "3   960330       21:31:00               200.30          318.52  ...      0.024         0.529       0.447 2021-03-02\n",
       "4   963913       21:14:00               200.68          278.55  ...      0.006         0.571       0.423 2021-03-02\n",
       "\n",
       "[5 rows x 26 columns]"
      ]
     },
     "execution_count": 4,
     "metadata": {},
     "output_type": "execute_result"
    }
   ],
   "source": [
    "import pandas as pd\n",
    "\n",
    "dfv = pd.read_excel(\"./FE_volvo.xlsx\")\n",
    "dfv.head(5)"
   ]
  },
  {
   "cell_type": "code",
   "execution_count": 7,
   "id": "8c2eba13",
   "metadata": {},
   "outputs": [
    {
     "name": "stdout",
     "output_type": "stream",
     "text": [
      "['Vehicle', 'Total time (h)', 'Total distance (km)', 'Total fuel (l)', 'Average fuel (l/100km)', 'Average AdBlue (l/100km)', 'Average speed driving (km/h)', 'Average brake counter (amount/100km)', 'Average stop counter (amount/100km)', 'PTO time', 'Idling time', 'Within economy time', 'Above economy time', 'Coasting time', 'Cruise control time', 'Vehicle overspeed (Fleet Limit)', 'Top gear time', 'Engine load time', 'Engine overrev time', 'Automatic time', 'Manual time', 'Power time', 'Low dist.', 'Medium dist.', 'Full dist.', 'Date']\n"
     ]
    }
   ],
   "source": [
    "cols = dfv.columns.to_list()\n",
    "print(x)"
   ]
  },
  {
   "cell_type": "code",
   "execution_count": 10,
   "id": "afe37d35",
   "metadata": {},
   "outputs": [
    {
     "name": "stdout",
     "output_type": "stream",
     "text": [
      "Vehicle                                          int64\n",
      "Total time (h)                                  object\n",
      "Total distance (km)                            float64\n",
      "Total fuel (l)                                 float64\n",
      "Average fuel (l/100km)                         float64\n",
      "Average AdBlue (l/100km)                       float64\n",
      "Average speed driving (km/h)                   float64\n",
      "Average brake counter (amount/100km)             int64\n",
      "Average stop counter (amount/100km)              int64\n",
      "PTO time                                       float64\n",
      "Idling time                                    float64\n",
      "Within economy time                            float64\n",
      "Above economy time                             float64\n",
      "Coasting time                                  float64\n",
      "Cruise control time                            float64\n",
      "Vehicle overspeed (Fleet Limit)                float64\n",
      "Top gear time                                  float64\n",
      "Engine load time                               float64\n",
      "Engine overrev time                              int64\n",
      "Automatic time                                 float64\n",
      "Manual time                                    float64\n",
      "Power time                                     float64\n",
      "Low dist.                                      float64\n",
      "Medium dist.                                   float64\n",
      "Full dist.                                     float64\n",
      "Date                                    datetime64[ns]\n",
      "dtype: object\n"
     ]
    }
   ],
   "source": [
    "dtypes = dfv.dtypes\n",
    "print(dtypes)"
   ]
  },
  {
   "cell_type": "code",
   "execution_count": 12,
   "id": "e41d1f54",
   "metadata": {},
   "outputs": [
    {
     "data": {
      "text/plain": [
       "Vehicle                                 0\n",
       "Total time (h)                          0\n",
       "Total distance (km)                     0\n",
       "Total fuel (l)                          0\n",
       "Average fuel (l/100km)                  0\n",
       "Average AdBlue (l/100km)                0\n",
       "Average speed driving (km/h)            0\n",
       "Average brake counter (amount/100km)    0\n",
       "Average stop counter (amount/100km)     0\n",
       "PTO time                                0\n",
       "Idling time                             0\n",
       "Within economy time                     0\n",
       "Above economy time                      0\n",
       "Coasting time                           0\n",
       "Cruise control time                     0\n",
       "Vehicle overspeed (Fleet Limit)         0\n",
       "Top gear time                           0\n",
       "Engine load time                        0\n",
       "Engine overrev time                     0\n",
       "Automatic time                          0\n",
       "Manual time                             0\n",
       "Power time                              0\n",
       "Low dist.                               0\n",
       "Medium dist.                            0\n",
       "Full dist.                              0\n",
       "Date                                    0\n",
       "dtype: int64"
      ]
     },
     "execution_count": 12,
     "metadata": {},
     "output_type": "execute_result"
    }
   ],
   "source": [
    "dfv.isnull().sum()"
   ]
  },
  {
   "cell_type": "code",
   "execution_count": 21,
   "id": "267ac11f",
   "metadata": {},
   "outputs": [
    {
     "data": {
      "text/plain": [
       "array([0.046, 0.056, 0.047, 0.062, 0.053, 0.055, 0.039, 0.04 , 0.05 ,\n",
       "       0.038, 0.043, 0.042, 0.051, 0.048, 0.044, 0.045, 0.06 , 0.041,\n",
       "       0.036, 0.037, 0.022, 0.026, 0.025, 0.03 , 0.021, 0.032, 0.024,\n",
       "       0.034, 0.065, 0.059, 0.077, 0.054, 0.052, 0.049, 0.033, 0.057,\n",
       "       0.072, 0.031, 0.069, 0.058, 0.023, 0.027, 0.029, 0.063, 0.068,\n",
       "       0.02 , 0.028])"
      ]
     },
     "execution_count": 21,
     "metadata": {},
     "output_type": "execute_result"
    }
   ],
   "source": [
    "dfv['PTO time'].unique()"
   ]
  },
  {
   "cell_type": "code",
   "execution_count": 22,
   "id": "beaeae1e",
   "metadata": {},
   "outputs": [
    {
     "data": {
      "text/plain": [
       "Vehicle                                  48\n",
       "Total time (h)                          111\n",
       "Total distance (km)                     188\n",
       "Total fuel (l)                          186\n",
       "Average fuel (l/100km)                  183\n",
       "Average AdBlue (l/100km)                146\n",
       "Average speed driving (km/h)            168\n",
       "Average brake counter (amount/100km)    155\n",
       "Average stop counter (amount/100km)     114\n",
       "PTO time                                 47\n",
       "Idling time                             129\n",
       "Within economy time                     127\n",
       "Above economy time                      104\n",
       "Coasting time                            49\n",
       "Cruise control time                      54\n",
       "Vehicle overspeed (Fleet Limit)           3\n",
       "Top gear time                           104\n",
       "Engine load time                         97\n",
       "Engine overrev time                       1\n",
       "Automatic time                          165\n",
       "Manual time                             162\n",
       "Power time                               14\n",
       "Low dist.                                52\n",
       "Medium dist.                            113\n",
       "Full dist.                               97\n",
       "Date                                      4\n",
       "dtype: int64"
      ]
     },
     "execution_count": 22,
     "metadata": {},
     "output_type": "execute_result"
    }
   ],
   "source": [
    "dfv.nunique()"
   ]
  },
  {
   "cell_type": "code",
   "execution_count": 6,
   "id": "1440e0c5",
   "metadata": {},
   "outputs": [
    {
     "name": "stdout",
     "output_type": "stream",
     "text": [
      "Index(['Second name', 'First name', 'Gender', 'Height(cm)', 'Weight(kg)',\n",
      "       'Country/Team'],\n",
      "      dtype='object')\n",
      "['Second name', 'First name', 'Gender', 'Height(cm)', 'Weight(kg)', 'Country/Team']\n"
     ]
    }
   ],
   "source": [
    "import pandas as pd\n",
    "\n",
    "data = pd.read_csv(\"./Soccer_players_data1.csv\")\n",
    "\n",
    "\n",
    "# get column names\n",
    "columns = data.columns\n",
    "print(columns)\n",
    "\n",
    "column_names = data.columns.to_list()\n",
    "print(column_names)"
   ]
  },
  {
   "cell_type": "markdown",
   "id": "1891483c",
   "metadata": {},
   "source": [
    "### 2. data types"
   ]
  },
  {
   "cell_type": "code",
   "execution_count": 10,
   "id": "6ab70687",
   "metadata": {},
   "outputs": [
    {
     "name": "stdout",
     "output_type": "stream",
     "text": [
      "      Second name First name Gender  Height(cm)  Weight(kg)  \\\n",
      "0          Abbadi     Ilyas       M         170          69   \n",
      "1          Abbate    Simona       W         171          64   \n",
      "2        Abdelaal    Hesham       M         167          52   \n",
      "3     Abdulrahman      Amer       M         168          68   \n",
      "4           Abian     Pablo       M         177          78   \n",
      "...           ...        ...    ...         ...         ...   \n",
      "1582         Zhou      Peng       M         183          88   \n",
      "1583     Zlokovic     Boris       M         197         100   \n",
      "1584       Zolnir     Urska       W         173          63   \n",
      "1585        Zoric   Milenko       M         179          73   \n",
      "1586        Zugaj     Nenad       M         177          84   \n",
      "\n",
      "              Country/Team  \n",
      "0                  Algeria  \n",
      "1                    Italy  \n",
      "2                    Egypt  \n",
      "3     United Arab Emirates  \n",
      "4                    Spain  \n",
      "...                    ...  \n",
      "1582                 China  \n",
      "1583            Montenegro  \n",
      "1584              Slovenia  \n",
      "1585                Serbia  \n",
      "1586               Croatia  \n",
      "\n",
      "[1587 rows x 6 columns]\n",
      "Second name     object\n",
      "First name      object\n",
      "Gender          object\n",
      "Height(cm)       int64\n",
      "Weight(kg)       int64\n",
      "Country/Team    object\n",
      "dtype: object\n"
     ]
    }
   ],
   "source": [
    "print(data)\n",
    "\n",
    "data_types = data.dtypes\n",
    "\n",
    "# print data types\n",
    "print(data_types)"
   ]
  },
  {
   "cell_type": "markdown",
   "id": "361058cf",
   "metadata": {},
   "source": [
    "### 3. identifying missing values"
   ]
  },
  {
   "cell_type": "code",
   "execution_count": 14,
   "id": "70ce8527",
   "metadata": {},
   "outputs": [
    {
     "name": "stdout",
     "output_type": "stream",
     "text": [
      "       A      B      C\n",
      "0  False  False   True\n",
      "1  False   True  False\n",
      "2   True  False  False\n",
      "A    1\n",
      "B    1\n",
      "C    1\n",
      "dtype: int64\n"
     ]
    }
   ],
   "source": [
    "import numpy as np\n",
    "import pandas as pd\n",
    "\n",
    "# example DataFrame with missing values\n",
    "data = {'A': [1, 2, np.nan], 'B': [4, np.nan, 6], 'C': [np.nan, 8, 9]}\n",
    "df = pd.DataFrame(data)\n",
    "\n",
    "# identify missing values\n",
    "missing_values = df.isnull()\n",
    "missing_values_info = df.isnull().sum()\n",
    "print(missing_values)\n",
    "print(missing_values_info)"
   ]
  },
  {
   "cell_type": "markdown",
   "id": "4f780266",
   "metadata": {},
   "source": [
    "### 4. unique values"
   ]
  },
  {
   "cell_type": "code",
   "execution_count": 15,
   "id": "a28ae3bd",
   "metadata": {},
   "outputs": [],
   "source": [
    "data = pd.read_csv(\"./Soccer_players_data1.csv\")"
   ]
  },
  {
   "cell_type": "code",
   "execution_count": 17,
   "id": "69c2a22f",
   "metadata": {},
   "outputs": [
    {
     "data": {
      "text/plain": [
       "Second name     1433\n",
       "First name      1109\n",
       "Gender             2\n",
       "Height(cm)        69\n",
       "Weight(kg)        87\n",
       "Country/Team     182\n",
       "dtype: int64"
      ]
     },
     "execution_count": 17,
     "metadata": {},
     "output_type": "execute_result"
    }
   ],
   "source": [
    "data.nunique()"
   ]
  },
  {
   "cell_type": "code",
   "execution_count": 18,
   "id": "cf916800",
   "metadata": {},
   "outputs": [
    {
     "data": {
      "text/plain": [
       "array(['Abbadi', 'Abbate', 'Abdelaal', ..., 'Zolnir', 'Zoric', 'Zugaj'],\n",
       "      dtype=object)"
      ]
     },
     "execution_count": 18,
     "metadata": {},
     "output_type": "execute_result"
    }
   ],
   "source": [
    "data[\"Second name\"].unique()"
   ]
  },
  {
   "cell_type": "code",
   "execution_count": 19,
   "id": "3b47143f",
   "metadata": {},
   "outputs": [
    {
     "data": {
      "text/plain": [
       "array(['Ilyas ', 'Simona ', 'Hesham ', ..., 'Urska ', 'Milenko ',\n",
       "       'Nenad '], dtype=object)"
      ]
     },
     "execution_count": 19,
     "metadata": {},
     "output_type": "execute_result"
    }
   ],
   "source": [
    "data[\"First name\"].unique()"
   ]
  },
  {
   "cell_type": "code",
   "execution_count": 20,
   "id": "7dbe45a2",
   "metadata": {},
   "outputs": [
    {
     "data": {
      "text/plain": [
       "array(['M', 'W'], dtype=object)"
      ]
     },
     "execution_count": 20,
     "metadata": {},
     "output_type": "execute_result"
    }
   ],
   "source": [
    "data[\"Gender\"].unique()"
   ]
  },
  {
   "cell_type": "code",
   "execution_count": 21,
   "id": "b29aee38",
   "metadata": {},
   "outputs": [
    {
     "data": {
      "text/plain": [
       "array(['Algeria', 'Italy', 'Egypt', 'United Arab Emirates', 'Spain',\n",
       "       'Portugal', 'Colombia', 'Ethiopia', 'Jordan', 'Team GB',\n",
       "       'Cameroon', 'Saint Kitts and Nevis', 'Russian Federation',\n",
       "       'Greece', 'Comoros', 'Trinidad and Tobago', 'Lithuania', 'Tunisia',\n",
       "       'Qatar', 'Vanuatu', 'St Vincent and the Grenadines', 'Oman',\n",
       "       'Madagascar', 'Bahrain', 'Barbados', 'Australian Olympic Team',\n",
       "       'Uzbekistan', 'Botswana', 'Team USA', 'Japan', 'Venezuela',\n",
       "       'Mongolia', 'Poland', 'Brazil', 'Kuwait', 'Iran', 'Eritrea',\n",
       "       'Bahamas', 'Guam', 'Hong Kong', 'Myanmar', 'New Zealand',\n",
       "       'Germany', 'South Korea', 'Afghanistan', 'Belarus',\n",
       "       'Antigua and Barbuda', 'Hungary', 'France', 'Monaco', 'Angola',\n",
       "       'Chile', 'Argentina', 'Namibia', 'Kazakhstan', 'Romania',\n",
       "       'Ukraine', 'Andorra', 'Czech Republic', 'Burundi', 'Slovenia',\n",
       "       'Jamaica', 'Independent Olympic Athletes', 'Netherlands', 'Canada',\n",
       "       'Senegal', 'Montenegro', 'Bermuda', 'Croatia', 'Guinea', 'Ireland',\n",
       "       'Moldova', 'Latvia', 'China', 'Switzerland', 'Lebanon', 'Thailand',\n",
       "       'Benin', 'Bhutan', 'Malta', 'Uruguay', 'Mozambique', 'Sweden',\n",
       "       'Yemen', 'Bulgaria', 'Denmark', 'South Africa', 'Turkey',\n",
       "       'Armenia', 'Belgium', 'Mexico', 'Serbia', 'Nauru', 'Kenya',\n",
       "       'Israel', 'FYR Macedonia', 'Indonesia', 'Morocco', 'Mauritania',\n",
       "       'Fiji', 'Ecuador', 'Chinese Taipei', 'Austria', 'Slovakia',\n",
       "       'American Samoa', 'Cayman Islands', 'Honduras', 'Palau', 'Nigeria',\n",
       "       'Niger', 'Swaziland', 'Liechtenstein', 'Azerbaijan', 'Palestine',\n",
       "       'Marshall Islands', 'El Salvador', 'Paraguay', 'Philippines',\n",
       "       'Dominica', 'Tajikistan', 'Sri Lanka', 'American Virgin Islands',\n",
       "       'Syria', 'Zimbabwe', 'Central African Republic', 'Albania',\n",
       "       'Georgia', 'North Korea', 'Bosnia and Herzegovina', 'Kyrgyzstan',\n",
       "       'Ivory Coast', 'Cyprus', 'Finland', 'Turkmenistan', 'Estonia',\n",
       "       'Tuvalu', 'Mauritius', 'Brunei Darussalam', 'Uganda', 'DR Congo',\n",
       "       'Seychelles', 'Equatorial Guinea', 'Aruba', 'Bangladesh', 'Belize',\n",
       "       'Dominican Republic', 'Guinea-Bissau', 'Micronesia', 'Malaysia',\n",
       "       'Cape Verde', 'Tanzania', 'Costa Rica', 'Togo', 'Chad', 'Vietnam',\n",
       "       'Luxembourg', 'Rwanda', 'Gabon', 'Singapore', 'Burkina Faso',\n",
       "       'Papua New Guinea', \"Lao People's Dem Republic\",\n",
       "       'S?úo Tom?? and Pr?¡ncipe', 'Maldives', 'Nepal', 'Guyana',\n",
       "       'Guatemala', 'Panama', 'Iraq', 'Peru', 'Grenada', 'Timor-Leste',\n",
       "       'Suriname', 'Cambodia', 'Saint Lucia', 'Malawi', 'Kiribati',\n",
       "       'San Marino', 'Nicaragua', 'Sierra Leone', 'Cook Islands', 'Sudan'],\n",
       "      dtype=object)"
      ]
     },
     "execution_count": 21,
     "metadata": {},
     "output_type": "execute_result"
    }
   ],
   "source": [
    "data[\"Country/Team\"].unique()"
   ]
  },
  {
   "cell_type": "markdown",
   "id": "946c021a",
   "metadata": {},
   "source": [
    "### 2. Data quality Issues and Inconsistencies"
   ]
  },
  {
   "cell_type": "code",
   "execution_count": 25,
   "id": "325b3c81",
   "metadata": {},
   "outputs": [
    {
     "name": "stdout",
     "output_type": "stream",
     "text": [
      "Missing values: \n",
      "Name      0\n",
      "Age       1\n",
      "Gender    0\n",
      "Salary    1\n",
      "dtype: int64\n",
      "\n",
      "Duplicate rows: \n",
      "0    False\n",
      "1    False\n",
      "2    False\n",
      "3    False\n",
      "4    False\n",
      "dtype: bool\n",
      "\n",
      "Inconsistent formats or inconsistencies: \n",
      "     Name   Age Gender   Salary\n",
      "0  Charan  25.0      M  50000.0\n",
      "1   kiran  30.0      F  60000.0\n",
      "2    mike   NaN     MF  54444.0\n",
      "3   Divya  35.0      F      NaN\n",
      "4   Pawan  25.0      M  50000.0\n"
     ]
    }
   ],
   "source": [
    "import pandas as pd\n",
    "\n",
    "data = {\n",
    "    'Name': ['Charan', 'kiran', \"mike\", \"Divya\", \"Pawan\"],\n",
    "    'Age': [25, 30, None, 35, 25],\n",
    "    'Gender': [\"M\", \"F\", \"MF\", \"F\", \"M\"],\n",
    "    'Salary': [50000, 60000, 54444, None, 50000]\n",
    "}\n",
    "\n",
    "df = pd.DataFrame(data)\n",
    "\n",
    "# check for missing values\n",
    "missing_values = df.isnull().sum()\n",
    "print(\"Missing values: \")\n",
    "print(missing_values)\n",
    "\n",
    "# Check for duplicate rows\n",
    "duplicate_rows = df.duplicated()\n",
    "print(\"\\nDuplicate rows: \")\n",
    "print(duplicate_rows)\n",
    "\n",
    "# check for inconsistent formats or inconsistencies\n",
    "inconsistent_format = df[\"Gender\"].str.contains('[MF]', regex=True)\n",
    "print(\"\\nInconsistent formats or inconsistencies: \")\n",
    "print(df[inconsistent_format])"
   ]
  },
  {
   "cell_type": "code",
   "execution_count": null,
   "id": "6d268c46",
   "metadata": {},
   "outputs": [],
   "source": []
  }
 ],
 "metadata": {
  "kernelspec": {
   "display_name": "Python 3 (ipykernel)",
   "language": "python",
   "name": "python3"
  },
  "language_info": {
   "codemirror_mode": {
    "name": "ipython",
    "version": 3
   },
   "file_extension": ".py",
   "mimetype": "text/x-python",
   "name": "python",
   "nbconvert_exporter": "python",
   "pygments_lexer": "ipython3",
   "version": "3.11.4"
  }
 },
 "nbformat": 4,
 "nbformat_minor": 5
}
