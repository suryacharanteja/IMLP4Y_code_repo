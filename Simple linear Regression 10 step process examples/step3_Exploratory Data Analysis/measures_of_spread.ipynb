{
 "cells": [
  {
   "cell_type": "code",
   "execution_count": 1,
   "id": "1589bbf1",
   "metadata": {},
   "outputs": [],
   "source": [
    "import pandas as pd"
   ]
  },
  {
   "cell_type": "code",
   "execution_count": 3,
   "id": "abc9c51b",
   "metadata": {},
   "outputs": [
    {
     "name": "stdout",
     "output_type": "stream",
     "text": [
      "Range: 40\n"
     ]
    }
   ],
   "source": [
    "# create a Pandas DataFrame\n",
    "data = pd.DataFrame({'A': [10, 20, 30, 40, 50]})\n",
    "\n",
    "# let us calculate the range\n",
    "range_val = data['A'].max() - data['A'].min() \n",
    "\n",
    "print(\"Range:\", range_val)"
   ]
  },
  {
   "cell_type": "code",
   "execution_count": 4,
   "id": "2e8f202e",
   "metadata": {},
   "outputs": [],
   "source": [
    "import os"
   ]
  },
  {
   "cell_type": "code",
   "execution_count": 5,
   "id": "170af9ec",
   "metadata": {},
   "outputs": [
    {
     "data": {
      "text/plain": [
       "['.ipynb_checkpoints',\n",
       " 'amazon_co-ecommerce_sample.csv',\n",
       " 'customers_buying_pattern.csv',\n",
       " 'Customers_segmentation.csv',\n",
       " 'ecommerce_data.csv',\n",
       " 'measures_of_spread.ipynb',\n",
       " 'nonrectangular',\n",
       " 'organizing_data.ipynb',\n",
       " 'Soccer_players_data1.csv',\n",
       " 'store_details.csv',\n",
       " 'summarizing data.ipynb',\n",
       " 'timeseries',\n",
       " 'unit _sales_data.csv']"
      ]
     },
     "execution_count": 5,
     "metadata": {},
     "output_type": "execute_result"
    }
   ],
   "source": [
    "os.listdir()"
   ]
  },
  {
   "cell_type": "code",
   "execution_count": 6,
   "id": "a57c31b3",
   "metadata": {},
   "outputs": [],
   "source": [
    "units = pd.read_csv(\"./unit _sales_data.csv\")"
   ]
  },
  {
   "cell_type": "code",
   "execution_count": 7,
   "id": "8bf907bf",
   "metadata": {},
   "outputs": [
    {
     "data": {
      "text/html": [
       "<div>\n",
       "<style scoped>\n",
       "    .dataframe tbody tr th:only-of-type {\n",
       "        vertical-align: middle;\n",
       "    }\n",
       "\n",
       "    .dataframe tbody tr th {\n",
       "        vertical-align: top;\n",
       "    }\n",
       "\n",
       "    .dataframe thead th {\n",
       "        text-align: right;\n",
       "    }\n",
       "</style>\n",
       "<table border=\"1\" class=\"dataframe\">\n",
       "  <thead>\n",
       "    <tr style=\"text-align: right;\">\n",
       "      <th></th>\n",
       "      <th>Month</th>\n",
       "      <th>Unit Sales</th>\n",
       "      <th>Price ($)</th>\n",
       "      <th>Adexp ('000$)</th>\n",
       "      <th>Promexp ('000$)</th>\n",
       "    </tr>\n",
       "  </thead>\n",
       "  <tbody>\n",
       "    <tr>\n",
       "      <th>0</th>\n",
       "      <td>1.0</td>\n",
       "      <td>73959.0</td>\n",
       "      <td>8.75</td>\n",
       "      <td>50.04</td>\n",
       "      <td>61.13</td>\n",
       "    </tr>\n",
       "    <tr>\n",
       "      <th>1</th>\n",
       "      <td>2.0</td>\n",
       "      <td>71544.0</td>\n",
       "      <td>8.99</td>\n",
       "      <td>50.74</td>\n",
       "      <td>60.19</td>\n",
       "    </tr>\n",
       "    <tr>\n",
       "      <th>2</th>\n",
       "      <td>3.0</td>\n",
       "      <td>78587.0</td>\n",
       "      <td>7.50</td>\n",
       "      <td>50.14</td>\n",
       "      <td>59.16</td>\n",
       "    </tr>\n",
       "    <tr>\n",
       "      <th>3</th>\n",
       "      <td>4.0</td>\n",
       "      <td>80364.0</td>\n",
       "      <td>7.25</td>\n",
       "      <td>50.27</td>\n",
       "      <td>60.38</td>\n",
       "    </tr>\n",
       "    <tr>\n",
       "      <th>4</th>\n",
       "      <td>5.0</td>\n",
       "      <td>78771.0</td>\n",
       "      <td>7.40</td>\n",
       "      <td>51.25</td>\n",
       "      <td>59.71</td>\n",
       "    </tr>\n",
       "    <tr>\n",
       "      <th>5</th>\n",
       "      <td>6.0</td>\n",
       "      <td>71986.0</td>\n",
       "      <td>8.50</td>\n",
       "      <td>50.65</td>\n",
       "      <td>59.88</td>\n",
       "    </tr>\n",
       "    <tr>\n",
       "      <th>6</th>\n",
       "      <td>7.0</td>\n",
       "      <td>74885.0</td>\n",
       "      <td>8.40</td>\n",
       "      <td>50.87</td>\n",
       "      <td>60.14</td>\n",
       "    </tr>\n",
       "    <tr>\n",
       "      <th>7</th>\n",
       "      <td>8.0</td>\n",
       "      <td>73345.0</td>\n",
       "      <td>7.90</td>\n",
       "      <td>50.15</td>\n",
       "      <td>60.08</td>\n",
       "    </tr>\n",
       "    <tr>\n",
       "      <th>8</th>\n",
       "      <td>9.0</td>\n",
       "      <td>76659.0</td>\n",
       "      <td>7.25</td>\n",
       "      <td>48.24</td>\n",
       "      <td>59.90</td>\n",
       "    </tr>\n",
       "    <tr>\n",
       "      <th>9</th>\n",
       "      <td>10.0</td>\n",
       "      <td>71880.0</td>\n",
       "      <td>8.70</td>\n",
       "      <td>50.19</td>\n",
       "      <td>59.68</td>\n",
       "    </tr>\n",
       "    <tr>\n",
       "      <th>10</th>\n",
       "      <td>11.0</td>\n",
       "      <td>73598.0</td>\n",
       "      <td>8.40</td>\n",
       "      <td>51.11</td>\n",
       "      <td>59.83</td>\n",
       "    </tr>\n",
       "    <tr>\n",
       "      <th>11</th>\n",
       "      <td>12.0</td>\n",
       "      <td>74893.0</td>\n",
       "      <td>8.10</td>\n",
       "      <td>51.49</td>\n",
       "      <td>59.77</td>\n",
       "    </tr>\n",
       "    <tr>\n",
       "      <th>12</th>\n",
       "      <td>13.0</td>\n",
       "      <td>69003.0</td>\n",
       "      <td>8.40</td>\n",
       "      <td>50.10</td>\n",
       "      <td>59.29</td>\n",
       "    </tr>\n",
       "    <tr>\n",
       "      <th>13</th>\n",
       "      <td>14.0</td>\n",
       "      <td>78542.0</td>\n",
       "      <td>7.40</td>\n",
       "      <td>49.24</td>\n",
       "      <td>60.40</td>\n",
       "    </tr>\n",
       "    <tr>\n",
       "      <th>14</th>\n",
       "      <td>15.0</td>\n",
       "      <td>72543.0</td>\n",
       "      <td>8.00</td>\n",
       "      <td>50.04</td>\n",
       "      <td>59.89</td>\n",
       "    </tr>\n",
       "    <tr>\n",
       "      <th>15</th>\n",
       "      <td>16.0</td>\n",
       "      <td>74247.0</td>\n",
       "      <td>8.30</td>\n",
       "      <td>49.46</td>\n",
       "      <td>60.06</td>\n",
       "    </tr>\n",
       "    <tr>\n",
       "      <th>16</th>\n",
       "      <td>17.0</td>\n",
       "      <td>76253.0</td>\n",
       "      <td>8.10</td>\n",
       "      <td>51.62</td>\n",
       "      <td>60.51</td>\n",
       "    </tr>\n",
       "    <tr>\n",
       "      <th>17</th>\n",
       "      <td>18.0</td>\n",
       "      <td>72582.0</td>\n",
       "      <td>8.20</td>\n",
       "      <td>49.78</td>\n",
       "      <td>58.93</td>\n",
       "    </tr>\n",
       "    <tr>\n",
       "      <th>18</th>\n",
       "      <td>19.0</td>\n",
       "      <td>69022.0</td>\n",
       "      <td>8.99</td>\n",
       "      <td>48.60</td>\n",
       "      <td>60.09</td>\n",
       "    </tr>\n",
       "    <tr>\n",
       "      <th>19</th>\n",
       "      <td>20.0</td>\n",
       "      <td>76200.0</td>\n",
       "      <td>7.99</td>\n",
       "      <td>49.00</td>\n",
       "      <td>61.00</td>\n",
       "    </tr>\n",
       "    <tr>\n",
       "      <th>20</th>\n",
       "      <td>21.0</td>\n",
       "      <td>69701.0</td>\n",
       "      <td>8.50</td>\n",
       "      <td>48.00</td>\n",
       "      <td>59.00</td>\n",
       "    </tr>\n",
       "    <tr>\n",
       "      <th>21</th>\n",
       "      <td>22.0</td>\n",
       "      <td>77005.0</td>\n",
       "      <td>7.90</td>\n",
       "      <td>54.00</td>\n",
       "      <td>59.50</td>\n",
       "    </tr>\n",
       "    <tr>\n",
       "      <th>22</th>\n",
       "      <td>23.0</td>\n",
       "      <td>70987.0</td>\n",
       "      <td>7.99</td>\n",
       "      <td>48.70</td>\n",
       "      <td>58.00</td>\n",
       "    </tr>\n",
       "    <tr>\n",
       "      <th>23</th>\n",
       "      <td>24.0</td>\n",
       "      <td>75643.0</td>\n",
       "      <td>8.25</td>\n",
       "      <td>50.00</td>\n",
       "      <td>60.50</td>\n",
       "    </tr>\n",
       "    <tr>\n",
       "      <th>24</th>\n",
       "      <td>NaN</td>\n",
       "      <td>NaN</td>\n",
       "      <td>NaN</td>\n",
       "      <td>NaN</td>\n",
       "      <td>NaN</td>\n",
       "    </tr>\n",
       "    <tr>\n",
       "      <th>25</th>\n",
       "      <td>NaN</td>\n",
       "      <td>NaN</td>\n",
       "      <td>NaN</td>\n",
       "      <td>NaN</td>\n",
       "      <td>NaN</td>\n",
       "    </tr>\n",
       "    <tr>\n",
       "      <th>26</th>\n",
       "      <td>NaN</td>\n",
       "      <td>NaN</td>\n",
       "      <td>NaN</td>\n",
       "      <td>NaN</td>\n",
       "      <td>NaN</td>\n",
       "    </tr>\n",
       "    <tr>\n",
       "      <th>27</th>\n",
       "      <td>NaN</td>\n",
       "      <td>NaN</td>\n",
       "      <td>NaN</td>\n",
       "      <td>NaN</td>\n",
       "      <td>NaN</td>\n",
       "    </tr>\n",
       "  </tbody>\n",
       "</table>\n",
       "</div>"
      ],
      "text/plain": [
       "    Month  Unit Sales  Price ($)  Adexp ('000$)  Promexp ('000$)\n",
       "0     1.0     73959.0       8.75          50.04            61.13\n",
       "1     2.0     71544.0       8.99          50.74            60.19\n",
       "2     3.0     78587.0       7.50          50.14            59.16\n",
       "3     4.0     80364.0       7.25          50.27            60.38\n",
       "4     5.0     78771.0       7.40          51.25            59.71\n",
       "5     6.0     71986.0       8.50          50.65            59.88\n",
       "6     7.0     74885.0       8.40          50.87            60.14\n",
       "7     8.0     73345.0       7.90          50.15            60.08\n",
       "8     9.0     76659.0       7.25          48.24            59.90\n",
       "9    10.0     71880.0       8.70          50.19            59.68\n",
       "10   11.0     73598.0       8.40          51.11            59.83\n",
       "11   12.0     74893.0       8.10          51.49            59.77\n",
       "12   13.0     69003.0       8.40          50.10            59.29\n",
       "13   14.0     78542.0       7.40          49.24            60.40\n",
       "14   15.0     72543.0       8.00          50.04            59.89\n",
       "15   16.0     74247.0       8.30          49.46            60.06\n",
       "16   17.0     76253.0       8.10          51.62            60.51\n",
       "17   18.0     72582.0       8.20          49.78            58.93\n",
       "18   19.0     69022.0       8.99          48.60            60.09\n",
       "19   20.0     76200.0       7.99          49.00            61.00\n",
       "20   21.0     69701.0       8.50          48.00            59.00\n",
       "21   22.0     77005.0       7.90          54.00            59.50\n",
       "22   23.0     70987.0       7.99          48.70            58.00\n",
       "23   24.0     75643.0       8.25          50.00            60.50\n",
       "24    NaN         NaN        NaN            NaN              NaN\n",
       "25    NaN         NaN        NaN            NaN              NaN\n",
       "26    NaN         NaN        NaN            NaN              NaN\n",
       "27    NaN         NaN        NaN            NaN              NaN"
      ]
     },
     "execution_count": 7,
     "metadata": {},
     "output_type": "execute_result"
    }
   ],
   "source": [
    "units"
   ]
  },
  {
   "cell_type": "code",
   "execution_count": 13,
   "id": "3302a3b9",
   "metadata": {},
   "outputs": [
    {
     "name": "stdout",
     "output_type": "stream",
     "text": [
      "Range of Unit Sales: 11361.0\n",
      "Range of Price: 1.7400000000000002\n",
      "Range of Adexpenses: 6.0\n"
     ]
    }
   ],
   "source": [
    "range_US = units['Unit Sales'].max() - units['Unit Sales'].min()\n",
    "print(\"Range of Unit Sales:\", range_US)\n",
    "\n",
    "range_Price = units['Price ($)'].max() - units['Price ($)'].min()\n",
    "print(\"Range of Price:\", range_Price)\n",
    "\n",
    "range_Adexp = units['Adexp (\\'000$)'].max() - units['Adexp (\\'000$)'].min()\n",
    "print(\"Range of Adexpenses:\", range_Adexp)\n"
   ]
  },
  {
   "cell_type": "code",
   "execution_count": 11,
   "id": "8ced98fd",
   "metadata": {},
   "outputs": [
    {
     "data": {
      "text/plain": [
       "Index(['Month', 'Unit Sales', 'Price ($)', 'Adexp ('000$)', 'Promexp ('000$)'], dtype='object')"
      ]
     },
     "execution_count": 11,
     "metadata": {},
     "output_type": "execute_result"
    }
   ],
   "source": [
    "units.columns"
   ]
  },
  {
   "cell_type": "code",
   "execution_count": 14,
   "id": "7fc53794",
   "metadata": {},
   "outputs": [],
   "source": [
    "players = pd.read_csv(\"./Soccer_players_data1.csv\")"
   ]
  },
  {
   "cell_type": "code",
   "execution_count": 15,
   "id": "8f242988",
   "metadata": {},
   "outputs": [
    {
     "data": {
      "text/plain": [
       "Index(['Second name', 'First name', 'Gender', 'Height(cm)', 'Weight(kg)',\n",
       "       'Country/Team'],\n",
       "      dtype='object')"
      ]
     },
     "execution_count": 15,
     "metadata": {},
     "output_type": "execute_result"
    }
   ],
   "source": [
    "players.columns"
   ]
  },
  {
   "cell_type": "code",
   "execution_count": 16,
   "id": "2e798fd2",
   "metadata": {},
   "outputs": [
    {
     "name": "stdout",
     "output_type": "stream",
     "text": [
      "Range of Heights: 83\n"
     ]
    }
   ],
   "source": [
    "range_height = players['Height(cm)'].max() - players['Height(cm)'].min()\n",
    "print(\"Range of Heights:\", range_height)\n"
   ]
  },
  {
   "cell_type": "code",
   "execution_count": 17,
   "id": "1fbe78a8",
   "metadata": {},
   "outputs": [
    {
     "name": "stdout",
     "output_type": "stream",
     "text": [
      "Range of Weights: 188\n"
     ]
    }
   ],
   "source": [
    "range_weight = players['Weight(kg)'].max() - players['Weight(kg)'].min()\n",
    "print(\"Range of Weights:\", range_weight)"
   ]
  },
  {
   "cell_type": "markdown",
   "id": "1f8fbbcd",
   "metadata": {},
   "source": [
    "# 2. IQR"
   ]
  },
  {
   "cell_type": "code",
   "execution_count": 23,
   "id": "93a56220",
   "metadata": {},
   "outputs": [
    {
     "name": "stdout",
     "output_type": "stream",
     "text": [
      "Interquartile Range(IQR):  20.0\n"
     ]
    }
   ],
   "source": [
    "# create a Pandas DataFrame\n",
    "data = pd.DataFrame({'A': [10, 20, 30, 40, 50]})\n",
    "\n",
    "# calculate the first quartile (Q1)\n",
    "q1 = data['A'].quantile(0.25)\n",
    "\n",
    "# calculate the third quartile (Q3)\n",
    "q3 = data[\"A\"].quantile(0.75)\n",
    "\n",
    "# calculate the IQR\n",
    "iqr = q3 - q1\n",
    "\n",
    "print(\"Interquartile Range(IQR): \", iqr)"
   ]
  },
  {
   "cell_type": "code",
   "execution_count": 19,
   "id": "bb2e3816",
   "metadata": {},
   "outputs": [
    {
     "data": {
      "text/plain": [
       "20.0"
      ]
     },
     "execution_count": 19,
     "metadata": {},
     "output_type": "execute_result"
    }
   ],
   "source": [
    "q1"
   ]
  },
  {
   "cell_type": "code",
   "execution_count": 21,
   "id": "f877db7a",
   "metadata": {},
   "outputs": [
    {
     "data": {
      "text/plain": [
       "40.0"
      ]
     },
     "execution_count": 21,
     "metadata": {},
     "output_type": "execute_result"
    }
   ],
   "source": [
    "q3"
   ]
  },
  {
   "cell_type": "code",
   "execution_count": 24,
   "id": "3e7f60d3",
   "metadata": {},
   "outputs": [
    {
     "data": {
      "text/plain": [
       "Index(['Second name', 'First name', 'Gender', 'Height(cm)', 'Weight(kg)',\n",
       "       'Country/Team'],\n",
       "      dtype='object')"
      ]
     },
     "execution_count": 24,
     "metadata": {},
     "output_type": "execute_result"
    }
   ],
   "source": [
    "players.columns"
   ]
  },
  {
   "cell_type": "code",
   "execution_count": 25,
   "id": "2585c749",
   "metadata": {},
   "outputs": [
    {
     "name": "stdout",
     "output_type": "stream",
     "text": [
      "Interquartile Range(IQR):  15.0\n"
     ]
    }
   ],
   "source": [
    "# calculate the first quartile (Q1)\n",
    "q1 = players['Height(cm)'].quantile(0.25)\n",
    "\n",
    "# calculate the third quartile (Q3)\n",
    "q3 = players[\"Height(cm)\"].quantile(0.75)\n",
    "\n",
    "# calculate the IQR\n",
    "iqr = q3 - q1\n",
    "\n",
    "print(\"Interquartile Range(IQR): \", iqr)"
   ]
  },
  {
   "cell_type": "code",
   "execution_count": 26,
   "id": "9252c2c4",
   "metadata": {},
   "outputs": [
    {
     "data": {
      "text/plain": [
       "185.0"
      ]
     },
     "execution_count": 26,
     "metadata": {},
     "output_type": "execute_result"
    }
   ],
   "source": [
    "q3"
   ]
  },
  {
   "cell_type": "code",
   "execution_count": 27,
   "id": "3a8273c8",
   "metadata": {},
   "outputs": [
    {
     "data": {
      "text/plain": [
       "170.0"
      ]
     },
     "execution_count": 27,
     "metadata": {},
     "output_type": "execute_result"
    }
   ],
   "source": [
    "q1"
   ]
  },
  {
   "cell_type": "code",
   "execution_count": 28,
   "id": "20603189",
   "metadata": {},
   "outputs": [
    {
     "name": "stdout",
     "output_type": "stream",
     "text": [
      "Interquartile Range(IQR):  20.0\n"
     ]
    }
   ],
   "source": [
    "# calculate the first quartile (Q1)\n",
    "q1 = players['Weight(kg)'].quantile(0.25)\n",
    "\n",
    "# calculate the third quartile (Q3)\n",
    "q3 = players[\"Weight(kg)\"].quantile(0.75)\n",
    "\n",
    "# calculate the IQR\n",
    "iqr = q3 - q1\n",
    "\n",
    "print(\"Interquartile Range(IQR): \", iqr)"
   ]
  },
  {
   "cell_type": "code",
   "execution_count": 29,
   "id": "af08f30a",
   "metadata": {},
   "outputs": [
    {
     "data": {
      "text/plain": [
       "81.0"
      ]
     },
     "execution_count": 29,
     "metadata": {},
     "output_type": "execute_result"
    }
   ],
   "source": [
    "q3"
   ]
  },
  {
   "cell_type": "code",
   "execution_count": 30,
   "id": "5c9fa1b2",
   "metadata": {},
   "outputs": [
    {
     "data": {
      "text/plain": [
       "61.0"
      ]
     },
     "execution_count": 30,
     "metadata": {},
     "output_type": "execute_result"
    }
   ],
   "source": [
    "q1"
   ]
  },
  {
   "cell_type": "markdown",
   "id": "009c18b8",
   "metadata": {},
   "source": [
    "# 3. Variance"
   ]
  },
  {
   "cell_type": "code",
   "execution_count": 31,
   "id": "5c4f9e63",
   "metadata": {},
   "outputs": [
    {
     "data": {
      "text/html": [
       "<div>\n",
       "<style scoped>\n",
       "    .dataframe tbody tr th:only-of-type {\n",
       "        vertical-align: middle;\n",
       "    }\n",
       "\n",
       "    .dataframe tbody tr th {\n",
       "        vertical-align: top;\n",
       "    }\n",
       "\n",
       "    .dataframe thead th {\n",
       "        text-align: right;\n",
       "    }\n",
       "</style>\n",
       "<table border=\"1\" class=\"dataframe\">\n",
       "  <thead>\n",
       "    <tr style=\"text-align: right;\">\n",
       "      <th></th>\n",
       "      <th>A</th>\n",
       "    </tr>\n",
       "  </thead>\n",
       "  <tbody>\n",
       "    <tr>\n",
       "      <th>0</th>\n",
       "      <td>10</td>\n",
       "    </tr>\n",
       "    <tr>\n",
       "      <th>1</th>\n",
       "      <td>20</td>\n",
       "    </tr>\n",
       "    <tr>\n",
       "      <th>2</th>\n",
       "      <td>30</td>\n",
       "    </tr>\n",
       "    <tr>\n",
       "      <th>3</th>\n",
       "      <td>40</td>\n",
       "    </tr>\n",
       "    <tr>\n",
       "      <th>4</th>\n",
       "      <td>50</td>\n",
       "    </tr>\n",
       "  </tbody>\n",
       "</table>\n",
       "</div>"
      ],
      "text/plain": [
       "    A\n",
       "0  10\n",
       "1  20\n",
       "2  30\n",
       "3  40\n",
       "4  50"
      ]
     },
     "execution_count": 31,
     "metadata": {},
     "output_type": "execute_result"
    }
   ],
   "source": [
    "data"
   ]
  },
  {
   "cell_type": "code",
   "execution_count": 32,
   "id": "4a061478",
   "metadata": {},
   "outputs": [],
   "source": [
    "variance_val = data[\"A\"].var()"
   ]
  },
  {
   "cell_type": "code",
   "execution_count": 33,
   "id": "7f711fd8",
   "metadata": {},
   "outputs": [
    {
     "data": {
      "text/plain": [
       "250.0"
      ]
     },
     "execution_count": 33,
     "metadata": {},
     "output_type": "execute_result"
    }
   ],
   "source": [
    "variance_val"
   ]
  },
  {
   "cell_type": "markdown",
   "id": "44f7316e",
   "metadata": {},
   "source": [
    "### deviation"
   ]
  },
  {
   "cell_type": "code",
   "execution_count": 34,
   "id": "b98c1657",
   "metadata": {},
   "outputs": [],
   "source": [
    "mean = 110.54\n",
    "y1 = 102\n",
    "y2 = 115\n",
    "\n",
    "# dev_y1 = y1 - mean\n",
    "\n"
   ]
  },
  {
   "cell_type": "code",
   "execution_count": 35,
   "id": "e8c08f74",
   "metadata": {},
   "outputs": [],
   "source": [
    "dev_y1 = y1 - mean"
   ]
  },
  {
   "cell_type": "code",
   "execution_count": 36,
   "id": "361a4a83",
   "metadata": {},
   "outputs": [
    {
     "data": {
      "text/plain": [
       "-8.540000000000006"
      ]
     },
     "execution_count": 36,
     "metadata": {},
     "output_type": "execute_result"
    }
   ],
   "source": [
    "dev_y1"
   ]
  },
  {
   "cell_type": "code",
   "execution_count": 37,
   "id": "9cb1d054",
   "metadata": {},
   "outputs": [],
   "source": [
    "dev_y2 = y2 - mean"
   ]
  },
  {
   "cell_type": "code",
   "execution_count": 38,
   "id": "8f5cbcd5",
   "metadata": {},
   "outputs": [
    {
     "data": {
      "text/plain": [
       "4.459999999999994"
      ]
     },
     "execution_count": 38,
     "metadata": {},
     "output_type": "execute_result"
    }
   ],
   "source": [
    "dev_y2"
   ]
  },
  {
   "cell_type": "code",
   "execution_count": 39,
   "id": "d4a171fe",
   "metadata": {},
   "outputs": [],
   "source": [
    "dev_y1_sq = dev_y1 ** 2"
   ]
  },
  {
   "cell_type": "code",
   "execution_count": 40,
   "id": "e9d8b81b",
   "metadata": {},
   "outputs": [
    {
     "data": {
      "text/plain": [
       "72.9316000000001"
      ]
     },
     "execution_count": 40,
     "metadata": {},
     "output_type": "execute_result"
    }
   ],
   "source": [
    "dev_y1_sq"
   ]
  },
  {
   "cell_type": "code",
   "execution_count": 41,
   "id": "ba1469ff",
   "metadata": {},
   "outputs": [],
   "source": [
    "dev_y2_sq = dev_y2 ** 2"
   ]
  },
  {
   "cell_type": "code",
   "execution_count": 42,
   "id": "5df5388f",
   "metadata": {},
   "outputs": [
    {
     "data": {
      "text/plain": [
       "19.891599999999944"
      ]
     },
     "execution_count": 42,
     "metadata": {},
     "output_type": "execute_result"
    }
   ],
   "source": [
    "dev_y2_sq"
   ]
  },
  {
   "cell_type": "code",
   "execution_count": 43,
   "id": "5dafd774",
   "metadata": {},
   "outputs": [],
   "source": [
    "sum_of_squares = 2825.39\n",
    "sample_size = 13\n",
    "\n",
    "variance = (sum_of_squares)/ (sample_size - 1)\n",
    "\n"
   ]
  },
  {
   "cell_type": "code",
   "execution_count": 64,
   "id": "8fe4c146",
   "metadata": {},
   "outputs": [
    {
     "data": {
      "text/plain": [
       "235.44916666666666"
      ]
     },
     "execution_count": 64,
     "metadata": {},
     "output_type": "execute_result"
    }
   ],
   "source": [
    "variance"
   ]
  },
  {
   "cell_type": "code",
   "execution_count": 65,
   "id": "d7de4574",
   "metadata": {},
   "outputs": [],
   "source": [
    "std_class = math.sqrt(variance)"
   ]
  },
  {
   "cell_type": "code",
   "execution_count": 66,
   "id": "372d1a6d",
   "metadata": {},
   "outputs": [
    {
     "data": {
      "text/plain": [
       "15.344352924338864"
      ]
     },
     "execution_count": 66,
     "metadata": {},
     "output_type": "execute_result"
    }
   ],
   "source": [
    "std_class"
   ]
  },
  {
   "cell_type": "markdown",
   "id": "6fb93cdc",
   "metadata": {},
   "source": [
    "# 4. Standard deviation"
   ]
  },
  {
   "cell_type": "code",
   "execution_count": 45,
   "id": "df43dc46",
   "metadata": {},
   "outputs": [],
   "source": [
    "std_deviation_val = data[\"A\"].std()"
   ]
  },
  {
   "cell_type": "code",
   "execution_count": 46,
   "id": "790e1f16",
   "metadata": {},
   "outputs": [
    {
     "data": {
      "text/plain": [
       "15.811388300841896"
      ]
     },
     "execution_count": 46,
     "metadata": {},
     "output_type": "execute_result"
    }
   ],
   "source": [
    "std_deviation_val"
   ]
  },
  {
   "cell_type": "code",
   "execution_count": 47,
   "id": "99fbded2",
   "metadata": {},
   "outputs": [],
   "source": [
    "import math"
   ]
  },
  {
   "cell_type": "code",
   "execution_count": 48,
   "id": "86d4af98",
   "metadata": {},
   "outputs": [],
   "source": [
    "std_val = math.sqrt(variance)"
   ]
  },
  {
   "cell_type": "code",
   "execution_count": 49,
   "id": "1309c244",
   "metadata": {},
   "outputs": [
    {
     "data": {
      "text/plain": [
       "15.344352924338864"
      ]
     },
     "execution_count": 49,
     "metadata": {},
     "output_type": "execute_result"
    }
   ],
   "source": [
    "std_val"
   ]
  },
  {
   "cell_type": "code",
   "execution_count": 50,
   "id": "dbabfd77",
   "metadata": {},
   "outputs": [],
   "source": [
    "import pandas as pd"
   ]
  },
  {
   "cell_type": "code",
   "execution_count": 51,
   "id": "6541694c",
   "metadata": {},
   "outputs": [
    {
     "data": {
      "text/html": [
       "<div>\n",
       "<style scoped>\n",
       "    .dataframe tbody tr th:only-of-type {\n",
       "        vertical-align: middle;\n",
       "    }\n",
       "\n",
       "    .dataframe tbody tr th {\n",
       "        vertical-align: top;\n",
       "    }\n",
       "\n",
       "    .dataframe thead th {\n",
       "        text-align: right;\n",
       "    }\n",
       "</style>\n",
       "<table border=\"1\" class=\"dataframe\">\n",
       "  <thead>\n",
       "    <tr style=\"text-align: right;\">\n",
       "      <th></th>\n",
       "      <th>Second name</th>\n",
       "      <th>First name</th>\n",
       "      <th>Gender</th>\n",
       "      <th>Height(cm)</th>\n",
       "      <th>Weight(kg)</th>\n",
       "      <th>Country/Team</th>\n",
       "    </tr>\n",
       "  </thead>\n",
       "  <tbody>\n",
       "    <tr>\n",
       "      <th>0</th>\n",
       "      <td>Abbadi</td>\n",
       "      <td>Ilyas</td>\n",
       "      <td>M</td>\n",
       "      <td>170</td>\n",
       "      <td>69</td>\n",
       "      <td>Algeria</td>\n",
       "    </tr>\n",
       "    <tr>\n",
       "      <th>1</th>\n",
       "      <td>Abbate</td>\n",
       "      <td>Simona</td>\n",
       "      <td>W</td>\n",
       "      <td>171</td>\n",
       "      <td>64</td>\n",
       "      <td>Italy</td>\n",
       "    </tr>\n",
       "    <tr>\n",
       "      <th>2</th>\n",
       "      <td>Abdelaal</td>\n",
       "      <td>Hesham</td>\n",
       "      <td>M</td>\n",
       "      <td>167</td>\n",
       "      <td>52</td>\n",
       "      <td>Egypt</td>\n",
       "    </tr>\n",
       "    <tr>\n",
       "      <th>3</th>\n",
       "      <td>Abdulrahman</td>\n",
       "      <td>Amer</td>\n",
       "      <td>M</td>\n",
       "      <td>168</td>\n",
       "      <td>68</td>\n",
       "      <td>United Arab Emirates</td>\n",
       "    </tr>\n",
       "    <tr>\n",
       "      <th>4</th>\n",
       "      <td>Abian</td>\n",
       "      <td>Pablo</td>\n",
       "      <td>M</td>\n",
       "      <td>177</td>\n",
       "      <td>78</td>\n",
       "      <td>Spain</td>\n",
       "    </tr>\n",
       "    <tr>\n",
       "      <th>...</th>\n",
       "      <td>...</td>\n",
       "      <td>...</td>\n",
       "      <td>...</td>\n",
       "      <td>...</td>\n",
       "      <td>...</td>\n",
       "      <td>...</td>\n",
       "    </tr>\n",
       "    <tr>\n",
       "      <th>1582</th>\n",
       "      <td>Zhou</td>\n",
       "      <td>Peng</td>\n",
       "      <td>M</td>\n",
       "      <td>183</td>\n",
       "      <td>88</td>\n",
       "      <td>China</td>\n",
       "    </tr>\n",
       "    <tr>\n",
       "      <th>1583</th>\n",
       "      <td>Zlokovic</td>\n",
       "      <td>Boris</td>\n",
       "      <td>M</td>\n",
       "      <td>197</td>\n",
       "      <td>100</td>\n",
       "      <td>Montenegro</td>\n",
       "    </tr>\n",
       "    <tr>\n",
       "      <th>1584</th>\n",
       "      <td>Zolnir</td>\n",
       "      <td>Urska</td>\n",
       "      <td>W</td>\n",
       "      <td>173</td>\n",
       "      <td>63</td>\n",
       "      <td>Slovenia</td>\n",
       "    </tr>\n",
       "    <tr>\n",
       "      <th>1585</th>\n",
       "      <td>Zoric</td>\n",
       "      <td>Milenko</td>\n",
       "      <td>M</td>\n",
       "      <td>179</td>\n",
       "      <td>73</td>\n",
       "      <td>Serbia</td>\n",
       "    </tr>\n",
       "    <tr>\n",
       "      <th>1586</th>\n",
       "      <td>Zugaj</td>\n",
       "      <td>Nenad</td>\n",
       "      <td>M</td>\n",
       "      <td>177</td>\n",
       "      <td>84</td>\n",
       "      <td>Croatia</td>\n",
       "    </tr>\n",
       "  </tbody>\n",
       "</table>\n",
       "<p>1587 rows × 6 columns</p>\n",
       "</div>"
      ],
      "text/plain": [
       "      Second name First name Gender  Height(cm)  Weight(kg)  \\\n",
       "0          Abbadi     Ilyas       M         170          69   \n",
       "1          Abbate    Simona       W         171          64   \n",
       "2        Abdelaal    Hesham       M         167          52   \n",
       "3     Abdulrahman      Amer       M         168          68   \n",
       "4           Abian     Pablo       M         177          78   \n",
       "...           ...        ...    ...         ...         ...   \n",
       "1582         Zhou      Peng       M         183          88   \n",
       "1583     Zlokovic     Boris       M         197         100   \n",
       "1584       Zolnir     Urska       W         173          63   \n",
       "1585        Zoric   Milenko       M         179          73   \n",
       "1586        Zugaj     Nenad       M         177          84   \n",
       "\n",
       "              Country/Team  \n",
       "0                  Algeria  \n",
       "1                    Italy  \n",
       "2                    Egypt  \n",
       "3     United Arab Emirates  \n",
       "4                    Spain  \n",
       "...                    ...  \n",
       "1582                 China  \n",
       "1583            Montenegro  \n",
       "1584              Slovenia  \n",
       "1585                Serbia  \n",
       "1586               Croatia  \n",
       "\n",
       "[1587 rows x 6 columns]"
      ]
     },
     "execution_count": 51,
     "metadata": {},
     "output_type": "execute_result"
    }
   ],
   "source": [
    "players"
   ]
  },
  {
   "cell_type": "code",
   "execution_count": 52,
   "id": "67312648",
   "metadata": {},
   "outputs": [
    {
     "data": {
      "text/plain": [
       "<Axes: >"
      ]
     },
     "execution_count": 52,
     "metadata": {},
     "output_type": "execute_result"
    },
    {
     "data": {
      "image/png": "[encoded data removed]",
      "text/plain": [
       "<Figure size 640x480 with 1 Axes>"
      ]
     },
     "metadata": {},
     "output_type": "display_data"
    }
   ],
   "source": [
    "players[\"Height(cm)\"].histt()"
   ]
  },
  {
   "cell_type": "code",
   "execution_count": 53,
   "id": "0d29f565",
   "metadata": {},
   "outputs": [
    {
     "data": {
      "text/plain": [
       "177.4511657214871"
      ]
     },
     "execution_count": 53,
     "metadata": {},
     "output_type": "execute_result"
    }
   ],
   "source": [
    "players[\"Height(cm)\"].mean()"
   ]
  },
  {
   "cell_type": "code",
   "execution_count": 54,
   "id": "ae996c26",
   "metadata": {},
   "outputs": [
    {
     "data": {
      "text/plain": [
       "127.41170576507895"
      ]
     },
     "execution_count": 54,
     "metadata": {},
     "output_type": "execute_result"
    }
   ],
   "source": [
    "players[\"Height(cm)\"].var()"
   ]
  },
  {
   "cell_type": "code",
   "execution_count": 55,
   "id": "82c9cb67",
   "metadata": {},
   "outputs": [
    {
     "data": {
      "text/plain": [
       "11.287679379087578"
      ]
     },
     "execution_count": 55,
     "metadata": {},
     "output_type": "execute_result"
    }
   ],
   "source": [
    "players[\"Height(cm)\"].std()"
   ]
  },
  {
   "cell_type": "code",
   "execution_count": 57,
   "id": "0c986281",
   "metadata": {},
   "outputs": [
    {
     "data": {
      "text/plain": [
       "<Axes: >"
      ]
     },
     "execution_count": 57,
     "metadata": {},
     "output_type": "execute_result"
    },
    {
     "data": {
      "image/png": "[encoded data removed]",
      "text/plain": [
       "<Figure size 640x480 with 1 Axes>"
      ]
     },
     "metadata": {},
     "output_type": "display_data"
    }
   ],
   "source": [
    "players[\"Weight(kg)\"].hist()"
   ]
  },
  {
   "cell_type": "code",
   "execution_count": 59,
   "id": "c278feac",
   "metadata": {},
   "outputs": [
    {
     "data": {
      "text/plain": [
       "72.65343415248897"
      ]
     },
     "execution_count": 59,
     "metadata": {},
     "output_type": "execute_result"
    }
   ],
   "source": [
    "players[\"Weight(kg)\"].mean()"
   ]
  },
  {
   "cell_type": "code",
   "execution_count": 60,
   "id": "9e212f97",
   "metadata": {},
   "outputs": [
    {
     "data": {
      "text/plain": [
       "256.31487312980386"
      ]
     },
     "execution_count": 60,
     "metadata": {},
     "output_type": "execute_result"
    }
   ],
   "source": [
    "players[\"Weight(kg)\"].var()"
   ]
  },
  {
   "cell_type": "code",
   "execution_count": 61,
   "id": "f93aca49",
   "metadata": {},
   "outputs": [
    {
     "data": {
      "text/plain": [
       "16.00983676149772"
      ]
     },
     "execution_count": 61,
     "metadata": {},
     "output_type": "execute_result"
    }
   ],
   "source": [
    "players[\"Weight(kg)\"].std()"
   ]
  },
  {
   "cell_type": "markdown",
   "id": "98da5bd9",
   "metadata": {},
   "source": [
    "# 5. mean absolute deviation"
   ]
  },
  {
   "cell_type": "markdown",
   "id": "c456a458",
   "metadata": {},
   "source": [
    "##### it gives an idea of how much the data points deviate, on average, from the mean."
   ]
  },
  {
   "cell_type": "markdown",
   "id": "f84fdd92",
   "metadata": {},
   "source": [
    "##### it measures average distance of each point from the mean"
   ]
  },
  {
   "cell_type": "code",
   "execution_count": 67,
   "id": "137e6b97",
   "metadata": {},
   "outputs": [
    {
     "data": {
      "text/html": [
       "<div>\n",
       "<style scoped>\n",
       "    .dataframe tbody tr th:only-of-type {\n",
       "        vertical-align: middle;\n",
       "    }\n",
       "\n",
       "    .dataframe tbody tr th {\n",
       "        vertical-align: top;\n",
       "    }\n",
       "\n",
       "    .dataframe thead th {\n",
       "        text-align: right;\n",
       "    }\n",
       "</style>\n",
       "<table border=\"1\" class=\"dataframe\">\n",
       "  <thead>\n",
       "    <tr style=\"text-align: right;\">\n",
       "      <th></th>\n",
       "      <th>A</th>\n",
       "    </tr>\n",
       "  </thead>\n",
       "  <tbody>\n",
       "    <tr>\n",
       "      <th>0</th>\n",
       "      <td>10</td>\n",
       "    </tr>\n",
       "    <tr>\n",
       "      <th>1</th>\n",
       "      <td>20</td>\n",
       "    </tr>\n",
       "    <tr>\n",
       "      <th>2</th>\n",
       "      <td>30</td>\n",
       "    </tr>\n",
       "    <tr>\n",
       "      <th>3</th>\n",
       "      <td>40</td>\n",
       "    </tr>\n",
       "    <tr>\n",
       "      <th>4</th>\n",
       "      <td>50</td>\n",
       "    </tr>\n",
       "  </tbody>\n",
       "</table>\n",
       "</div>"
      ],
      "text/plain": [
       "    A\n",
       "0  10\n",
       "1  20\n",
       "2  30\n",
       "3  40\n",
       "4  50"
      ]
     },
     "execution_count": 67,
     "metadata": {},
     "output_type": "execute_result"
    }
   ],
   "source": [
    "data"
   ]
  },
  {
   "cell_type": "code",
   "execution_count": 68,
   "id": "30557a9b",
   "metadata": {},
   "outputs": [],
   "source": [
    "# calculate the mean\n",
    "mean_val = data[\"A\"].mean()"
   ]
  },
  {
   "cell_type": "code",
   "execution_count": 69,
   "id": "810ac496",
   "metadata": {},
   "outputs": [
    {
     "data": {
      "text/plain": [
       "30.0"
      ]
     },
     "execution_count": 69,
     "metadata": {},
     "output_type": "execute_result"
    }
   ],
   "source": [
    "mean_val"
   ]
  },
  {
   "cell_type": "code",
   "execution_count": 71,
   "id": "725bf405",
   "metadata": {},
   "outputs": [],
   "source": [
    "# calculate the mean absolute deviation (MAD)\n",
    "mad_val = (data[\"A\"] - mean_val).abs().mean()"
   ]
  },
  {
   "cell_type": "code",
   "execution_count": 72,
   "id": "4ac0816c",
   "metadata": {},
   "outputs": [
    {
     "name": "stdout",
     "output_type": "stream",
     "text": [
      "Mean Absolute Deviation (MAD):  12.0\n"
     ]
    }
   ],
   "source": [
    "print(\"Mean Absolute Deviation (MAD): \", mad_val)"
   ]
  },
  {
   "cell_type": "code",
   "execution_count": 73,
   "id": "243116df",
   "metadata": {},
   "outputs": [
    {
     "data": {
      "text/plain": [
       "15.811388300841896"
      ]
     },
     "execution_count": 73,
     "metadata": {},
     "output_type": "execute_result"
    }
   ],
   "source": [
    "data[\"A\"].std()"
   ]
  },
  {
   "cell_type": "code",
   "execution_count": 74,
   "id": "0f2b0a89",
   "metadata": {},
   "outputs": [
    {
     "name": "stdout",
     "output_type": "stream",
     "text": [
      "Mean absolute Deviation (MAD):  147.4511657214871\n"
     ]
    }
   ],
   "source": [
    "# calculate the mean absolute deviation (MAD)\n",
    "mean_val_players = players[\"Height(cm)\"].mean()\n",
    "mad_val_players = (players[\"Height(cm)\"] - mean_val).abs().mean()\n",
    "print(\"Mean absolute Deviation (MAD): \", mad_val_players)"
   ]
  },
  {
   "cell_type": "code",
   "execution_count": 75,
   "id": "ccc0b90e",
   "metadata": {},
   "outputs": [
    {
     "data": {
      "text/plain": [
       "177.4511657214871"
      ]
     },
     "execution_count": 75,
     "metadata": {},
     "output_type": "execute_result"
    }
   ],
   "source": [
    "mean_val_players"
   ]
  },
  {
   "cell_type": "code",
   "execution_count": null,
   "id": "8c591a01",
   "metadata": {},
   "outputs": [],
   "source": []
  }
 ],
 "metadata": {
  "kernelspec": {
   "display_name": "Python 3 (ipykernel)",
   "language": "python",
   "name": "python3"
  },
  "language_info": {
   "codemirror_mode": {
    "name": "ipython",
    "version": 3
   },
   "file_extension": ".py",
   "mimetype": "text/x-python",
   "name": "python",
   "nbconvert_exporter": "python",
   "pygments_lexer": "ipython3",
   "version": "3.11.4"
  }
 },
 "nbformat": 4,
 "nbformat_minor": 5
}
