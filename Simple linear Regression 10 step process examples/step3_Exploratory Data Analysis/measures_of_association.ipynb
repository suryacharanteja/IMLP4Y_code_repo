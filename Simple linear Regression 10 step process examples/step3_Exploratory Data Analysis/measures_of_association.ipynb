{
 "cells": [
  {
   "cell_type": "markdown",
   "id": "da4b35f5",
   "metadata": {},
   "source": [
    "# correlation"
   ]
  },
  {
   "cell_type": "code",
   "execution_count": 1,
   "id": "b387808c",
   "metadata": {},
   "outputs": [],
   "source": [
    "import pandas as pd"
   ]
  },
  {
   "cell_type": "code",
   "execution_count": 2,
   "id": "c1218e38",
   "metadata": {},
   "outputs": [
    {
     "name": "stdout",
     "output_type": "stream",
     "text": [
      "Correlation between X and Y:  -0.9999999999999999\n"
     ]
    }
   ],
   "source": [
    "# create a sample data set\n",
    "data = {'X': [1, 2, 3, 4, 5], 'Y': [5, 4, 3, 2, 1]}\n",
    "dfc = pd.DataFrame(data)\n",
    "\n",
    "# let us calculate the correlation between the X and Y\n",
    "correlation = dfc['X'].corr(dfc[\"Y\"])\n",
    "\n",
    "print(\"Correlation between X and Y: \", correlation)"
   ]
  },
  {
   "cell_type": "code",
   "execution_count": 3,
   "id": "7065015f",
   "metadata": {},
   "outputs": [
    {
     "name": "stdout",
     "output_type": "stream",
     "text": [
      "Correlation between X and Y:  0.9999999999999999\n"
     ]
    }
   ],
   "source": [
    "# create a sample data set\n",
    "data = {'X': [1, 2, 3, 4, 5], 'Y': [2, 4, 6, 8, 10]}\n",
    "dfc1 = pd.DataFrame(data)\n",
    "\n",
    "# let us calculate the correlation between the X and Y\n",
    "correlation = dfc1['X'].corr(dfc1[\"Y\"])\n",
    "\n",
    "print(\"Correlation between X and Y: \", correlation)"
   ]
  },
  {
   "cell_type": "code",
   "execution_count": 4,
   "id": "a791600d",
   "metadata": {},
   "outputs": [
    {
     "name": "stdout",
     "output_type": "stream",
     "text": [
      "Correlation between X and Y:  0.012774457946511988\n"
     ]
    }
   ],
   "source": [
    "# create a sample data set\n",
    "data = {'X': [1, 2, 3, 4, 5], 'Y': [0, -5, 1000, 9, 11]}\n",
    "dfc1 = pd.DataFrame(data)\n",
    "\n",
    "# let us calculate the correlation between the X and Y\n",
    "correlation = dfc1['X'].corr(dfc1[\"Y\"])\n",
    "\n",
    "print(\"Correlation between X and Y: \", correlation)"
   ]
  },
  {
   "cell_type": "markdown",
   "id": "95bcc171",
   "metadata": {},
   "source": [
    "# Covariance"
   ]
  },
  {
   "cell_type": "code",
   "execution_count": 5,
   "id": "e936a099",
   "metadata": {},
   "outputs": [
    {
     "name": "stdout",
     "output_type": "stream",
     "text": [
      "Covariance between X and Y:  -2.5\n"
     ]
    }
   ],
   "source": [
    "# create a sample data set\n",
    "data = {'X': [1, 2, 3, 4, 5], 'Y': [5, 4, 3, 2, 1]}\n",
    "dfcv = pd.DataFrame(data)\n",
    "\n",
    "# calculate the covariance between X and Y\n",
    "covariance = dfcv[\"X\"].cov(dfcv['Y'])\n",
    "print(\"Covariance between X and Y: \", covariance)"
   ]
  },
  {
   "cell_type": "code",
   "execution_count": 6,
   "id": "5bd35b93",
   "metadata": {},
   "outputs": [
    {
     "name": "stdout",
     "output_type": "stream",
     "text": [
      "Covariance between X and Y:  5.0\n"
     ]
    }
   ],
   "source": [
    "# create a sample data set\n",
    "data = {'X': [1, 2, 3, 4, 5], 'Y': [2, 4, 6, 8, 10]}\n",
    "dfcv = pd.DataFrame(data)\n",
    "\n",
    "covariance = dfcv[\"X\"].cov(dfcv['Y'])\n",
    "print(\"Covariance between X and Y: \", covariance)"
   ]
  },
  {
   "cell_type": "code",
   "execution_count": 7,
   "id": "832a525c",
   "metadata": {},
   "outputs": [
    {
     "name": "stdout",
     "output_type": "stream",
     "text": [
      "Covariance between X and Y:  9.0\n"
     ]
    }
   ],
   "source": [
    "# create a sample data set\n",
    "data = {'X': [1, 2, 3, 4, 5], 'Y': [0, -5, 1000, 9, 11]}\n",
    "dfcv = pd.DataFrame(data)\n",
    "\n",
    "# let us calculate the correlation between the X and Y\n",
    "covariance = dfcv[\"X\"].cov(dfcv['Y'])\n",
    "print(\"Covariance between X and Y: \", covariance)"
   ]
  },
  {
   "cell_type": "code",
   "execution_count": 8,
   "id": "218048f7",
   "metadata": {},
   "outputs": [
    {
     "data": {
      "text/html": [
       "<div>\n",
       "<style scoped>\n",
       "    .dataframe tbody tr th:only-of-type {\n",
       "        vertical-align: middle;\n",
       "    }\n",
       "\n",
       "    .dataframe tbody tr th {\n",
       "        vertical-align: top;\n",
       "    }\n",
       "\n",
       "    .dataframe thead th {\n",
       "        text-align: right;\n",
       "    }\n",
       "</style>\n",
       "<table border=\"1\" class=\"dataframe\">\n",
       "  <thead>\n",
       "    <tr style=\"text-align: right;\">\n",
       "      <th></th>\n",
       "      <th>X</th>\n",
       "      <th>Y</th>\n",
       "    </tr>\n",
       "  </thead>\n",
       "  <tbody>\n",
       "    <tr>\n",
       "      <th>0</th>\n",
       "      <td>1</td>\n",
       "      <td>0</td>\n",
       "    </tr>\n",
       "    <tr>\n",
       "      <th>1</th>\n",
       "      <td>2</td>\n",
       "      <td>-5</td>\n",
       "    </tr>\n",
       "    <tr>\n",
       "      <th>2</th>\n",
       "      <td>3</td>\n",
       "      <td>1000</td>\n",
       "    </tr>\n",
       "    <tr>\n",
       "      <th>3</th>\n",
       "      <td>4</td>\n",
       "      <td>9</td>\n",
       "    </tr>\n",
       "    <tr>\n",
       "      <th>4</th>\n",
       "      <td>5</td>\n",
       "      <td>11</td>\n",
       "    </tr>\n",
       "  </tbody>\n",
       "</table>\n",
       "</div>"
      ],
      "text/plain": [
       "   X     Y\n",
       "0  1     0\n",
       "1  2    -5\n",
       "2  3  1000\n",
       "3  4     9\n",
       "4  5    11"
      ]
     },
     "execution_count": 8,
     "metadata": {},
     "output_type": "execute_result"
    }
   ],
   "source": [
    "dfcv"
   ]
  },
  {
   "cell_type": "markdown",
   "id": "77982aaa",
   "metadata": {},
   "source": [
    "# Scatter plots"
   ]
  },
  {
   "cell_type": "code",
   "execution_count": 9,
   "id": "fe5c28e2",
   "metadata": {},
   "outputs": [],
   "source": [
    "import matplotlib.pyplot as plt"
   ]
  },
  {
   "cell_type": "code",
   "execution_count": 10,
   "id": "102cf80d",
   "metadata": {},
   "outputs": [
    {
     "data": {
      "image/png": "[encoded data removed]",
      "text/plain": [
       "<Figure size 640x480 with 1 Axes>"
      ]
     },
     "metadata": {},
     "output_type": "display_data"
    }
   ],
   "source": [
    "# create a sample data set\n",
    "data = {'X': [1, 2, 3, 4, 5], 'Y': [5, 4, 3, 2, 1]}\n",
    "dfsp = pd.DataFrame(data)\n",
    "\n",
    "# Create a scatter plot of X and y\n",
    "plt.scatter(dfsp[\"X\"], dfsp[\"Y\"])\n",
    "plt.xlabel(\"X\")\n",
    "plt.ylabel(\"Y\")\n",
    "plt.title(\"Scatter plot of X and Y\")\n",
    "plt.show()\n"
   ]
  },
  {
   "cell_type": "code",
   "execution_count": 11,
   "id": "5ee3198d",
   "metadata": {},
   "outputs": [
    {
     "data": {
      "image/png": "[encoded data removed]",
      "text/plain": [
       "<Figure size 640x480 with 1 Axes>"
      ]
     },
     "metadata": {},
     "output_type": "display_data"
    }
   ],
   "source": [
    "# create a sample data set\n",
    "data = {'X': [1, 2, 3, 4, 5], 'Y': [2, 4, 6, 8, 10]}\n",
    "dfsp = pd.DataFrame(data)\n",
    "# Create a scatter plot of X and y\n",
    "plt.scatter(dfsp[\"X\"], dfsp[\"Y\"])\n",
    "plt.xlabel(\"X\")\n",
    "plt.ylabel(\"Y\")\n",
    "plt.title(\"Scatter plot of X and Y\")\n",
    "plt.show()"
   ]
  },
  {
   "cell_type": "code",
   "execution_count": 12,
   "id": "d8bfb313",
   "metadata": {},
   "outputs": [
    {
     "data": {
      "image/png": "[encoded data removed]",
      "text/plain": [
       "<Figure size 640x480 with 1 Axes>"
      ]
     },
     "metadata": {},
     "output_type": "display_data"
    }
   ],
   "source": [
    "# create a sample data set\n",
    "data = {'X': [1, 2, 3, 4, 5], 'Y': [0, -5, 1000, 9, 11]}\n",
    "dfsp = pd.DataFrame(data)\n",
    "# Create a scatter plot of X and y\n",
    "plt.scatter(dfsp[\"X\"], dfsp[\"Y\"])\n",
    "plt.xlabel(\"X\")\n",
    "plt.ylabel(\"Y\")\n",
    "plt.title(\"Scatter plot of X and Y\")\n",
    "plt.show()"
   ]
  },
  {
   "cell_type": "markdown",
   "id": "bcf1ed45",
   "metadata": {},
   "source": [
    "# real world data sets"
   ]
  },
  {
   "cell_type": "code",
   "execution_count": 13,
   "id": "3e04f41f",
   "metadata": {},
   "outputs": [
    {
     "data": {
      "text/plain": [
       "['.ipynb_checkpoints',\n",
       " 'amazon_co-ecommerce_sample.csv',\n",
       " 'customers_buying_pattern.csv',\n",
       " 'Customers_segmentation.csv',\n",
       " 'ecommerce_data.csv',\n",
       " 'measures_of_association.ipynb',\n",
       " 'measures_of_shapes.ipynb',\n",
       " 'measures_of_spread.ipynb',\n",
       " 'nonrectangular',\n",
       " 'organizing_data.ipynb',\n",
       " 'Soccer_players_data1.csv',\n",
       " 'store_details.csv',\n",
       " 'summarizing data.ipynb',\n",
       " 'timeseries',\n",
       " 'unit _sales_data.csv']"
      ]
     },
     "execution_count": 13,
     "metadata": {},
     "output_type": "execute_result"
    }
   ],
   "source": [
    "import os\n",
    "os.listdir()"
   ]
  },
  {
   "cell_type": "code",
   "execution_count": 14,
   "id": "ac472763",
   "metadata": {},
   "outputs": [],
   "source": [
    "players = pd.read_csv(\"./Soccer_players_data1.csv\")"
   ]
  },
  {
   "cell_type": "code",
   "execution_count": 15,
   "id": "cc5e0edb",
   "metadata": {},
   "outputs": [
    {
     "data": {
      "text/html": [
       "<div>\n",
       "<style scoped>\n",
       "    .dataframe tbody tr th:only-of-type {\n",
       "        vertical-align: middle;\n",
       "    }\n",
       "\n",
       "    .dataframe tbody tr th {\n",
       "        vertical-align: top;\n",
       "    }\n",
       "\n",
       "    .dataframe thead th {\n",
       "        text-align: right;\n",
       "    }\n",
       "</style>\n",
       "<table border=\"1\" class=\"dataframe\">\n",
       "  <thead>\n",
       "    <tr style=\"text-align: right;\">\n",
       "      <th></th>\n",
       "      <th>Second name</th>\n",
       "      <th>First name</th>\n",
       "      <th>Gender</th>\n",
       "      <th>Height(cm)</th>\n",
       "      <th>Weight(kg)</th>\n",
       "      <th>Country/Team</th>\n",
       "    </tr>\n",
       "  </thead>\n",
       "  <tbody>\n",
       "    <tr>\n",
       "      <th>0</th>\n",
       "      <td>Abbadi</td>\n",
       "      <td>Ilyas</td>\n",
       "      <td>M</td>\n",
       "      <td>170</td>\n",
       "      <td>69</td>\n",
       "      <td>Algeria</td>\n",
       "    </tr>\n",
       "    <tr>\n",
       "      <th>1</th>\n",
       "      <td>Abbate</td>\n",
       "      <td>Simona</td>\n",
       "      <td>W</td>\n",
       "      <td>171</td>\n",
       "      <td>64</td>\n",
       "      <td>Italy</td>\n",
       "    </tr>\n",
       "    <tr>\n",
       "      <th>2</th>\n",
       "      <td>Abdelaal</td>\n",
       "      <td>Hesham</td>\n",
       "      <td>M</td>\n",
       "      <td>167</td>\n",
       "      <td>52</td>\n",
       "      <td>Egypt</td>\n",
       "    </tr>\n",
       "    <tr>\n",
       "      <th>3</th>\n",
       "      <td>Abdulrahman</td>\n",
       "      <td>Amer</td>\n",
       "      <td>M</td>\n",
       "      <td>168</td>\n",
       "      <td>68</td>\n",
       "      <td>United Arab Emirates</td>\n",
       "    </tr>\n",
       "    <tr>\n",
       "      <th>4</th>\n",
       "      <td>Abian</td>\n",
       "      <td>Pablo</td>\n",
       "      <td>M</td>\n",
       "      <td>177</td>\n",
       "      <td>78</td>\n",
       "      <td>Spain</td>\n",
       "    </tr>\n",
       "    <tr>\n",
       "      <th>...</th>\n",
       "      <td>...</td>\n",
       "      <td>...</td>\n",
       "      <td>...</td>\n",
       "      <td>...</td>\n",
       "      <td>...</td>\n",
       "      <td>...</td>\n",
       "    </tr>\n",
       "    <tr>\n",
       "      <th>1582</th>\n",
       "      <td>Zhou</td>\n",
       "      <td>Peng</td>\n",
       "      <td>M</td>\n",
       "      <td>183</td>\n",
       "      <td>88</td>\n",
       "      <td>China</td>\n",
       "    </tr>\n",
       "    <tr>\n",
       "      <th>1583</th>\n",
       "      <td>Zlokovic</td>\n",
       "      <td>Boris</td>\n",
       "      <td>M</td>\n",
       "      <td>197</td>\n",
       "      <td>100</td>\n",
       "      <td>Montenegro</td>\n",
       "    </tr>\n",
       "    <tr>\n",
       "      <th>1584</th>\n",
       "      <td>Zolnir</td>\n",
       "      <td>Urska</td>\n",
       "      <td>W</td>\n",
       "      <td>173</td>\n",
       "      <td>63</td>\n",
       "      <td>Slovenia</td>\n",
       "    </tr>\n",
       "    <tr>\n",
       "      <th>1585</th>\n",
       "      <td>Zoric</td>\n",
       "      <td>Milenko</td>\n",
       "      <td>M</td>\n",
       "      <td>179</td>\n",
       "      <td>73</td>\n",
       "      <td>Serbia</td>\n",
       "    </tr>\n",
       "    <tr>\n",
       "      <th>1586</th>\n",
       "      <td>Zugaj</td>\n",
       "      <td>Nenad</td>\n",
       "      <td>M</td>\n",
       "      <td>177</td>\n",
       "      <td>84</td>\n",
       "      <td>Croatia</td>\n",
       "    </tr>\n",
       "  </tbody>\n",
       "</table>\n",
       "<p>1587 rows × 6 columns</p>\n",
       "</div>"
      ],
      "text/plain": [
       "      Second name First name Gender  Height(cm)  Weight(kg)  \\\n",
       "0          Abbadi     Ilyas       M         170          69   \n",
       "1          Abbate    Simona       W         171          64   \n",
       "2        Abdelaal    Hesham       M         167          52   \n",
       "3     Abdulrahman      Amer       M         168          68   \n",
       "4           Abian     Pablo       M         177          78   \n",
       "...           ...        ...    ...         ...         ...   \n",
       "1582         Zhou      Peng       M         183          88   \n",
       "1583     Zlokovic     Boris       M         197         100   \n",
       "1584       Zolnir     Urska       W         173          63   \n",
       "1585        Zoric   Milenko       M         179          73   \n",
       "1586        Zugaj     Nenad       M         177          84   \n",
       "\n",
       "              Country/Team  \n",
       "0                  Algeria  \n",
       "1                    Italy  \n",
       "2                    Egypt  \n",
       "3     United Arab Emirates  \n",
       "4                    Spain  \n",
       "...                    ...  \n",
       "1582                 China  \n",
       "1583            Montenegro  \n",
       "1584              Slovenia  \n",
       "1585                Serbia  \n",
       "1586               Croatia  \n",
       "\n",
       "[1587 rows x 6 columns]"
      ]
     },
     "execution_count": 15,
     "metadata": {},
     "output_type": "execute_result"
    }
   ],
   "source": [
    "players"
   ]
  },
  {
   "cell_type": "markdown",
   "id": "0173bb97",
   "metadata": {},
   "source": [
    "### 1. correlation between Height and weight"
   ]
  },
  {
   "cell_type": "code",
   "execution_count": 16,
   "id": "cff1064b",
   "metadata": {},
   "outputs": [
    {
     "name": "stdout",
     "output_type": "stream",
     "text": [
      "Correlation:  0.774625437180824\n"
     ]
    }
   ],
   "source": [
    "# dependent variable = Height, independent variable = weight\n",
    "corr_height_weight = players[\"Weight(kg)\"].corr(players[\"Height(cm)\"])\n",
    "print(\"Correlation: \", corr_height_weight)"
   ]
  },
  {
   "cell_type": "code",
   "execution_count": 17,
   "id": "df9add41",
   "metadata": {},
   "outputs": [
    {
     "ename": "SyntaxError",
     "evalue": "invalid syntax (585977009.py, line 1)",
     "output_type": "error",
     "traceback": [
      "\u001b[1;36m  Cell \u001b[1;32mIn[17], line 1\u001b[1;36m\u001b[0m\n\u001b[1;33m    Y = dep variable = Weight\u001b[0m\n\u001b[1;37m            ^\u001b[0m\n\u001b[1;31mSyntaxError\u001b[0m\u001b[1;31m:\u001b[0m invalid syntax\n"
     ]
    }
   ],
   "source": [
    "Y = dep variable = Weight\n",
    "X = ind variable = Height\n",
    "Weight = m*Height + c"
   ]
  },
  {
   "cell_type": "code",
   "execution_count": null,
   "id": "68e6b9cd",
   "metadata": {},
   "outputs": [],
   "source": [
    "\n",
    "corr_height_weight = players[\"Height(cm)\"].corr(players[\"Weight(kg)\"])\n",
    "print(\"Correlation: \", corr_height_weight)"
   ]
  },
  {
   "cell_type": "markdown",
   "id": "f5aab6a0",
   "metadata": {},
   "source": [
    "### 2. covariance between weight and height"
   ]
  },
  {
   "cell_type": "code",
   "execution_count": null,
   "id": "40d36512",
   "metadata": {},
   "outputs": [],
   "source": [
    "cov_height_weight = players[\"Height(cm)\"].cov(players[\"Weight(kg)\"])\n",
    "print(\"CoVariance: \", cov_height_weight)"
   ]
  },
  {
   "cell_type": "markdown",
   "id": "676c98c5",
   "metadata": {},
   "source": [
    "### 3. scatterplot between Weight and Height"
   ]
  },
  {
   "cell_type": "code",
   "execution_count": null,
   "id": "2b811665",
   "metadata": {},
   "outputs": [],
   "source": [
    "import matplotlib.pyplot as plt"
   ]
  },
  {
   "cell_type": "code",
   "execution_count": null,
   "id": "a1dd7e1b",
   "metadata": {},
   "outputs": [],
   "source": [
    "plt.scatter(players[\"Height(cm)\"], players[\"Weight(kg)\"])\n",
    "plt.xlabel(\"Height(cm)\")\n",
    "plt.ylabel(\"Weight(kg)\")\n",
    "plt.title(\"Scatter plot of Weight and Height of the players\")\n",
    "\n",
    "plt.show()"
   ]
  },
  {
   "cell_type": "code",
   "execution_count": null,
   "id": "8a71349f",
   "metadata": {},
   "outputs": [],
   "source": [
    "customers = pd.read_csv(\"./Customers_segmentation.csv\")"
   ]
  },
  {
   "cell_type": "code",
   "execution_count": null,
   "id": "0da80250",
   "metadata": {},
   "outputs": [],
   "source": [
    "customers"
   ]
  },
  {
   "cell_type": "markdown",
   "id": "da7efe11",
   "metadata": {},
   "source": [
    "# explore the association between Spending score and annual income"
   ]
  },
  {
   "cell_type": "markdown",
   "id": "04a080f4",
   "metadata": {},
   "source": [
    "### 1. correlation"
   ]
  },
  {
   "cell_type": "code",
   "execution_count": null,
   "id": "4e3dc642",
   "metadata": {},
   "outputs": [],
   "source": [
    "customers.columns"
   ]
  },
  {
   "cell_type": "code",
   "execution_count": null,
   "id": "61bff0b5",
   "metadata": {},
   "outputs": [],
   "source": [
    "corr_spend_income = customers[\"Annual Income ($)\"].corr(customers[\"Spending Score (1-100)\"])\n",
    "print(\"Correlation: \", corr_spend_income)"
   ]
  },
  {
   "cell_type": "markdown",
   "id": "7960d47e",
   "metadata": {},
   "source": [
    "### 2. covariance"
   ]
  },
  {
   "cell_type": "code",
   "execution_count": null,
   "id": "ba087890",
   "metadata": {},
   "outputs": [],
   "source": [
    "cov_spend_income = customers[\"Annual Income ($)\"].cov(customers[\"Spending Score (1-100)\"])\n",
    "print(\"CoVariance: \", cov_spend_income)"
   ]
  },
  {
   "cell_type": "markdown",
   "id": "7c425b10",
   "metadata": {},
   "source": [
    "### 3. scatter plot"
   ]
  },
  {
   "cell_type": "code",
   "execution_count": null,
   "id": "7019c923",
   "metadata": {},
   "outputs": [],
   "source": [
    "plt.scatter(customers[\"Annual Income ($)\"], customers[\"Spending Score (1-100)\"])\n",
    "plt.xlabel(\"Annual Income ($)\")\n",
    "plt.ylabel(\"Spending Score (1-100)\")\n",
    "plt.title(\"Scatter plot of spend and Income of the players\")\n",
    "\n",
    "plt.show()"
   ]
  },
  {
   "cell_type": "markdown",
   "id": "a5d84c74",
   "metadata": {},
   "source": [
    "# explore the association between annual income and Work experience"
   ]
  },
  {
   "cell_type": "markdown",
   "id": "04ab5c16",
   "metadata": {},
   "source": [
    "### 1. correlation"
   ]
  },
  {
   "cell_type": "code",
   "execution_count": null,
   "id": "5aaa0982",
   "metadata": {},
   "outputs": [],
   "source": [
    "corr_income_exp = customers[\"Work Experience\"].corr(customers[\"Annual Income ($)\"])\n",
    "print(\"Correlation: \", corr_income_exp)"
   ]
  },
  {
   "cell_type": "markdown",
   "id": "43da91ae",
   "metadata": {},
   "source": [
    "### 2. covariance"
   ]
  },
  {
   "cell_type": "code",
   "execution_count": null,
   "id": "9bb5d23a",
   "metadata": {},
   "outputs": [],
   "source": [
    "cov_income_exp = customers[\"Work Experience\"].cov(customers[\"Annual Income ($)\"])\n",
    "print(\"CoVariance: \", cov_income_exp)"
   ]
  },
  {
   "cell_type": "markdown",
   "id": "9d711631",
   "metadata": {},
   "source": [
    "### 3. Scatter plot"
   ]
  },
  {
   "cell_type": "code",
   "execution_count": null,
   "id": "077351f7",
   "metadata": {},
   "outputs": [],
   "source": [
    "plt.scatter(customers[\"Work Experience\"], customers[\"Annual Income ($)\"])\n",
    "plt.xlabel(\"Work Experience\")\n",
    "plt.ylabel(\"Annual Income ($)\")\n",
    "plt.title(\"Scatter plot of Income and experience of the customers\")\n",
    "\n",
    "plt.show()"
   ]
  },
  {
   "cell_type": "markdown",
   "id": "40063c7b",
   "metadata": {},
   "source": [
    "# 3. explore the association between family size and annual income"
   ]
  },
  {
   "cell_type": "markdown",
   "id": "ca85f9f8",
   "metadata": {},
   "source": [
    "### 1. correlation"
   ]
  },
  {
   "cell_type": "code",
   "execution_count": null,
   "id": "e3012e1b",
   "metadata": {},
   "outputs": [],
   "source": [
    "corr_family_income = customers[\"Annual Income ($)\"].corr(customers[\"Family Size\"])\n",
    "print(\"Correlation: \", corr_family_income)"
   ]
  },
  {
   "cell_type": "markdown",
   "id": "e85fb59c",
   "metadata": {},
   "source": [
    "### 2. covariance"
   ]
  },
  {
   "cell_type": "code",
   "execution_count": null,
   "id": "10689ee0",
   "metadata": {},
   "outputs": [],
   "source": [
    "cov_family_income = customers[\"Annual Income ($)\"].cov(customers[\"Family Size\"])\n",
    "print(\"Covariance: \", cov_family_income)"
   ]
  },
  {
   "cell_type": "code",
   "execution_count": null,
   "id": "4269ba09",
   "metadata": {},
   "outputs": [],
   "source": [
    "plt.scatter(customers[\"Annual Income ($)\"], customers[\"Family Size\"])\n",
    "plt.xlabel(\"Annual Income ($)\")\n",
    "plt.ylabel(\"Family Size\")\n",
    "plt.title(\"Scatter plot of Income and family of the customers\")\n",
    "\n",
    "plt.show()"
   ]
  },
  {
   "cell_type": "code",
   "execution_count": 22,
   "id": "3cde535c",
   "metadata": {},
   "outputs": [],
   "source": [
    "pd.options.display.max_columns = None\n"
   ]
  },
  {
   "cell_type": "markdown",
   "id": "0d8cf8ff",
   "metadata": {},
   "source": [
    "# Cross-tabulation"
   ]
  },
  {
   "cell_type": "code",
   "execution_count": 23,
   "id": "34b95a48",
   "metadata": {},
   "outputs": [],
   "source": [
    "data = {'Gender': ['Male', 'Female', 'Male', 'Female', 'Male'], 'Smoker': ['Yes', 'No', 'No', 'Yes', 'No']}\n",
    "dfct = pd.DataFrame(data)"
   ]
  },
  {
   "cell_type": "code",
   "execution_count": 26,
   "id": "c95e5a4c",
   "metadata": {},
   "outputs": [
    {
     "name": "stdout",
     "output_type": "stream",
     "text": [
      "Smoker  No  Yes\n",
      "Gender         \n",
      "Female   1    1\n",
      "Male     2    1\n"
     ]
    }
   ],
   "source": [
    "# create a cross-tabulation of Gendere and smoker\n",
    "cross_tab = pd.crosstab(dfct[\"Gender\"], dfct['Smoker'])\n",
    "\n",
    "print(cross_tab)"
   ]
  },
  {
   "cell_type": "code",
   "execution_count": 34,
   "id": "63a1e40e",
   "metadata": {},
   "outputs": [],
   "source": [
    "customers = pd.read_csv(\"./ecommerce_data.csv\")"
   ]
  },
  {
   "cell_type": "code",
   "execution_count": 35,
   "id": "337aff56",
   "metadata": {},
   "outputs": [
    {
     "data": {
      "text/html": [
       "<div>\n",
       "<style scoped>\n",
       "    .dataframe tbody tr th:only-of-type {\n",
       "        vertical-align: middle;\n",
       "    }\n",
       "\n",
       "    .dataframe tbody tr th {\n",
       "        vertical-align: top;\n",
       "    }\n",
       "\n",
       "    .dataframe thead th {\n",
       "        text-align: right;\n",
       "    }\n",
       "</style>\n",
       "<table border=\"1\" class=\"dataframe\">\n",
       "  <thead>\n",
       "    <tr style=\"text-align: right;\">\n",
       "      <th></th>\n",
       "      <th>is_mobile</th>\n",
       "      <th>n_products_viewed</th>\n",
       "      <th>visit_duration</th>\n",
       "      <th>is_returning_visitor</th>\n",
       "      <th>time_of_day</th>\n",
       "      <th>user_action</th>\n",
       "    </tr>\n",
       "  </thead>\n",
       "  <tbody>\n",
       "    <tr>\n",
       "      <th>0</th>\n",
       "      <td>1</td>\n",
       "      <td>0</td>\n",
       "      <td>0.657510</td>\n",
       "      <td>0</td>\n",
       "      <td>3</td>\n",
       "      <td>0</td>\n",
       "    </tr>\n",
       "    <tr>\n",
       "      <th>1</th>\n",
       "      <td>1</td>\n",
       "      <td>1</td>\n",
       "      <td>0.568571</td>\n",
       "      <td>0</td>\n",
       "      <td>2</td>\n",
       "      <td>1</td>\n",
       "    </tr>\n",
       "    <tr>\n",
       "      <th>2</th>\n",
       "      <td>1</td>\n",
       "      <td>0</td>\n",
       "      <td>0.042246</td>\n",
       "      <td>1</td>\n",
       "      <td>1</td>\n",
       "      <td>0</td>\n",
       "    </tr>\n",
       "    <tr>\n",
       "      <th>3</th>\n",
       "      <td>1</td>\n",
       "      <td>1</td>\n",
       "      <td>1.659793</td>\n",
       "      <td>1</td>\n",
       "      <td>1</td>\n",
       "      <td>2</td>\n",
       "    </tr>\n",
       "    <tr>\n",
       "      <th>4</th>\n",
       "      <td>0</td>\n",
       "      <td>1</td>\n",
       "      <td>2.014745</td>\n",
       "      <td>1</td>\n",
       "      <td>1</td>\n",
       "      <td>2</td>\n",
       "    </tr>\n",
       "    <tr>\n",
       "      <th>...</th>\n",
       "      <td>...</td>\n",
       "      <td>...</td>\n",
       "      <td>...</td>\n",
       "      <td>...</td>\n",
       "      <td>...</td>\n",
       "      <td>...</td>\n",
       "    </tr>\n",
       "    <tr>\n",
       "      <th>495</th>\n",
       "      <td>1</td>\n",
       "      <td>3</td>\n",
       "      <td>0.731594</td>\n",
       "      <td>0</td>\n",
       "      <td>0</td>\n",
       "      <td>2</td>\n",
       "    </tr>\n",
       "    <tr>\n",
       "      <th>496</th>\n",
       "      <td>0</td>\n",
       "      <td>0</td>\n",
       "      <td>6.368775</td>\n",
       "      <td>1</td>\n",
       "      <td>3</td>\n",
       "      <td>0</td>\n",
       "    </tr>\n",
       "    <tr>\n",
       "      <th>497</th>\n",
       "      <td>0</td>\n",
       "      <td>0</td>\n",
       "      <td>0.172853</td>\n",
       "      <td>1</td>\n",
       "      <td>3</td>\n",
       "      <td>0</td>\n",
       "    </tr>\n",
       "    <tr>\n",
       "      <th>498</th>\n",
       "      <td>1</td>\n",
       "      <td>0</td>\n",
       "      <td>0.209964</td>\n",
       "      <td>0</td>\n",
       "      <td>3</td>\n",
       "      <td>0</td>\n",
       "    </tr>\n",
       "    <tr>\n",
       "      <th>499</th>\n",
       "      <td>0</td>\n",
       "      <td>0</td>\n",
       "      <td>2.616882</td>\n",
       "      <td>1</td>\n",
       "      <td>3</td>\n",
       "      <td>0</td>\n",
       "    </tr>\n",
       "  </tbody>\n",
       "</table>\n",
       "<p>500 rows × 6 columns</p>\n",
       "</div>"
      ],
      "text/plain": [
       "     is_mobile  n_products_viewed  visit_duration  is_returning_visitor  \\\n",
       "0            1                  0        0.657510                     0   \n",
       "1            1                  1        0.568571                     0   \n",
       "2            1                  0        0.042246                     1   \n",
       "3            1                  1        1.659793                     1   \n",
       "4            0                  1        2.014745                     1   \n",
       "..         ...                ...             ...                   ...   \n",
       "495          1                  3        0.731594                     0   \n",
       "496          0                  0        6.368775                     1   \n",
       "497          0                  0        0.172853                     1   \n",
       "498          1                  0        0.209964                     0   \n",
       "499          0                  0        2.616882                     1   \n",
       "\n",
       "     time_of_day  user_action  \n",
       "0              3            0  \n",
       "1              2            1  \n",
       "2              1            0  \n",
       "3              1            2  \n",
       "4              1            2  \n",
       "..           ...          ...  \n",
       "495            0            2  \n",
       "496            3            0  \n",
       "497            3            0  \n",
       "498            3            0  \n",
       "499            3            0  \n",
       "\n",
       "[500 rows x 6 columns]"
      ]
     },
     "execution_count": 35,
     "metadata": {},
     "output_type": "execute_result"
    }
   ],
   "source": [
    "customers"
   ]
  },
  {
   "cell_type": "code",
   "execution_count": 49,
   "id": "e5476867",
   "metadata": {},
   "outputs": [
    {
     "name": "stdout",
     "output_type": "stream",
     "text": [
      "   Age  Income        Age_Category\n",
      "0   25   50000        Young Adults\n",
      "1   32   60000  Middle-aged Adults\n",
      "2   40   45000        Older Adults\n",
      "3   18   55000                 NaN\n",
      "4   50   70000             Seniors\n",
      "5   60   80000            senior +\n",
      "6   22   48000        Young Adults\n",
      "7   35   55000  Middle-aged Adults\n",
      "8   28   60000  Middle-aged Adults\n",
      "9   42   65000        Older Adults\n"
     ]
    }
   ],
   "source": [
    "import pandas as pd\n",
    "\n",
    "# Create a Pandas DataFrame\n",
    "data = pd.DataFrame({'Age': [25, 32, 40, 18, 50, 60, 22, 35, 28, 42],\n",
    "                     'Income': [50000, 60000, 45000, 55000, 70000, 80000, 48000, 55000, 60000, 65000]})\n",
    "\n",
    "# Define bins for age categories\n",
    "age_bins = [18, 25, 35, 45, 55, 100]\n",
    "age_labels = ['Young Adults', 'Middle-aged Adults', 'Older Adults', 'Seniors', 'senior +']\n",
    "\n",
    "# Group Age column into age categories\n",
    "data['Age_Category'] = pd.cut(data['Age'], bins=age_bins, labels=age_labels)\n",
    "\n",
    "# Display the DataFrame with Age_Category column\n",
    "print(data)\n"
   ]
  },
  {
   "cell_type": "code",
   "execution_count": 50,
   "id": "9374b39c",
   "metadata": {},
   "outputs": [
    {
     "data": {
      "text/html": [
       "<div>\n",
       "<style scoped>\n",
       "    .dataframe tbody tr th:only-of-type {\n",
       "        vertical-align: middle;\n",
       "    }\n",
       "\n",
       "    .dataframe tbody tr th {\n",
       "        vertical-align: top;\n",
       "    }\n",
       "\n",
       "    .dataframe thead th {\n",
       "        text-align: right;\n",
       "    }\n",
       "</style>\n",
       "<table border=\"1\" class=\"dataframe\">\n",
       "  <thead>\n",
       "    <tr style=\"text-align: right;\">\n",
       "      <th></th>\n",
       "      <th>Second name</th>\n",
       "      <th>First name</th>\n",
       "      <th>Gender</th>\n",
       "      <th>Height(cm)</th>\n",
       "      <th>Weight(kg)</th>\n",
       "      <th>Country/Team</th>\n",
       "    </tr>\n",
       "  </thead>\n",
       "  <tbody>\n",
       "    <tr>\n",
       "      <th>0</th>\n",
       "      <td>Abbadi</td>\n",
       "      <td>Ilyas</td>\n",
       "      <td>M</td>\n",
       "      <td>170</td>\n",
       "      <td>69</td>\n",
       "      <td>Algeria</td>\n",
       "    </tr>\n",
       "    <tr>\n",
       "      <th>1</th>\n",
       "      <td>Abbate</td>\n",
       "      <td>Simona</td>\n",
       "      <td>W</td>\n",
       "      <td>171</td>\n",
       "      <td>64</td>\n",
       "      <td>Italy</td>\n",
       "    </tr>\n",
       "    <tr>\n",
       "      <th>2</th>\n",
       "      <td>Abdelaal</td>\n",
       "      <td>Hesham</td>\n",
       "      <td>M</td>\n",
       "      <td>167</td>\n",
       "      <td>52</td>\n",
       "      <td>Egypt</td>\n",
       "    </tr>\n",
       "    <tr>\n",
       "      <th>3</th>\n",
       "      <td>Abdulrahman</td>\n",
       "      <td>Amer</td>\n",
       "      <td>M</td>\n",
       "      <td>168</td>\n",
       "      <td>68</td>\n",
       "      <td>United Arab Emirates</td>\n",
       "    </tr>\n",
       "    <tr>\n",
       "      <th>4</th>\n",
       "      <td>Abian</td>\n",
       "      <td>Pablo</td>\n",
       "      <td>M</td>\n",
       "      <td>177</td>\n",
       "      <td>78</td>\n",
       "      <td>Spain</td>\n",
       "    </tr>\n",
       "    <tr>\n",
       "      <th>...</th>\n",
       "      <td>...</td>\n",
       "      <td>...</td>\n",
       "      <td>...</td>\n",
       "      <td>...</td>\n",
       "      <td>...</td>\n",
       "      <td>...</td>\n",
       "    </tr>\n",
       "    <tr>\n",
       "      <th>1582</th>\n",
       "      <td>Zhou</td>\n",
       "      <td>Peng</td>\n",
       "      <td>M</td>\n",
       "      <td>183</td>\n",
       "      <td>88</td>\n",
       "      <td>China</td>\n",
       "    </tr>\n",
       "    <tr>\n",
       "      <th>1583</th>\n",
       "      <td>Zlokovic</td>\n",
       "      <td>Boris</td>\n",
       "      <td>M</td>\n",
       "      <td>197</td>\n",
       "      <td>100</td>\n",
       "      <td>Montenegro</td>\n",
       "    </tr>\n",
       "    <tr>\n",
       "      <th>1584</th>\n",
       "      <td>Zolnir</td>\n",
       "      <td>Urska</td>\n",
       "      <td>W</td>\n",
       "      <td>173</td>\n",
       "      <td>63</td>\n",
       "      <td>Slovenia</td>\n",
       "    </tr>\n",
       "    <tr>\n",
       "      <th>1585</th>\n",
       "      <td>Zoric</td>\n",
       "      <td>Milenko</td>\n",
       "      <td>M</td>\n",
       "      <td>179</td>\n",
       "      <td>73</td>\n",
       "      <td>Serbia</td>\n",
       "    </tr>\n",
       "    <tr>\n",
       "      <th>1586</th>\n",
       "      <td>Zugaj</td>\n",
       "      <td>Nenad</td>\n",
       "      <td>M</td>\n",
       "      <td>177</td>\n",
       "      <td>84</td>\n",
       "      <td>Croatia</td>\n",
       "    </tr>\n",
       "  </tbody>\n",
       "</table>\n",
       "<p>1587 rows × 6 columns</p>\n",
       "</div>"
      ],
      "text/plain": [
       "      Second name First name Gender  Height(cm)  Weight(kg)  \\\n",
       "0          Abbadi     Ilyas       M         170          69   \n",
       "1          Abbate    Simona       W         171          64   \n",
       "2        Abdelaal    Hesham       M         167          52   \n",
       "3     Abdulrahman      Amer       M         168          68   \n",
       "4           Abian     Pablo       M         177          78   \n",
       "...           ...        ...    ...         ...         ...   \n",
       "1582         Zhou      Peng       M         183          88   \n",
       "1583     Zlokovic     Boris       M         197         100   \n",
       "1584       Zolnir     Urska       W         173          63   \n",
       "1585        Zoric   Milenko       M         179          73   \n",
       "1586        Zugaj     Nenad       M         177          84   \n",
       "\n",
       "              Country/Team  \n",
       "0                  Algeria  \n",
       "1                    Italy  \n",
       "2                    Egypt  \n",
       "3     United Arab Emirates  \n",
       "4                    Spain  \n",
       "...                    ...  \n",
       "1582                 China  \n",
       "1583            Montenegro  \n",
       "1584              Slovenia  \n",
       "1585                Serbia  \n",
       "1586               Croatia  \n",
       "\n",
       "[1587 rows x 6 columns]"
      ]
     },
     "execution_count": 50,
     "metadata": {},
     "output_type": "execute_result"
    }
   ],
   "source": [
    "players"
   ]
  },
  {
   "cell_type": "code",
   "execution_count": null,
   "id": "11f3cace",
   "metadata": {},
   "outputs": [],
   "source": [
    "Exploratory Data Analysis:\n",
    "introduction to statistics:\n",
    "    variables, sample population, level of measurement, data types\n",
    "descriptive statistics:\n",
    "    organizing data, summarizing data, addition"
   ]
  },
  {
   "cell_type": "code",
   "execution_count": 51,
   "id": "06137745",
   "metadata": {},
   "outputs": [
    {
     "data": {
      "text/plain": [
       "Index(['Second name', 'First name', 'Gender', 'Height(cm)', 'Weight(kg)',\n",
       "       'Country/Team'],\n",
       "      dtype='object')"
      ]
     },
     "execution_count": 51,
     "metadata": {},
     "output_type": "execute_result"
    }
   ],
   "source": [
    "players.columns"
   ]
  },
  {
   "cell_type": "markdown",
   "id": "0e96dcae",
   "metadata": {},
   "source": [
    "##### is the height of the player is associated with the gender of the player?\n"
   ]
  },
  {
   "cell_type": "code",
   "execution_count": 52,
   "id": "df82c3d5",
   "metadata": {},
   "outputs": [
    {
     "data": {
      "text/plain": [
       "array([170, 171, 167, 168, 177, 184, 158, 208, 176, 178, 180, 194, 164,\n",
       "       183, 162, 179, 188, 160, 172, 166, 190, 165, 169, 182, 163, 157,\n",
       "       174, 212, 173, 175, 185, 189, 181, 202, 198, 187, 195, 192, 197,\n",
       "       196, 155, 205, 193, 150, 186, 211, 161, 191, 159, 201, 156, 152,\n",
       "       151, 210, 203, 153, 200, 204, 140, 199, 154, 206, 146, 209, 136,\n",
       "       141, 149, 207, 219], dtype=int64)"
      ]
     },
     "execution_count": 52,
     "metadata": {},
     "output_type": "execute_result"
    }
   ],
   "source": [
    "players[\"Height(cm)\"].unique()"
   ]
  },
  {
   "cell_type": "code",
   "execution_count": 53,
   "id": "cf1ab6a3",
   "metadata": {},
   "outputs": [],
   "source": [
    "height_bins = [170, 185, 200, 219]\n",
    "height_labels = ['normal_hgt', 'excessive_hgt', 'over_hgt']\n",
    "players[\"Height_categories\"] = pd.cut(players[\"Height(cm)\"], bins=height_bins, labels=height_labels)"
   ]
  },
  {
   "cell_type": "code",
   "execution_count": 56,
   "id": "167ae54f",
   "metadata": {},
   "outputs": [],
   "source": [
    "players1 = players.dropna()"
   ]
  },
  {
   "cell_type": "code",
   "execution_count": 57,
   "id": "6d88199d",
   "metadata": {},
   "outputs": [
    {
     "data": {
      "text/html": [
       "<div>\n",
       "<style scoped>\n",
       "    .dataframe tbody tr th:only-of-type {\n",
       "        vertical-align: middle;\n",
       "    }\n",
       "\n",
       "    .dataframe tbody tr th {\n",
       "        vertical-align: top;\n",
       "    }\n",
       "\n",
       "    .dataframe thead th {\n",
       "        text-align: right;\n",
       "    }\n",
       "</style>\n",
       "<table border=\"1\" class=\"dataframe\">\n",
       "  <thead>\n",
       "    <tr style=\"text-align: right;\">\n",
       "      <th></th>\n",
       "      <th>Second name</th>\n",
       "      <th>First name</th>\n",
       "      <th>Gender</th>\n",
       "      <th>Height(cm)</th>\n",
       "      <th>Weight(kg)</th>\n",
       "      <th>Country/Team</th>\n",
       "      <th>Height_categories</th>\n",
       "    </tr>\n",
       "  </thead>\n",
       "  <tbody>\n",
       "    <tr>\n",
       "      <th>1</th>\n",
       "      <td>Abbate</td>\n",
       "      <td>Simona</td>\n",
       "      <td>W</td>\n",
       "      <td>171</td>\n",
       "      <td>64</td>\n",
       "      <td>Italy</td>\n",
       "      <td>normal_hgt</td>\n",
       "    </tr>\n",
       "    <tr>\n",
       "      <th>4</th>\n",
       "      <td>Abian</td>\n",
       "      <td>Pablo</td>\n",
       "      <td>M</td>\n",
       "      <td>177</td>\n",
       "      <td>78</td>\n",
       "      <td>Spain</td>\n",
       "      <td>normal_hgt</td>\n",
       "    </tr>\n",
       "    <tr>\n",
       "      <th>5</th>\n",
       "      <td>Abrantes</td>\n",
       "      <td>Arnaldo</td>\n",
       "      <td>M</td>\n",
       "      <td>184</td>\n",
       "      <td>78</td>\n",
       "      <td>Portugal</td>\n",
       "      <td>normal_hgt</td>\n",
       "    </tr>\n",
       "    <tr>\n",
       "      <th>9</th>\n",
       "      <td>Achara</td>\n",
       "      <td>Kieron</td>\n",
       "      <td>M</td>\n",
       "      <td>208</td>\n",
       "      <td>110</td>\n",
       "      <td>Team GB</td>\n",
       "      <td>over_hgt</td>\n",
       "    </tr>\n",
       "    <tr>\n",
       "      <th>10</th>\n",
       "      <td>Achour</td>\n",
       "      <td>Dallal Merwa</td>\n",
       "      <td>W</td>\n",
       "      <td>176</td>\n",
       "      <td>45</td>\n",
       "      <td>Algeria</td>\n",
       "      <td>normal_hgt</td>\n",
       "    </tr>\n",
       "    <tr>\n",
       "      <th>...</th>\n",
       "      <td>...</td>\n",
       "      <td>...</td>\n",
       "      <td>...</td>\n",
       "      <td>...</td>\n",
       "      <td>...</td>\n",
       "      <td>...</td>\n",
       "      <td>...</td>\n",
       "    </tr>\n",
       "    <tr>\n",
       "      <th>1582</th>\n",
       "      <td>Zhou</td>\n",
       "      <td>Peng</td>\n",
       "      <td>M</td>\n",
       "      <td>183</td>\n",
       "      <td>88</td>\n",
       "      <td>China</td>\n",
       "      <td>normal_hgt</td>\n",
       "    </tr>\n",
       "    <tr>\n",
       "      <th>1583</th>\n",
       "      <td>Zlokovic</td>\n",
       "      <td>Boris</td>\n",
       "      <td>M</td>\n",
       "      <td>197</td>\n",
       "      <td>100</td>\n",
       "      <td>Montenegro</td>\n",
       "      <td>excessive_hgt</td>\n",
       "    </tr>\n",
       "    <tr>\n",
       "      <th>1584</th>\n",
       "      <td>Zolnir</td>\n",
       "      <td>Urska</td>\n",
       "      <td>W</td>\n",
       "      <td>173</td>\n",
       "      <td>63</td>\n",
       "      <td>Slovenia</td>\n",
       "      <td>normal_hgt</td>\n",
       "    </tr>\n",
       "    <tr>\n",
       "      <th>1585</th>\n",
       "      <td>Zoric</td>\n",
       "      <td>Milenko</td>\n",
       "      <td>M</td>\n",
       "      <td>179</td>\n",
       "      <td>73</td>\n",
       "      <td>Serbia</td>\n",
       "      <td>normal_hgt</td>\n",
       "    </tr>\n",
       "    <tr>\n",
       "      <th>1586</th>\n",
       "      <td>Zugaj</td>\n",
       "      <td>Nenad</td>\n",
       "      <td>M</td>\n",
       "      <td>177</td>\n",
       "      <td>84</td>\n",
       "      <td>Croatia</td>\n",
       "      <td>normal_hgt</td>\n",
       "    </tr>\n",
       "  </tbody>\n",
       "</table>\n",
       "<p>1117 rows × 7 columns</p>\n",
       "</div>"
      ],
      "text/plain": [
       "     Second name     First name Gender  Height(cm)  Weight(kg) Country/Team  \\\n",
       "1         Abbate        Simona       W         171          64        Italy   \n",
       "4          Abian         Pablo       M         177          78        Spain   \n",
       "5       Abrantes       Arnaldo       M         184          78     Portugal   \n",
       "9         Achara        Kieron       M         208         110      Team GB   \n",
       "10        Achour  Dallal Merwa       W         176          45      Algeria   \n",
       "...          ...            ...    ...         ...         ...          ...   \n",
       "1582        Zhou          Peng       M         183          88        China   \n",
       "1583    Zlokovic         Boris       M         197         100   Montenegro   \n",
       "1584      Zolnir         Urska       W         173          63     Slovenia   \n",
       "1585       Zoric       Milenko       M         179          73       Serbia   \n",
       "1586       Zugaj         Nenad       M         177          84      Croatia   \n",
       "\n",
       "     Height_categories  \n",
       "1           normal_hgt  \n",
       "4           normal_hgt  \n",
       "5           normal_hgt  \n",
       "9             over_hgt  \n",
       "10          normal_hgt  \n",
       "...                ...  \n",
       "1582        normal_hgt  \n",
       "1583     excessive_hgt  \n",
       "1584        normal_hgt  \n",
       "1585        normal_hgt  \n",
       "1586        normal_hgt  \n",
       "\n",
       "[1117 rows x 7 columns]"
      ]
     },
     "execution_count": 57,
     "metadata": {},
     "output_type": "execute_result"
    }
   ],
   "source": [
    "players1"
   ]
  },
  {
   "cell_type": "code",
   "execution_count": 59,
   "id": "c42ba714",
   "metadata": {},
   "outputs": [
    {
     "name": "stdout",
     "output_type": "stream",
     "text": [
      "Height_categories  normal_hgt  excessive_hgt  over_hgt\n",
      "Gender                                                \n",
      "M                         429            304        35\n",
      "W                         319             30         0\n"
     ]
    }
   ],
   "source": [
    "cross_tab_H_G = pd.crosstab(players1[\"Gender\"], players1[\"Height_categories\"])\n",
    "print(cross_tab_H_G)"
   ]
  },
  {
   "cell_type": "code",
   "execution_count": 112,
   "id": "9f92c2af",
   "metadata": {},
   "outputs": [
    {
     "name": "stdout",
     "output_type": "stream",
     "text": [
      "Chi-square statistic:  138.23374944217886\n",
      "P-value:  9.61441141353469e-31\n",
      "Degrees of freedom:  2\n",
      "Expected frequencies:  [[514.29185318 229.64368845  24.06445837]\n",
      " [233.70814682 104.35631155  10.93554163]]\n"
     ]
    }
   ],
   "source": [
    "# Perform chi-square test\n",
    "stat, p, dof, expected = chi2_contingency(cross_tab_H_G)\n",
    "print(\"Chi-square statistic: \", stat)\n",
    "print(\"P-value: \", p)\n",
    "print(\"Degrees of freedom: \", dof)\n",
    "print(\"Expected frequencies: \", expected)"
   ]
  },
  {
   "cell_type": "code",
   "execution_count": null,
   "id": "ea7e6197",
   "metadata": {},
   "outputs": [],
   "source": []
  },
  {
   "cell_type": "markdown",
   "id": "6e28d64f",
   "metadata": {},
   "source": [
    "##### is the Weight of the player is associated with the gender of the player?"
   ]
  },
  {
   "cell_type": "code",
   "execution_count": 72,
   "id": "34412cd4",
   "metadata": {},
   "outputs": [
    {
     "name": "stdout",
     "output_type": "stream",
     "text": [
      "218\n",
      "45\n"
     ]
    }
   ],
   "source": [
    "weight = players1[\"Weight(kg)\"].unique()\n",
    "print(weight.max())\n",
    "print(weight.min())"
   ]
  },
  {
   "cell_type": "code",
   "execution_count": 74,
   "id": "48d2c26c",
   "metadata": {},
   "outputs": [
    {
     "name": "stderr",
     "output_type": "stream",
     "text": [
      "C:\\Users\\Surya Charan Teja\\AppData\\Local\\Temp\\ipykernel_19812\\2573524543.py:3: SettingWithCopyWarning: \n",
      "A value is trying to be set on a copy of a slice from a DataFrame.\n",
      "Try using .loc[row_indexer,col_indexer] = value instead\n",
      "\n",
      "See the caveats in the documentation: https://pandas.pydata.org/pandas-docs/stable/user_guide/indexing.html#returning-a-view-versus-a-copy\n",
      "  players1[\"weight_categories\"] = pd.cut(players1[\"Weight(kg)\"], bins=weight_bins, labels=weight_labels)\n"
     ]
    },
    {
     "data": {
      "text/html": [
       "<div>\n",
       "<style scoped>\n",
       "    .dataframe tbody tr th:only-of-type {\n",
       "        vertical-align: middle;\n",
       "    }\n",
       "\n",
       "    .dataframe tbody tr th {\n",
       "        vertical-align: top;\n",
       "    }\n",
       "\n",
       "    .dataframe thead th {\n",
       "        text-align: right;\n",
       "    }\n",
       "</style>\n",
       "<table border=\"1\" class=\"dataframe\">\n",
       "  <thead>\n",
       "    <tr style=\"text-align: right;\">\n",
       "      <th></th>\n",
       "      <th>Second name</th>\n",
       "      <th>First name</th>\n",
       "      <th>Gender</th>\n",
       "      <th>Height(cm)</th>\n",
       "      <th>Weight(kg)</th>\n",
       "      <th>Country/Team</th>\n",
       "      <th>Height_categories</th>\n",
       "      <th>weight_categories</th>\n",
       "    </tr>\n",
       "  </thead>\n",
       "  <tbody>\n",
       "    <tr>\n",
       "      <th>1</th>\n",
       "      <td>Abbate</td>\n",
       "      <td>Simona</td>\n",
       "      <td>W</td>\n",
       "      <td>171</td>\n",
       "      <td>64</td>\n",
       "      <td>Italy</td>\n",
       "      <td>normal_hgt</td>\n",
       "      <td>normal_wgt</td>\n",
       "    </tr>\n",
       "    <tr>\n",
       "      <th>4</th>\n",
       "      <td>Abian</td>\n",
       "      <td>Pablo</td>\n",
       "      <td>M</td>\n",
       "      <td>177</td>\n",
       "      <td>78</td>\n",
       "      <td>Spain</td>\n",
       "      <td>normal_hgt</td>\n",
       "      <td>normal_wgt</td>\n",
       "    </tr>\n",
       "    <tr>\n",
       "      <th>5</th>\n",
       "      <td>Abrantes</td>\n",
       "      <td>Arnaldo</td>\n",
       "      <td>M</td>\n",
       "      <td>184</td>\n",
       "      <td>78</td>\n",
       "      <td>Portugal</td>\n",
       "      <td>normal_hgt</td>\n",
       "      <td>normal_wgt</td>\n",
       "    </tr>\n",
       "    <tr>\n",
       "      <th>9</th>\n",
       "      <td>Achara</td>\n",
       "      <td>Kieron</td>\n",
       "      <td>M</td>\n",
       "      <td>208</td>\n",
       "      <td>110</td>\n",
       "      <td>Team GB</td>\n",
       "      <td>over_hgt</td>\n",
       "      <td>over_wgt</td>\n",
       "    </tr>\n",
       "    <tr>\n",
       "      <th>10</th>\n",
       "      <td>Achour</td>\n",
       "      <td>Dallal Merwa</td>\n",
       "      <td>W</td>\n",
       "      <td>176</td>\n",
       "      <td>45</td>\n",
       "      <td>Algeria</td>\n",
       "      <td>normal_hgt</td>\n",
       "      <td>NaN</td>\n",
       "    </tr>\n",
       "    <tr>\n",
       "      <th>...</th>\n",
       "      <td>...</td>\n",
       "      <td>...</td>\n",
       "      <td>...</td>\n",
       "      <td>...</td>\n",
       "      <td>...</td>\n",
       "      <td>...</td>\n",
       "      <td>...</td>\n",
       "      <td>...</td>\n",
       "    </tr>\n",
       "    <tr>\n",
       "      <th>1582</th>\n",
       "      <td>Zhou</td>\n",
       "      <td>Peng</td>\n",
       "      <td>M</td>\n",
       "      <td>183</td>\n",
       "      <td>88</td>\n",
       "      <td>China</td>\n",
       "      <td>normal_hgt</td>\n",
       "      <td>normal_wgt</td>\n",
       "    </tr>\n",
       "    <tr>\n",
       "      <th>1583</th>\n",
       "      <td>Zlokovic</td>\n",
       "      <td>Boris</td>\n",
       "      <td>M</td>\n",
       "      <td>197</td>\n",
       "      <td>100</td>\n",
       "      <td>Montenegro</td>\n",
       "      <td>excessive_hgt</td>\n",
       "      <td>over_wgt</td>\n",
       "    </tr>\n",
       "    <tr>\n",
       "      <th>1584</th>\n",
       "      <td>Zolnir</td>\n",
       "      <td>Urska</td>\n",
       "      <td>W</td>\n",
       "      <td>173</td>\n",
       "      <td>63</td>\n",
       "      <td>Slovenia</td>\n",
       "      <td>normal_hgt</td>\n",
       "      <td>normal_wgt</td>\n",
       "    </tr>\n",
       "    <tr>\n",
       "      <th>1585</th>\n",
       "      <td>Zoric</td>\n",
       "      <td>Milenko</td>\n",
       "      <td>M</td>\n",
       "      <td>179</td>\n",
       "      <td>73</td>\n",
       "      <td>Serbia</td>\n",
       "      <td>normal_hgt</td>\n",
       "      <td>normal_wgt</td>\n",
       "    </tr>\n",
       "    <tr>\n",
       "      <th>1586</th>\n",
       "      <td>Zugaj</td>\n",
       "      <td>Nenad</td>\n",
       "      <td>M</td>\n",
       "      <td>177</td>\n",
       "      <td>84</td>\n",
       "      <td>Croatia</td>\n",
       "      <td>normal_hgt</td>\n",
       "      <td>normal_wgt</td>\n",
       "    </tr>\n",
       "  </tbody>\n",
       "</table>\n",
       "<p>1117 rows × 8 columns</p>\n",
       "</div>"
      ],
      "text/plain": [
       "     Second name     First name Gender  Height(cm)  Weight(kg) Country/Team  \\\n",
       "1         Abbate        Simona       W         171          64        Italy   \n",
       "4          Abian         Pablo       M         177          78        Spain   \n",
       "5       Abrantes       Arnaldo       M         184          78     Portugal   \n",
       "9         Achara        Kieron       M         208         110      Team GB   \n",
       "10        Achour  Dallal Merwa       W         176          45      Algeria   \n",
       "...          ...            ...    ...         ...         ...          ...   \n",
       "1582        Zhou          Peng       M         183          88        China   \n",
       "1583    Zlokovic         Boris       M         197         100   Montenegro   \n",
       "1584      Zolnir         Urska       W         173          63     Slovenia   \n",
       "1585       Zoric       Milenko       M         179          73       Serbia   \n",
       "1586       Zugaj         Nenad       M         177          84      Croatia   \n",
       "\n",
       "     Height_categories weight_categories  \n",
       "1           normal_hgt        normal_wgt  \n",
       "4           normal_hgt        normal_wgt  \n",
       "5           normal_hgt        normal_wgt  \n",
       "9             over_hgt          over_wgt  \n",
       "10          normal_hgt               NaN  \n",
       "...                ...               ...  \n",
       "1582        normal_hgt        normal_wgt  \n",
       "1583     excessive_hgt          over_wgt  \n",
       "1584        normal_hgt        normal_wgt  \n",
       "1585        normal_hgt        normal_wgt  \n",
       "1586        normal_hgt        normal_wgt  \n",
       "\n",
       "[1117 rows x 8 columns]"
      ]
     },
     "execution_count": 74,
     "metadata": {},
     "output_type": "execute_result"
    }
   ],
   "source": [
    "weight_bins = [45, 60, 90, 150, 218]\n",
    "weight_labels = ['under_wgt', 'normal_wgt', 'over_wgt', 'obese']\n",
    "players1[\"weight_categories\"] = pd.cut(players1[\"Weight(kg)\"], bins=weight_bins, labels=weight_labels)\n",
    "players1"
   ]
  },
  {
   "cell_type": "code",
   "execution_count": 76,
   "id": "b3c3b61c",
   "metadata": {},
   "outputs": [
    {
     "name": "stdout",
     "output_type": "stream",
     "text": [
      "weight_categories  under_wgt  normal_wgt  over_wgt  obese\n",
      "Gender                                                   \n",
      "M                         20         571       174      3\n",
      "W                         65         274         9      0\n"
     ]
    }
   ],
   "source": [
    "cross_tab_W_G = pd.crosstab(players1[\"Gender\"], players1[\"weight_categories\"])\n",
    "print(cross_tab_W_G)"
   ]
  },
  {
   "cell_type": "code",
   "execution_count": 77,
   "id": "52d4258a",
   "metadata": {},
   "outputs": [
    {
     "name": "stdout",
     "output_type": "stream",
     "text": [
      "Country/Team  Afghanistan  Albania  Algeria  American Virgin Islands  Andorra  \\\n",
      "Gender                                                                          \n",
      "M                       1        1        0                        0        1   \n",
      "W                       0        0        2                        1        0   \n",
      "\n",
      "Country/Team  Angola  Antigua and Barbuda  Argentina  Armenia  \\\n",
      "Gender                                                          \n",
      "M                  0                    1         10        2   \n",
      "W                  1                    0          0        0   \n",
      "\n",
      "Country/Team  Australian Olympic Team  Austria  Azerbaijan  Bahamas  \\\n",
      "Gender                                                                \n",
      "M                                  23        4           4        1   \n",
      "W                                   8        1           0        1   \n",
      "\n",
      "Country/Team  Bangladesh  Barbados  Belarus  Belgium  Belize  Bermuda  \\\n",
      "Gender                                                                  \n",
      "M                      1         1        9        7       1        1   \n",
      "W                      0         0        4        1       0        0   \n",
      "\n",
      "Country/Team  Botswana  Brazil  Bulgaria  Burkina Faso  Burundi  Cambodia  \\\n",
      "Gender                                                                      \n",
      "M                    1       5         3             1        1         0   \n",
      "W                    0       4         1             0        0         1   \n",
      "\n",
      "Country/Team  Cameroon  Canada  Cayman Islands  Chile  China  Chinese Taipei  \\\n",
      "Gender                                                                         \n",
      "M                    2      12               1      2     18               3   \n",
      "W                    0       6               0      1      9               0   \n",
      "\n",
      "Country/Team  Colombia  Costa Rica  Croatia  Cyprus  Czech Republic  DR Congo  \\\n",
      "Gender                                                                          \n",
      "M                    4           1        6       1               4         1   \n",
      "W                    3           0        3       0               8         0   \n",
      "\n",
      "Country/Team  Denmark  Dominican Republic  Ecuador  Egypt  Equatorial Guinea  \\\n",
      "Gender                                                                         \n",
      "M                   5                   0        2      8                  0   \n",
      "W                   4                   1        0      0                  1   \n",
      "\n",
      "Country/Team  Eritrea  Estonia  FYR Macedonia  Fiji  Finland  France  Gabon  \\\n",
      "Gender                                                                        \n",
      "M                   1        3              1     1        0      17      2   \n",
      "W                   0        0              0     0        2       9      0   \n",
      "\n",
      "Country/Team  Georgia  Germany  Greece  Grenada  Guam  Guatemala  Guyana  \\\n",
      "Gender                                                                     \n",
      "M                   3       22       7        1     1          1       1   \n",
      "W                   0        9       2        0     0          0       0   \n",
      "\n",
      "Country/Team  Honduras  Hong Kong  Hungary  Independent Olympic Athletes  \\\n",
      "Gender                                                                     \n",
      "M                    1          3       10                             1   \n",
      "W                    0          1        3                             0   \n",
      "\n",
      "Country/Team  Indonesia  Iran  Iraq  Ireland  Israel  Italy  Ivory Coast  \\\n",
      "Gender                                                                     \n",
      "M                     1     6     1        3       3     14            1   \n",
      "W                     0     0     0        1       0      4            0   \n",
      "\n",
      "Country/Team  Jamaica  Japan  Kazakhstan  Kenya  Kyrgyzstan  Latvia  \\\n",
      "Gender                                                                \n",
      "M                   3     11           4      1           2       2   \n",
      "W                   1      2           0      0           0       1   \n",
      "\n",
      "Country/Team  Liechtenstein  Lithuania  Luxembourg  Madagascar  Malaysia  \\\n",
      "Gender                                                                     \n",
      "M                         0          0           1           1         1   \n",
      "W                         1          6           0           0         0   \n",
      "\n",
      "Country/Team  Malta  Mauritius  Mexico  Moldova  Monaco  Mongolia  Montenegro  \\\n",
      "Gender                                                                          \n",
      "M                 1          0       6        1       1         2           1   \n",
      "W                 0          2       2        0       0         1           2   \n",
      "\n",
      "Country/Team  Morocco  Mozambique  Myanmar  Namibia  Nauru  Netherlands  \\\n",
      "Gender                                                                    \n",
      "M                   3           1        0        1      1           10   \n",
      "W                   0           0        1        0      0            6   \n",
      "\n",
      "Country/Team  New Zealand  Niger  Nigeria  North Korea  Oman  Panama  \\\n",
      "Gender                                                                 \n",
      "M                      10      1        1            0     1       1   \n",
      "W                       3      0        0            1     0       0   \n",
      "\n",
      "Country/Team  Papua New Guinea  Paraguay  Philippines  Poland  Portugal  \\\n",
      "Gender                                                                    \n",
      "M                            1         1            2       9         5   \n",
      "W                            0         0            0       5         0   \n",
      "\n",
      "Country/Team  Qatar  Romania  Russian Federation  Rwanda  \\\n",
      "Gender                                                     \n",
      "M                 1        6                  24       1   \n",
      "W                 0        2                  19       0   \n",
      "\n",
      "Country/Team  S?úo Tom?? and Pr?¡ncipe  Saint Kitts and Nevis  Senegal  \\\n",
      "Gender                                                                   \n",
      "M                                    0                      1        3   \n",
      "W                                    1                      0        1   \n",
      "\n",
      "Country/Team  Serbia  Sierra Leone  Singapore  Slovakia  Slovenia  \\\n",
      "Gender                                                              \n",
      "M                  6             1          1         2         3   \n",
      "W                  5             0          0         1         1   \n",
      "\n",
      "Country/Team  South Africa  South Korea  Spain  St Vincent and the Grenadines  \\\n",
      "Gender                                                                          \n",
      "M                        6           15     21                              0   \n",
      "W                        2            6      5                              1   \n",
      "\n",
      "Country/Team  Sudan  Suriname  Swaziland  Sweden  Switzerland  Syria  \\\n",
      "Gender                                                                 \n",
      "M                 1         1          1       5            8      0   \n",
      "W                 0         0          0       7            2      1   \n",
      "\n",
      "Country/Team  Tajikistan  Team GB  Team USA  Thailand  Trinidad and Tobago  \\\n",
      "Gender                                                                       \n",
      "M                      2      268        21         1                    2   \n",
      "W                      0      142        13         1                    0   \n",
      "\n",
      "Country/Team  Tunisia  Turkey  Turkmenistan  Uganda  Ukraine  \\\n",
      "Gender                                                         \n",
      "M                   6       3             1       1        8   \n",
      "W                   1       3             0       0        8   \n",
      "\n",
      "Country/Team  United Arab Emirates  Uruguay  Uzbekistan  Venezuela  \n",
      "Gender                                                              \n",
      "M                                1        3           2          2  \n",
      "W                                0        0           1          0  \n"
     ]
    }
   ],
   "source": [
    "cross_tab_C_G = pd.crosstab(players1[\"Gender\"], players1[\"Country/Team\"])\n",
    "print(cross_tab_C_G)"
   ]
  },
  {
   "cell_type": "code",
   "execution_count": 78,
   "id": "7db7df74",
   "metadata": {},
   "outputs": [],
   "source": [
    "cust = pd.read_csv(\"./customer_shopping_data.csv\")"
   ]
  },
  {
   "cell_type": "code",
   "execution_count": 79,
   "id": "fcd4096f",
   "metadata": {},
   "outputs": [
    {
     "data": {
      "text/html": [
       "<div>\n",
       "<style scoped>\n",
       "    .dataframe tbody tr th:only-of-type {\n",
       "        vertical-align: middle;\n",
       "    }\n",
       "\n",
       "    .dataframe tbody tr th {\n",
       "        vertical-align: top;\n",
       "    }\n",
       "\n",
       "    .dataframe thead th {\n",
       "        text-align: right;\n",
       "    }\n",
       "</style>\n",
       "<table border=\"1\" class=\"dataframe\">\n",
       "  <thead>\n",
       "    <tr style=\"text-align: right;\">\n",
       "      <th></th>\n",
       "      <th>invoice_no</th>\n",
       "      <th>customer_id</th>\n",
       "      <th>gender</th>\n",
       "      <th>age</th>\n",
       "      <th>category</th>\n",
       "      <th>quantity</th>\n",
       "      <th>price</th>\n",
       "      <th>payment_method</th>\n",
       "      <th>invoice_date</th>\n",
       "      <th>shopping_mall</th>\n",
       "    </tr>\n",
       "  </thead>\n",
       "  <tbody>\n",
       "    <tr>\n",
       "      <th>0</th>\n",
       "      <td>I138884</td>\n",
       "      <td>C241288</td>\n",
       "      <td>Female</td>\n",
       "      <td>28</td>\n",
       "      <td>Clothing</td>\n",
       "      <td>5</td>\n",
       "      <td>1500.40</td>\n",
       "      <td>Credit Card</td>\n",
       "      <td>05-08-2022</td>\n",
       "      <td>Kanyon</td>\n",
       "    </tr>\n",
       "    <tr>\n",
       "      <th>1</th>\n",
       "      <td>I317333</td>\n",
       "      <td>C111565</td>\n",
       "      <td>Male</td>\n",
       "      <td>21</td>\n",
       "      <td>Shoes</td>\n",
       "      <td>3</td>\n",
       "      <td>1800.51</td>\n",
       "      <td>Debit Card</td>\n",
       "      <td>12-12-2021</td>\n",
       "      <td>Forum Istanbul</td>\n",
       "    </tr>\n",
       "    <tr>\n",
       "      <th>2</th>\n",
       "      <td>I127801</td>\n",
       "      <td>C266599</td>\n",
       "      <td>Male</td>\n",
       "      <td>20</td>\n",
       "      <td>Clothing</td>\n",
       "      <td>1</td>\n",
       "      <td>300.08</td>\n",
       "      <td>Cash</td>\n",
       "      <td>09-11-2021</td>\n",
       "      <td>Metrocity</td>\n",
       "    </tr>\n",
       "    <tr>\n",
       "      <th>3</th>\n",
       "      <td>I173702</td>\n",
       "      <td>C988172</td>\n",
       "      <td>Female</td>\n",
       "      <td>66</td>\n",
       "      <td>Shoes</td>\n",
       "      <td>5</td>\n",
       "      <td>3000.85</td>\n",
       "      <td>Credit Card</td>\n",
       "      <td>16-05-2021</td>\n",
       "      <td>Metropol AVM</td>\n",
       "    </tr>\n",
       "    <tr>\n",
       "      <th>4</th>\n",
       "      <td>I337046</td>\n",
       "      <td>C189076</td>\n",
       "      <td>Female</td>\n",
       "      <td>53</td>\n",
       "      <td>Books</td>\n",
       "      <td>4</td>\n",
       "      <td>60.60</td>\n",
       "      <td>Cash</td>\n",
       "      <td>24-10-2021</td>\n",
       "      <td>Kanyon</td>\n",
       "    </tr>\n",
       "    <tr>\n",
       "      <th>...</th>\n",
       "      <td>...</td>\n",
       "      <td>...</td>\n",
       "      <td>...</td>\n",
       "      <td>...</td>\n",
       "      <td>...</td>\n",
       "      <td>...</td>\n",
       "      <td>...</td>\n",
       "      <td>...</td>\n",
       "      <td>...</td>\n",
       "      <td>...</td>\n",
       "    </tr>\n",
       "    <tr>\n",
       "      <th>99452</th>\n",
       "      <td>I219422</td>\n",
       "      <td>C441542</td>\n",
       "      <td>Female</td>\n",
       "      <td>45</td>\n",
       "      <td>Souvenir</td>\n",
       "      <td>5</td>\n",
       "      <td>58.65</td>\n",
       "      <td>Credit Card</td>\n",
       "      <td>21-09-2022</td>\n",
       "      <td>Kanyon</td>\n",
       "    </tr>\n",
       "    <tr>\n",
       "      <th>99453</th>\n",
       "      <td>I325143</td>\n",
       "      <td>C569580</td>\n",
       "      <td>Male</td>\n",
       "      <td>27</td>\n",
       "      <td>Food &amp; Beverage</td>\n",
       "      <td>2</td>\n",
       "      <td>10.46</td>\n",
       "      <td>Cash</td>\n",
       "      <td>22-09-2021</td>\n",
       "      <td>Forum Istanbul</td>\n",
       "    </tr>\n",
       "    <tr>\n",
       "      <th>99454</th>\n",
       "      <td>I824010</td>\n",
       "      <td>C103292</td>\n",
       "      <td>Male</td>\n",
       "      <td>63</td>\n",
       "      <td>Food &amp; Beverage</td>\n",
       "      <td>2</td>\n",
       "      <td>10.46</td>\n",
       "      <td>Debit Card</td>\n",
       "      <td>28-03-2021</td>\n",
       "      <td>Metrocity</td>\n",
       "    </tr>\n",
       "    <tr>\n",
       "      <th>99455</th>\n",
       "      <td>I702964</td>\n",
       "      <td>C800631</td>\n",
       "      <td>Male</td>\n",
       "      <td>56</td>\n",
       "      <td>Technology</td>\n",
       "      <td>4</td>\n",
       "      <td>4200.00</td>\n",
       "      <td>Cash</td>\n",
       "      <td>16-03-2021</td>\n",
       "      <td>Istinye Park</td>\n",
       "    </tr>\n",
       "    <tr>\n",
       "      <th>99456</th>\n",
       "      <td>I232867</td>\n",
       "      <td>C273973</td>\n",
       "      <td>Female</td>\n",
       "      <td>36</td>\n",
       "      <td>Souvenir</td>\n",
       "      <td>3</td>\n",
       "      <td>35.19</td>\n",
       "      <td>Credit Card</td>\n",
       "      <td>15-10-2022</td>\n",
       "      <td>Mall of Istanbul</td>\n",
       "    </tr>\n",
       "  </tbody>\n",
       "</table>\n",
       "<p>99457 rows × 10 columns</p>\n",
       "</div>"
      ],
      "text/plain": [
       "      invoice_no customer_id  gender  age         category  quantity    price  \\\n",
       "0        I138884     C241288  Female   28         Clothing         5  1500.40   \n",
       "1        I317333     C111565    Male   21            Shoes         3  1800.51   \n",
       "2        I127801     C266599    Male   20         Clothing         1   300.08   \n",
       "3        I173702     C988172  Female   66            Shoes         5  3000.85   \n",
       "4        I337046     C189076  Female   53            Books         4    60.60   \n",
       "...          ...         ...     ...  ...              ...       ...      ...   \n",
       "99452    I219422     C441542  Female   45         Souvenir         5    58.65   \n",
       "99453    I325143     C569580    Male   27  Food & Beverage         2    10.46   \n",
       "99454    I824010     C103292    Male   63  Food & Beverage         2    10.46   \n",
       "99455    I702964     C800631    Male   56       Technology         4  4200.00   \n",
       "99456    I232867     C273973  Female   36         Souvenir         3    35.19   \n",
       "\n",
       "      payment_method invoice_date     shopping_mall  \n",
       "0        Credit Card   05-08-2022            Kanyon  \n",
       "1         Debit Card   12-12-2021    Forum Istanbul  \n",
       "2               Cash   09-11-2021         Metrocity  \n",
       "3        Credit Card   16-05-2021      Metropol AVM  \n",
       "4               Cash   24-10-2021            Kanyon  \n",
       "...              ...          ...               ...  \n",
       "99452    Credit Card   21-09-2022            Kanyon  \n",
       "99453           Cash   22-09-2021    Forum Istanbul  \n",
       "99454     Debit Card   28-03-2021         Metrocity  \n",
       "99455           Cash   16-03-2021      Istinye Park  \n",
       "99456    Credit Card   15-10-2022  Mall of Istanbul  \n",
       "\n",
       "[99457 rows x 10 columns]"
      ]
     },
     "execution_count": 79,
     "metadata": {},
     "output_type": "execute_result"
    }
   ],
   "source": [
    "cust"
   ]
  },
  {
   "cell_type": "markdown",
   "id": "71ac4c76",
   "metadata": {},
   "source": [
    "##### is gender any way influencing the category of purchase"
   ]
  },
  {
   "cell_type": "code",
   "execution_count": 80,
   "id": "e4b4e3a6",
   "metadata": {},
   "outputs": [
    {
     "name": "stdout",
     "output_type": "stream",
     "text": [
      "category  Books  Clothing  Cosmetics  Food & Beverage  Shoes  Souvenir  \\\n",
      "gender                                                                   \n",
      "Female     2906     20652       9070             8804   5967      3017   \n",
      "Male       2075     13835       6027             5972   4067      1982   \n",
      "\n",
      "category  Technology  Toys  \n",
      "gender                      \n",
      "Female          2981  6085  \n",
      "Male            2015  4002  \n"
     ]
    }
   ],
   "source": [
    "cross_tab_cat_G = pd.crosstab(cust[\"gender\"], cust[\"category\"])\n",
    "print(cross_tab_cat_G)"
   ]
  },
  {
   "cell_type": "code",
   "execution_count": 111,
   "id": "7f1e456f",
   "metadata": {},
   "outputs": [
    {
     "name": "stdout",
     "output_type": "stream",
     "text": [
      "Chi-square statistic:  7.567873097409636\n",
      "P-value:  0.37223416407226806\n",
      "Degrees of freedom:  7\n",
      "Expected frequencies:  [[ 2978.97425018 20625.55409876  9029.02514655  8837.04547694\n",
      "   6001.00936083  2989.7394653   2987.94526278  6032.70693868]\n",
      " [ 2002.02574982 13861.44590124  6067.97485345  5938.95452306\n",
      "   4032.99063917  2009.2605347   2008.05473722  4054.29306132]]\n"
     ]
    }
   ],
   "source": [
    "# Perform chi-square test\n",
    "stat, p, dof, expected = chi2_contingency(cross_tab_cat_G)\n",
    "print(\"Chi-square statistic: \", stat)\n",
    "print(\"P-value: \", p)\n",
    "print(\"Degrees of freedom: \", dof)\n",
    "print(\"Expected frequencies: \", expected)"
   ]
  },
  {
   "cell_type": "code",
   "execution_count": 81,
   "id": "092dfa19",
   "metadata": {},
   "outputs": [
    {
     "name": "stdout",
     "output_type": "stream",
     "text": [
      "quantity      1      2      3      4      5\n",
      "gender                                     \n",
      "Female    11824  11812  12046  11927  11873\n",
      "Male       7943   8016   8103   7796   8117\n"
     ]
    }
   ],
   "source": [
    "cross_tab_Q_G = pd.crosstab(cust[\"gender\"], cust[\"quantity\"])\n",
    "print(cross_tab_Q_G)"
   ]
  },
  {
   "cell_type": "code",
   "execution_count": null,
   "id": "fb55ed66",
   "metadata": {},
   "outputs": [],
   "source": []
  },
  {
   "cell_type": "markdown",
   "id": "88f0cfd1",
   "metadata": {},
   "source": [
    "##### is there any association between age and payment method"
   ]
  },
  {
   "cell_type": "code",
   "execution_count": 84,
   "id": "98ce7481",
   "metadata": {},
   "outputs": [
    {
     "data": {
      "text/plain": [
       "array([28, 21, 20, 66, 53, 49, 32, 69, 60, 36, 29, 67, 25, 24, 65, 42, 46,\n",
       "       23, 27, 52, 44, 51, 50, 68, 43, 59, 54, 48, 40, 41, 19, 18, 22, 61,\n",
       "       45, 64, 33, 63, 34, 47, 38, 57, 30, 26, 62, 39, 55, 56, 35, 31, 37,\n",
       "       58], dtype=int64)"
      ]
     },
     "execution_count": 84,
     "metadata": {},
     "output_type": "execute_result"
    }
   ],
   "source": [
    "cust[\"age\"].unique()"
   ]
  },
  {
   "cell_type": "code",
   "execution_count": 85,
   "id": "01eb08f4",
   "metadata": {},
   "outputs": [
    {
     "data": {
      "text/plain": [
       "count    99457.000000\n",
       "mean        43.427089\n",
       "std         14.990054\n",
       "min         18.000000\n",
       "25%         30.000000\n",
       "50%         43.000000\n",
       "75%         56.000000\n",
       "max         69.000000\n",
       "Name: age, dtype: float64"
      ]
     },
     "execution_count": 85,
     "metadata": {},
     "output_type": "execute_result"
    }
   ],
   "source": [
    "cust[\"age\"].describe()"
   ]
  },
  {
   "cell_type": "code",
   "execution_count": 91,
   "id": "150cb6a1",
   "metadata": {},
   "outputs": [],
   "source": [
    "age_bins = [30, 45, 55, 69, 100]\n",
    "age_labels = ['Middle Adults', 'Older Adults', 'Seniors', 'Seniors+']\n",
    "cust[\"age_categories\"] = pd.cut(cust[\"age\"], bins=age_bins, labels=age_labels)"
   ]
  },
  {
   "cell_type": "code",
   "execution_count": 93,
   "id": "af3ceb1b",
   "metadata": {},
   "outputs": [],
   "source": [
    "cust1 = cust.dropna()"
   ]
  },
  {
   "cell_type": "code",
   "execution_count": 94,
   "id": "882e57ca",
   "metadata": {},
   "outputs": [
    {
     "data": {
      "text/html": [
       "<div>\n",
       "<style scoped>\n",
       "    .dataframe tbody tr th:only-of-type {\n",
       "        vertical-align: middle;\n",
       "    }\n",
       "\n",
       "    .dataframe tbody tr th {\n",
       "        vertical-align: top;\n",
       "    }\n",
       "\n",
       "    .dataframe thead th {\n",
       "        text-align: right;\n",
       "    }\n",
       "</style>\n",
       "<table border=\"1\" class=\"dataframe\">\n",
       "  <thead>\n",
       "    <tr style=\"text-align: right;\">\n",
       "      <th></th>\n",
       "      <th>invoice_no</th>\n",
       "      <th>customer_id</th>\n",
       "      <th>gender</th>\n",
       "      <th>age</th>\n",
       "      <th>category</th>\n",
       "      <th>quantity</th>\n",
       "      <th>price</th>\n",
       "      <th>payment_method</th>\n",
       "      <th>invoice_date</th>\n",
       "      <th>shopping_mall</th>\n",
       "      <th>age_categories</th>\n",
       "    </tr>\n",
       "  </thead>\n",
       "  <tbody>\n",
       "    <tr>\n",
       "      <th>3</th>\n",
       "      <td>I173702</td>\n",
       "      <td>C988172</td>\n",
       "      <td>Female</td>\n",
       "      <td>66</td>\n",
       "      <td>Shoes</td>\n",
       "      <td>5</td>\n",
       "      <td>3000.85</td>\n",
       "      <td>Credit Card</td>\n",
       "      <td>16-05-2021</td>\n",
       "      <td>Metropol AVM</td>\n",
       "      <td>Seniors</td>\n",
       "    </tr>\n",
       "    <tr>\n",
       "      <th>4</th>\n",
       "      <td>I337046</td>\n",
       "      <td>C189076</td>\n",
       "      <td>Female</td>\n",
       "      <td>53</td>\n",
       "      <td>Books</td>\n",
       "      <td>4</td>\n",
       "      <td>60.60</td>\n",
       "      <td>Cash</td>\n",
       "      <td>24-10-2021</td>\n",
       "      <td>Kanyon</td>\n",
       "      <td>Older Adults</td>\n",
       "    </tr>\n",
       "    <tr>\n",
       "      <th>6</th>\n",
       "      <td>I121056</td>\n",
       "      <td>C151197</td>\n",
       "      <td>Female</td>\n",
       "      <td>49</td>\n",
       "      <td>Cosmetics</td>\n",
       "      <td>1</td>\n",
       "      <td>40.66</td>\n",
       "      <td>Cash</td>\n",
       "      <td>13-03-2022</td>\n",
       "      <td>Istinye Park</td>\n",
       "      <td>Older Adults</td>\n",
       "    </tr>\n",
       "    <tr>\n",
       "      <th>7</th>\n",
       "      <td>I293112</td>\n",
       "      <td>C176086</td>\n",
       "      <td>Female</td>\n",
       "      <td>32</td>\n",
       "      <td>Clothing</td>\n",
       "      <td>2</td>\n",
       "      <td>600.16</td>\n",
       "      <td>Credit Card</td>\n",
       "      <td>13-01-2021</td>\n",
       "      <td>Mall of Istanbul</td>\n",
       "      <td>Middle Adults</td>\n",
       "    </tr>\n",
       "    <tr>\n",
       "      <th>8</th>\n",
       "      <td>I293455</td>\n",
       "      <td>C159642</td>\n",
       "      <td>Male</td>\n",
       "      <td>69</td>\n",
       "      <td>Clothing</td>\n",
       "      <td>3</td>\n",
       "      <td>900.24</td>\n",
       "      <td>Credit Card</td>\n",
       "      <td>04-11-2021</td>\n",
       "      <td>Metrocity</td>\n",
       "      <td>Seniors</td>\n",
       "    </tr>\n",
       "    <tr>\n",
       "      <th>...</th>\n",
       "      <td>...</td>\n",
       "      <td>...</td>\n",
       "      <td>...</td>\n",
       "      <td>...</td>\n",
       "      <td>...</td>\n",
       "      <td>...</td>\n",
       "      <td>...</td>\n",
       "      <td>...</td>\n",
       "      <td>...</td>\n",
       "      <td>...</td>\n",
       "      <td>...</td>\n",
       "    </tr>\n",
       "    <tr>\n",
       "      <th>99451</th>\n",
       "      <td>I675411</td>\n",
       "      <td>C513603</td>\n",
       "      <td>Male</td>\n",
       "      <td>50</td>\n",
       "      <td>Toys</td>\n",
       "      <td>5</td>\n",
       "      <td>179.20</td>\n",
       "      <td>Cash</td>\n",
       "      <td>09-10-2021</td>\n",
       "      <td>Metropol AVM</td>\n",
       "      <td>Older Adults</td>\n",
       "    </tr>\n",
       "    <tr>\n",
       "      <th>99452</th>\n",
       "      <td>I219422</td>\n",
       "      <td>C441542</td>\n",
       "      <td>Female</td>\n",
       "      <td>45</td>\n",
       "      <td>Souvenir</td>\n",
       "      <td>5</td>\n",
       "      <td>58.65</td>\n",
       "      <td>Credit Card</td>\n",
       "      <td>21-09-2022</td>\n",
       "      <td>Kanyon</td>\n",
       "      <td>Middle Adults</td>\n",
       "    </tr>\n",
       "    <tr>\n",
       "      <th>99454</th>\n",
       "      <td>I824010</td>\n",
       "      <td>C103292</td>\n",
       "      <td>Male</td>\n",
       "      <td>63</td>\n",
       "      <td>Food &amp; Beverage</td>\n",
       "      <td>2</td>\n",
       "      <td>10.46</td>\n",
       "      <td>Debit Card</td>\n",
       "      <td>28-03-2021</td>\n",
       "      <td>Metrocity</td>\n",
       "      <td>Seniors</td>\n",
       "    </tr>\n",
       "    <tr>\n",
       "      <th>99455</th>\n",
       "      <td>I702964</td>\n",
       "      <td>C800631</td>\n",
       "      <td>Male</td>\n",
       "      <td>56</td>\n",
       "      <td>Technology</td>\n",
       "      <td>4</td>\n",
       "      <td>4200.00</td>\n",
       "      <td>Cash</td>\n",
       "      <td>16-03-2021</td>\n",
       "      <td>Istinye Park</td>\n",
       "      <td>Seniors</td>\n",
       "    </tr>\n",
       "    <tr>\n",
       "      <th>99456</th>\n",
       "      <td>I232867</td>\n",
       "      <td>C273973</td>\n",
       "      <td>Female</td>\n",
       "      <td>36</td>\n",
       "      <td>Souvenir</td>\n",
       "      <td>3</td>\n",
       "      <td>35.19</td>\n",
       "      <td>Credit Card</td>\n",
       "      <td>15-10-2022</td>\n",
       "      <td>Mall of Istanbul</td>\n",
       "      <td>Middle Adults</td>\n",
       "    </tr>\n",
       "  </tbody>\n",
       "</table>\n",
       "<p>74433 rows × 11 columns</p>\n",
       "</div>"
      ],
      "text/plain": [
       "      invoice_no customer_id  gender  age         category  quantity    price  \\\n",
       "3        I173702     C988172  Female   66            Shoes         5  3000.85   \n",
       "4        I337046     C189076  Female   53            Books         4    60.60   \n",
       "6        I121056     C151197  Female   49        Cosmetics         1    40.66   \n",
       "7        I293112     C176086  Female   32         Clothing         2   600.16   \n",
       "8        I293455     C159642    Male   69         Clothing         3   900.24   \n",
       "...          ...         ...     ...  ...              ...       ...      ...   \n",
       "99451    I675411     C513603    Male   50             Toys         5   179.20   \n",
       "99452    I219422     C441542  Female   45         Souvenir         5    58.65   \n",
       "99454    I824010     C103292    Male   63  Food & Beverage         2    10.46   \n",
       "99455    I702964     C800631    Male   56       Technology         4  4200.00   \n",
       "99456    I232867     C273973  Female   36         Souvenir         3    35.19   \n",
       "\n",
       "      payment_method invoice_date     shopping_mall age_categories  \n",
       "3        Credit Card   16-05-2021      Metropol AVM        Seniors  \n",
       "4               Cash   24-10-2021            Kanyon   Older Adults  \n",
       "6               Cash   13-03-2022      Istinye Park   Older Adults  \n",
       "7        Credit Card   13-01-2021  Mall of Istanbul  Middle Adults  \n",
       "8        Credit Card   04-11-2021         Metrocity        Seniors  \n",
       "...              ...          ...               ...            ...  \n",
       "99451           Cash   09-10-2021      Metropol AVM   Older Adults  \n",
       "99452    Credit Card   21-09-2022            Kanyon  Middle Adults  \n",
       "99454     Debit Card   28-03-2021         Metrocity        Seniors  \n",
       "99455           Cash   16-03-2021      Istinye Park        Seniors  \n",
       "99456    Credit Card   15-10-2022  Mall of Istanbul  Middle Adults  \n",
       "\n",
       "[74433 rows x 11 columns]"
      ]
     },
     "execution_count": 94,
     "metadata": {},
     "output_type": "execute_result"
    }
   ],
   "source": [
    "cust1"
   ]
  },
  {
   "cell_type": "code",
   "execution_count": 96,
   "id": "955011af",
   "metadata": {},
   "outputs": [
    {
     "name": "stdout",
     "output_type": "stream",
     "text": [
      "payment_method   Cash  Credit Card  Debit Card\n",
      "age_categories                                \n",
      "Middle Adults   12863        10122        5845\n",
      "Older Adults     8462         6704        3850\n",
      "Seniors         11945         9320        5322\n"
     ]
    }
   ],
   "source": [
    "cross_tab_A_P = pd.crosstab(cust1[\"age_categories\"], cust[\"payment_method\"])\n",
    "print(cross_tab_A_P)"
   ]
  },
  {
   "cell_type": "markdown",
   "id": "b6c5d039",
   "metadata": {},
   "source": [
    "# Chi-square test"
   ]
  },
  {
   "cell_type": "code",
   "execution_count": null,
   "id": "1ccaa726",
   "metadata": {},
   "outputs": [],
   "source": [
    "1. this is the primary tool  to test the statistical significance of the cross-tabulation \n",
    "2. chi-square tests determine whether or not the two variables are independent\n",
    "3. if the variables are independent , no relationship / result ==> non-significant\n",
    "4. null hypothesis = no relationship ( there is no relationship between the variables)\n",
    "5. result ==> statistically significant ( is relationship )\n",
    "\n",
    "------------------------------\n",
    "if test statistic value = 0.05 or 5%, we say statistically significant, rejecting null hypothesis\n",
    "-----------------------------\n",
    "6. researchers can declare significance, 0.05 or 0.005"
   ]
  },
  {
   "cell_type": "code",
   "execution_count": null,
   "id": "89e393a6",
   "metadata": {},
   "outputs": [],
   "source": [
    "chi-square value = (observed value - expected value)**2 / expected value\n",
    "chi-square total = sum of all cells"
   ]
  },
  {
   "cell_type": "code",
   "execution_count": 97,
   "id": "b88716fc",
   "metadata": {},
   "outputs": [],
   "source": [
    "import pandas as pd"
   ]
  },
  {
   "cell_type": "code",
   "execution_count": 99,
   "id": "e71a1414",
   "metadata": {},
   "outputs": [],
   "source": [
    "from scipy.stats import chi2_contingency"
   ]
  },
  {
   "cell_type": "code",
   "execution_count": 107,
   "id": "b075d364",
   "metadata": {},
   "outputs": [
    {
     "name": "stdout",
     "output_type": "stream",
     "text": [
      "Chi-square statistic:  0.0\n",
      "P-value:  1.0\n",
      "Degrees of freedom:  1\n",
      "Expected frequencies:  [[1.2 0.8]\n",
      " [1.8 1.2]]\n"
     ]
    }
   ],
   "source": [
    "# create a sample dataset\n",
    "data1 = {\"Gender\": ['Male', 'Female', 'Male', 'Female', 'Male'], 'Smoker': ['Yes', 'No', 'No', 'Yes', 'No']}\n",
    "dfc2 = pd.DataFrame(data1)\n",
    "\n",
    "# create a contingency table of Gender and Smoker\n",
    "contingency_table = pd.crosstab(dfc2[\"Gender\"], dfc2[\"Smoker\"])\n",
    "\n",
    "# Perform chi-square test\n",
    "stat, p, dof, expected = chi2_contingency(contingency_table)\n",
    "print(\"Chi-square statistic: \", stat)\n",
    "print(\"P-value: \", p)\n",
    "print(\"Degrees of freedom: \", dof)\n",
    "print(\"Expected frequencies: \", expected)\n"
   ]
  },
  {
   "cell_type": "code",
   "execution_count": 106,
   "id": "cf75c6cb",
   "metadata": {},
   "outputs": [
    {
     "data": {
      "text/html": [
       "<div>\n",
       "<style scoped>\n",
       "    .dataframe tbody tr th:only-of-type {\n",
       "        vertical-align: middle;\n",
       "    }\n",
       "\n",
       "    .dataframe tbody tr th {\n",
       "        vertical-align: top;\n",
       "    }\n",
       "\n",
       "    .dataframe thead th {\n",
       "        text-align: right;\n",
       "    }\n",
       "</style>\n",
       "<table border=\"1\" class=\"dataframe\">\n",
       "  <thead>\n",
       "    <tr style=\"text-align: right;\">\n",
       "      <th>Smoker</th>\n",
       "      <th>No</th>\n",
       "      <th>Yes</th>\n",
       "    </tr>\n",
       "    <tr>\n",
       "      <th>Gender</th>\n",
       "      <th></th>\n",
       "      <th></th>\n",
       "    </tr>\n",
       "  </thead>\n",
       "  <tbody>\n",
       "    <tr>\n",
       "      <th>Female</th>\n",
       "      <td>1</td>\n",
       "      <td>1</td>\n",
       "    </tr>\n",
       "    <tr>\n",
       "      <th>Male</th>\n",
       "      <td>2</td>\n",
       "      <td>1</td>\n",
       "    </tr>\n",
       "  </tbody>\n",
       "</table>\n",
       "</div>"
      ],
      "text/plain": [
       "Smoker  No  Yes\n",
       "Gender         \n",
       "Female   1    1\n",
       "Male     2    1"
      ]
     },
     "execution_count": 106,
     "metadata": {},
     "output_type": "execute_result"
    }
   ],
   "source": [
    "contingency_table"
   ]
  },
  {
   "cell_type": "code",
   "execution_count": null,
   "id": "54fbd5d6",
   "metadata": {},
   "outputs": [],
   "source": [
    "P-value > 0.05 ==> non significant, there is no relation, accepting the null hypothesis "
   ]
  },
  {
   "cell_type": "code",
   "execution_count": 108,
   "id": "3f82b042",
   "metadata": {},
   "outputs": [
    {
     "data": {
      "text/html": [
       "<div>\n",
       "<style scoped>\n",
       "    .dataframe tbody tr th:only-of-type {\n",
       "        vertical-align: middle;\n",
       "    }\n",
       "\n",
       "    .dataframe tbody tr th {\n",
       "        vertical-align: top;\n",
       "    }\n",
       "\n",
       "    .dataframe thead th {\n",
       "        text-align: right;\n",
       "    }\n",
       "</style>\n",
       "<table border=\"1\" class=\"dataframe\">\n",
       "  <thead>\n",
       "    <tr style=\"text-align: right;\">\n",
       "      <th></th>\n",
       "      <th>Age</th>\n",
       "      <th>Income</th>\n",
       "      <th>Age_Category</th>\n",
       "    </tr>\n",
       "  </thead>\n",
       "  <tbody>\n",
       "    <tr>\n",
       "      <th>0</th>\n",
       "      <td>25</td>\n",
       "      <td>50000</td>\n",
       "      <td>Young Adults</td>\n",
       "    </tr>\n",
       "    <tr>\n",
       "      <th>1</th>\n",
       "      <td>32</td>\n",
       "      <td>60000</td>\n",
       "      <td>Middle-aged Adults</td>\n",
       "    </tr>\n",
       "    <tr>\n",
       "      <th>2</th>\n",
       "      <td>40</td>\n",
       "      <td>45000</td>\n",
       "      <td>Older Adults</td>\n",
       "    </tr>\n",
       "    <tr>\n",
       "      <th>3</th>\n",
       "      <td>18</td>\n",
       "      <td>55000</td>\n",
       "      <td>NaN</td>\n",
       "    </tr>\n",
       "    <tr>\n",
       "      <th>4</th>\n",
       "      <td>50</td>\n",
       "      <td>70000</td>\n",
       "      <td>Seniors</td>\n",
       "    </tr>\n",
       "    <tr>\n",
       "      <th>5</th>\n",
       "      <td>60</td>\n",
       "      <td>80000</td>\n",
       "      <td>senior +</td>\n",
       "    </tr>\n",
       "    <tr>\n",
       "      <th>6</th>\n",
       "      <td>22</td>\n",
       "      <td>48000</td>\n",
       "      <td>Young Adults</td>\n",
       "    </tr>\n",
       "    <tr>\n",
       "      <th>7</th>\n",
       "      <td>35</td>\n",
       "      <td>55000</td>\n",
       "      <td>Middle-aged Adults</td>\n",
       "    </tr>\n",
       "    <tr>\n",
       "      <th>8</th>\n",
       "      <td>28</td>\n",
       "      <td>60000</td>\n",
       "      <td>Middle-aged Adults</td>\n",
       "    </tr>\n",
       "    <tr>\n",
       "      <th>9</th>\n",
       "      <td>42</td>\n",
       "      <td>65000</td>\n",
       "      <td>Older Adults</td>\n",
       "    </tr>\n",
       "  </tbody>\n",
       "</table>\n",
       "</div>"
      ],
      "text/plain": [
       "   Age  Income        Age_Category\n",
       "0   25   50000        Young Adults\n",
       "1   32   60000  Middle-aged Adults\n",
       "2   40   45000        Older Adults\n",
       "3   18   55000                 NaN\n",
       "4   50   70000             Seniors\n",
       "5   60   80000            senior +\n",
       "6   22   48000        Young Adults\n",
       "7   35   55000  Middle-aged Adults\n",
       "8   28   60000  Middle-aged Adults\n",
       "9   42   65000        Older Adults"
      ]
     },
     "execution_count": 108,
     "metadata": {},
     "output_type": "execute_result"
    }
   ],
   "source": [
    "data"
   ]
  },
  {
   "cell_type": "code",
   "execution_count": 109,
   "id": "400f53ce",
   "metadata": {},
   "outputs": [
    {
     "name": "stdout",
     "output_type": "stream",
     "text": [
      "weight_categories  under_wgt  normal_wgt  over_wgt  obese\n",
      "Gender                                                   \n",
      "M                         20         571       174      3\n",
      "W                         65         274         9      0\n"
     ]
    }
   ],
   "source": [
    "cross_tab_W_G = pd.crosstab(players1[\"Gender\"], players1[\"weight_categories\"])\n",
    "print(cross_tab_W_G)"
   ]
  },
  {
   "cell_type": "code",
   "execution_count": 110,
   "id": "f74544d1",
   "metadata": {},
   "outputs": [
    {
     "name": "stdout",
     "output_type": "stream",
     "text": [
      "Chi-square statistic:  142.03612203155754\n",
      "P-value:  1.3753506275913863e-30\n",
      "Degrees of freedom:  3\n",
      "Expected frequencies:  [[ 58.49462366 581.50537634 125.93548387   2.06451613]\n",
      " [ 26.50537634 263.49462366  57.06451613   0.93548387]]\n"
     ]
    }
   ],
   "source": [
    "# Perform chi-square test\n",
    "stat, p, dof, expected = chi2_contingency(cross_tab_W_G)\n",
    "print(\"Chi-square statistic: \", stat)\n",
    "print(\"P-value: \", p)\n",
    "print(\"Degrees of freedom: \", dof)\n",
    "print(\"Expected frequencies: \", expected)"
   ]
  },
  {
   "cell_type": "code",
   "execution_count": null,
   "id": "d71bea92",
   "metadata": {},
   "outputs": [],
   "source": [
    "P-value > 0.05 ==> non significant, there is no relation, accepting the null hypothesis "
   ]
  }
 ],
 "metadata": {
  "kernelspec": {
   "display_name": "Python 3 (ipykernel)",
   "language": "python",
   "name": "python3"
  },
  "language_info": {
   "codemirror_mode": {
    "name": "ipython",
    "version": 3
   },
   "file_extension": ".py",
   "mimetype": "text/x-python",
   "name": "python",
   "nbconvert_exporter": "python",
   "pygments_lexer": "ipython3",
   "version": "3.11.2"
  }
 },
 "nbformat": 4,
 "nbformat_minor": 5
}
