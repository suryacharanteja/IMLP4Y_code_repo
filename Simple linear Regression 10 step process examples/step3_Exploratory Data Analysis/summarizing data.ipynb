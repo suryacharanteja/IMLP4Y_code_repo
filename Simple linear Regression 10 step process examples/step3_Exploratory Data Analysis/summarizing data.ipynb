{
 "cells": [
  {
   "cell_type": "markdown",
   "id": "bd9575b0",
   "metadata": {},
   "source": [
    "# 1. measures of central tendency"
   ]
  },
  {
   "cell_type": "markdown",
   "id": "4eab7d30",
   "metadata": {},
   "source": [
    "### 1.1 Mean"
   ]
  },
  {
   "cell_type": "code",
   "execution_count": 1,
   "id": "c0e68077",
   "metadata": {},
   "outputs": [],
   "source": [
    "import pandas as pd"
   ]
  },
  {
   "cell_type": "code",
   "execution_count": 3,
   "id": "ff258ce9",
   "metadata": {},
   "outputs": [],
   "source": [
    "dfm = pd.DataFrame({'Scores': [68, 72, 83, 75, 90, 85, 77, 78, 89, 92,\n",
    "                               76, 81, 84, 87, 88, 95, 96, 99, 100, 72,\n",
    "                               68, 76, 82, 79, 74, 87, 91, 93, 97, 98]})"
   ]
  },
  {
   "cell_type": "code",
   "execution_count": 4,
   "id": "bd1c2ab2",
   "metadata": {},
   "outputs": [
    {
     "name": "stdout",
     "output_type": "stream",
     "text": [
      "    Scores\n",
      "0       68\n",
      "1       72\n",
      "2       83\n",
      "3       75\n",
      "4       90\n",
      "5       85\n",
      "6       77\n",
      "7       78\n",
      "8       89\n",
      "9       92\n",
      "10      76\n",
      "11      81\n",
      "12      84\n",
      "13      87\n",
      "14      88\n",
      "15      95\n",
      "16      96\n",
      "17      99\n",
      "18     100\n",
      "19      72\n",
      "20      68\n",
      "21      76\n",
      "22      82\n",
      "23      79\n",
      "24      74\n",
      "25      87\n",
      "26      91\n",
      "27      93\n",
      "28      97\n",
      "29      98\n"
     ]
    }
   ],
   "source": [
    "print(dfm)"
   ]
  },
  {
   "cell_type": "code",
   "execution_count": 6,
   "id": "b6c40091",
   "metadata": {},
   "outputs": [
    {
     "name": "stdout",
     "output_type": "stream",
     "text": [
      "mean: 84.4\n"
     ]
    }
   ],
   "source": [
    "# calculate the mean\n",
    "mean = dfm['Scores'].mean()\n",
    "print(\"mean:\", mean)"
   ]
  },
  {
   "cell_type": "code",
   "execution_count": 7,
   "id": "b645bc6e",
   "metadata": {},
   "outputs": [],
   "source": [
    "players = pd.read_csv(\"./Soccer_players_data1.csv\")"
   ]
  },
  {
   "cell_type": "code",
   "execution_count": 8,
   "id": "71860c55",
   "metadata": {},
   "outputs": [
    {
     "data": {
      "text/html": [
       "<div>\n",
       "<style scoped>\n",
       "    .dataframe tbody tr th:only-of-type {\n",
       "        vertical-align: middle;\n",
       "    }\n",
       "\n",
       "    .dataframe tbody tr th {\n",
       "        vertical-align: top;\n",
       "    }\n",
       "\n",
       "    .dataframe thead th {\n",
       "        text-align: right;\n",
       "    }\n",
       "</style>\n",
       "<table border=\"1\" class=\"dataframe\">\n",
       "  <thead>\n",
       "    <tr style=\"text-align: right;\">\n",
       "      <th></th>\n",
       "      <th>Second name</th>\n",
       "      <th>First name</th>\n",
       "      <th>Gender</th>\n",
       "      <th>Height(cm)</th>\n",
       "      <th>Weight(kg)</th>\n",
       "      <th>Country/Team</th>\n",
       "    </tr>\n",
       "  </thead>\n",
       "  <tbody>\n",
       "    <tr>\n",
       "      <th>0</th>\n",
       "      <td>Abbadi</td>\n",
       "      <td>Ilyas</td>\n",
       "      <td>M</td>\n",
       "      <td>170</td>\n",
       "      <td>69</td>\n",
       "      <td>Algeria</td>\n",
       "    </tr>\n",
       "    <tr>\n",
       "      <th>1</th>\n",
       "      <td>Abbate</td>\n",
       "      <td>Simona</td>\n",
       "      <td>W</td>\n",
       "      <td>171</td>\n",
       "      <td>64</td>\n",
       "      <td>Italy</td>\n",
       "    </tr>\n",
       "    <tr>\n",
       "      <th>2</th>\n",
       "      <td>Abdelaal</td>\n",
       "      <td>Hesham</td>\n",
       "      <td>M</td>\n",
       "      <td>167</td>\n",
       "      <td>52</td>\n",
       "      <td>Egypt</td>\n",
       "    </tr>\n",
       "    <tr>\n",
       "      <th>3</th>\n",
       "      <td>Abdulrahman</td>\n",
       "      <td>Amer</td>\n",
       "      <td>M</td>\n",
       "      <td>168</td>\n",
       "      <td>68</td>\n",
       "      <td>United Arab Emirates</td>\n",
       "    </tr>\n",
       "    <tr>\n",
       "      <th>4</th>\n",
       "      <td>Abian</td>\n",
       "      <td>Pablo</td>\n",
       "      <td>M</td>\n",
       "      <td>177</td>\n",
       "      <td>78</td>\n",
       "      <td>Spain</td>\n",
       "    </tr>\n",
       "    <tr>\n",
       "      <th>...</th>\n",
       "      <td>...</td>\n",
       "      <td>...</td>\n",
       "      <td>...</td>\n",
       "      <td>...</td>\n",
       "      <td>...</td>\n",
       "      <td>...</td>\n",
       "    </tr>\n",
       "    <tr>\n",
       "      <th>1582</th>\n",
       "      <td>Zhou</td>\n",
       "      <td>Peng</td>\n",
       "      <td>M</td>\n",
       "      <td>183</td>\n",
       "      <td>88</td>\n",
       "      <td>China</td>\n",
       "    </tr>\n",
       "    <tr>\n",
       "      <th>1583</th>\n",
       "      <td>Zlokovic</td>\n",
       "      <td>Boris</td>\n",
       "      <td>M</td>\n",
       "      <td>197</td>\n",
       "      <td>100</td>\n",
       "      <td>Montenegro</td>\n",
       "    </tr>\n",
       "    <tr>\n",
       "      <th>1584</th>\n",
       "      <td>Zolnir</td>\n",
       "      <td>Urska</td>\n",
       "      <td>W</td>\n",
       "      <td>173</td>\n",
       "      <td>63</td>\n",
       "      <td>Slovenia</td>\n",
       "    </tr>\n",
       "    <tr>\n",
       "      <th>1585</th>\n",
       "      <td>Zoric</td>\n",
       "      <td>Milenko</td>\n",
       "      <td>M</td>\n",
       "      <td>179</td>\n",
       "      <td>73</td>\n",
       "      <td>Serbia</td>\n",
       "    </tr>\n",
       "    <tr>\n",
       "      <th>1586</th>\n",
       "      <td>Zugaj</td>\n",
       "      <td>Nenad</td>\n",
       "      <td>M</td>\n",
       "      <td>177</td>\n",
       "      <td>84</td>\n",
       "      <td>Croatia</td>\n",
       "    </tr>\n",
       "  </tbody>\n",
       "</table>\n",
       "<p>1587 rows × 6 columns</p>\n",
       "</div>"
      ],
      "text/plain": [
       "      Second name First name Gender  Height(cm)  Weight(kg)  \\\n",
       "0          Abbadi     Ilyas       M         170          69   \n",
       "1          Abbate    Simona       W         171          64   \n",
       "2        Abdelaal    Hesham       M         167          52   \n",
       "3     Abdulrahman      Amer       M         168          68   \n",
       "4           Abian     Pablo       M         177          78   \n",
       "...           ...        ...    ...         ...         ...   \n",
       "1582         Zhou      Peng       M         183          88   \n",
       "1583     Zlokovic     Boris       M         197         100   \n",
       "1584       Zolnir     Urska       W         173          63   \n",
       "1585        Zoric   Milenko       M         179          73   \n",
       "1586        Zugaj     Nenad       M         177          84   \n",
       "\n",
       "              Country/Team  \n",
       "0                  Algeria  \n",
       "1                    Italy  \n",
       "2                    Egypt  \n",
       "3     United Arab Emirates  \n",
       "4                    Spain  \n",
       "...                    ...  \n",
       "1582                 China  \n",
       "1583            Montenegro  \n",
       "1584              Slovenia  \n",
       "1585                Serbia  \n",
       "1586               Croatia  \n",
       "\n",
       "[1587 rows x 6 columns]"
      ]
     },
     "execution_count": 8,
     "metadata": {},
     "output_type": "execute_result"
    }
   ],
   "source": [
    "players"
   ]
  },
  {
   "cell_type": "markdown",
   "id": "31f01974",
   "metadata": {},
   "source": [
    "##### 1. average weight of the soccer players"
   ]
  },
  {
   "cell_type": "code",
   "execution_count": 9,
   "id": "ed47252c",
   "metadata": {},
   "outputs": [
    {
     "data": {
      "text/plain": [
       "72.65343415248897"
      ]
     },
     "execution_count": 9,
     "metadata": {},
     "output_type": "execute_result"
    }
   ],
   "source": [
    "players[\"Weight(kg)\"].mean()"
   ]
  },
  {
   "cell_type": "markdown",
   "id": "6694d326",
   "metadata": {},
   "source": [
    "##### 2. average Height of the soccer players"
   ]
  },
  {
   "cell_type": "code",
   "execution_count": 11,
   "id": "54d2d48e",
   "metadata": {},
   "outputs": [
    {
     "data": {
      "text/plain": [
       "177.4511657214871"
      ]
     },
     "execution_count": 11,
     "metadata": {},
     "output_type": "execute_result"
    }
   ],
   "source": [
    "players[\"Height(cm)\"].mean()"
   ]
  },
  {
   "cell_type": "code",
   "execution_count": 12,
   "id": "b56404df",
   "metadata": {},
   "outputs": [],
   "source": [
    "sales = pd.read_csv(\"./unit _sales_data.csv\")"
   ]
  },
  {
   "cell_type": "code",
   "execution_count": 13,
   "id": "7f631aee",
   "metadata": {},
   "outputs": [
    {
     "data": {
      "text/html": [
       "<div>\n",
       "<style scoped>\n",
       "    .dataframe tbody tr th:only-of-type {\n",
       "        vertical-align: middle;\n",
       "    }\n",
       "\n",
       "    .dataframe tbody tr th {\n",
       "        vertical-align: top;\n",
       "    }\n",
       "\n",
       "    .dataframe thead th {\n",
       "        text-align: right;\n",
       "    }\n",
       "</style>\n",
       "<table border=\"1\" class=\"dataframe\">\n",
       "  <thead>\n",
       "    <tr style=\"text-align: right;\">\n",
       "      <th></th>\n",
       "      <th>Month</th>\n",
       "      <th>Unit Sales</th>\n",
       "      <th>Price ($)</th>\n",
       "      <th>Adexp ('000$)</th>\n",
       "      <th>Promexp ('000$)</th>\n",
       "    </tr>\n",
       "  </thead>\n",
       "  <tbody>\n",
       "    <tr>\n",
       "      <th>0</th>\n",
       "      <td>1.0</td>\n",
       "      <td>73959.0</td>\n",
       "      <td>8.75</td>\n",
       "      <td>50.04</td>\n",
       "      <td>61.13</td>\n",
       "    </tr>\n",
       "    <tr>\n",
       "      <th>1</th>\n",
       "      <td>2.0</td>\n",
       "      <td>71544.0</td>\n",
       "      <td>8.99</td>\n",
       "      <td>50.74</td>\n",
       "      <td>60.19</td>\n",
       "    </tr>\n",
       "    <tr>\n",
       "      <th>2</th>\n",
       "      <td>3.0</td>\n",
       "      <td>78587.0</td>\n",
       "      <td>7.50</td>\n",
       "      <td>50.14</td>\n",
       "      <td>59.16</td>\n",
       "    </tr>\n",
       "    <tr>\n",
       "      <th>3</th>\n",
       "      <td>4.0</td>\n",
       "      <td>80364.0</td>\n",
       "      <td>7.25</td>\n",
       "      <td>50.27</td>\n",
       "      <td>60.38</td>\n",
       "    </tr>\n",
       "    <tr>\n",
       "      <th>4</th>\n",
       "      <td>5.0</td>\n",
       "      <td>78771.0</td>\n",
       "      <td>7.40</td>\n",
       "      <td>51.25</td>\n",
       "      <td>59.71</td>\n",
       "    </tr>\n",
       "    <tr>\n",
       "      <th>5</th>\n",
       "      <td>6.0</td>\n",
       "      <td>71986.0</td>\n",
       "      <td>8.50</td>\n",
       "      <td>50.65</td>\n",
       "      <td>59.88</td>\n",
       "    </tr>\n",
       "    <tr>\n",
       "      <th>6</th>\n",
       "      <td>7.0</td>\n",
       "      <td>74885.0</td>\n",
       "      <td>8.40</td>\n",
       "      <td>50.87</td>\n",
       "      <td>60.14</td>\n",
       "    </tr>\n",
       "    <tr>\n",
       "      <th>7</th>\n",
       "      <td>8.0</td>\n",
       "      <td>73345.0</td>\n",
       "      <td>7.90</td>\n",
       "      <td>50.15</td>\n",
       "      <td>60.08</td>\n",
       "    </tr>\n",
       "    <tr>\n",
       "      <th>8</th>\n",
       "      <td>9.0</td>\n",
       "      <td>76659.0</td>\n",
       "      <td>7.25</td>\n",
       "      <td>48.24</td>\n",
       "      <td>59.90</td>\n",
       "    </tr>\n",
       "    <tr>\n",
       "      <th>9</th>\n",
       "      <td>10.0</td>\n",
       "      <td>71880.0</td>\n",
       "      <td>8.70</td>\n",
       "      <td>50.19</td>\n",
       "      <td>59.68</td>\n",
       "    </tr>\n",
       "    <tr>\n",
       "      <th>10</th>\n",
       "      <td>11.0</td>\n",
       "      <td>73598.0</td>\n",
       "      <td>8.40</td>\n",
       "      <td>51.11</td>\n",
       "      <td>59.83</td>\n",
       "    </tr>\n",
       "    <tr>\n",
       "      <th>11</th>\n",
       "      <td>12.0</td>\n",
       "      <td>74893.0</td>\n",
       "      <td>8.10</td>\n",
       "      <td>51.49</td>\n",
       "      <td>59.77</td>\n",
       "    </tr>\n",
       "    <tr>\n",
       "      <th>12</th>\n",
       "      <td>13.0</td>\n",
       "      <td>69003.0</td>\n",
       "      <td>8.40</td>\n",
       "      <td>50.10</td>\n",
       "      <td>59.29</td>\n",
       "    </tr>\n",
       "    <tr>\n",
       "      <th>13</th>\n",
       "      <td>14.0</td>\n",
       "      <td>78542.0</td>\n",
       "      <td>7.40</td>\n",
       "      <td>49.24</td>\n",
       "      <td>60.40</td>\n",
       "    </tr>\n",
       "    <tr>\n",
       "      <th>14</th>\n",
       "      <td>15.0</td>\n",
       "      <td>72543.0</td>\n",
       "      <td>8.00</td>\n",
       "      <td>50.04</td>\n",
       "      <td>59.89</td>\n",
       "    </tr>\n",
       "    <tr>\n",
       "      <th>15</th>\n",
       "      <td>16.0</td>\n",
       "      <td>74247.0</td>\n",
       "      <td>8.30</td>\n",
       "      <td>49.46</td>\n",
       "      <td>60.06</td>\n",
       "    </tr>\n",
       "    <tr>\n",
       "      <th>16</th>\n",
       "      <td>17.0</td>\n",
       "      <td>76253.0</td>\n",
       "      <td>8.10</td>\n",
       "      <td>51.62</td>\n",
       "      <td>60.51</td>\n",
       "    </tr>\n",
       "    <tr>\n",
       "      <th>17</th>\n",
       "      <td>18.0</td>\n",
       "      <td>72582.0</td>\n",
       "      <td>8.20</td>\n",
       "      <td>49.78</td>\n",
       "      <td>58.93</td>\n",
       "    </tr>\n",
       "    <tr>\n",
       "      <th>18</th>\n",
       "      <td>19.0</td>\n",
       "      <td>69022.0</td>\n",
       "      <td>8.99</td>\n",
       "      <td>48.60</td>\n",
       "      <td>60.09</td>\n",
       "    </tr>\n",
       "    <tr>\n",
       "      <th>19</th>\n",
       "      <td>20.0</td>\n",
       "      <td>76200.0</td>\n",
       "      <td>7.99</td>\n",
       "      <td>49.00</td>\n",
       "      <td>61.00</td>\n",
       "    </tr>\n",
       "    <tr>\n",
       "      <th>20</th>\n",
       "      <td>21.0</td>\n",
       "      <td>69701.0</td>\n",
       "      <td>8.50</td>\n",
       "      <td>48.00</td>\n",
       "      <td>59.00</td>\n",
       "    </tr>\n",
       "    <tr>\n",
       "      <th>21</th>\n",
       "      <td>22.0</td>\n",
       "      <td>77005.0</td>\n",
       "      <td>7.90</td>\n",
       "      <td>54.00</td>\n",
       "      <td>59.50</td>\n",
       "    </tr>\n",
       "    <tr>\n",
       "      <th>22</th>\n",
       "      <td>23.0</td>\n",
       "      <td>70987.0</td>\n",
       "      <td>7.99</td>\n",
       "      <td>48.70</td>\n",
       "      <td>58.00</td>\n",
       "    </tr>\n",
       "    <tr>\n",
       "      <th>23</th>\n",
       "      <td>24.0</td>\n",
       "      <td>75643.0</td>\n",
       "      <td>8.25</td>\n",
       "      <td>50.00</td>\n",
       "      <td>60.50</td>\n",
       "    </tr>\n",
       "    <tr>\n",
       "      <th>24</th>\n",
       "      <td>NaN</td>\n",
       "      <td>NaN</td>\n",
       "      <td>NaN</td>\n",
       "      <td>NaN</td>\n",
       "      <td>NaN</td>\n",
       "    </tr>\n",
       "    <tr>\n",
       "      <th>25</th>\n",
       "      <td>NaN</td>\n",
       "      <td>NaN</td>\n",
       "      <td>NaN</td>\n",
       "      <td>NaN</td>\n",
       "      <td>NaN</td>\n",
       "    </tr>\n",
       "    <tr>\n",
       "      <th>26</th>\n",
       "      <td>NaN</td>\n",
       "      <td>NaN</td>\n",
       "      <td>NaN</td>\n",
       "      <td>NaN</td>\n",
       "      <td>NaN</td>\n",
       "    </tr>\n",
       "    <tr>\n",
       "      <th>27</th>\n",
       "      <td>NaN</td>\n",
       "      <td>NaN</td>\n",
       "      <td>NaN</td>\n",
       "      <td>NaN</td>\n",
       "      <td>NaN</td>\n",
       "    </tr>\n",
       "  </tbody>\n",
       "</table>\n",
       "</div>"
      ],
      "text/plain": [
       "    Month  Unit Sales  Price ($)  Adexp ('000$)  Promexp ('000$)\n",
       "0     1.0     73959.0       8.75          50.04            61.13\n",
       "1     2.0     71544.0       8.99          50.74            60.19\n",
       "2     3.0     78587.0       7.50          50.14            59.16\n",
       "3     4.0     80364.0       7.25          50.27            60.38\n",
       "4     5.0     78771.0       7.40          51.25            59.71\n",
       "5     6.0     71986.0       8.50          50.65            59.88\n",
       "6     7.0     74885.0       8.40          50.87            60.14\n",
       "7     8.0     73345.0       7.90          50.15            60.08\n",
       "8     9.0     76659.0       7.25          48.24            59.90\n",
       "9    10.0     71880.0       8.70          50.19            59.68\n",
       "10   11.0     73598.0       8.40          51.11            59.83\n",
       "11   12.0     74893.0       8.10          51.49            59.77\n",
       "12   13.0     69003.0       8.40          50.10            59.29\n",
       "13   14.0     78542.0       7.40          49.24            60.40\n",
       "14   15.0     72543.0       8.00          50.04            59.89\n",
       "15   16.0     74247.0       8.30          49.46            60.06\n",
       "16   17.0     76253.0       8.10          51.62            60.51\n",
       "17   18.0     72582.0       8.20          49.78            58.93\n",
       "18   19.0     69022.0       8.99          48.60            60.09\n",
       "19   20.0     76200.0       7.99          49.00            61.00\n",
       "20   21.0     69701.0       8.50          48.00            59.00\n",
       "21   22.0     77005.0       7.90          54.00            59.50\n",
       "22   23.0     70987.0       7.99          48.70            58.00\n",
       "23   24.0     75643.0       8.25          50.00            60.50\n",
       "24    NaN         NaN        NaN            NaN              NaN\n",
       "25    NaN         NaN        NaN            NaN              NaN\n",
       "26    NaN         NaN        NaN            NaN              NaN\n",
       "27    NaN         NaN        NaN            NaN              NaN"
      ]
     },
     "execution_count": 13,
     "metadata": {},
     "output_type": "execute_result"
    }
   ],
   "source": [
    "sales"
   ]
  },
  {
   "cell_type": "markdown",
   "id": "b57f038e",
   "metadata": {},
   "source": [
    "##### 1. what is the average money that is spent on ADs\n"
   ]
  },
  {
   "cell_type": "code",
   "execution_count": 14,
   "id": "81f780ac",
   "metadata": {},
   "outputs": [
    {
     "data": {
      "text/plain": [
       "50.153333333333336"
      ]
     },
     "execution_count": 14,
     "metadata": {},
     "output_type": "execute_result"
    }
   ],
   "source": [
    "sales[\"Adexp (\\'000$)\"].mean()"
   ]
  },
  {
   "cell_type": "markdown",
   "id": "a73dc545",
   "metadata": {},
   "source": [
    "##### 2. what is the average dollar that is spent on promotion"
   ]
  },
  {
   "cell_type": "code",
   "execution_count": 15,
   "id": "e7a90345",
   "metadata": {},
   "outputs": [
    {
     "data": {
      "text/plain": [
       "59.87583333333333"
      ]
     },
     "execution_count": 15,
     "metadata": {},
     "output_type": "execute_result"
    }
   ],
   "source": [
    "sales[\"Promexp (\\'000$)\"].mean()"
   ]
  },
  {
   "cell_type": "code",
   "execution_count": 16,
   "id": "ab2e4057",
   "metadata": {},
   "outputs": [],
   "source": [
    "customers = pd.read_csv(\"./customers_buying_pattern.csv\")"
   ]
  },
  {
   "cell_type": "code",
   "execution_count": 17,
   "id": "0fc96d00",
   "metadata": {},
   "outputs": [
    {
     "data": {
      "text/html": [
       "<div>\n",
       "<style scoped>\n",
       "    .dataframe tbody tr th:only-of-type {\n",
       "        vertical-align: middle;\n",
       "    }\n",
       "\n",
       "    .dataframe tbody tr th {\n",
       "        vertical-align: top;\n",
       "    }\n",
       "\n",
       "    .dataframe thead th {\n",
       "        text-align: right;\n",
       "    }\n",
       "</style>\n",
       "<table border=\"1\" class=\"dataframe\">\n",
       "  <thead>\n",
       "    <tr style=\"text-align: right;\">\n",
       "      <th></th>\n",
       "      <th>Channel</th>\n",
       "      <th>Region</th>\n",
       "      <th>Fresh Juices</th>\n",
       "      <th>Milk</th>\n",
       "      <th>Grocery</th>\n",
       "      <th>Frozen chicken</th>\n",
       "      <th>Detergents_Paper</th>\n",
       "      <th>Delicatessen</th>\n",
       "    </tr>\n",
       "  </thead>\n",
       "  <tbody>\n",
       "    <tr>\n",
       "      <th>0</th>\n",
       "      <td>2</td>\n",
       "      <td>3</td>\n",
       "      <td>12669</td>\n",
       "      <td>9656</td>\n",
       "      <td>7561</td>\n",
       "      <td>214</td>\n",
       "      <td>2674</td>\n",
       "      <td>1338</td>\n",
       "    </tr>\n",
       "    <tr>\n",
       "      <th>1</th>\n",
       "      <td>2</td>\n",
       "      <td>3</td>\n",
       "      <td>7057</td>\n",
       "      <td>9810</td>\n",
       "      <td>9568</td>\n",
       "      <td>1762</td>\n",
       "      <td>3293</td>\n",
       "      <td>1776</td>\n",
       "    </tr>\n",
       "    <tr>\n",
       "      <th>2</th>\n",
       "      <td>2</td>\n",
       "      <td>3</td>\n",
       "      <td>6353</td>\n",
       "      <td>8808</td>\n",
       "      <td>7684</td>\n",
       "      <td>2405</td>\n",
       "      <td>3516</td>\n",
       "      <td>7844</td>\n",
       "    </tr>\n",
       "    <tr>\n",
       "      <th>3</th>\n",
       "      <td>1</td>\n",
       "      <td>3</td>\n",
       "      <td>13265</td>\n",
       "      <td>1196</td>\n",
       "      <td>4221</td>\n",
       "      <td>6404</td>\n",
       "      <td>507</td>\n",
       "      <td>1788</td>\n",
       "    </tr>\n",
       "    <tr>\n",
       "      <th>4</th>\n",
       "      <td>2</td>\n",
       "      <td>3</td>\n",
       "      <td>22615</td>\n",
       "      <td>5410</td>\n",
       "      <td>7198</td>\n",
       "      <td>3915</td>\n",
       "      <td>1777</td>\n",
       "      <td>5185</td>\n",
       "    </tr>\n",
       "    <tr>\n",
       "      <th>...</th>\n",
       "      <td>...</td>\n",
       "      <td>...</td>\n",
       "      <td>...</td>\n",
       "      <td>...</td>\n",
       "      <td>...</td>\n",
       "      <td>...</td>\n",
       "      <td>...</td>\n",
       "      <td>...</td>\n",
       "    </tr>\n",
       "    <tr>\n",
       "      <th>435</th>\n",
       "      <td>1</td>\n",
       "      <td>3</td>\n",
       "      <td>29703</td>\n",
       "      <td>12051</td>\n",
       "      <td>16027</td>\n",
       "      <td>13135</td>\n",
       "      <td>182</td>\n",
       "      <td>2204</td>\n",
       "    </tr>\n",
       "    <tr>\n",
       "      <th>436</th>\n",
       "      <td>1</td>\n",
       "      <td>3</td>\n",
       "      <td>39228</td>\n",
       "      <td>1431</td>\n",
       "      <td>764</td>\n",
       "      <td>4510</td>\n",
       "      <td>93</td>\n",
       "      <td>2346</td>\n",
       "    </tr>\n",
       "    <tr>\n",
       "      <th>437</th>\n",
       "      <td>2</td>\n",
       "      <td>3</td>\n",
       "      <td>14531</td>\n",
       "      <td>15488</td>\n",
       "      <td>30243</td>\n",
       "      <td>437</td>\n",
       "      <td>14841</td>\n",
       "      <td>1867</td>\n",
       "    </tr>\n",
       "    <tr>\n",
       "      <th>438</th>\n",
       "      <td>1</td>\n",
       "      <td>3</td>\n",
       "      <td>10290</td>\n",
       "      <td>1981</td>\n",
       "      <td>2232</td>\n",
       "      <td>1038</td>\n",
       "      <td>168</td>\n",
       "      <td>2125</td>\n",
       "    </tr>\n",
       "    <tr>\n",
       "      <th>439</th>\n",
       "      <td>1</td>\n",
       "      <td>3</td>\n",
       "      <td>2787</td>\n",
       "      <td>1698</td>\n",
       "      <td>2510</td>\n",
       "      <td>65</td>\n",
       "      <td>477</td>\n",
       "      <td>52</td>\n",
       "    </tr>\n",
       "  </tbody>\n",
       "</table>\n",
       "<p>440 rows × 8 columns</p>\n",
       "</div>"
      ],
      "text/plain": [
       "     Channel  Region  Fresh Juices   Milk  Grocery  Frozen chicken  \\\n",
       "0          2       3         12669   9656     7561             214   \n",
       "1          2       3          7057   9810     9568            1762   \n",
       "2          2       3          6353   8808     7684            2405   \n",
       "3          1       3         13265   1196     4221            6404   \n",
       "4          2       3         22615   5410     7198            3915   \n",
       "..       ...     ...           ...    ...      ...             ...   \n",
       "435        1       3         29703  12051    16027           13135   \n",
       "436        1       3         39228   1431      764            4510   \n",
       "437        2       3         14531  15488    30243             437   \n",
       "438        1       3         10290   1981     2232            1038   \n",
       "439        1       3          2787   1698     2510              65   \n",
       "\n",
       "     Detergents_Paper  Delicatessen  \n",
       "0                2674          1338  \n",
       "1                3293          1776  \n",
       "2                3516          7844  \n",
       "3                 507          1788  \n",
       "4                1777          5185  \n",
       "..                ...           ...  \n",
       "435               182          2204  \n",
       "436                93          2346  \n",
       "437             14841          1867  \n",
       "438               168          2125  \n",
       "439               477            52  \n",
       "\n",
       "[440 rows x 8 columns]"
      ]
     },
     "execution_count": 17,
     "metadata": {},
     "output_type": "execute_result"
    }
   ],
   "source": [
    "customers"
   ]
  },
  {
   "cell_type": "code",
   "execution_count": 19,
   "id": "ad86adff",
   "metadata": {},
   "outputs": [
    {
     "data": {
      "text/plain": [
       "Index(['Channel', 'Region', 'Fresh Juices', 'Milk', 'Grocery',\n",
       "       'Frozen chicken', 'Detergents_Paper', 'Delicatessen'],\n",
       "      dtype='object')"
      ]
     },
     "execution_count": 19,
     "metadata": {},
     "output_type": "execute_result"
    }
   ],
   "source": [
    "customers.columns"
   ]
  },
  {
   "cell_type": "markdown",
   "id": "5626834e",
   "metadata": {},
   "source": [
    "##### 1. what is the average Fresh juices were sold in litres"
   ]
  },
  {
   "cell_type": "code",
   "execution_count": 20,
   "id": "70c7e167",
   "metadata": {},
   "outputs": [
    {
     "data": {
      "text/plain": [
       "12000.297727272728"
      ]
     },
     "execution_count": 20,
     "metadata": {},
     "output_type": "execute_result"
    }
   ],
   "source": [
    "customers[\"Fresh Juices\"].mean()"
   ]
  },
  {
   "cell_type": "markdown",
   "id": "d9852f5c",
   "metadata": {},
   "source": [
    "##### 2. on an average , how much of the Milk were sold in liters?"
   ]
  },
  {
   "cell_type": "code",
   "execution_count": 21,
   "id": "18f89cf6",
   "metadata": {},
   "outputs": [
    {
     "data": {
      "text/plain": [
       "5796.265909090909"
      ]
     },
     "execution_count": 21,
     "metadata": {},
     "output_type": "execute_result"
    }
   ],
   "source": [
    "customers[\"Milk\"].mean()"
   ]
  },
  {
   "cell_type": "markdown",
   "id": "35eb6ead",
   "metadata": {},
   "source": [
    "##### 3. on an average, how much of the Frozen chicken was sold in kg's?"
   ]
  },
  {
   "cell_type": "code",
   "execution_count": 22,
   "id": "da7132c6",
   "metadata": {},
   "outputs": [
    {
     "data": {
      "text/plain": [
       "3071.931818181818"
      ]
     },
     "execution_count": 22,
     "metadata": {},
     "output_type": "execute_result"
    }
   ],
   "source": [
    "customers[\"Frozen chicken\"].mean()"
   ]
  },
  {
   "cell_type": "code",
   "execution_count": 23,
   "id": "9ee0d088",
   "metadata": {},
   "outputs": [
    {
     "data": {
      "text/plain": [
       "2881.4931818181817"
      ]
     },
     "execution_count": 23,
     "metadata": {},
     "output_type": "execute_result"
    }
   ],
   "source": [
    "customers[\"Detergents_Paper\"].meann()"
   ]
  },
  {
   "cell_type": "markdown",
   "id": "b23a8de0",
   "metadata": {},
   "source": [
    "### 1.2 Median"
   ]
  },
  {
   "cell_type": "code",
   "execution_count": 26,
   "id": "1d14b7f4",
   "metadata": {},
   "outputs": [],
   "source": [
    "dfmed = pd.DataFrame({'Scores': [68, 72, 83, 75, 90, 85, 77, 78, 89, 92,\n",
    "                               76, 81, 84, 87, 88, 95, 96, 99, 100, 72,\n",
    "                               68, 76, 82, 79, 74, 87, 91, 93, 97, 98, 94]})"
   ]
  },
  {
   "cell_type": "code",
   "execution_count": 30,
   "id": "9d5b3524",
   "metadata": {},
   "outputs": [
    {
     "data": {
      "text/plain": [
       "(31, 1)"
      ]
     },
     "execution_count": 30,
     "metadata": {},
     "output_type": "execute_result"
    }
   ],
   "source": [
    "dfmed.shape"
   ]
  },
  {
   "cell_type": "code",
   "execution_count": 36,
   "id": "47ef608f",
   "metadata": {},
   "outputs": [],
   "source": [
    "dfmed_sorted = dfmed[\"Scores\"].sort_values()"
   ]
  },
  {
   "cell_type": "code",
   "execution_count": 37,
   "id": "9ac7819f",
   "metadata": {},
   "outputs": [
    {
     "data": {
      "text/plain": [
       "0      68\n",
       "20     68\n",
       "1      72\n",
       "19     72\n",
       "24     74\n",
       "3      75\n",
       "21     76\n",
       "10     76\n",
       "6      77\n",
       "7      78\n",
       "23     79\n",
       "11     81\n",
       "22     82\n",
       "2      83\n",
       "12     84\n",
       "5      85\n",
       "13     87\n",
       "25     87\n",
       "14     88\n",
       "8      89\n",
       "4      90\n",
       "26     91\n",
       "9      92\n",
       "27     93\n",
       "30     94\n",
       "15     95\n",
       "16     96\n",
       "28     97\n",
       "29     98\n",
       "17     99\n",
       "18    100\n",
       "Name: Scores, dtype: int64"
      ]
     },
     "execution_count": 37,
     "metadata": {},
     "output_type": "execute_result"
    }
   ],
   "source": [
    "dfmed_sorted"
   ]
  },
  {
   "cell_type": "code",
   "execution_count": 38,
   "id": "a3203d52",
   "metadata": {},
   "outputs": [
    {
     "data": {
      "text/plain": [
       "85.0"
      ]
     },
     "execution_count": 38,
     "metadata": {},
     "output_type": "execute_result"
    }
   ],
   "source": [
    "dfmed_sorted.median()"
   ]
  },
  {
   "cell_type": "code",
   "execution_count": 47,
   "id": "3634a073",
   "metadata": {},
   "outputs": [],
   "source": [
    "dfmed = pd.DataFrame({'Scores': [68, 72, 83, 75, 90, 85, 77, 78, 89, 92,\n",
    "                               76, 81, 84, 87, 88, 95, 96, 99, 100, 72,\n",
    "                               68, 76, 82, 79, 74, 87, 91, 93, 97, 98]})"
   ]
  },
  {
   "cell_type": "code",
   "execution_count": 49,
   "id": "12b66ace",
   "metadata": {},
   "outputs": [],
   "source": [
    "dfmed_sorted = dfmed[\"Scores\"].sort_values()"
   ]
  },
  {
   "cell_type": "code",
   "execution_count": 51,
   "id": "26db6430",
   "metadata": {},
   "outputs": [
    {
     "data": {
      "text/plain": [
       "0      68\n",
       "20     68\n",
       "19     72\n",
       "1      72\n",
       "24     74\n",
       "3      75\n",
       "10     76\n",
       "21     76\n",
       "6      77\n",
       "7      78\n",
       "23     79\n",
       "11     81\n",
       "22     82\n",
       "2      83\n",
       "12     84\n",
       "5      85\n",
       "25     87\n",
       "13     87\n",
       "14     88\n",
       "8      89\n",
       "4      90\n",
       "26     91\n",
       "9      92\n",
       "27     93\n",
       "15     95\n",
       "16     96\n",
       "28     97\n",
       "29     98\n",
       "17     99\n",
       "18    100\n",
       "Name: Scores, dtype: int64"
      ]
     },
     "execution_count": 51,
     "metadata": {},
     "output_type": "execute_result"
    }
   ],
   "source": [
    "dfmed_sorted"
   ]
  },
  {
   "cell_type": "code",
   "execution_count": 50,
   "id": "46c4553e",
   "metadata": {},
   "outputs": [
    {
     "data": {
      "text/plain": [
       "84.5"
      ]
     },
     "execution_count": 50,
     "metadata": {},
     "output_type": "execute_result"
    }
   ],
   "source": [
    "dfmed_sorted.median()"
   ]
  },
  {
   "cell_type": "code",
   "execution_count": 71,
   "id": "60f3ece9",
   "metadata": {},
   "outputs": [
    {
     "data": {
      "text/plain": [
       "0    68\n",
       "1    72\n",
       "2    76\n",
       "3    87\n",
       "Name: Scores, dtype: int64"
      ]
     },
     "execution_count": 71,
     "metadata": {},
     "output_type": "execute_result"
    }
   ],
   "source": [
    "dfmed_sorted.mode()"
   ]
  },
  {
   "cell_type": "code",
   "execution_count": 53,
   "id": "97f0dbaa",
   "metadata": {},
   "outputs": [
    {
     "data": {
      "text/plain": [
       "177.4511657214871"
      ]
     },
     "execution_count": 53,
     "metadata": {},
     "output_type": "execute_result"
    }
   ],
   "source": [
    "players[\"Height(cm)\"].mean()"
   ]
  },
  {
   "cell_type": "code",
   "execution_count": 54,
   "id": "9ee5309c",
   "metadata": {},
   "outputs": [
    {
     "data": {
      "text/plain": [
       "177.0"
      ]
     },
     "execution_count": 54,
     "metadata": {},
     "output_type": "execute_result"
    }
   ],
   "source": [
    "players[\"Height(cm)\"].median()"
   ]
  },
  {
   "cell_type": "code",
   "execution_count": 72,
   "id": "c7ee3d12",
   "metadata": {},
   "outputs": [
    {
     "data": {
      "text/plain": [
       "0    170\n",
       "Name: Height(cm), dtype: int64"
      ]
     },
     "execution_count": 72,
     "metadata": {},
     "output_type": "execute_result"
    }
   ],
   "source": [
    "players[\"Height(cm)\"].mode()"
   ]
  },
  {
   "cell_type": "code",
   "execution_count": 55,
   "id": "93fc3823",
   "metadata": {},
   "outputs": [
    {
     "data": {
      "text/plain": [
       "<Axes: >"
      ]
     },
     "execution_count": 55,
     "metadata": {},
     "output_type": "execute_result"
    },
    {
     "data": {
      "image/png": "[encoded data removed]",
      "text/plain": [
       "<Figure size 640x480 with 1 Axes>"
      ]
     },
     "metadata": {},
     "output_type": "display_data"
    }
   ],
   "source": [
    "players[\"Height(cm)\"].histst()"
   ]
  },
  {
   "cell_type": "code",
   "execution_count": 56,
   "id": "76c190ff",
   "metadata": {},
   "outputs": [
    {
     "data": {
      "text/plain": [
       "<Axes: >"
      ]
     },
     "execution_count": 56,
     "metadata": {},
     "output_type": "execute_result"
    },
    {
     "data": {
      "image/png": "[encoded data removed]",
      "text/plain": [
       "<Figure size 640x480 with 1 Axes>"
      ]
     },
     "metadata": {},
     "output_type": "display_data"
    }
   ],
   "source": [
    "players[\"Weight(kg)\"].hist()"
   ]
  },
  {
   "cell_type": "code",
   "execution_count": 57,
   "id": "282f5335",
   "metadata": {},
   "outputs": [
    {
     "data": {
      "text/plain": [
       "72.65343415248897"
      ]
     },
     "execution_count": 57,
     "metadata": {},
     "output_type": "execute_result"
    }
   ],
   "source": [
    "players[\"Weight(kg)\"].mean()"
   ]
  },
  {
   "cell_type": "code",
   "execution_count": 58,
   "id": "ccdb8e3d",
   "metadata": {},
   "outputs": [
    {
     "data": {
      "text/plain": [
       "70.0"
      ]
     },
     "execution_count": 58,
     "metadata": {},
     "output_type": "execute_result"
    }
   ],
   "source": [
    "players[\"Weight(kg)\"].median()"
   ]
  },
  {
   "cell_type": "code",
   "execution_count": 59,
   "id": "66ac9aca",
   "metadata": {},
   "outputs": [],
   "source": [
    "cs = pd.read_csv(\"./Customers_segmentation.csv\")"
   ]
  },
  {
   "cell_type": "code",
   "execution_count": 60,
   "id": "63aa3e79",
   "metadata": {},
   "outputs": [
    {
     "data": {
      "text/html": [
       "<div>\n",
       "<style scoped>\n",
       "    .dataframe tbody tr th:only-of-type {\n",
       "        vertical-align: middle;\n",
       "    }\n",
       "\n",
       "    .dataframe tbody tr th {\n",
       "        vertical-align: top;\n",
       "    }\n",
       "\n",
       "    .dataframe thead th {\n",
       "        text-align: right;\n",
       "    }\n",
       "</style>\n",
       "<table border=\"1\" class=\"dataframe\">\n",
       "  <thead>\n",
       "    <tr style=\"text-align: right;\">\n",
       "      <th></th>\n",
       "      <th>CustomerID</th>\n",
       "      <th>Gender</th>\n",
       "      <th>Age</th>\n",
       "      <th>Annual Income ($)</th>\n",
       "      <th>Spending Score (1-100)</th>\n",
       "      <th>Profession</th>\n",
       "      <th>Work Experience</th>\n",
       "      <th>Family Size</th>\n",
       "    </tr>\n",
       "  </thead>\n",
       "  <tbody>\n",
       "    <tr>\n",
       "      <th>0</th>\n",
       "      <td>1</td>\n",
       "      <td>Male</td>\n",
       "      <td>19</td>\n",
       "      <td>15000</td>\n",
       "      <td>39</td>\n",
       "      <td>Healthcare</td>\n",
       "      <td>1</td>\n",
       "      <td>4</td>\n",
       "    </tr>\n",
       "    <tr>\n",
       "      <th>1</th>\n",
       "      <td>2</td>\n",
       "      <td>Male</td>\n",
       "      <td>21</td>\n",
       "      <td>35000</td>\n",
       "      <td>81</td>\n",
       "      <td>Engineer</td>\n",
       "      <td>3</td>\n",
       "      <td>3</td>\n",
       "    </tr>\n",
       "    <tr>\n",
       "      <th>2</th>\n",
       "      <td>3</td>\n",
       "      <td>Female</td>\n",
       "      <td>20</td>\n",
       "      <td>86000</td>\n",
       "      <td>6</td>\n",
       "      <td>Engineer</td>\n",
       "      <td>1</td>\n",
       "      <td>1</td>\n",
       "    </tr>\n",
       "    <tr>\n",
       "      <th>3</th>\n",
       "      <td>4</td>\n",
       "      <td>Female</td>\n",
       "      <td>23</td>\n",
       "      <td>59000</td>\n",
       "      <td>77</td>\n",
       "      <td>Lawyer</td>\n",
       "      <td>0</td>\n",
       "      <td>2</td>\n",
       "    </tr>\n",
       "    <tr>\n",
       "      <th>4</th>\n",
       "      <td>5</td>\n",
       "      <td>Female</td>\n",
       "      <td>31</td>\n",
       "      <td>38000</td>\n",
       "      <td>40</td>\n",
       "      <td>Entertainment</td>\n",
       "      <td>2</td>\n",
       "      <td>6</td>\n",
       "    </tr>\n",
       "    <tr>\n",
       "      <th>...</th>\n",
       "      <td>...</td>\n",
       "      <td>...</td>\n",
       "      <td>...</td>\n",
       "      <td>...</td>\n",
       "      <td>...</td>\n",
       "      <td>...</td>\n",
       "      <td>...</td>\n",
       "      <td>...</td>\n",
       "    </tr>\n",
       "    <tr>\n",
       "      <th>1995</th>\n",
       "      <td>1996</td>\n",
       "      <td>Female</td>\n",
       "      <td>71</td>\n",
       "      <td>184387</td>\n",
       "      <td>40</td>\n",
       "      <td>Artist</td>\n",
       "      <td>8</td>\n",
       "      <td>7</td>\n",
       "    </tr>\n",
       "    <tr>\n",
       "      <th>1996</th>\n",
       "      <td>1997</td>\n",
       "      <td>Female</td>\n",
       "      <td>91</td>\n",
       "      <td>73158</td>\n",
       "      <td>32</td>\n",
       "      <td>Doctor</td>\n",
       "      <td>7</td>\n",
       "      <td>7</td>\n",
       "    </tr>\n",
       "    <tr>\n",
       "      <th>1997</th>\n",
       "      <td>1998</td>\n",
       "      <td>Male</td>\n",
       "      <td>87</td>\n",
       "      <td>90961</td>\n",
       "      <td>14</td>\n",
       "      <td>Healthcare</td>\n",
       "      <td>9</td>\n",
       "      <td>2</td>\n",
       "    </tr>\n",
       "    <tr>\n",
       "      <th>1998</th>\n",
       "      <td>1999</td>\n",
       "      <td>Male</td>\n",
       "      <td>77</td>\n",
       "      <td>182109</td>\n",
       "      <td>4</td>\n",
       "      <td>Executive</td>\n",
       "      <td>7</td>\n",
       "      <td>2</td>\n",
       "    </tr>\n",
       "    <tr>\n",
       "      <th>1999</th>\n",
       "      <td>2000</td>\n",
       "      <td>Male</td>\n",
       "      <td>90</td>\n",
       "      <td>110610</td>\n",
       "      <td>52</td>\n",
       "      <td>Entertainment</td>\n",
       "      <td>5</td>\n",
       "      <td>2</td>\n",
       "    </tr>\n",
       "  </tbody>\n",
       "</table>\n",
       "<p>2000 rows × 8 columns</p>\n",
       "</div>"
      ],
      "text/plain": [
       "      CustomerID  Gender  Age  Annual Income ($)  Spending Score (1-100)  \\\n",
       "0              1    Male   19              15000                      39   \n",
       "1              2    Male   21              35000                      81   \n",
       "2              3  Female   20              86000                       6   \n",
       "3              4  Female   23              59000                      77   \n",
       "4              5  Female   31              38000                      40   \n",
       "...          ...     ...  ...                ...                     ...   \n",
       "1995        1996  Female   71             184387                      40   \n",
       "1996        1997  Female   91              73158                      32   \n",
       "1997        1998    Male   87              90961                      14   \n",
       "1998        1999    Male   77             182109                       4   \n",
       "1999        2000    Male   90             110610                      52   \n",
       "\n",
       "         Profession  Work Experience  Family Size  \n",
       "0        Healthcare                1            4  \n",
       "1          Engineer                3            3  \n",
       "2          Engineer                1            1  \n",
       "3            Lawyer                0            2  \n",
       "4     Entertainment                2            6  \n",
       "...             ...              ...          ...  \n",
       "1995         Artist                8            7  \n",
       "1996         Doctor                7            7  \n",
       "1997     Healthcare                9            2  \n",
       "1998      Executive                7            2  \n",
       "1999  Entertainment                5            2  \n",
       "\n",
       "[2000 rows x 8 columns]"
      ]
     },
     "execution_count": 60,
     "metadata": {},
     "output_type": "execute_result"
    }
   ],
   "source": [
    "cs"
   ]
  },
  {
   "cell_type": "code",
   "execution_count": 61,
   "id": "68f5331f",
   "metadata": {},
   "outputs": [
    {
     "data": {
      "text/plain": [
       "<Axes: >"
      ]
     },
     "execution_count": 61,
     "metadata": {},
     "output_type": "execute_result"
    },
    {
     "data": {
      "image/png": "[encoded data removed]",
      "text/plain": [
       "<Figure size 640x480 with 1 Axes>"
      ]
     },
     "metadata": {},
     "output_type": "display_data"
    }
   ],
   "source": [
    "cs[\"Age\"].hist()"
   ]
  },
  {
   "cell_type": "code",
   "execution_count": 62,
   "id": "d7b5c031",
   "metadata": {},
   "outputs": [
    {
     "data": {
      "text/plain": [
       "48.96"
      ]
     },
     "execution_count": 62,
     "metadata": {},
     "output_type": "execute_result"
    }
   ],
   "source": [
    "cs[\"Age\"].mean()"
   ]
  },
  {
   "cell_type": "code",
   "execution_count": 63,
   "id": "e0ff611a",
   "metadata": {},
   "outputs": [
    {
     "data": {
      "text/plain": [
       "48.0"
      ]
     },
     "execution_count": 63,
     "metadata": {},
     "output_type": "execute_result"
    }
   ],
   "source": [
    "cs[\"Age\"].median()"
   ]
  },
  {
   "cell_type": "code",
   "execution_count": 75,
   "id": "0ee05ba9",
   "metadata": {},
   "outputs": [
    {
     "data": {
      "text/plain": [
       "0    31\n",
       "Name: Age, dtype: int64"
      ]
     },
     "execution_count": 75,
     "metadata": {},
     "output_type": "execute_result"
    }
   ],
   "source": [
    "cs[\"Age\"].mode()"
   ]
  },
  {
   "cell_type": "code",
   "execution_count": 64,
   "id": "4f6d19c5",
   "metadata": {},
   "outputs": [
    {
     "data": {
      "text/plain": [
       "<Axes: >"
      ]
     },
     "execution_count": 64,
     "metadata": {},
     "output_type": "execute_result"
    },
    {
     "data": {
      "image/png": "[encoded data removed]",
      "text/plain": [
       "<Figure size 640x480 with 1 Axes>"
      ]
     },
     "metadata": {},
     "output_type": "display_data"
    }
   ],
   "source": [
    "cs[\"Annual Income ($)\"].hist()"
   ]
  },
  {
   "cell_type": "code",
   "execution_count": 65,
   "id": "7b3c9421",
   "metadata": {},
   "outputs": [
    {
     "data": {
      "text/plain": [
       "110731.8215"
      ]
     },
     "execution_count": 65,
     "metadata": {},
     "output_type": "execute_result"
    }
   ],
   "source": [
    "cs['Annual Income ($)'].mean()"
   ]
  },
  {
   "cell_type": "code",
   "execution_count": 67,
   "id": "1eb71345",
   "metadata": {},
   "outputs": [
    {
     "data": {
      "text/plain": [
       "110045.0"
      ]
     },
     "execution_count": 67,
     "metadata": {},
     "output_type": "execute_result"
    }
   ],
   "source": [
    "cs[\"Annual Income ($)\"].median()"
   ]
  },
  {
   "cell_type": "code",
   "execution_count": 74,
   "id": "d63d1fb0",
   "metadata": {},
   "outputs": [
    {
     "data": {
      "text/plain": [
       "0     9000\n",
       "1    50000\n",
       "Name: Annual Income ($), dtype: int64"
      ]
     },
     "execution_count": 74,
     "metadata": {},
     "output_type": "execute_result"
    }
   ],
   "source": [
    "cs[\"Annual Income ($)\"].mode()"
   ]
  },
  {
   "cell_type": "code",
   "execution_count": 68,
   "id": "393bb32b",
   "metadata": {},
   "outputs": [
    {
     "data": {
      "text/plain": [
       "<Axes: >"
      ]
     },
     "execution_count": 68,
     "metadata": {},
     "output_type": "execute_result"
    },
    {
     "data": {
      "image/png": "[encoded data removed]",
      "text/plain": [
       "<Figure size 640x480 with 1 Axes>"
      ]
     },
     "metadata": {},
     "output_type": "display_data"
    }
   ],
   "source": [
    "cs[\"Work Experience\"].hist()"
   ]
  },
  {
   "cell_type": "code",
   "execution_count": 69,
   "id": "9dc7a41f",
   "metadata": {},
   "outputs": [
    {
     "data": {
      "text/plain": [
       "4.1025"
      ]
     },
     "execution_count": 69,
     "metadata": {},
     "output_type": "execute_result"
    }
   ],
   "source": [
    "cs[\"Work Experience\"].mean()"
   ]
  },
  {
   "cell_type": "code",
   "execution_count": 70,
   "id": "b4453522",
   "metadata": {},
   "outputs": [
    {
     "data": {
      "text/plain": [
       "3.0"
      ]
     },
     "execution_count": 70,
     "metadata": {},
     "output_type": "execute_result"
    }
   ],
   "source": [
    "cs[\"Work Experience\"].median()"
   ]
  },
  {
   "cell_type": "code",
   "execution_count": 73,
   "id": "1fbb0917",
   "metadata": {},
   "outputs": [
    {
     "data": {
      "text/plain": [
       "0    1\n",
       "Name: Work Experience, dtype: int64"
      ]
     },
     "execution_count": 73,
     "metadata": {},
     "output_type": "execute_result"
    }
   ],
   "source": [
    "cs[\"Work Experience\"].mode()"
   ]
  },
  {
   "cell_type": "code",
   "execution_count": null,
   "id": "2361959e",
   "metadata": {},
   "outputs": [],
   "source": []
  }
 ],
 "metadata": {
  "kernelspec": {
   "display_name": "Python 3 (ipykernel)",
   "language": "python",
   "name": "python3"
  },
  "language_info": {
   "codemirror_mode": {
    "name": "ipython",
    "version": 3
   },
   "file_extension": ".py",
   "mimetype": "text/x-python",
   "name": "python",
   "nbconvert_exporter": "python",
   "pygments_lexer": "ipython3",
   "version": "3.11.2"
  }
 },
 "nbformat": 4,
 "nbformat_minor": 5
}
